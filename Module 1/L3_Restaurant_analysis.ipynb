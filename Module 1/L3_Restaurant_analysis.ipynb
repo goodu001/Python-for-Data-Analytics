{
 "cells": [
  {
   "cell_type": "markdown",
   "id": "9a8e54c6-52a3-450c-aa1b-098fd0a7fcdf",
   "metadata": {},
   "source": [
    "# Restaurant Inspection Task\n",
    "\n",
    "**Goal:** Check if each restaurant received an A\n",
    "\n",
    "| Restaurant           | Score |\n",
    "|----------------------|-------|\n",
    "| Beverly Falafel      | 96    |\n",
    "| Pasta Roma           | 91    |\n",
    "| The Melrose Shrimp   | 79    |\n",
    "| Modern Eats          | 93    |\n",
    "| Alferd’s Coffee      | 86    |\n"
   ]
  },
  {
   "cell_type": "code",
   "execution_count": 1,
   "id": "9ed67aea-48e9-43ff-be6f-8c76160581fa",
   "metadata": {},
   "outputs": [],
   "source": [
    "names = [\"Beverly Falafel\", \"Pasta Roma\", \"The Melrose Shrimp\", \n",
    "         \"Modern Eats\", \"Alferd's Coffee\"]\n",
    "scores = [96, 91, 79, 93, 86]\n",
    "\n",
    "A = 90 # cutoff score for A"
   ]
  },
  {
   "cell_type": "code",
   "execution_count": 2,
   "id": "50fa2e4e-ceec-485a-8001-a39c66000d3c",
   "metadata": {},
   "outputs": [
    {
     "name": "stdout",
     "output_type": "stream",
     "text": [
      "Beverly Falafel got an A? True\n"
     ]
    }
   ],
   "source": [
    "# is the score for Beverly Falafel an A?\n",
    "print(names[0], \"got an A?\", scores[0] >= A)"
   ]
  },
  {
   "cell_type": "code",
   "execution_count": 3,
   "id": "1e006593-1ffe-478b-985d-3b09f77d90b9",
   "metadata": {},
   "outputs": [
    {
     "name": "stdout",
     "output_type": "stream",
     "text": [
      "The Melrose Shrimp got an A? False\n"
     ]
    }
   ],
   "source": [
    "# check The Melrose Shrimp\n",
    "\n",
    "print(names[2], \"got an A?\", scores[2] >= A)"
   ]
  },
  {
   "cell_type": "code",
   "execution_count": 6,
   "id": "e84a35e0-c29a-4a14-ad23-7e4ce747d70d",
   "metadata": {},
   "outputs": [
    {
     "name": "stdout",
     "output_type": "stream",
     "text": [
      "The Melrose Shrimp failed inspection? False\n"
     ]
    }
   ],
   "source": [
    "# check if restaurant scored less than 70\n",
    "print(names[2], \"failed inspection?\", scores[2] < 70)"
   ]
  },
  {
   "cell_type": "code",
   "execution_count": 7,
   "id": "5b8a7c97-7b92-4a57-8694-3a374d0855b5",
   "metadata": {},
   "outputs": [
    {
     "name": "stdout",
     "output_type": "stream",
     "text": [
      "Beverly Falafel got an A!\n"
     ]
    }
   ],
   "source": [
    "if scores[0] >= A:\n",
    "    # part of if statement\n",
    "    print(names[0], \"got an A!\")"
   ]
  },
  {
   "cell_type": "code",
   "execution_count": 10,
   "id": "d5e51fbd-6f60-480c-95b5-2d62375b1c65",
   "metadata": {},
   "outputs": [
    {
     "name": "stdout",
     "output_type": "stream",
     "text": [
      "The Melrose Shrimp did not get an A.\n"
     ]
    }
   ],
   "source": [
    "if scores[2] >= A:\n",
    "    # part of if statement\n",
    "    print(names[2], \"got an A!\")\n",
    "else:\n",
    "    print(names[2], \"did not get an A.\")"
   ]
  },
  {
   "cell_type": "code",
   "execution_count": null,
   "id": "dbfeed70-6faa-43b1-860f-840cbd612220",
   "metadata": {},
   "outputs": [],
   "source": [
    "# Check if Beverly Falafel got an A\n",
    "if scores[0] >= A:\n",
    "    print(\"A\")\n",
    "else: \n",
    "    print(\"Less than A\")"
   ]
  },
  {
   "cell_type": "code",
   "execution_count": null,
   "id": "99ed64e9-4f4d-462a-8fdc-5c2bb4329120",
   "metadata": {},
   "outputs": [],
   "source": [
    "# Check if The Melrose Shrimp got an A\n",
    "if scores[2] >= A:\n",
    "    print(\"A\")\n",
    "else: \n",
    "    print(\"Less than A\")"
   ]
  },
  {
   "cell_type": "code",
   "execution_count": 11,
   "id": "cd9c1914-2a72-425b-9263-fe237ac381af",
   "metadata": {},
   "outputs": [
    {
     "name": "stdout",
     "output_type": "stream",
     "text": [
      "A\n",
      "A\n",
      "Less than A\n",
      "A\n",
      "Less than A\n"
     ]
    }
   ],
   "source": [
    "for score in scores:\n",
    "    if score >= A:\n",
    "        print(\"A\")\n",
    "    else:\n",
    "        print(\"Less than A\")"
   ]
  },
  {
   "cell_type": "code",
   "execution_count": 12,
   "id": "e01da529-a308-4ae5-b66c-52697c8bbf66",
   "metadata": {},
   "outputs": [
    {
     "name": "stdout",
     "output_type": "stream",
     "text": [
      "96\n",
      "91\n",
      "79\n",
      "93\n",
      "86\n"
     ]
    }
   ],
   "source": [
    "for score in scores:\n",
    "    print(score)"
   ]
  },
  {
   "cell_type": "code",
   "execution_count": 13,
   "id": "31eac2ae-ebcd-4307-bfd5-d46691f96ffb",
   "metadata": {},
   "outputs": [
    {
     "name": "stdout",
     "output_type": "stream",
     "text": [
      "A\n",
      "A\n",
      "Less than A\n",
      "A\n",
      "Less than A\n"
     ]
    }
   ],
   "source": [
    "# Equivalent to the for loop above\n",
    "if scores[0] >= A:\n",
    "    print(\"A\")\n",
    "else: \n",
    "    print(\"Less than A\")\n",
    "\n",
    "if scores[1] >= A:\n",
    "    print(\"A\")\n",
    "else: \n",
    "    print(\"Less than A\")\n",
    "\n",
    "if scores[2] >= A:\n",
    "    print(\"A\")\n",
    "else: \n",
    "    print(\"Less than A\")\n",
    "\n",
    "if scores[3] >= A:\n",
    "    print(\"A\")\n",
    "else: \n",
    "    print(\"Less than A\")\n",
    "\n",
    "if scores[4] >= A:\n",
    "    print(\"A\")\n",
    "else: \n",
    "    print(\"Less than A\")"
   ]
  },
  {
   "cell_type": "code",
   "execution_count": 14,
   "id": "98df3ff3-1bcf-4305-8cef-6ffd64cf71fd",
   "metadata": {},
   "outputs": [
    {
     "name": "stdout",
     "output_type": "stream",
     "text": [
      "67573\n"
     ]
    }
   ],
   "source": [
    "from helper_functions import get_restaurant_list\n",
    "scores = get_restaurant_list(\"score\")\n",
    "\n",
    "print(len(scores))"
   ]
  },
  {
   "cell_type": "code",
   "execution_count": 15,
   "id": "37360b79-65b4-4e61-b3bc-00adbe0abb91",
   "metadata": {},
   "outputs": [
    {
     "name": "stdout",
     "output_type": "stream",
     "text": [
      "63134\n"
     ]
    }
   ],
   "source": [
    "# count number of As\n",
    "\n",
    "total = 0\n",
    "\n",
    "for score in scores:\n",
    "    if score >= A:\n",
    "        total = total + 1\n",
    "\n",
    "print(total)"
   ]
  },
  {
   "cell_type": "code",
   "execution_count": 16,
   "id": "09414baa-2c5c-438e-8e46-18771ff21476",
   "metadata": {},
   "outputs": [
    {
     "data": {
      "text/plain": [
       "0.9343080816302369"
      ]
     },
     "execution_count": 16,
     "metadata": {},
     "output_type": "execute_result"
    }
   ],
   "source": [
    "total / len(scores)"
   ]
  },
  {
   "cell_type": "code",
   "execution_count": 16,
   "id": "7a63680b-e8a9-4c67-974a-ef2063d34f4e",
   "metadata": {},
   "outputs": [
    {
     "data": {
      "text/plain": [
       "0.9343080816302369"
      ]
     },
     "execution_count": 16,
     "metadata": {},
     "output_type": "execute_result"
    }
   ],
   "source": [
    "total / len(scores)"
   ]
  },
  {
   "cell_type": "code",
   "execution_count": 16,
   "id": "909f6c4f-2d92-4d0f-87d1-7a33cc54e992",
   "metadata": {},
   "outputs": [
    {
     "data": {
      "text/plain": [
       "0.9343080816302369"
      ]
     },
     "execution_count": 16,
     "metadata": {},
     "output_type": "execute_result"
    }
   ],
   "source": [
    "total / len(scores)"
   ]
  },
  {
   "cell_type": "code",
   "execution_count": 18,
   "id": "0090ab69-b13f-4caf-85fb-86f605151f31",
   "metadata": {},
   "outputs": [],
   "source": [
    "scores = [96, 91, 79, 93, 86]\n",
    "A = 90"
   ]
  },
  {
   "cell_type": "code",
   "execution_count": 26,
   "id": "f9e8a712-52c1-4717-b860-6f4599f52729",
   "metadata": {},
   "outputs": [
    {
     "name": "stdout",
     "output_type": "stream",
     "text": [
      "A\n",
      "A\n",
      "A\n",
      "[86]\n"
     ]
    }
   ],
   "source": [
    "a_scores = [] # store all of the scores that are an A\n",
    "\n",
    "for score in scores:\n",
    "    if score >= A:\n",
    "        print(\"A\")\n",
    "a_scores.append(score)\n",
    "\n",
    "print(a_scores)"
   ]
  },
  {
   "cell_type": "code",
   "execution_count": 27,
   "id": "4fa13f54-baca-41a1-b4cc-e272a9b104b7",
   "metadata": {},
   "outputs": [
    {
     "name": "stdout",
     "output_type": "stream",
     "text": [
      "A\n",
      "A\n",
      "A\n",
      "[96, 91, 93]\n"
     ]
    }
   ],
   "source": [
    "a_scores = []  # store all of the scores that are an A\n",
    "\n",
    "for score in scores:\n",
    "    if score >= A:\n",
    "        print(\"A\")\n",
    "        a_scores.append(score)\n",
    "\n",
    "print(a_scores)"
   ]
  },
  {
   "cell_type": "markdown",
   "id": "d3ea6c22-3239-4a09-93b9-f1ab88280e2d",
   "metadata": {},
   "source": [
    "**Goal:** Check each restaurant's score and assign it a grade"
   ]
  },
  {
   "cell_type": "code",
   "execution_count": 28,
   "id": "8becf85d-2b84-4246-9be7-fd331ff44461",
   "metadata": {},
   "outputs": [],
   "source": [
    "scores = [96, 91, 79, 93, 86]\n",
    "A = 90\n",
    "B = 80\n",
    "C = 70"
   ]
  },
  {
   "cell_type": "code",
   "execution_count": null,
   "id": "aa6a4019-46be-4484-9abe-89e431cba13a",
   "metadata": {},
   "outputs": [],
   "source": [
    "for score in scores:\n",
    "    if score >= A:\n",
    "        print(\"A\")\n",
    "    else:\n",
    "        print(\"Less than A\")"
   ]
  },
  {
   "cell_type": "code",
   "execution_count": 29,
   "id": "ca1b57e2-41f3-42da-a11c-b936c2c4b421",
   "metadata": {},
   "outputs": [
    {
     "name": "stdout",
     "output_type": "stream",
     "text": [
      "A\n",
      "A\n",
      "Less than B\n",
      "A\n",
      "B\n"
     ]
    }
   ],
   "source": [
    "for score in scores:\n",
    "    if score >= A:\n",
    "        print(\"A\")\n",
    "    elif score >= B:\n",
    "        print(\"B\")\n",
    "    else:\n",
    "        print(\"Less than B\")"
   ]
  },
  {
   "cell_type": "code",
   "execution_count": 30,
   "id": "a1847a36-3a38-40f8-bfc6-1f14533fa3be",
   "metadata": {},
   "outputs": [
    {
     "name": "stdout",
     "output_type": "stream",
     "text": [
      "A\n",
      "A\n",
      "C\n",
      "A\n",
      "B\n"
     ]
    }
   ],
   "source": [
    "for score in scores:\n",
    "    if score >= A:\n",
    "        print(\"A\")\n",
    "    elif score >= B:\n",
    "        print(\"B\")\n",
    "    elif score >= C:\n",
    "        print(\"C\")\n",
    "    else:\n",
    "        print(\"Failed\")"
   ]
  },
  {
   "cell_type": "code",
   "execution_count": 31,
   "id": "4d1805c2-e14a-4f88-a968-183088caa5fe",
   "metadata": {},
   "outputs": [],
   "source": [
    "from helper_functions import get_restaurant_list\n",
    "scores = get_restaurant_list(\"score\")"
   ]
  },
  {
   "cell_type": "code",
   "execution_count": 32,
   "id": "acec73a2-562e-46b0-8446-f5b5771200a8",
   "metadata": {},
   "outputs": [
    {
     "name": "stdout",
     "output_type": "stream",
     "text": [
      "67573\n"
     ]
    }
   ],
   "source": [
    "grades = [] # append newly assigned grade with a loop\n",
    "\n",
    "for score in scores:\n",
    "    if score >= A:\n",
    "        grades.append(\"A\")\n",
    "    elif score >= B:\n",
    "        grades.append(\"B\")\n",
    "    elif score >= C:\n",
    "        grades.append(\"C\")\n",
    "    else:\n",
    "        grades.append(\"Failed\")\n",
    "\n",
    "print(len(grades))"
   ]
  },
  {
   "cell_type": "code",
   "execution_count": 33,
   "id": "70be95a2-aee8-4408-af10-080d4df1fa05",
   "metadata": {},
   "outputs": [
    {
     "name": "stdout",
     "output_type": "stream",
     "text": [
      "First ten scores: [86, 90, 90, 91, 91, 92, 92, 92, 92, 92]\n",
      "First ten grades: ['B', 'A', 'A', 'A', 'A', 'A', 'A', 'A', 'A', 'A']\n"
     ]
    }
   ],
   "source": [
    "print(\"First ten scores:\", scores[:10])\n",
    "print(\"First ten grades:\", grades[:10])"
   ]
  },
  {
   "cell_type": "markdown",
   "id": "3b640036-2f24-499b-b1ed-63a153295baf",
   "metadata": {},
   "source": [
    "**Goal**: Create a list of all restaurants that failed inspection"
   ]
  },
  {
   "cell_type": "code",
   "execution_count": 34,
   "id": "9139e018-18d3-475f-804c-57a64abb38c0",
   "metadata": {},
   "outputs": [
    {
     "name": "stdout",
     "output_type": "stream",
     "text": [
      "['EL ANTOJITO', 'KIMCHI PLUS', 'PRAEL THAI RESTAURANT', 'KATSUYA', 'THE SIX', 'LITTLE FARMERS MARKET', 'LULUS CAFE', 'SUSHI KOO', \"MCDONALD'S #26929\", 'BEVERLY ELITE CAFE']\n"
     ]
    }
   ],
   "source": [
    "from helper_functions import get_restaurant_list\n",
    "scores = get_restaurant_list(\"score\")\n",
    "names = get_restaurant_list(\"name\")\n",
    "\n",
    "print(names[:10])"
   ]
  },
  {
   "cell_type": "code",
   "execution_count": 37,
   "id": "48d354aa-53fa-4c57-bf75-6bce2a3b0eca",
   "metadata": {},
   "outputs": [
    {
     "name": "stdout",
     "output_type": "stream",
     "text": [
      "Object `?` not found.\n",
      "Object `?` not found.\n",
      "Object `?` not found.\n",
      "Object `?` not found.\n",
      "Object `?` not found.\n",
      "Object `?` not found.\n",
      "Object `?` not found.\n",
      "Object `?` not found.\n",
      "Object `?` not found.\n",
      "Object `?` not found.\n",
      "Object `?` not found.\n",
      "Object `?` not found.\n",
      "Object `?` not found.\n"
     ]
    }
   ],
   "source": [
    "failed_restaurants = []\n",
    "\n",
    "for score in scores:\n",
    "    if score < 70:\n",
    "        # append restaurant name to list of failed restaurants\n",
    "        ???"
   ]
  },
  {
   "cell_type": "code",
   "execution_count": null,
   "id": "e53887e3-de11-43a2-bf0a-42f505d9795b",
   "metadata": {},
   "outputs": [],
   "source": [
    "names = [\"Beverly Falafel\", \"Pasta Roma\", \"The Melrose Shrimp\", \n",
    "         \"Modern Eats\", \"Alferd's Coffee\"]\n",
    "scores = [96, 91, 79, 93, 86]\n",
    "\n",
    "A = 90 # minimum score for an A\n",
    "\n",
    "# is the score for beverly falafel an A?\n",
    "print(names[0], \"received an A?\", scores[0] >= A)"
   ]
  },
  {
   "cell_type": "code",
   "execution_count": 35,
   "id": "b9c81841-7a94-4bb9-8995-782774927845",
   "metadata": {},
   "outputs": [
    {
     "name": "stdout",
     "output_type": "stream",
     "text": [
      "0\n",
      "1\n",
      "2\n",
      "3\n",
      "4\n",
      "5\n",
      "6\n",
      "7\n",
      "8\n",
      "9\n"
     ]
    }
   ],
   "source": [
    "for i in range(10):\n",
    "    print(i)"
   ]
  },
  {
   "cell_type": "code",
   "execution_count": 38,
   "id": "c0ce642f-75ce-40e3-b0d9-9f9fd641d31b",
   "metadata": {},
   "outputs": [
    {
     "name": "stdout",
     "output_type": "stream",
     "text": [
      "['THREE BEARS BAR-B-Q', 'ANTOJITOS Y GARNACHERIA DONA ROSITA', 'SD COFFEE SHOP', 'MI POBLANITA', 'STO. DOMINGO BAKERY', 'CHINA WOK', 'VIP CHINESE RESTAURANT', 'NEW FLAVORS', 'TATSU RAMEN', \"YURI'S AUTHENTIC TACOS AND MEXICAN RESTAURANT\", 'HAPPY LUNCH TO GO', 'EL HUARACHITO RESTAURANT', 'TAQUERIA RESTAURANT LA NARAN']\n"
     ]
    }
   ],
   "source": [
    "for i in range(len(scores)):\n",
    "    # use i to access both scores and names\n",
    "    if scores[i] < 70:\n",
    "        failed_restaurants.append(names[i])\n",
    "\n",
    "print(failed_restaurants)"
   ]
  },
  {
   "cell_type": "code",
   "execution_count": null,
   "id": "632f5c50-55a3-4c69-b6ca-41d8854cf476",
   "metadata": {},
   "outputs": [],
   "source": []
  },
  {
   "cell_type": "code",
   "execution_count": null,
   "id": "124d5fa1-9077-494d-81be-937801db9821",
   "metadata": {},
   "outputs": [],
   "source": []
  },
  {
   "cell_type": "code",
   "execution_count": null,
   "id": "d307c072-f8a3-4af6-a821-b818a4745bec",
   "metadata": {},
   "outputs": [],
   "source": []
  },
  {
   "cell_type": "code",
   "execution_count": null,
   "id": "31e1a60d-9f63-4da1-bb7a-3b1b151b17a8",
   "metadata": {},
   "outputs": [],
   "source": []
  },
  {
   "cell_type": "code",
   "execution_count": null,
   "id": "6273d768-cc54-45da-8b37-8610053136eb",
   "metadata": {},
   "outputs": [],
   "source": []
  },
  {
   "cell_type": "code",
   "execution_count": null,
   "id": "b6c8af43-3c1c-4443-8a4c-4ac05ab6138b",
   "metadata": {},
   "outputs": [],
   "source": []
  },
  {
   "cell_type": "code",
   "execution_count": null,
   "id": "f0a95c36-8dec-45cc-a4fd-aea432ceb2d3",
   "metadata": {},
   "outputs": [],
   "source": []
  },
  {
   "cell_type": "code",
   "execution_count": null,
   "id": "36b4f87c-f49a-429b-a17a-46804de97cf0",
   "metadata": {},
   "outputs": [],
   "source": []
  },
  {
   "cell_type": "code",
   "execution_count": null,
   "id": "035a47f5-d01e-4860-b38f-202ce53ebe05",
   "metadata": {},
   "outputs": [],
   "source": []
  },
  {
   "cell_type": "code",
   "execution_count": null,
   "id": "81d0db17-c915-42a0-a111-2079e7bce4c0",
   "metadata": {},
   "outputs": [],
   "source": []
  },
  {
   "cell_type": "code",
   "execution_count": null,
   "id": "15f247e1-b41d-4929-998b-77bfc76fd66c",
   "metadata": {},
   "outputs": [],
   "source": []
  },
  {
   "cell_type": "code",
   "execution_count": null,
   "id": "ed43e98b-b0ac-4fc0-94bb-6b71ab913df1",
   "metadata": {},
   "outputs": [],
   "source": []
  },
  {
   "cell_type": "code",
   "execution_count": null,
   "id": "8fc8cf2e-65f3-4d57-9f6c-b7c0524b6e0d",
   "metadata": {},
   "outputs": [],
   "source": []
  },
  {
   "cell_type": "code",
   "execution_count": null,
   "id": "5811d69c-5fac-4434-9604-deacdb19f92a",
   "metadata": {},
   "outputs": [],
   "source": []
  },
  {
   "cell_type": "code",
   "execution_count": null,
   "id": "e5c8586e-b1f4-483c-8dd3-032a751dfc73",
   "metadata": {},
   "outputs": [],
   "source": []
  },
  {
   "cell_type": "code",
   "execution_count": null,
   "id": "856377ca-8521-4904-a04d-5d12590fdd9c",
   "metadata": {},
   "outputs": [],
   "source": []
  },
  {
   "cell_type": "code",
   "execution_count": null,
   "id": "821e8923-217d-4047-a9af-1afe70ccba0a",
   "metadata": {},
   "outputs": [],
   "source": []
  },
  {
   "cell_type": "code",
   "execution_count": null,
   "id": "171d4794-e08c-49b1-9db2-f740b9ee05ab",
   "metadata": {},
   "outputs": [],
   "source": []
  },
  {
   "cell_type": "code",
   "execution_count": null,
   "id": "fe37c865-00f8-4aec-83d4-aa9fd90231cf",
   "metadata": {},
   "outputs": [],
   "source": []
  },
  {
   "cell_type": "code",
   "execution_count": null,
   "id": "bfa94d21-eef7-40ca-bada-0e4a4ba30acf",
   "metadata": {},
   "outputs": [],
   "source": []
  },
  {
   "cell_type": "code",
   "execution_count": null,
   "id": "053bedcd-6d90-4545-9bf6-ed196654af1b",
   "metadata": {},
   "outputs": [],
   "source": []
  },
  {
   "cell_type": "code",
   "execution_count": null,
   "id": "5a2d6cab-11a5-46c6-bc25-21c9f254fa8f",
   "metadata": {},
   "outputs": [],
   "source": []
  },
  {
   "cell_type": "code",
   "execution_count": null,
   "id": "852e1c74-e8cb-41ea-94fc-8556043b7c17",
   "metadata": {},
   "outputs": [],
   "source": []
  },
  {
   "cell_type": "code",
   "execution_count": null,
   "id": "0e4ffbd7-543b-4a97-b99d-0c5527da47e5",
   "metadata": {},
   "outputs": [],
   "source": []
  },
  {
   "cell_type": "code",
   "execution_count": null,
   "id": "2452215e-0c15-4424-874d-05361efac1b3",
   "metadata": {},
   "outputs": [],
   "source": []
  },
  {
   "cell_type": "code",
   "execution_count": null,
   "id": "faab9bd4-7a87-4321-8ae3-d31e0e441136",
   "metadata": {},
   "outputs": [],
   "source": []
  },
  {
   "cell_type": "code",
   "execution_count": null,
   "id": "37ae9e69-e945-4a07-815e-6d54124709b4",
   "metadata": {},
   "outputs": [],
   "source": []
  },
  {
   "cell_type": "code",
   "execution_count": null,
   "id": "a90bb2a9-f4dd-4163-b561-1725bef5fb8d",
   "metadata": {},
   "outputs": [],
   "source": []
  },
  {
   "cell_type": "code",
   "execution_count": null,
   "id": "58a6a8ff-6c23-4e6a-ba2d-a207293f2560",
   "metadata": {},
   "outputs": [],
   "source": []
  },
  {
   "cell_type": "code",
   "execution_count": null,
   "id": "8b43d90f-044f-47ba-aff1-dc2bac939801",
   "metadata": {},
   "outputs": [],
   "source": []
  },
  {
   "cell_type": "code",
   "execution_count": null,
   "id": "7e05884c-469a-4224-a24c-2d2eec96daf9",
   "metadata": {},
   "outputs": [],
   "source": []
  },
  {
   "cell_type": "code",
   "execution_count": null,
   "id": "b922f677-dd65-48b7-bfe5-1ab6b568b0fe",
   "metadata": {},
   "outputs": [],
   "source": []
  }
 ],
 "metadata": {
  "kernelspec": {
   "display_name": "Python 3 (ipykernel)",
   "language": "python",
   "name": "python3"
  },
  "language_info": {
   "codemirror_mode": {
    "name": "ipython",
    "version": 3
   },
   "file_extension": ".py",
   "mimetype": "text/x-python",
   "name": "python",
   "nbconvert_exporter": "python",
   "pygments_lexer": "ipython3",
   "version": "3.11.6"
  }
 },
 "nbformat": 4,
 "nbformat_minor": 5
}
