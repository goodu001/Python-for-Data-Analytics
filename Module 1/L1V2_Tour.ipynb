{
 "cells": [
  {
   "cell_type": "markdown",
   "id": "607d5e33-5499-4d5a-89d0-d501254623d9",
   "metadata": {},
   "source": [
    "# Notebook Tour\n",
    "\n",
    "## Subheading here\n",
    "\n",
    "This is a markdown cell"
   ]
  },
  {
   "cell_type": "code",
   "execution_count": 1,
   "id": "7a226792-6710-4d34-a18a-b4070ee8cdf7",
   "metadata": {},
   "outputs": [
    {
     "name": "stdout",
     "output_type": "stream",
     "text": [
      "Hi!\n",
      "It's great to see you!\n"
     ]
    }
   ],
   "source": [
    "# This is a code cell!\n",
    "print(\"Hi!\")\n",
    "print(\"It's great to see you!\")"
   ]
  },
  {
   "cell_type": "markdown",
   "id": "83496de3-db06-489d-ac0d-63f21ea2fc69",
   "metadata": {},
   "source": [
    "This is another markdown cell.\n",
    "* Penguins\n",
    "* Narwhals\n",
    "* Chinchillas"
   ]
  },
  {
   "cell_type": "code",
   "execution_count": 2,
   "id": "713ad6a2-1dc2-45e3-844c-f1f4b7b0f5fc",
   "metadata": {},
   "outputs": [
    {
     "name": "stdout",
     "output_type": "stream",
     "text": [
      "penguins\n",
      "narwhals\n",
      "chinchillas\n"
     ]
    }
   ],
   "source": [
    "# This is another code cell!\n",
    "animals = [\"penguins\", \"narwhals\", \"chinchillas\"]\n",
    "\n",
    "for animal in animals:\n",
    "    print(animal)"
   ]
  },
  {
   "cell_type": "code",
   "execution_count": null,
   "id": "44f63bce-6f31-481b-9ff4-9c51c0a229e7",
   "metadata": {},
   "outputs": [],
   "source": []
  },
  {
   "cell_type": "code",
   "execution_count": null,
   "id": "aca79616-e157-4083-a2f3-37808d7d7c4e",
   "metadata": {},
   "outputs": [],
   "source": []
  }
 ],
 "metadata": {
  "kernelspec": {
   "display_name": "Python 3 (ipykernel)",
   "language": "python",
   "name": "python3"
  },
  "language_info": {
   "codemirror_mode": {
    "name": "ipython",
    "version": 3
   },
   "file_extension": ".py",
   "mimetype": "text/x-python",
   "name": "python",
   "nbconvert_exporter": "python",
   "pygments_lexer": "ipython3",
   "version": "3.11.6"
  }
 },
 "nbformat": 4,
 "nbformat_minor": 5
}
