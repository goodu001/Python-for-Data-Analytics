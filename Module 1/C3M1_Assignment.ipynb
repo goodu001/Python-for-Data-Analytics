{
 "cells": [
  {
   "cell_type": "markdown",
   "metadata": {},
   "source": [
    "# Module 1 Assignment: Analyzing retail sales with Python\n",
    "Welcome to this module's assignment! This is the first graded lab you will complete in Python. Exciting, right?\n",
    "\n",
    "When you are done, submit your solution by saving it, then clicking on the blue submit button at the top of the page.\n",
    "\n",
    "## Background:\n",
    "You just started working for a small retail store selling household appliances. The owners are an elderly couple who want to start digitizing their sales for analysis to stay competitive. You start by recording the sales for the first two weeks (Mon-Sat), resulting in the data below. You will work with the following features:\n",
    "\n",
    "* `invoice_id`: id of the purchase. The invoice_id will be repeated as many times as different products were in the purchase. In other words, there will be one observation (row) for each product sold in each purchase. \n",
    "* `date`: date of the purchase\n",
    "* `day_of_week`: Monday - Saturday\n",
    "* `product_name`: description of the product\n",
    "* `units_sold`: number of units sold of the product\n",
    "* `price_per_unit`: price for each individual unit of the product\n",
    "\n",
    "## In order for your submission to be graded correctly, you **MUST**:\n",
    "* **Use the provided variable names**, otherwise the autograder will not be able to locate the variable for grading. \n",
    "\n",
    "* **Replace any instances of `None` with your own code.** \n",
    "\n",
    "* **Only modify the cells that start with the comment `# GRADED CELL`**.  \n",
    "\n",
    "* **Use the provided cells for your solution.** You can add new cells to experiment, but these will be omitted when grading. \n",
    "\n",
    "To submit your solution, save it, then click on the blue submit button at the top of the page.\n",
    "\n",
    "<div style=\"background-color: #FAD888; padding: 10px; border-radius: 3px; box-shadow: 0 2px 4px rgba(0, 0, 0, 0.1); width:95%\n",
    "\">\n",
    "<strong>Important note</strong>: Code blocks with None will not run properly. If you run them before completing the exercise, you will likely get an error. \n",
    "\n",
    "</div>"
   ]
  },
  {
   "cell_type": "markdown",
   "metadata": {},
   "source": [
    "# Table of Contents\n",
    "\n",
    "- [Step 1: Load the data](#step-1-load-the-data)\n",
    "  - [Exercise 1: Number of observations](#exercise-1-number-of-observations)\n",
    "\n",
    "- [Step 2: Data Exploration](#step-2-data-exploration)\n",
    "  - [Preliminary Exploration: Unit Prices and Total Amount of Items Sold](#preliminary-exploration-unit-prices-and-total-amount-of-items-sold)\n",
    "    - [Exercise 2: Priciest Item](#exercise-2-priciest-item)\n",
    "    - [Exercise 3: Find the total number of units sold](#exercise-3-find-the-total-number-of-units-sold)\n",
    "\n",
    "    - [Adding sales to the dataset](#adding-sales-to-the-dataset)\n",
    "      - [Exercise 4: Adding elements to the lists](#exercise-4-adding-elements-to-the-lists)\n",
    "\n",
    "    - [Finding the sale amount](#finding-the-sale-amount)\n",
    "      - [Exercise 5: Find the sales amount for each observation](#exercise-5-find-the-sales-amount-for-each-observation)\n",
    "      - [Exercise 6: Total and average amounts](#exercise-6-total-and-average-amounts)\n",
    "\n",
    "    - [Sales per product](#sales-per-product)\n",
    "      - [Exercise 7: Find all the unique products](#exercise-7-find-all-the-unique-products)\n",
    "      - [Exercise 8: Sales amount and number of sold units per product](#exercise-8-sales-amount-and-number-of-sold-units-per-product)"
   ]
  },
  {
   "cell_type": "markdown",
   "metadata": {},
   "source": [
    "<a id=\"step-1-load-the-data\"></a>\n",
    "\n",
    "## Step 1: Load the data\n",
    "\n",
    "<div style=\"background-color: #C6E2FF; padding: 10px; border-radius: 3px; box-shadow: 0 2px 4px rgba(0, 0, 0, 0.1); width:95%\n",
    "\">\n",
    "    <strong>▶▶▶ Directions</strong> \n",
    "        <ol>\n",
    "            <li>Run the cell below to load the data with the aid of a helper function.</li>\n",
    "        </ol>\n",
    "</div>\n",
    "\n",
    "Each feature is contained in its own list. For example, the variable `invoice_ids` is a list containing the sales identification numbers. It has the same elements as the `invoice_id` column of [the CSV](data/retail_sampled.csv). Each element of the list corresponds to a row in the `invoice_id` column.\n",
    "\n",
    "If you look at the first element of each variable, you're accessing the same information as the second row of the spreadsheet (since the first row contains headers). Remember that Python uses 0-based indexing."
   ]
  },
  {
   "cell_type": "code",
   "execution_count": 1,
   "metadata": {
    "deletable": false,
    "editable": false,
    "slideshow": {
     "slide_type": ""
    },
    "tags": [
     "graded"
    ]
   },
   "outputs": [],
   "source": [
    "# 🔒 This cell is locked. You will not be able to edit it.\n",
    "\n",
    "from helper_functions import get_list\n",
    "\n",
    "invoice_ids = get_list(\"invoice_id\")\n",
    "dates = get_list(\"date\")\n",
    "days_of_week = get_list(\"day_of_week\")\n",
    "product_names = get_list(\"product_name\")\n",
    "units_sold = get_list(\"units_sold\")\n",
    "prices_per_unit = get_list(\"price_per_unit\")"
   ]
  },
  {
   "cell_type": "code",
   "execution_count": 2,
   "metadata": {},
   "outputs": [
    {
     "name": "stdout",
     "output_type": "stream",
     "text": [
      "invoice_ids 534377\n",
      "dates 2010-11-22\n",
      "days_of_week Monday\n",
      "product_names HAND WARMER SCOTTY DOG DESIGN\n",
      "units_sold 1\n",
      "prices_per_unit 2.1\n"
     ]
    }
   ],
   "source": [
    "# print the first element of each list\n",
    "print(\"invoice_ids\", invoice_ids[0])\n",
    "print(\"dates\", dates[0])\n",
    "print(\"days_of_week\", days_of_week[0])\n",
    "print(\"product_names\", product_names[0])\n",
    "print(\"units_sold\", units_sold[0])\n",
    "print(\"prices_per_unit\", prices_per_unit[0])"
   ]
  },
  {
   "cell_type": "markdown",
   "metadata": {},
   "source": [
    "<a id=\"exercise-1-number-of-observations\"></a>\n",
    "#### Exercise 1: Number of observations\n",
    "\n",
    "Use the next cell to find the length of the list `invoice_ids`. Save it in the variable <font color='blue'>`num_observations`</font>. "
   ]
  },
  {
   "cell_type": "code",
   "execution_count": 3,
   "metadata": {
    "deletable": false,
    "tags": [
     "graded"
    ]
   },
   "outputs": [
    {
     "name": "stdout",
     "output_type": "stream",
     "text": [
      "79\n"
     ]
    }
   ],
   "source": [
    "# GRADED CELL: Exercise 1\n",
    "\n",
    "### START CODE HERE ###\n",
    "\n",
    "num_observations = len(invoice_ids)\n",
    "\n",
    "### END CODE HERE ###\n",
    "\n",
    "print(num_observations)"
   ]
  },
  {
   "cell_type": "markdown",
   "metadata": {},
   "source": [
    "<details>\n",
    "<summary style=\"background-color: #FDBFC7; padding: 10px; border-radius: 3px; box-shadow: 0 2px 4px rgba(0, 0, 0, 0.1); width: 95%; text-align: left; cursor: pointer; font-weight: bold;\"\">\n",
    "If you are stuck, click here for extra hints!</summary> \n",
    "\n",
    "<ul style=\"background-color: #FFF8F8; padding: 10px; border-radius: 3px; margin-top: 5px; width: 95%; box-shadow: inset 0 2px 4px rgba(0, 0, 0, 0.1);\">\n",
    "    \n",
    "- Remember that the [🔗`len()`](https://docs.python.org/3/library/functions.html#len) function returns the number of items in a list\n",
    "\n",
    "</ul>\n",
    "</details>"
   ]
  },
  {
   "cell_type": "markdown",
   "metadata": {},
   "source": [
    "<div style=\"background-color: #C6E2FF; padding: 10px; border-radius: 3px; box-shadow: 0 2px 4px rgba(0, 0, 0, 0.1); width:95%\n",
    "\">\n",
    "    <strong>▶▶▶ Directions</strong> \n",
    "        <ol>\n",
    "            <li>Run the cell below to print the lengths of all the variables.</li>\n",
    "            <li>Use the results to check that all the lists have the same length.</li>\n",
    "        </ol>\n",
    "</div>\n",
    "\n",
    "<br>"
   ]
  },
  {
   "cell_type": "code",
   "execution_count": 4,
   "metadata": {},
   "outputs": [
    {
     "name": "stdout",
     "output_type": "stream",
     "text": [
      "invoice_ids:  79\n",
      "dates:  79\n",
      "days_of_week:  79\n",
      "product_names:  79\n",
      "units_sold:  79\n",
      "prices_per_unit:  79\n"
     ]
    }
   ],
   "source": [
    "print(\"invoice_ids: \", len(invoice_ids))\n",
    "print(\"dates: \", len(dates))\n",
    "print(\"days_of_week: \", len(days_of_week))\n",
    "print(\"product_names: \", len(product_names))\n",
    "print(\"units_sold: \", len(units_sold))\n",
    "print(\"prices_per_unit: \", len(prices_per_unit))"
   ]
  },
  {
   "cell_type": "markdown",
   "metadata": {},
   "source": [
    "Now, let's see what types of data you are dealing with. For that you can use the `type` function. This function returns what type of variable (a list, an int, a float, a str, etc.) you are dealing with.\n",
    "\n",
    "<div style=\"background-color: #C6E2FF; padding: 10px; border-radius: 3px; box-shadow: 0 2px 4px rgba(0, 0, 0, 0.1); width:95%\n",
    "\">\n",
    "    <strong>▶▶▶ Directions</strong> \n",
    "        <ol>\n",
    "            <li>Run the cell below to print the types of the variables `invoice_id` and `day_of_week`.</li>\n",
    "        </ol>\n",
    "</div>"
   ]
  },
  {
   "cell_type": "code",
   "execution_count": 5,
   "metadata": {},
   "outputs": [
    {
     "name": "stdout",
     "output_type": "stream",
     "text": [
      "invoice_ids:  <class 'list'>\n",
      "days_of_week:  <class 'list'>\n"
     ]
    }
   ],
   "source": [
    "print(\"invoice_ids: \", type(invoice_ids))\n",
    "print(\"days_of_week: \",type(days_of_week))"
   ]
  },
  {
   "cell_type": "markdown",
   "metadata": {},
   "source": [
    "The `type` function tells you that both variables are lists. While that is true, it's not very informative about the type of data each list is storing. How could you get that information?\n",
    "\n",
    "<div style=\"background-color: #C6E2FF; padding: 10px; border-radius: 3px; box-shadow: 0 2px 4px rgba(0, 0, 0, 0.1); width:95%\n",
    "\">\n",
    "    <strong>▶▶▶ Directions</strong> \n",
    "        <ol>\n",
    "            <li>Run the cell below to print the type of the first element of each list.</li>\n",
    "        </ol>\n",
    "</div>"
   ]
  },
  {
   "cell_type": "code",
   "execution_count": 6,
   "metadata": {},
   "outputs": [
    {
     "name": "stdout",
     "output_type": "stream",
     "text": [
      "invoice_ids:  <class 'int'>\n",
      "dates:  <class 'str'>\n",
      "days_of_week:  <class 'str'>\n",
      "product_names:  <class 'str'>\n",
      "units_sold:  <class 'int'>\n",
      "prices_per_unit:  <class 'float'>\n"
     ]
    }
   ],
   "source": [
    "print(\"invoice_ids: \", type(invoice_ids[0]))\n",
    "print(\"dates: \", type(dates[0]))\n",
    "print(\"days_of_week: \", type(days_of_week[0]))\n",
    "print(\"product_names: \", type(product_names[0]))\n",
    "print(\"units_sold: \", type(units_sold[0]))\n",
    "print(\"prices_per_unit: \", type(prices_per_unit[0]))"
   ]
  },
  {
   "cell_type": "markdown",
   "metadata": {},
   "source": [
    "<a id=\"step-2-data-exploration\"></a>\n",
    "\n",
    "## Step 2: Data exploration\n",
    "\n",
    "After recording the data for the shop owners and loading it into your Python notebook, your next step is to explore the dataset. You decide to begin with a few straightforward analyses to get to know the data.\n",
    "\n",
    "### Preliminary exploration: unit prices, and total amount of items sold\n",
    "\n",
    "<a id=\"exercise-2-priciest-item\"></a>\n",
    "\n",
    "#### Exercise 2: Price range\n",
    "Complete the cell below to find the price range of the products. Start with finding the price of the most expensive and the cheapest products in the dataset. Save the values in two variables called `highest_price` and `lowest_price` respectively. Then subtract the two to find the range of prices and save it to the `price_range` variable. \n",
    "\n",
    "<div style=\"background-color: #C6E2FF; padding: 10px; border-radius: 3px; box-shadow: 0 2px 4px rgba(0, 0, 0, 0.1); width:95%\n",
    "\">\n",
    "    <strong>▶▶▶ Directions</strong> \n",
    "        <ol>\n",
    "            <li>Define a variable <code>highest_price</code> and use an appropriate function to find the maximum price.</li>\n",
    "            <li>Define a variable <code>lowest_price</code> and use an appropriate function to find the minimum price.</li>\n",
    "            <li>Define a variable called `price_range` and calculate the difference between the highest and the lowest price.</li>\n",
    "        </ol>\n",
    "</div>\n",
    "\n",
    "<br>\n",
    "<details>\n",
    "<summary style=\"background-color: #FDBFC7; padding: 10px; border-radius: 3px; box-shadow: 0 2px 4px rgba(0, 0, 0, 0.1); width: 95%; text-align: left; cursor: pointer; font-weight: bold;\"\">\n",
    "If you are stuck, click here for extra hints!</summary> \n",
    "\n",
    "<ul style=\"background-color: #FFF8F8; padding: 10px; border-radius: 3px; margin-top: 5px; width: 95%; box-shadow: inset 0 2px 4px rgba(0, 0, 0, 0.1);\">\n",
    "    \n",
    "- Remember that the [🔗`max()`](https://docs.python.org/3/library/functions.html#max) function returns the highest value in a list\n",
    "- Remember that the [🔗`min()`](https://docs.python.org/3/library/functions.html#min) function returns the lowest value in a list\n",
    "\n",
    "</ul>\n",
    "</details>"
   ]
  },
  {
   "cell_type": "code",
   "execution_count": 35,
   "metadata": {
    "deletable": false,
    "tags": [
     "graded"
    ]
   },
   "outputs": [],
   "source": [
    "# GRADED cell: Exercise 2\n",
    "\n",
    "### START CODE HERE ###\n",
    "\n",
    "# Find the highest price in the prices_per_unit variable\n",
    "highest_price = max(prices_per_unit)\n",
    "\n",
    "# Find the lowest price in the prices_per_unit variable\n",
    "lowest_price = min(prices_per_unit)\n",
    "\n",
    "# Find the price range\n",
    "price_range = highest_price - lowest_price\n",
    "\n",
    "### END CODE HERE ###"
   ]
  },
  {
   "cell_type": "code",
   "execution_count": 36,
   "metadata": {},
   "outputs": [
    {
     "name": "stdout",
     "output_type": "stream",
     "text": [
      "Highest price: 29.79\n",
      "Lowest price: 0.85\n",
      "Price range: 28.939999999999998\n"
     ]
    }
   ],
   "source": [
    "# Print out the results!\n",
    "print(\"Highest price:\", highest_price)\n",
    "print(\"Lowest price:\", lowest_price)\n",
    "print(\"Price range:\", price_range)"
   ]
  },
  {
   "cell_type": "markdown",
   "metadata": {},
   "source": [
    "<a id=\"exercise-3-find-the-total-number-of-units-sold\"></a>\n",
    "#### Exercise 3: Find the total number of units sold\n",
    "\n",
    "Next, find the total number of units sold and save it in the variable `total_units_sold`.\n",
    "\n",
    "<div style=\"background-color: #C6E2FF; padding: 10px; border-radius: 3px; box-shadow: 0 2px 4px rgba(0, 0, 0, 0.1); width:95%\n",
    "\">\n",
    "    <strong>▶▶▶ Directions</strong> \n",
    "        <ol>\n",
    "            <li>Use an appropriate function to calculate the sum of all the <code>units_sold</code> and store that value in the variable <code>total_units_sold</code></li>\n",
    "        </ol>\n",
    "</div>\n",
    "\n",
    "<br>\n",
    "<details>\n",
    "<summary style=\"background-color: #FDBFC7; padding: 10px; border-radius: 3px; box-shadow: 0 2px 4px rgba(0, 0, 0, 0.1); width: 95%; text-align: left; cursor: pointer; font-weight: bold;\"\">\n",
    "If you are stuck, click here for extra hints!</summary> \n",
    "\n",
    "<ul style=\"background-color: #FFF8F8; padding: 10px; border-radius: 3px; margin-top: 5px; width: 95%; box-shadow: inset 0 2px 4px rgba(0, 0, 0, 0.1);\">\n",
    "   \n",
    "\n",
    "- Remember that the [🔗`sum()`](https://docs.python.org/3/library/functions.html#sum) function returns the sum of all the items.\n",
    "- If the grader tells you that <code>total_units_sold</code> in both Exercise 3 and Exercise 6 are wrong, please check first that you updated the units sold in Exercise 6 (hint: it should increase by more than 1). If you fixed that there, this exercise will likely also be correctly graded without changing anything.\n",
    "\n",
    "</details>"
   ]
  },
  {
   "cell_type": "code",
   "execution_count": 9,
   "metadata": {
    "deletable": false,
    "tags": [
     "graded"
    ]
   },
   "outputs": [],
   "source": [
    "# GRADED cell: Exercise 3\n",
    "\n",
    "### START CODE HERE ###\n",
    "\n",
    "total_units_sold = sum(units_sold)\n",
    "\n",
    "### END CODE HERE ###"
   ]
  },
  {
   "cell_type": "code",
   "execution_count": 10,
   "metadata": {},
   "outputs": [
    {
     "name": "stdout",
     "output_type": "stream",
     "text": [
      "Total number of units sold:  127\n"
     ]
    }
   ],
   "source": [
    "# Print the result!\n",
    "print(\"Total number of units sold: \", total_units_sold)"
   ]
  },
  {
   "cell_type": "markdown",
   "metadata": {},
   "source": [
    "<a id=\"adding-sales-to-the-dataset\"></a>\n",
    "### Adding sales to the dataset\n",
    "\n",
    "<a id=\"exercise-4-adding-elements-to-the-lists\"></a>\n",
    "#### Exercise 4: Adding elements to the lists\n",
    "You just realized that you forgot to load the last sale that happened on Saturday! Here's the info for that sale:\n",
    "\n",
    "| Column             | Value                               |\n",
    "|--------------------|-------------------------------------|\n",
    "| invoice_id         | 536994                              |\n",
    "| date               | \"2010-12-04\"                        |\n",
    "| day_of_week        | \"Saturday\"                          |\n",
    "| product_name       | \"CHRISTMAS CRAFT TREE TOP ANGEL\"    |\n",
    "| units_sold         | 2                                   |\n",
    "| price_per_unit     | 2.1                                 |\n",
    "\n",
    "Use the next cell to add this purchase to all the variables. Replace all the `None` placeholders with your solution.\n",
    "\n",
    "<div style=\"background-color: #C6E2FF; padding: 10px; border-radius: 3px; box-shadow: 0 2px 4px rgba(0, 0, 0, 0.1); width:95%\n",
    "\">\n",
    "    <strong>▶▶▶ Directions</strong> \n",
    "        <ol>\n",
    "            <li>Add the new value to the <code>invoice_ids</code> variable. </li>\n",
    "            <li>Repeat for <code>dates</code>, <code>days_of_week</code>, <code>product_names</code>, <code>units_sold</code>, and <code>prices_per_unit</code></li>\n",
    "        </ol>\n",
    "</div>\n",
    "\n",
    "<br>\n",
    "<details>\n",
    "<summary style=\"background-color: #FDBFC7; padding: 10px; border-radius: 3px; box-shadow: 0 2px 4px rgba(0, 0, 0, 0.1); width: 95%; text-align: left; cursor: pointer; font-weight: bold;\">\n",
    "If you are stuck, click here for extra hints!</summary> \n",
    "\n",
    "<ul style=\"background-color: #FFF8F8; padding: 10px; border-radius: 3px; margin-top: 5px; width: 95%; box-shadow: inset 0 2px 4px rgba(0, 0, 0, 0.1);\">\n",
    "   \n",
    "\n",
    "- Remember that lists have the [🔗`append()`](https://docs.python.org/3/tutorial/datastructures.html) method, which adds an element at the end of the list. \n",
    "\n",
    "</details>"
   ]
  },
  {
   "cell_type": "code",
   "execution_count": 11,
   "metadata": {
    "deletable": false,
    "tags": [
     "graded"
    ]
   },
   "outputs": [],
   "source": [
    "# GRADED cell: Exercise 4 a\n",
    "\n",
    "### START CODE HERE ###\n",
    "\n",
    "invoice_ids.append(536994)\n",
    "dates.append(\"2010-12-04\")\n",
    "days_of_week.append(\"Saturday\")\n",
    "product_names.append(\"CHRISTMAS CRAFT TREE TOP ANGEL\")\n",
    "units_sold.append(2)\n",
    "prices_per_unit.append(2.1)\n",
    "\n",
    "### END CODE HERE ###"
   ]
  },
  {
   "cell_type": "code",
   "execution_count": 12,
   "metadata": {},
   "outputs": [
    {
     "name": "stdout",
     "output_type": "stream",
     "text": [
      "The new length of invoice_ids is  80\n"
     ]
    }
   ],
   "source": [
    "# Print the length of invoice_ids to check that you have one extra item\n",
    "print(\"The new length of invoice_ids is \", len(invoice_ids))"
   ]
  },
  {
   "cell_type": "markdown",
   "metadata": {},
   "source": [
    "Go ahead and update the number of observations, so it matches the new length of the lists.\n",
    "\n",
    "<div style=\"background-color: #C6E2FF; padding: 10px; border-radius: 3px; box-shadow: 0 2px 4px rgba(0, 0, 0, 0.1); width:95%\n",
    "\">\n",
    "    <strong>▶▶▶ Directions</strong> \n",
    "        <ol>\n",
    "            <li>Update the variable <code>num_observations</code> </li>\n",
    "        </ol>\n",
    "</div>\n",
    "\n",
    "<br>\n",
    "<details>\n",
    "<summary style=\"background-color: #FDBFC7; padding: 10px; border-radius: 3px; box-shadow: 0 2px 4px rgba(0, 0, 0, 0.1); width: 95%; text-align: left; cursor: pointer; font-weight: bold;\">\n",
    "If you are stuck, click here for extra hints!</summary> \n",
    "\n",
    "<ul style=\"background-color: #FFF8F8; padding: 10px; border-radius: 3px; margin-top: 5px; width: 95%; box-shadow: inset 0 2px 4px rgba(0, 0, 0, 0.1);\">\n",
    "   \n",
    "\n",
    "- You can overwrite `num_observations` with the new length of any of the variables (invoice_id, date, or the one you prefer)\n",
    "- OR you can add 1 to the current value stored in `num_observations`, because you added just one element to the lists.\n",
    "</details>"
   ]
  },
  {
   "cell_type": "code",
   "execution_count": 13,
   "metadata": {
    "deletable": false,
    "tags": [
     "graded"
    ]
   },
   "outputs": [],
   "source": [
    "# GRADED cell: Exercise 4b\n",
    "\n",
    "### START CODE HERE ###\n",
    "\n",
    "# Update the number of observations\n",
    "num_observations = len(invoice_ids)\n",
    "\n",
    "### END CODE HERE ###"
   ]
  },
  {
   "cell_type": "markdown",
   "metadata": {},
   "source": [
    "<a id=\"finding-the-sales-amount\"></a>\n",
    "### Finding the sales amount\n",
    "\n",
    "<a id=\"exercise-5-find-the-sales-amount-for-each-observation\"></a>\n",
    "#### Exercise 5: Find the sales amount for each observation. \n",
    "\n",
    "Your bosses are interested in knowing the total purchase amount sold for each observation (number of units sold times product price). This way, they can  tell which of the products are creating the most value. \n",
    "\n",
    "<div style=\"background-color: #C6E2FF; padding: 10px; border-radius: 3px; box-shadow: 0 2px 4px rgba(0, 0, 0, 0.1); width:95%\n",
    "\">\n",
    "    <strong>▶▶▶ Directions</strong> \n",
    "        <ol>\n",
    "            <li>Use the <a href=\"https://docs.python.org/3/library/functions.html#func-range\"> 🔗<code>range()</code></a> function to create a for loop that goes through all observations.</li>\n",
    "            <li>For each index, multiply the number of units sold for the product at index i by the price of the product at index i. </li>\n",
    "            <li>Append this product to the <code>amounts</code> variable.\n",
    "        </ol>\n",
    "</div>\n",
    "\n",
    "\n",
    "<br>\n",
    "<details>\n",
    "<summary style=\"background-color: #FDBFC7; padding: 10px; border-radius: 3px; box-shadow: 0 2px 4px rgba(0, 0, 0, 0.1); width: 95%; text-align: left; cursor: pointer; font-weight: bold;\">\n",
    "If you are stuck, click here for extra hints!</summary> \n",
    "\n",
    "<ul style=\"background-color: #FFF8F8; padding: 10px; border-radius: 3px; margin-top: 5px; width: 95%; box-shadow: inset 0 2px 4px rgba(0, 0, 0, 0.1);\">\n",
    "\n",
    "- If you want to iterate over the entire list, you need to use `range()` with one argument: the length of the list (or `num_observations - 1`)\n",
    "- To get the amount for the observation at index i, you need to multiply the value stored in `units_sold[i]` by the one stored in `price_per_unit[i]`\n",
    "- Remember that lists have the [🔗`append()`](https://docs.python.org/3/tutorial/datastructures.html) method, which adds an element at the end of the list. \n",
    "\n",
    "</details>"
   ]
  },
  {
   "cell_type": "code",
   "execution_count": 15,
   "metadata": {
    "deletable": false,
    "tags": [
     "graded"
    ]
   },
   "outputs": [],
   "source": [
    "# GRADED cell: Exercise 5\n",
    "\n",
    "# First, define an empty list. You will be adding the amounts to this list\n",
    "amounts = []\n",
    "\n",
    "### START CODE HERE ###\n",
    "\n",
    "# Iterate over all the elements the dataset.\n",
    "for i in range(num_observations):\n",
    "    # calculate the sale amount for observation i\n",
    "    amount = amount = units_sold[i] * prices_per_unit[i]\n",
    "    # append this value to amounts\n",
    "    amounts.append(amount)\n",
    "\n",
    "### END CODE HERE ###"
   ]
  },
  {
   "cell_type": "code",
   "execution_count": 16,
   "metadata": {},
   "outputs": [
    {
     "name": "stdout",
     "output_type": "stream",
     "text": [
      "First 5 items from units_sold:  [1, 1, 2, 2, 1]\n",
      "First 5 items from prices_per_unit:  [2.1, 2.1, 2.1, 2.1, 2.1]\n",
      "First 5 items from amounts:  [2.1, 2.1, 4.2, 4.2, 2.1]\n"
     ]
    }
   ],
   "source": [
    "# Print the first 5 elements to see everything worked ok\n",
    "print(\"First 5 items from units_sold: \", units_sold[:5])\n",
    "print(\"First 5 items from prices_per_unit: \", prices_per_unit[:5])\n",
    "print(\"First 5 items from amounts: \", amounts[:5])"
   ]
  },
  {
   "cell_type": "markdown",
   "metadata": {},
   "source": [
    "<a id=\"exercise-6-total-and-average-amounts\"></a>\n",
    "#### Exercise 6: Total and average amounts\n",
    "\n",
    "Now that you have the total sale amount for each product in each purchase, the owners would like you to calculate the average sale price, to help them better understand their customers.\n",
    "\n",
    "<div style=\"background-color: #C6E2FF; padding: 10px; border-radius: 3px; box-shadow: 0 2px 4px rgba(0, 0, 0, 0.1); width:95%\n",
    "\">\n",
    "    <strong>▶▶▶ Directions</strong> \n",
    "        <ol>\n",
    "            <li>Create a new variable, <code>total_amount</code>, and store the sum of all sales amount. </li>\n",
    "            <li>Update the <code>total_units_sold</code> variable (first defined in Exercise 3) because you added a record in Exercise 4. Check how many more units are sold in that exercise.</li>\n",
    "            <li>Use a the new variable, <code>average_price</code>, to find the average sales price of all sold items. </li>\n",
    "        </ol>\n",
    "</div>\n",
    "\n",
    "<br>\n",
    "<details>\n",
    "<summary style=\"background-color: #FDBFC7; padding: 10px; border-radius: 3px; box-shadow: 0 2px 4px rgba(0, 0, 0, 0.1); width: 95%; text-align: left; cursor: pointer; font-weight: bold;\">\n",
    "If you are stuck, click here for extra hints!</summary> \n",
    "\n",
    "<ul style=\"background-color: #FFF8F8; padding: 10px; border-radius: 3px; margin-top: 5px; width: 95%; box-shadow: inset 0 2px 4px rgba(0, 0, 0, 0.1);\">\n",
    "\n",
    "- Remember that the [🔗`sum()`](https://docs.python.org/3/library/functions.html#sum) function returns the sum of all the items.\n",
    "- Remember that the average is nothing more than the total sum (which you just saved in the `total_amount` variable), divided by the total number of items\n",
    "- Check the figure in Exercise 4 to see how many additional units were sold. It is more than 1.\n",
    "- The total number of items, in this case, is not the number of observations, but rather the total number of units sold.\n",
    "\n",
    "</details>"
   ]
  },
  {
   "cell_type": "code",
   "execution_count": 17,
   "metadata": {
    "deletable": false,
    "tags": [
     "graded"
    ]
   },
   "outputs": [],
   "source": [
    "# GRADED cell: Exercise 6\n",
    "\n",
    "### START CODE HERE ###\n",
    "\n",
    "# Find the total amount sold\n",
    "total_amount = sum(amounts)\n",
    "\n",
    "# Update the total units sold\n",
    "total_units_sold = sum(units_sold)\n",
    "\n",
    "# Find the average price for all sold items using total_amount and total_units_sold\n",
    "average_price = sum(prices_per_unit) / len(prices_per_unit)\n",
    "\n",
    "### END CODE HERE ###"
   ]
  },
  {
   "cell_type": "code",
   "execution_count": 18,
   "metadata": {},
   "outputs": [
    {
     "name": "stdout",
     "output_type": "stream",
     "text": [
      "The total sales amount in two weeks was  395.5799999999999 , with an average unit price of  3.4087499999999977\n"
     ]
    }
   ],
   "source": [
    "# Print the results!\n",
    "print(\"The total sales amount in two weeks was \", total_amount, \", with an average unit price of \", average_price)"
   ]
  },
  {
   "cell_type": "markdown",
   "metadata": {},
   "source": [
    "<a id=\"sales-per-product\"></a>\n",
    "### Sales per product\n",
    "In just two weeks, it is very likely that you didn't sell any units of some products. And, since Christmas is right around the corner, many sales are holiday related. That's why the lovely owners want your help to identify all the unique products sold during this two-week period.\n",
    "\n",
    "<a id=\"exercise-7-find-all-the-unique-products\"></a>\n",
    "#### Exercise 7: Find all  the unique products\n",
    "To complete this exercise you will be given a skeleton of what the code should look like. \n",
    "\n",
    "<div style=\"background-color: #C6E2FF; padding: 10px; border-radius: 3px; box-shadow: 0 2px 4px rgba(0, 0, 0, 0.1); width:95%\n",
    "\">\n",
    "    <strong>▶▶▶ Directions</strong> \n",
    "        <ol>\n",
    "            <li>Iterate over all the product names using a for loop. </li>\n",
    "            <li>For each iteration check if the current <code>product_name</code> is already in the <code>unique_products</code> list (this line is implemented for you).</li>\n",
    "            <li>If it is not, append it to the list of unique products.</li>\n",
    "        </ol>\n",
    "</div>\n",
    "\n",
    "<br>\n",
    "<details>\n",
    "<summary style=\"background-color: #FDBFC7; padding: 10px; border-radius: 3px; box-shadow: 0 2px 4px rgba(0, 0, 0, 0.1); width: 95%; text-align: left; cursor: pointer; font-weight: bold;\">\n",
    "If you are stuck, click here for extra hints!</summary> \n",
    "\n",
    "<ul style=\"background-color: #FFF8F8; padding: 10px; border-radius: 3px; margin-top: 5px; width: 95%; box-shadow: inset 0 2px 4px rgba(0, 0, 0, 0.1);\">\n",
    "   \n",
    "\n",
    "- You can create an empty list using empty brackets: `my_list = []`\n",
    "- To check if a value is inside a list, you can use the comparison `in`. For example:\n",
    "    - `0 in [3, 2, 1, 4]` should return False\n",
    "    - `0 in [2, 0, 6]` should return True\n",
    "- Remember to use the `if` statement to branch your code. \n",
    "- To append the new product name, you can use the [🔗`append()`](https://docs.python.org/3/tutorial/datastructures.html) method for lists, which adds an element at the end of the list. \n",
    "</details>"
   ]
  },
  {
   "cell_type": "code",
   "execution_count": 26,
   "metadata": {
    "deletable": false,
    "tags": [
     "graded"
    ]
   },
   "outputs": [],
   "source": [
    "# GRADED cell: Exercise 7\n",
    "\n",
    "# Create an empty list for the unique product names\n",
    "unique_products = [] \n",
    "\n",
    "### START CODE HERE ###\n",
    "\n",
    "# Iterate over all the observations in the dataset using a for loop\n",
    "for name in product_names:\n",
    "    # Check if the current product_name is not in the unique_products list:\n",
    "    if name not in unique_products:\n",
    "        # If the expression holds True, then add the current product_name \n",
    "        # to the unique_products list\n",
    "        unique_products.append(name)\n",
    "\n",
    "### END CODE HERE ###"
   ]
  },
  {
   "cell_type": "code",
   "execution_count": 27,
   "metadata": {},
   "outputs": [
    {
     "name": "stdout",
     "output_type": "stream",
     "text": [
      "There are  15  unique products:\n",
      "-  HAND WARMER SCOTTY DOG DESIGN\n",
      "-  HAND WARMER RED RETROSPOT\n",
      "-  HAND WARMER OWL DESIGN\n",
      "-  PLEASE ONE PERSON METAL SIGN\n",
      "-  HOME BUILDING BLOCK WORD\n",
      "-  PAPER CHAIN KIT 50'S CHRISTMAS \n",
      "-  RED 3 PIECE RETROSPOT CUTLERY SET\n",
      "-  CHRISTMAS CRAFT LITTLE FRIENDS\n",
      "-  CHRISTMAS CRAFT TREE TOP ANGEL\n",
      "-  RIBBON REEL CHRISTMAS SOCK BAUBLE\n",
      "-  3 TIER CAKE TIN RED AND CREAM\n",
      "-  SMALL POPCORN HOLDER\n",
      "-   SET 2 TEA TOWELS I LOVE LONDON \n",
      "-  RECIPE BOX PANTRY YELLOW DESIGN\n",
      "-  HAND WARMER BIRD DESIGN\n"
     ]
    }
   ],
   "source": [
    "# Print your results!\n",
    "print(\"There are \", len(unique_products), \" unique products:\")\n",
    "for product in unique_products:\n",
    "    print(\"- \", product)"
   ]
  },
  {
   "cell_type": "markdown",
   "metadata": {},
   "source": [
    "<div style=\"background-color: #95c3ceff; padding: 10px; border-radius: 3px; box-shadow: 0 2px 4px rgba(0, 0, 0, 0.1); width:95%\n",
    "\">\n",
    "<h3> LLM Exercise: Understanding Built-in statements </h3>\n",
    "\n",
    "You have used the `in` statement to find whether a string was already in a list of values or not. To get a better grasp at how it works, ask the LLM to summarize how this method works\n",
    "\n",
    "<div style=\"background-color: #e0f7fa; padding: 10px; border-radius: 3px; box-shadow: 0 2px 4px rgba(0, 0, 0, 0.1); width: 95%; margin: 0;\">\n",
    "            👤💬 <strong>Prompt</strong>\n",
    "\n",
    "*Please explain how the `in` statement works in Python from this line of code `if name not in unique_products`. If relevant, please point to any official documentation so I can read more about `in`.*\n",
    "</div>\n",
    "</div>"
   ]
  },
  {
   "cell_type": "markdown",
   "metadata": {},
   "source": [
    "<a id=\"exercise-8-sales-amount-and-number-of-solid-units-per-product\"></a>\n",
    "#### Exercise 8: Sales amount and number of sold units per product\n",
    "With Christmas fast approaching and the temperatures dropping, your bosses are considering a \"Get 50% OFF the second item\" sale on select products. They're deciding between the \"CHRISTMAS CRAFT TREE TOP ANGEL\" and the \"HAND WARMER BIRD DESIGN.\" To assist in their decision-making, they need information on the average number of units sold per purchase. Help them gather this data!\n",
    "\n",
    "<div style=\"background-color: #C6E2FF; padding: 10px; border-radius: 3px; box-shadow: 0 2px 4px rgba(0, 0, 0, 0.1); width:95%\n",
    "\">\n",
    "    <strong>▶▶▶ Directions</strong> \n",
    "        <ol>\n",
    "            <li>Iterate over all the list indexes using a <code>for</code> loop. You will need to use the <code>range()</code> function. </li> \n",
    "            <li>For each iteration, if the item matches either \"HAND WARMER BIRD DESIGN\" or \"CHRISTMAS CRAFT TREE TOP ANGEL\", append the value of the units sold to the corresponding list\n",
    "        </ol>\n",
    "</div>\n",
    "\n",
    "<br>\n",
    "<details>\n",
    "<summary style=\"background-color: #FDBFC7; padding: 10px; border-radius: 3px; box-shadow: 0 2px 4px rgba(0, 0, 0, 0.1); width: 95%; text-align: left; cursor: pointer; font-weight: bold;\">\n",
    "If you are stuck, click here for extra hints!</summary> \n",
    "\n",
    "<ul style=\"background-color: #FFF8F8; padding: 10px; border-radius: 3px; margin-top: 5px; width: 95%; box-shadow: inset 0 2px 4px rgba(0, 0, 0, 0.1);\">\n",
    "   \n",
    "- To iterate over all items in a list, you can use the `range(len(listname))` code, replacing `listname` with the name of a list. Since each list in your data is the same length, you can use any one.\n",
    "- To check if the product names match one of the products, you can use the comparison `==`\n",
    "- Since you want to check if it matches one product or the other, you will need to use an `if` statement followed by and `elif`. What you are doing is checking if the current name matches, for example \"HAND WARMER BIRD DESIGN\". If it does, then you append the units sold to `units_per_sale_handwarmer`. If it doesn't, you check if it matches with \"CHRISTMAS CRAFT TREE TOP ANGEL\". If it does, then you append the units sold to `units_per_sale_christmas_angel`. If it doesn't you don't need to do anything else, so there is no need for any more code. \n",
    "\n",
    "</details>\n"
   ]
  },
  {
   "cell_type": "code",
   "execution_count": 32,
   "metadata": {
    "deletable": false,
    "tags": [
     "graded"
    ]
   },
   "outputs": [],
   "source": [
    "# GRADED cell: Exercise 8\n",
    "\n",
    "# Create two empty lists to fill with the number of units sold\n",
    "units_per_sale_handwarmer = [] \n",
    "units_per_sale_christmas_angel = [] \n",
    "\n",
    "### START CODE HERE ###\n",
    "\n",
    "# Iterate over each product. \n",
    "for i in range(len(product_names)):\n",
    "    # Using an if statement, check if the product_name at index i matches \"HAND WARMER BIRD DESIGN\"\n",
    "    if product_names[i] == \"HAND WARMER BIRD DESIGN\":\n",
    "        # If true, append the number of units sold to units_per_sale_handwarmer\n",
    "        units_per_sale_handwarmer.append(units_sold[i])\n",
    "\n",
    "    # Now check if the product_name at index i matches \"CHRISTMAS CRAFT TREE TOP ANGEL\"\n",
    "    elif product_names[i] == \"CHRISTMAS CRAFT TREE TOP ANGEL\":\n",
    "        # If true, append the number of units sold to units_per_sale_christmas_angel\n",
    "        units_per_sale_christmas_angel.append(units_sold[i])\n",
    "\n",
    "### END CODE HERE ###"
   ]
  },
  {
   "cell_type": "code",
   "execution_count": 34,
   "metadata": {},
   "outputs": [
    {
     "name": "stdout",
     "output_type": "stream",
     "text": [
      "The number of units of HAND WARMER BIRD DESIGN sold: 14\n",
      "The number of units of CHRISTMAS CRAFT TREE TOP ANGEL sold: 8\n",
      "[3, 3, 2, 1, 2, 1, 1, 1]\n"
     ]
    }
   ],
   "source": [
    "# Print your results\n",
    "print(\"The number of units of HAND WARMER BIRD DESIGN sold:\", sum(units_per_sale_handwarmer))\n",
    "print(\"The number of units of CHRISTMAS CRAFT TREE TOP ANGEL sold:\", sum(units_per_sale_christmas_angel))"
   ]
  },
  {
   "cell_type": "markdown",
   "metadata": {},
   "source": [
    "Congratulations on finishing this graded lab! If everything is running correctly, you can go ahead and submit your code for grading."
   ]
  }
 ],
 "metadata": {
  "grader_version": "2",
  "kernelspec": {
   "display_name": "Python 3 (ipykernel)",
   "language": "python",
   "name": "python3"
  },
  "language_info": {
   "codemirror_mode": {
    "name": "ipython",
    "version": 3
   },
   "file_extension": ".py",
   "mimetype": "text/x-python",
   "name": "python",
   "nbconvert_exporter": "python",
   "pygments_lexer": "ipython3",
   "version": "3.11.6"
  }
 },
 "nbformat": 4,
 "nbformat_minor": 4
}
