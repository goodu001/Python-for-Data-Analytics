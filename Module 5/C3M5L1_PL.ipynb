{
 "cells": [
  {
   "cell_type": "markdown",
   "metadata": {},
   "source": [
    "# C3M5 Lesson 1 Practice Lab: Flight delays and cancellations - Plotting the time series\n",
    "\n",
    "In this lesson, you will continue working with Flight delays and cancellations dataset that you already saw in module 3. Now you will look at some time series data and explore how the different variables change over time.\n",
    "\n",
    "You will be working with the following columns:\n",
    "\n",
    "- `Airline`: Name of the operating airline. If the value is “All Airlines”, the data given represents aggregated values.\n",
    "- `Month`: Month of the flight in Month-Year format\n",
    "- `Sectors_Scheduled`: How many flights were scheduled for the given airline and route for the given month\n",
    "- `Cancellations`: Number of cancellations\n",
    "- `Arrivals_Delayed`: Number of flights that arrived at the gate 15 minutes after the scheduled arrival time shown in the carriers' schedule. \n",
    "\n",
    "\n",
    "## General instructions\n",
    "- **Replace any instances of `None` with your own code**. All `None`s must be replaced.\n",
    "- **Compare your results with the expected output** shown below the code.\n",
    "- **Check the solution** using the expandable cell to verify your answer.\n",
    "\n",
    "Happy coding!\n",
    "\n",
    "<div style=\"background-color: #FAD888; padding: 10px; border-radius: 3px; box-shadow: 0 2px 4px rgba(0, 0, 0, 0.1); width:95%\">\n",
    "<strong>Important note</strong>: Code blocks with None will not run properly. If you run them before completing the exercise, you will likely get an error. \n",
    "</div>"
   ]
  },
  {
   "cell_type": "markdown",
   "metadata": {},
   "source": [
    "## Table of contents\n",
    "- [Step 1: Import libraries](#import-libraries)\n",
    "- [Step 2: Load the data](#load-the-data)\n",
    "    - [Filter and process the dataset](#filter-and-process-the-dataset)\n",
    "- [Step 3: Plotting the time series](#plotting-the-time-series)"
   ]
  },
  {
   "cell_type": "markdown",
   "metadata": {},
   "source": [
    "<a id=\"import-libraries\"></a>\n",
    "\n",
    "## Step 1: Import libraries\n",
    "Begin by importing the pandas library"
   ]
  },
  {
   "cell_type": "code",
   "execution_count": null,
   "metadata": {},
   "outputs": [],
   "source": [
    "import pandas as pd\n",
    "import seaborn as sns"
   ]
  },
  {
   "cell_type": "markdown",
   "metadata": {},
   "source": [
    "<a id=\"load-the-data\"></a>\n",
    "\n",
    "## Step 2: Load the data\n",
    "Begin by loading the data. Run the cell below to load the data."
   ]
  },
  {
   "cell_type": "code",
   "execution_count": null,
   "metadata": {},
   "outputs": [],
   "source": [
    "df = pd.read_csv(\"otp_time_series_web.csv\")\n",
    "df.head()"
   ]
  },
  {
   "cell_type": "markdown",
   "metadata": {},
   "source": [
    "The \"Month\" column should be a datetime, but it most likely was cast as an object and contains strings. Run the cell below  to see the type of the first element in the \"Month\" column."
   ]
  },
  {
   "cell_type": "code",
   "execution_count": null,
   "metadata": {},
   "outputs": [],
   "source": [
    "df.dtypes"
   ]
  },
  {
   "cell_type": "markdown",
   "metadata": {},
   "source": [
    "The \"Month\" column is indeed an object, so you need to fix that!\n",
    "\n",
    "<div style=\"background-color: #C6E2FF; padding: 10px; border-radius: 3px; box-shadow: 0 2px 4px rgba(0, 0, 0, 0.1); width:95%\n",
    "\">\n",
    "    <strong>▶▶▶ Directions</strong> \n",
    "        <ol>\n",
    "            <li>Use the next cell to convert the \"Month\" column to datetime</li>\n",
    "        </ol>\n",
    "</div>\n",
    "\n",
    "You will need to specify the format, since the one in the DataFrame is not very standard. To learn more about the different formats you can define, and what they represent, you can take a look at the [🔗strftime documentation](https://docs.python.org/3/library/datetime.html#strftime-and-strptime-behavior)."
   ]
  },
  {
   "cell_type": "code",
   "execution_count": null,
   "metadata": {},
   "outputs": [],
   "source": [
    "### START CODE HERE ###\n",
    "\n",
    "# convert the Month column to datetime\n",
    "df[\"Month\"] = None(df[\"Month\"], format=\"%b-%y\")\n",
    "\n",
    "### END CODE HERE ###\n",
    "\n",
    "# check the new data type\n",
    "df.dtypes"
   ]
  },
  {
   "cell_type": "markdown",
   "metadata": {},
   "source": [
    "<details open>\n",
    "<summary style=\"background-color: #c6e2ff6c; padding: 10px; border-radius: 3px; box-shadow: 0 2px 4px rgba(0, 0, 0, 0.01); width: 95%; text-align: left; cursor: pointer; font-weight: bold;\">\n",
    "Expected output:</summary> \n",
    "\n",
    "```python\n",
    "Route                         object\r\n",
    "Departing_Port                object\r\n",
    "Arriving_Port                 object\r\n",
    "Airline                       object\r\n",
    "Month                 datetime64[ns]\r\n",
    "Sectors_Scheduled            float64\r\n",
    "Sectors_Flown                  int64\r\n",
    "Cancellations                float64\r\n",
    "Departures_On_Time           float64\r\n",
    "Arrivals_On_Time             float64\r\n",
    "Departures_Delayed           float64\r\n",
    "Arrivals_Delayed             float64\r\n",
    "Year                           int64\r\n",
    "Month_Num                      int64\r\n",
    "dtype: object\n",
    "```\n",
    "</details>\n"
   ]
  },
  {
   "cell_type": "markdown",
   "metadata": {},
   "source": [
    "<details>\n",
    "<summary style=\"background-color: #FDBFC7; padding: 10px; border-radius: 3px; box-shadow: 0 2px 4px rgba(0, 0, 0, 0.1); width: 95%; text-align: left; cursor: pointer; font-weight: bold;\">\n",
    "Click here to see the solution</summary> \n",
    "\n",
    "<ul style=\"background-color: #FFF8F8; padding: 10px; border-radius: 3px; margin-top: 5px; width: 95%; box-shadow: inset 0 2px 4px rgba(0, 0, 0, 0.1);\">\n",
    "   \n",
    "Your solution should look something like this:\n",
    "\n",
    "```python\n",
    "# convert the \"Month column to datetime\n",
    "df[\"Month\"] = pd.to_datetime(df[\"Month\"], format=\"%b-%y\")\n",
    "```\n",
    "</details>"
   ]
  },
  {
   "cell_type": "markdown",
   "metadata": {},
   "source": [
    "As you can see, the Month column changed from Jan-04 to a numeric format 2004-01-01, but still conveys the same information.\n",
    "\n",
    "### Filter and process the dataset\n",
    "\n",
    "As a first step in your analysis, you will examine the overall trends in delays and cancellations across all airlines. By aggregating the data by month, you can uncover seasonal patterns or changes over time that may impact flight reliability.\n",
    "\n",
    "<div style=\"background-color: #C6E2FF; padding: 10px; border-radius: 3px; box-shadow: 0 2px 4px rgba(0, 0, 0, 0.1); width:95%\n",
    "\">\n",
    "    <strong>▶▶▶ Directions</strong> \n",
    "        <ol>\n",
    "            <li>Use the next cell to filter the DataFrame and keep the observations where \"Airline\"=\"All Airlines\".</li>\n",
    "            <li>Group the data by month. Keep columns \"Cancellations\", \"Arrivals_Delayed\", and \"Sectors_Scheduled\" and aggregate with the sum. (already implemented)</li>\n",
    "            <ul>\n",
    "                <li>Note that this automatically sets \"Month\" as the index.</li>\n",
    "            </ul>\n",
    "        </ol>\n",
    "</div>\n"
   ]
  },
  {
   "cell_type": "code",
   "execution_count": null,
   "metadata": {},
   "outputs": [],
   "source": [
    "### START CODE HERE ###\n",
    "\n",
    "# Filter the data\n",
    "df_all_airlines = df[None]\n",
    "\n",
    "### END CODE HERE ###\n",
    "\n",
    "# Group by month and aggregate with the sum.\n",
    "# Keep columns \"Cancellations\", \"Arrivals_Delayed\", and \"Sectors_Scheduled\".\n",
    "df_per_month = df_all_airlines.groupby(\"Month\")[[\n",
    "    \"Cancellations\", \"Arrivals_Delayed\", \"Sectors_Scheduled\"]].sum()\n",
    "\n",
    "# visualize the dataframe\n",
    "df_per_month.head()"
   ]
  },
  {
   "cell_type": "markdown",
   "metadata": {},
   "source": [
    "<details open>\n",
    "<summary style=\"background-color: #c6e2ff6c; padding: 10px; border-radius: 3px; box-shadow: 0 2px 4px rgba(0, 0, 0, 0.01); width: 95%; text-align: left; cursor: pointer; font-weight: bold;\">\n",
    "Expected output:</summary> \n",
    "<br>\n",
    "<img src=\"imgsL1/grouped_df.png\" width=\"350\">\n",
    "\n",
    "</details>"
   ]
  },
  {
   "cell_type": "markdown",
   "metadata": {},
   "source": [
    "<details>\n",
    "<summary style=\"background-color: #FDBFC7; padding: 10px; border-radius: 3px; box-shadow: 0 2px 4px rgba(0, 0, 0, 0.1); width: 95%; text-align: left; cursor: pointer; font-weight: bold;\">\n",
    "Click here to see the solution</summary> \n",
    "\n",
    "<ul style=\"background-color: #FFF8F8; padding: 10px; border-radius: 3px; margin-top: 5px; width: 95%; box-shadow: inset 0 2px 4px rgba(0, 0, 0, 0.1);\">\n",
    "   \n",
    "Your solution should look something like this:\n",
    "\n",
    "```python\n",
    "# Filter the data\n",
    "df_all_airlines = df[df[\"Airline\"]==\"All Airlines\"]\n",
    "```\n",
    "</details>"
   ]
  },
  {
   "cell_type": "markdown",
   "metadata": {},
   "source": [
    "<a id=\"plotting-the-time-series\"></a>\n",
    "\n",
    "## Step 3: Plotting the time series\n",
    "Now that you've aggregated the data by month, plotting the time series will help you quickly identify trends in delays and cancellations, such as seasonal spikes or consistent patterns. Start with looking at the total amount of scheduled flights over time.\n",
    "\n",
    "<div style=\"background-color: #C6E2FF; padding: 10px; border-radius: 3px; box-shadow: 0 2px 4px rgba(0, 0, 0, 0.1); width:95%\n",
    "\">\n",
    "    <strong>▶▶▶ Directions</strong> \n",
    "        <ol>\n",
    "            <li>Use the cell below to plot the `Arrivals_Delayed` column of the time series using the `plot` method</li>\n",
    "        </ol>\n",
    "</div>"
   ]
  },
  {
   "cell_type": "code",
   "execution_count": null,
   "metadata": {},
   "outputs": [],
   "source": [
    "### START CODE HERE ###\n",
    "\n",
    "# plot the time series\n",
    "sns.None(df_per_month[\"Arrivals_Delayed\"])\n",
    "\n",
    "### END CODE HERE ###"
   ]
  },
  {
   "cell_type": "markdown",
   "metadata": {},
   "source": [
    "<details open>\n",
    "<summary style=\"background-color: #c6e2ff6c; padding: 10px; border-radius: 3px; box-shadow: 0 2px 4px rgba(0, 0, 0, 0.01); width: 95%; text-align: left; cursor: pointer; font-weight: bold;\">\n",
    "Expected output:</summary> \n",
    "<br>\n",
    "\n",
    "<img src=\"imgsL1/single_line.png\" width=\"400\">\n",
    "\n",
    "</details>"
   ]
  },
  {
   "cell_type": "markdown",
   "metadata": {},
   "source": [
    "<details>\n",
    "<summary style=\"background-color: #FDBFC7; padding: 10px; border-radius: 3px; box-shadow: 0 2px 4px rgba(0, 0, 0, 0.1); width: 95%; text-align: left; cursor: pointer; font-weight: bold;\">\n",
    "Click here to see the solution</summary> \n",
    "\n",
    "<ul style=\"background-color: #FFF8F8; padding: 10px; border-radius: 3px; margin-top: 5px; width: 95%; box-shadow: inset 0 2px 4px rgba(0, 0, 0, 0.1);\">\n",
    "   \n",
    "Your solution should look something like this:\n",
    "\n",
    "```python\n",
    "# plot the time series\n",
    "sns.lineplot(df_per_month[\"Arrivals_Delayed\"])\n",
    "```\n",
    "</details>"
   ]
  },
  {
   "cell_type": "markdown",
   "metadata": {},
   "source": [
    "It seems like there is an overall increasing pattern, however, there is a 3 year period where the delayed flights plummet. It seems like it was an exceptionally good three years for the airlines as there were so few delays. Or are you perhaps missing some context? Can you guess what happened to have caused these changes?\n",
    "\n",
    "When looking at the delays, you are interested not only in total delayed flights, but should think about the broader context as well: what is the total number of flights and how many were cancelled? `.plot()` method allows you to easily plot more than one column and if you set it without parameters, it will plot all of the columns in the dataframe on the same plot.\n",
    "\n",
    "<div style=\"background-color: #C6E2FF; padding: 10px; border-radius: 3px; box-shadow: 0 2px 4px rgba(0, 0, 0, 0.1); width:95%\n",
    "\">\n",
    "    <strong>▶▶▶ Directions</strong> \n",
    "        <ol>\n",
    "            <li>Use the cell below to plot the \"Cancellations\", \"Arrivals_Delayed\", and \"Sectors_Scheduled\" columns of the time series. You can use the <code>plot()</code> method</li>\n",
    "        </ol>\n",
    "</div>"
   ]
  },
  {
   "cell_type": "code",
   "execution_count": null,
   "metadata": {},
   "outputs": [],
   "source": [
    "### START CODE HERE ###\n",
    "\n",
    "# plot the time series\n",
    "sns.None\n",
    "\n",
    "### END CODE HERE ###"
   ]
  },
  {
   "cell_type": "markdown",
   "metadata": {},
   "source": [
    "<details open>\n",
    "<summary style=\"background-color: #c6e2ff6c; padding: 10px; border-radius: 3px; box-shadow: 0 2px 4px rgba(0, 0, 0, 0.01); width: 95%; text-align: left; cursor: pointer; font-weight: bold;\">\n",
    "Expected output:</summary> \n",
    "<br>\n",
    "\n",
    "<img src=\"imgsL1/ts_plot.png\" width=\"400\">\n",
    "\n",
    "</details>"
   ]
  },
  {
   "cell_type": "markdown",
   "metadata": {},
   "source": [
    "<details>\n",
    "<summary style=\"background-color: #FDBFC7; padding: 10px; border-radius: 3px; box-shadow: 0 2px 4px rgba(0, 0, 0, 0.1); width: 95%; text-align: left; cursor: pointer; font-weight: bold;\">\n",
    "Click here to see the solution</summary> \n",
    "\n",
    "<ul style=\"background-color: #FFF8F8; padding: 10px; border-radius: 3px; margin-top: 5px; width: 95%; box-shadow: inset 0 2px 4px rgba(0, 0, 0, 0.1);\">\n",
    "   \n",
    "Your solution should look something like this:\n",
    "\n",
    "```python\n",
    "# plot the time series\n",
    "sns.lineplot(df_per_month)\n",
    "```\n",
    "\n",
    "Alternatively, you could set the column names explicitly like this:\n",
    "\n",
    "```python\n",
    "# plot the time series\n",
    "sns.lineplot(df_per_month[[\"Cancellations\", \"Arrivals_Delayed\", \"Sectors_Scheduled\"]])\n",
    "```\n",
    "</details>"
   ]
  },
  {
   "cell_type": "markdown",
   "metadata": {},
   "source": [
    "Now you can see that not only the total delays plummet, but the number of scheduled flights plummets as well in 2020, while there were also much higher number of cancellations. This broader context helps you understand that it may not have been some great, but actually some terrible years for the airlines. Can you guess what event caused this?\n",
    "\n",
    "Congratulations for making it until the end of this lab. Hope you enjoyed it! "
   ]
  }
 ],
 "metadata": {
  "kernelspec": {
   "display_name": "Python 3 (ipykernel)",
   "language": "python",
   "name": "python3"
  },
  "language_info": {
   "codemirror_mode": {
    "name": "ipython",
    "version": 3
   },
   "file_extension": ".py",
   "mimetype": "text/x-python",
   "name": "python",
   "nbconvert_exporter": "python",
   "pygments_lexer": "ipython3",
   "version": "3.11.6"
  }
 },
 "nbformat": 4,
 "nbformat_minor": 4
}
