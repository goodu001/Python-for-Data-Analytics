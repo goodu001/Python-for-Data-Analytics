{
 "cells": [
  {
   "cell_type": "markdown",
   "id": "a01214b3-0823-4a8c-a317-b52bbd854e6c",
   "metadata": {},
   "source": [
    "# Weather analysis"
   ]
  },
  {
   "cell_type": "code",
   "execution_count": 1,
   "id": "2947df26-6a68-4677-97f2-c5151fdee18f",
   "metadata": {},
   "outputs": [],
   "source": [
    "import pandas as pd\n",
    "import matplotlib.pyplot as plt\n",
    "import seaborn as sns\n",
    "import numpy as np\n",
    "import scipy.stats as stats\n",
    "import statsmodels.api as sm"
   ]
  },
  {
   "cell_type": "code",
   "execution_count": 2,
   "id": "0ae70144-932c-4bba-b40e-5866ca994de4",
   "metadata": {},
   "outputs": [
    {
     "data": {
      "text/html": [
       "<div>\n",
       "<style scoped>\n",
       "    .dataframe tbody tr th:only-of-type {\n",
       "        vertical-align: middle;\n",
       "    }\n",
       "\n",
       "    .dataframe tbody tr th {\n",
       "        vertical-align: top;\n",
       "    }\n",
       "\n",
       "    .dataframe thead th {\n",
       "        text-align: right;\n",
       "    }\n",
       "</style>\n",
       "<table border=\"1\" class=\"dataframe\">\n",
       "  <thead>\n",
       "    <tr style=\"text-align: right;\">\n",
       "      <th></th>\n",
       "      <th>date_time</th>\n",
       "      <th>pressure_mbar</th>\n",
       "      <th>temperature_celsius</th>\n",
       "      <th>dew_point_celsius</th>\n",
       "      <th>relative_humidity_percent</th>\n",
       "      <th>vapor_pressure_actual_mbar</th>\n",
       "      <th>specific_humidity_g_per_kg</th>\n",
       "      <th>air_density_g_per_m_cubed</th>\n",
       "      <th>wind_velocity_m_per_s</th>\n",
       "      <th>wind_direction_degrees</th>\n",
       "      <th>rainfall_mm</th>\n",
       "      <th>season</th>\n",
       "    </tr>\n",
       "  </thead>\n",
       "  <tbody>\n",
       "    <tr>\n",
       "      <th>0</th>\n",
       "      <td>2020-01-01 01:00:00</td>\n",
       "      <td>1008.44</td>\n",
       "      <td>0.34</td>\n",
       "      <td>-1.54</td>\n",
       "      <td>87.1</td>\n",
       "      <td>5.45</td>\n",
       "      <td>3.37</td>\n",
       "      <td>1281.84</td>\n",
       "      <td>0.63</td>\n",
       "      <td>188.00</td>\n",
       "      <td>0.0</td>\n",
       "      <td>winter</td>\n",
       "    </tr>\n",
       "    <tr>\n",
       "      <th>1</th>\n",
       "      <td>2020-01-01 02:00:00</td>\n",
       "      <td>1008.32</td>\n",
       "      <td>-0.21</td>\n",
       "      <td>-1.78</td>\n",
       "      <td>89.1</td>\n",
       "      <td>5.36</td>\n",
       "      <td>3.31</td>\n",
       "      <td>1284.32</td>\n",
       "      <td>0.50</td>\n",
       "      <td>154.00</td>\n",
       "      <td>0.0</td>\n",
       "      <td>winter</td>\n",
       "    </tr>\n",
       "    <tr>\n",
       "      <th>2</th>\n",
       "      <td>2020-01-01 03:00:00</td>\n",
       "      <td>1008.46</td>\n",
       "      <td>-0.05</td>\n",
       "      <td>-1.71</td>\n",
       "      <td>88.5</td>\n",
       "      <td>5.39</td>\n",
       "      <td>3.33</td>\n",
       "      <td>1283.73</td>\n",
       "      <td>0.46</td>\n",
       "      <td>46.51</td>\n",
       "      <td>0.0</td>\n",
       "      <td>winter</td>\n",
       "    </tr>\n",
       "    <tr>\n",
       "      <th>3</th>\n",
       "      <td>2020-01-01 04:00:00</td>\n",
       "      <td>1008.00</td>\n",
       "      <td>-1.02</td>\n",
       "      <td>-2.31</td>\n",
       "      <td>90.9</td>\n",
       "      <td>5.15</td>\n",
       "      <td>3.19</td>\n",
       "      <td>1287.83</td>\n",
       "      <td>1.83</td>\n",
       "      <td>218.10</td>\n",
       "      <td>0.0</td>\n",
       "      <td>winter</td>\n",
       "    </tr>\n",
       "    <tr>\n",
       "      <th>4</th>\n",
       "      <td>2020-01-01 05:00:00</td>\n",
       "      <td>1007.63</td>\n",
       "      <td>-1.84</td>\n",
       "      <td>-2.78</td>\n",
       "      <td>93.2</td>\n",
       "      <td>4.97</td>\n",
       "      <td>3.08</td>\n",
       "      <td>1291.32</td>\n",
       "      <td>1.53</td>\n",
       "      <td>226.90</td>\n",
       "      <td>0.0</td>\n",
       "      <td>winter</td>\n",
       "    </tr>\n",
       "  </tbody>\n",
       "</table>\n",
       "</div>"
      ],
      "text/plain": [
       "             date_time  pressure_mbar  temperature_celsius  dew_point_celsius  \\\n",
       "0  2020-01-01 01:00:00        1008.44                 0.34              -1.54   \n",
       "1  2020-01-01 02:00:00        1008.32                -0.21              -1.78   \n",
       "2  2020-01-01 03:00:00        1008.46                -0.05              -1.71   \n",
       "3  2020-01-01 04:00:00        1008.00                -1.02              -2.31   \n",
       "4  2020-01-01 05:00:00        1007.63                -1.84              -2.78   \n",
       "\n",
       "   relative_humidity_percent  vapor_pressure_actual_mbar  \\\n",
       "0                       87.1                        5.45   \n",
       "1                       89.1                        5.36   \n",
       "2                       88.5                        5.39   \n",
       "3                       90.9                        5.15   \n",
       "4                       93.2                        4.97   \n",
       "\n",
       "   specific_humidity_g_per_kg  air_density_g_per_m_cubed  \\\n",
       "0                        3.37                    1281.84   \n",
       "1                        3.31                    1284.32   \n",
       "2                        3.33                    1283.73   \n",
       "3                        3.19                    1287.83   \n",
       "4                        3.08                    1291.32   \n",
       "\n",
       "   wind_velocity_m_per_s  wind_direction_degrees  rainfall_mm  season  \n",
       "0                   0.63                  188.00          0.0  winter  \n",
       "1                   0.50                  154.00          0.0  winter  \n",
       "2                   0.46                   46.51          0.0  winter  \n",
       "3                   1.83                  218.10          0.0  winter  \n",
       "4                   1.53                  226.90          0.0  winter  "
      ]
     },
     "execution_count": 2,
     "metadata": {},
     "output_type": "execute_result"
    }
   ],
   "source": [
    "df_hourly = pd.read_csv(\"weather_data.csv\")\n",
    "df_hourly.head()"
   ]
  },
  {
   "cell_type": "code",
   "execution_count": 3,
   "id": "4f58325c-f4ed-420a-bcf9-f2271897632c",
   "metadata": {},
   "outputs": [
    {
     "data": {
      "text/html": [
       "<div>\n",
       "<style scoped>\n",
       "    .dataframe tbody tr th:only-of-type {\n",
       "        vertical-align: middle;\n",
       "    }\n",
       "\n",
       "    .dataframe tbody tr th {\n",
       "        vertical-align: top;\n",
       "    }\n",
       "\n",
       "    .dataframe thead th {\n",
       "        text-align: right;\n",
       "    }\n",
       "</style>\n",
       "<table border=\"1\" class=\"dataframe\">\n",
       "  <thead>\n",
       "    <tr style=\"text-align: right;\">\n",
       "      <th></th>\n",
       "      <th>pressure_mbar</th>\n",
       "      <th>temperature_celsius</th>\n",
       "      <th>dew_point_celsius</th>\n",
       "      <th>relative_humidity_percent</th>\n",
       "      <th>vapor_pressure_actual_mbar</th>\n",
       "      <th>specific_humidity_g_per_kg</th>\n",
       "      <th>air_density_g_per_m_cubed</th>\n",
       "      <th>wind_velocity_m_per_s</th>\n",
       "      <th>wind_direction_degrees</th>\n",
       "      <th>rainfall_mm</th>\n",
       "      <th>season</th>\n",
       "    </tr>\n",
       "    <tr>\n",
       "      <th>date_time</th>\n",
       "      <th></th>\n",
       "      <th></th>\n",
       "      <th></th>\n",
       "      <th></th>\n",
       "      <th></th>\n",
       "      <th></th>\n",
       "      <th></th>\n",
       "      <th></th>\n",
       "      <th></th>\n",
       "      <th></th>\n",
       "      <th></th>\n",
       "    </tr>\n",
       "  </thead>\n",
       "  <tbody>\n",
       "    <tr>\n",
       "      <th>2020-01-01 01:00:00</th>\n",
       "      <td>1008.44</td>\n",
       "      <td>0.34</td>\n",
       "      <td>-1.54</td>\n",
       "      <td>87.1</td>\n",
       "      <td>5.45</td>\n",
       "      <td>3.37</td>\n",
       "      <td>1281.84</td>\n",
       "      <td>0.63</td>\n",
       "      <td>188.00</td>\n",
       "      <td>0.0</td>\n",
       "      <td>winter</td>\n",
       "    </tr>\n",
       "    <tr>\n",
       "      <th>2020-01-01 02:00:00</th>\n",
       "      <td>1008.32</td>\n",
       "      <td>-0.21</td>\n",
       "      <td>-1.78</td>\n",
       "      <td>89.1</td>\n",
       "      <td>5.36</td>\n",
       "      <td>3.31</td>\n",
       "      <td>1284.32</td>\n",
       "      <td>0.50</td>\n",
       "      <td>154.00</td>\n",
       "      <td>0.0</td>\n",
       "      <td>winter</td>\n",
       "    </tr>\n",
       "    <tr>\n",
       "      <th>2020-01-01 03:00:00</th>\n",
       "      <td>1008.46</td>\n",
       "      <td>-0.05</td>\n",
       "      <td>-1.71</td>\n",
       "      <td>88.5</td>\n",
       "      <td>5.39</td>\n",
       "      <td>3.33</td>\n",
       "      <td>1283.73</td>\n",
       "      <td>0.46</td>\n",
       "      <td>46.51</td>\n",
       "      <td>0.0</td>\n",
       "      <td>winter</td>\n",
       "    </tr>\n",
       "    <tr>\n",
       "      <th>2020-01-01 04:00:00</th>\n",
       "      <td>1008.00</td>\n",
       "      <td>-1.02</td>\n",
       "      <td>-2.31</td>\n",
       "      <td>90.9</td>\n",
       "      <td>5.15</td>\n",
       "      <td>3.19</td>\n",
       "      <td>1287.83</td>\n",
       "      <td>1.83</td>\n",
       "      <td>218.10</td>\n",
       "      <td>0.0</td>\n",
       "      <td>winter</td>\n",
       "    </tr>\n",
       "    <tr>\n",
       "      <th>2020-01-01 05:00:00</th>\n",
       "      <td>1007.63</td>\n",
       "      <td>-1.84</td>\n",
       "      <td>-2.78</td>\n",
       "      <td>93.2</td>\n",
       "      <td>4.97</td>\n",
       "      <td>3.08</td>\n",
       "      <td>1291.32</td>\n",
       "      <td>1.53</td>\n",
       "      <td>226.90</td>\n",
       "      <td>0.0</td>\n",
       "      <td>winter</td>\n",
       "    </tr>\n",
       "  </tbody>\n",
       "</table>\n",
       "</div>"
      ],
      "text/plain": [
       "                     pressure_mbar  temperature_celsius  dew_point_celsius  \\\n",
       "date_time                                                                    \n",
       "2020-01-01 01:00:00        1008.44                 0.34              -1.54   \n",
       "2020-01-01 02:00:00        1008.32                -0.21              -1.78   \n",
       "2020-01-01 03:00:00        1008.46                -0.05              -1.71   \n",
       "2020-01-01 04:00:00        1008.00                -1.02              -2.31   \n",
       "2020-01-01 05:00:00        1007.63                -1.84              -2.78   \n",
       "\n",
       "                     relative_humidity_percent  vapor_pressure_actual_mbar  \\\n",
       "date_time                                                                    \n",
       "2020-01-01 01:00:00                       87.1                        5.45   \n",
       "2020-01-01 02:00:00                       89.1                        5.36   \n",
       "2020-01-01 03:00:00                       88.5                        5.39   \n",
       "2020-01-01 04:00:00                       90.9                        5.15   \n",
       "2020-01-01 05:00:00                       93.2                        4.97   \n",
       "\n",
       "                     specific_humidity_g_per_kg  air_density_g_per_m_cubed  \\\n",
       "date_time                                                                    \n",
       "2020-01-01 01:00:00                        3.37                    1281.84   \n",
       "2020-01-01 02:00:00                        3.31                    1284.32   \n",
       "2020-01-01 03:00:00                        3.33                    1283.73   \n",
       "2020-01-01 04:00:00                        3.19                    1287.83   \n",
       "2020-01-01 05:00:00                        3.08                    1291.32   \n",
       "\n",
       "                     wind_velocity_m_per_s  wind_direction_degrees  \\\n",
       "date_time                                                            \n",
       "2020-01-01 01:00:00                   0.63                  188.00   \n",
       "2020-01-01 02:00:00                   0.50                  154.00   \n",
       "2020-01-01 03:00:00                   0.46                   46.51   \n",
       "2020-01-01 04:00:00                   1.83                  218.10   \n",
       "2020-01-01 05:00:00                   1.53                  226.90   \n",
       "\n",
       "                     rainfall_mm  season  \n",
       "date_time                                 \n",
       "2020-01-01 01:00:00          0.0  winter  \n",
       "2020-01-01 02:00:00          0.0  winter  \n",
       "2020-01-01 03:00:00          0.0  winter  \n",
       "2020-01-01 04:00:00          0.0  winter  \n",
       "2020-01-01 05:00:00          0.0  winter  "
      ]
     },
     "execution_count": 3,
     "metadata": {},
     "output_type": "execute_result"
    }
   ],
   "source": [
    "df_hourly[\"date_time\"] = pd.to_datetime(df_hourly[\"date_time\"])\n",
    "df_hourly.set_index(\"date_time\", inplace=True)\n",
    "df_hourly.head()"
   ]
  },
  {
   "cell_type": "code",
   "execution_count": 4,
   "id": "0e364e6c-a39f-443a-9b6c-890c2634cc6f",
   "metadata": {},
   "outputs": [],
   "source": [
    "# 1. resample data to weekly points\n",
    "df_weekly = df_hourly.resample(\"W\").first() # keeps \"season\" column"
   ]
  },
  {
   "cell_type": "code",
   "execution_count": 5,
   "id": "657990da-139d-40a3-9a53-f35b0917890e",
   "metadata": {},
   "outputs": [],
   "source": [
    "# 2. assign number to each week\n",
    "df_weekly[\"idx\"] = range(len(df_weekly)) # 0 to length of data frame"
   ]
  },
  {
   "cell_type": "code",
   "execution_count": 6,
   "id": "4bb19684-d581-44d3-b895-c090c0f88ccc",
   "metadata": {},
   "outputs": [
    {
     "data": {
      "text/html": [
       "<div>\n",
       "<style scoped>\n",
       "    .dataframe tbody tr th:only-of-type {\n",
       "        vertical-align: middle;\n",
       "    }\n",
       "\n",
       "    .dataframe tbody tr th {\n",
       "        vertical-align: top;\n",
       "    }\n",
       "\n",
       "    .dataframe thead th {\n",
       "        text-align: right;\n",
       "    }\n",
       "</style>\n",
       "<table border=\"1\" class=\"dataframe\">\n",
       "  <thead>\n",
       "    <tr style=\"text-align: right;\">\n",
       "      <th></th>\n",
       "      <th>pressure_mbar</th>\n",
       "      <th>temperature_celsius</th>\n",
       "      <th>dew_point_celsius</th>\n",
       "      <th>relative_humidity_percent</th>\n",
       "      <th>vapor_pressure_actual_mbar</th>\n",
       "      <th>specific_humidity_g_per_kg</th>\n",
       "      <th>air_density_g_per_m_cubed</th>\n",
       "      <th>wind_velocity_m_per_s</th>\n",
       "      <th>wind_direction_degrees</th>\n",
       "      <th>rainfall_mm</th>\n",
       "      <th>season</th>\n",
       "      <th>idx</th>\n",
       "    </tr>\n",
       "    <tr>\n",
       "      <th>date_time</th>\n",
       "      <th></th>\n",
       "      <th></th>\n",
       "      <th></th>\n",
       "      <th></th>\n",
       "      <th></th>\n",
       "      <th></th>\n",
       "      <th></th>\n",
       "      <th></th>\n",
       "      <th></th>\n",
       "      <th></th>\n",
       "      <th></th>\n",
       "      <th></th>\n",
       "    </tr>\n",
       "  </thead>\n",
       "  <tbody>\n",
       "    <tr>\n",
       "      <th>2020-01-05</th>\n",
       "      <td>1008.44</td>\n",
       "      <td>0.34</td>\n",
       "      <td>-1.54</td>\n",
       "      <td>87.1</td>\n",
       "      <td>5.45</td>\n",
       "      <td>3.37</td>\n",
       "      <td>1281.84</td>\n",
       "      <td>0.63</td>\n",
       "      <td>188.0</td>\n",
       "      <td>0.0</td>\n",
       "      <td>winter</td>\n",
       "      <td>0</td>\n",
       "    </tr>\n",
       "    <tr>\n",
       "      <th>2020-01-12</th>\n",
       "      <td>1006.17</td>\n",
       "      <td>3.32</td>\n",
       "      <td>0.77</td>\n",
       "      <td>83.3</td>\n",
       "      <td>6.46</td>\n",
       "      <td>4.00</td>\n",
       "      <td>1264.66</td>\n",
       "      <td>1.15</td>\n",
       "      <td>177.2</td>\n",
       "      <td>0.0</td>\n",
       "      <td>winter</td>\n",
       "      <td>1</td>\n",
       "    </tr>\n",
       "    <tr>\n",
       "      <th>2020-01-19</th>\n",
       "      <td>997.35</td>\n",
       "      <td>2.71</td>\n",
       "      <td>0.16</td>\n",
       "      <td>83.2</td>\n",
       "      <td>6.18</td>\n",
       "      <td>3.86</td>\n",
       "      <td>1256.46</td>\n",
       "      <td>2.59</td>\n",
       "      <td>164.5</td>\n",
       "      <td>0.0</td>\n",
       "      <td>winter</td>\n",
       "      <td>2</td>\n",
       "    </tr>\n",
       "    <tr>\n",
       "      <th>2020-01-26</th>\n",
       "      <td>1015.51</td>\n",
       "      <td>2.83</td>\n",
       "      <td>0.70</td>\n",
       "      <td>85.8</td>\n",
       "      <td>6.42</td>\n",
       "      <td>3.94</td>\n",
       "      <td>1278.75</td>\n",
       "      <td>0.50</td>\n",
       "      <td>189.8</td>\n",
       "      <td>0.0</td>\n",
       "      <td>winter</td>\n",
       "      <td>3</td>\n",
       "    </tr>\n",
       "    <tr>\n",
       "      <th>2020-02-02</th>\n",
       "      <td>990.19</td>\n",
       "      <td>1.19</td>\n",
       "      <td>0.18</td>\n",
       "      <td>92.9</td>\n",
       "      <td>6.19</td>\n",
       "      <td>3.90</td>\n",
       "      <td>1254.34</td>\n",
       "      <td>2.39</td>\n",
       "      <td>169.6</td>\n",
       "      <td>0.0</td>\n",
       "      <td>winter</td>\n",
       "      <td>4</td>\n",
       "    </tr>\n",
       "  </tbody>\n",
       "</table>\n",
       "</div>"
      ],
      "text/plain": [
       "            pressure_mbar  temperature_celsius  dew_point_celsius  \\\n",
       "date_time                                                           \n",
       "2020-01-05        1008.44                 0.34              -1.54   \n",
       "2020-01-12        1006.17                 3.32               0.77   \n",
       "2020-01-19         997.35                 2.71               0.16   \n",
       "2020-01-26        1015.51                 2.83               0.70   \n",
       "2020-02-02         990.19                 1.19               0.18   \n",
       "\n",
       "            relative_humidity_percent  vapor_pressure_actual_mbar  \\\n",
       "date_time                                                           \n",
       "2020-01-05                       87.1                        5.45   \n",
       "2020-01-12                       83.3                        6.46   \n",
       "2020-01-19                       83.2                        6.18   \n",
       "2020-01-26                       85.8                        6.42   \n",
       "2020-02-02                       92.9                        6.19   \n",
       "\n",
       "            specific_humidity_g_per_kg  air_density_g_per_m_cubed  \\\n",
       "date_time                                                           \n",
       "2020-01-05                        3.37                    1281.84   \n",
       "2020-01-12                        4.00                    1264.66   \n",
       "2020-01-19                        3.86                    1256.46   \n",
       "2020-01-26                        3.94                    1278.75   \n",
       "2020-02-02                        3.90                    1254.34   \n",
       "\n",
       "            wind_velocity_m_per_s  wind_direction_degrees  rainfall_mm  \\\n",
       "date_time                                                                \n",
       "2020-01-05                   0.63                   188.0          0.0   \n",
       "2020-01-12                   1.15                   177.2          0.0   \n",
       "2020-01-19                   2.59                   164.5          0.0   \n",
       "2020-01-26                   0.50                   189.8          0.0   \n",
       "2020-02-02                   2.39                   169.6          0.0   \n",
       "\n",
       "            season  idx  \n",
       "date_time                \n",
       "2020-01-05  winter    0  \n",
       "2020-01-12  winter    1  \n",
       "2020-01-19  winter    2  \n",
       "2020-01-26  winter    3  \n",
       "2020-02-02  winter    4  "
      ]
     },
     "execution_count": 6,
     "metadata": {},
     "output_type": "execute_result"
    }
   ],
   "source": [
    "df_weekly.head()"
   ]
  },
  {
   "cell_type": "code",
   "execution_count": 7,
   "id": "9b9f0e32-d281-4cde-b0ae-e50eb77c0041",
   "metadata": {},
   "outputs": [],
   "source": [
    "# try to predict temperature based on number of week - trend\n",
    "predictors = [\n",
    "    \"idx\"\n",
    "]\n",
    "\n",
    "X = sm.add_constant(df_weekly[predictors])\n",
    "Y = df_weekly[\"temperature_celsius\"]"
   ]
  },
  {
   "cell_type": "code",
   "execution_count": 8,
   "id": "56e53070-b996-4c59-a7ae-3181405cd835",
   "metadata": {},
   "outputs": [
    {
     "name": "stdout",
     "output_type": "stream",
     "text": [
      "                             OLS Regression Results                            \n",
      "===============================================================================\n",
      "Dep. Variable:     temperature_celsius   R-squared:                       0.007\n",
      "Model:                             OLS   Adj. R-squared:                  0.002\n",
      "Method:                  Least Squares   F-statistic:                     1.491\n",
      "Date:                 Sun, 19 Jan 2025   Prob (F-statistic):              0.224\n",
      "Time:                         20:48:43   Log-Likelihood:                -706.37\n",
      "No. Observations:                  210   AIC:                             1417.\n",
      "Df Residuals:                      208   BIC:                             1423.\n",
      "Df Model:                            1                                         \n",
      "Covariance Type:             nonrobust                                         \n",
      "==============================================================================\n",
      "                 coef    std err          t      P>|t|      [0.025      0.975]\n",
      "------------------------------------------------------------------------------\n",
      "const          8.0239      0.966      8.305      0.000       6.119       9.929\n",
      "idx            0.0098      0.008      1.221      0.224      -0.006       0.026\n",
      "==============================================================================\n",
      "Omnibus:                        8.097   Durbin-Watson:                   0.514\n",
      "Prob(Omnibus):                  0.017   Jarque-Bera (JB):                4.084\n",
      "Skew:                          -0.066   Prob(JB):                        0.130\n",
      "Kurtosis:                       2.330   Cond. No.                         241.\n",
      "==============================================================================\n",
      "\n",
      "Notes:\n",
      "[1] Standard Errors assume that the covariance matrix of the errors is correctly specified.\n"
     ]
    }
   ],
   "source": [
    "model = sm.OLS(Y, X)\n",
    "results = model.fit()\n",
    "print(results.summary())"
   ]
  },
  {
   "cell_type": "code",
   "execution_count": 11,
   "id": "0d6fe5da-ef30-4927-8860-2c84f2974299",
   "metadata": {},
   "outputs": [
    {
     "data": {
      "image/png": "[encoded data removed]",
      "text/plain": [
       "<Figure size 640x480 with 1 Axes>"
      ]
     },
     "metadata": {},
     "output_type": "display_data"
    }
   ],
   "source": [
    "sns.regplot(x=df_weekly[\"idx\"], y=df_weekly[\"temperature_celsius\"])\n",
    "plt.show()"
   ]
  },
  {
   "cell_type": "code",
   "execution_count": 12,
   "id": "a564dd8c-fd4f-4545-a0e1-f861c80d2476",
   "metadata": {},
   "outputs": [
    {
     "name": "stdout",
     "output_type": "stream",
     "text": [
      "['winter' 'spring' 'summer' 'autumn']\n"
     ]
    }
   ],
   "source": [
    "# Model seasonality\n",
    "print(pd.unique(df_weekly[\"season\"]))"
   ]
  },
  {
   "cell_type": "code",
   "execution_count": 13,
   "id": "6bc2dc44-d9ef-4554-8b57-68550d9d4b65",
   "metadata": {},
   "outputs": [],
   "source": [
    "predictors = [\n",
    "    \"idx\",\n",
    "    \"season\"\n",
    "]\n",
    "\n",
    "X = sm.add_constant(pd.get_dummies(df_weekly[predictors], \n",
    "                                   columns=[\"season\"], \n",
    "                                   drop_first=True, \n",
    "                                   dtype=int))\n",
    "Y = df_weekly[\"temperature_celsius\"]"
   ]
  },
  {
   "cell_type": "code",
   "execution_count": 14,
   "id": "6e2f2b2d-1fb1-4872-ba38-7a5eb7b602f6",
   "metadata": {},
   "outputs": [
    {
     "data": {
      "text/html": [
       "<div>\n",
       "<style scoped>\n",
       "    .dataframe tbody tr th:only-of-type {\n",
       "        vertical-align: middle;\n",
       "    }\n",
       "\n",
       "    .dataframe tbody tr th {\n",
       "        vertical-align: top;\n",
       "    }\n",
       "\n",
       "    .dataframe thead th {\n",
       "        text-align: right;\n",
       "    }\n",
       "</style>\n",
       "<table border=\"1\" class=\"dataframe\">\n",
       "  <thead>\n",
       "    <tr style=\"text-align: right;\">\n",
       "      <th></th>\n",
       "      <th>const</th>\n",
       "      <th>idx</th>\n",
       "      <th>season_spring</th>\n",
       "      <th>season_summer</th>\n",
       "      <th>season_winter</th>\n",
       "    </tr>\n",
       "    <tr>\n",
       "      <th>date_time</th>\n",
       "      <th></th>\n",
       "      <th></th>\n",
       "      <th></th>\n",
       "      <th></th>\n",
       "      <th></th>\n",
       "    </tr>\n",
       "  </thead>\n",
       "  <tbody>\n",
       "    <tr>\n",
       "      <th>2020-01-05</th>\n",
       "      <td>1.0</td>\n",
       "      <td>0</td>\n",
       "      <td>0</td>\n",
       "      <td>0</td>\n",
       "      <td>1</td>\n",
       "    </tr>\n",
       "    <tr>\n",
       "      <th>2020-01-12</th>\n",
       "      <td>1.0</td>\n",
       "      <td>1</td>\n",
       "      <td>0</td>\n",
       "      <td>0</td>\n",
       "      <td>1</td>\n",
       "    </tr>\n",
       "    <tr>\n",
       "      <th>2020-01-19</th>\n",
       "      <td>1.0</td>\n",
       "      <td>2</td>\n",
       "      <td>0</td>\n",
       "      <td>0</td>\n",
       "      <td>1</td>\n",
       "    </tr>\n",
       "    <tr>\n",
       "      <th>2020-01-26</th>\n",
       "      <td>1.0</td>\n",
       "      <td>3</td>\n",
       "      <td>0</td>\n",
       "      <td>0</td>\n",
       "      <td>1</td>\n",
       "    </tr>\n",
       "    <tr>\n",
       "      <th>2020-02-02</th>\n",
       "      <td>1.0</td>\n",
       "      <td>4</td>\n",
       "      <td>0</td>\n",
       "      <td>0</td>\n",
       "      <td>1</td>\n",
       "    </tr>\n",
       "  </tbody>\n",
       "</table>\n",
       "</div>"
      ],
      "text/plain": [
       "            const  idx  season_spring  season_summer  season_winter\n",
       "date_time                                                          \n",
       "2020-01-05    1.0    0              0              0              1\n",
       "2020-01-12    1.0    1              0              0              1\n",
       "2020-01-19    1.0    2              0              0              1\n",
       "2020-01-26    1.0    3              0              0              1\n",
       "2020-02-02    1.0    4              0              0              1"
      ]
     },
     "execution_count": 14,
     "metadata": {},
     "output_type": "execute_result"
    }
   ],
   "source": [
    "X.head()"
   ]
  },
  {
   "cell_type": "code",
   "execution_count": 15,
   "id": "e2333009-bf95-4a0e-8532-9d425566cff9",
   "metadata": {},
   "outputs": [
    {
     "name": "stdout",
     "output_type": "stream",
     "text": [
      "                             OLS Regression Results                            \n",
      "===============================================================================\n",
      "Dep. Variable:     temperature_celsius   R-squared:                       0.575\n",
      "Model:                             OLS   Adj. R-squared:                  0.567\n",
      "Method:                  Least Squares   F-statistic:                     69.41\n",
      "Date:                 Sun, 19 Jan 2025   Prob (F-statistic):           4.57e-37\n",
      "Time:                         20:55:00   Log-Likelihood:                -617.21\n",
      "No. Observations:                  210   AIC:                             1244.\n",
      "Df Residuals:                      205   BIC:                             1261.\n",
      "Df Model:                            4                                         \n",
      "Covariance Type:             nonrobust                                         \n",
      "=================================================================================\n",
      "                    coef    std err          t      P>|t|      [0.025      0.975]\n",
      "---------------------------------------------------------------------------------\n",
      "const             8.6076      0.907      9.490      0.000       6.819      10.396\n",
      "idx               0.0054      0.005      1.009      0.314      -0.005       0.016\n",
      "season_spring    -2.2933      0.915     -2.507      0.013      -4.097      -0.490\n",
      "season_summer     8.0918      0.907      8.924      0.000       6.304       9.880\n",
      "season_winter    -6.4203      0.914     -7.023      0.000      -8.223      -4.618\n",
      "==============================================================================\n",
      "Omnibus:                        1.515   Durbin-Watson:                   1.282\n",
      "Prob(Omnibus):                  0.469   Jarque-Bera (JB):                1.163\n",
      "Skew:                           0.137   Prob(JB):                        0.559\n",
      "Kurtosis:                       3.240   Cond. No.                         560.\n",
      "==============================================================================\n",
      "\n",
      "Notes:\n",
      "[1] Standard Errors assume that the covariance matrix of the errors is correctly specified.\n"
     ]
    }
   ],
   "source": [
    "model = sm.OLS(Y, X)\n",
    "results = model.fit()\n",
    "print(results.summary())"
   ]
  },
  {
   "cell_type": "code",
   "execution_count": 16,
   "id": "4a289253-3269-45d9-ab32-a8faca6eb4b9",
   "metadata": {},
   "outputs": [
    {
     "data": {
      "text/html": [
       "<div>\n",
       "<style scoped>\n",
       "    .dataframe tbody tr th:only-of-type {\n",
       "        vertical-align: middle;\n",
       "    }\n",
       "\n",
       "    .dataframe tbody tr th {\n",
       "        vertical-align: top;\n",
       "    }\n",
       "\n",
       "    .dataframe thead th {\n",
       "        text-align: right;\n",
       "    }\n",
       "</style>\n",
       "<table border=\"1\" class=\"dataframe\">\n",
       "  <thead>\n",
       "    <tr style=\"text-align: right;\">\n",
       "      <th></th>\n",
       "      <th>pressure_mbar</th>\n",
       "      <th>temperature_celsius</th>\n",
       "      <th>dew_point_celsius</th>\n",
       "      <th>relative_humidity_percent</th>\n",
       "      <th>vapor_pressure_actual_mbar</th>\n",
       "      <th>specific_humidity_g_per_kg</th>\n",
       "      <th>air_density_g_per_m_cubed</th>\n",
       "      <th>wind_velocity_m_per_s</th>\n",
       "      <th>wind_direction_degrees</th>\n",
       "      <th>rainfall_mm</th>\n",
       "      <th>season</th>\n",
       "      <th>idx</th>\n",
       "    </tr>\n",
       "    <tr>\n",
       "      <th>date_time</th>\n",
       "      <th></th>\n",
       "      <th></th>\n",
       "      <th></th>\n",
       "      <th></th>\n",
       "      <th></th>\n",
       "      <th></th>\n",
       "      <th></th>\n",
       "      <th></th>\n",
       "      <th></th>\n",
       "      <th></th>\n",
       "      <th></th>\n",
       "      <th></th>\n",
       "    </tr>\n",
       "  </thead>\n",
       "  <tbody>\n",
       "    <tr>\n",
       "      <th>2023-12-10</th>\n",
       "      <td>994.83</td>\n",
       "      <td>-5.48</td>\n",
       "      <td>-6.00</td>\n",
       "      <td>96.10</td>\n",
       "      <td>3.90</td>\n",
       "      <td>2.44</td>\n",
       "      <td>1292.80</td>\n",
       "      <td>1.73</td>\n",
       "      <td>213.9</td>\n",
       "      <td>0.0</td>\n",
       "      <td>winter</td>\n",
       "      <td>205</td>\n",
       "    </tr>\n",
       "    <tr>\n",
       "      <th>2023-12-17</th>\n",
       "      <td>975.46</td>\n",
       "      <td>7.13</td>\n",
       "      <td>5.27</td>\n",
       "      <td>87.90</td>\n",
       "      <td>8.89</td>\n",
       "      <td>5.69</td>\n",
       "      <td>1208.23</td>\n",
       "      <td>5.30</td>\n",
       "      <td>204.4</td>\n",
       "      <td>0.0</td>\n",
       "      <td>winter</td>\n",
       "      <td>206</td>\n",
       "    </tr>\n",
       "    <tr>\n",
       "      <th>2023-12-24</th>\n",
       "      <td>1007.28</td>\n",
       "      <td>2.99</td>\n",
       "      <td>2.65</td>\n",
       "      <td>97.60</td>\n",
       "      <td>7.39</td>\n",
       "      <td>4.58</td>\n",
       "      <td>1267.19</td>\n",
       "      <td>2.89</td>\n",
       "      <td>193.0</td>\n",
       "      <td>0.0</td>\n",
       "      <td>winter</td>\n",
       "      <td>207</td>\n",
       "    </tr>\n",
       "    <tr>\n",
       "      <th>2023-12-31</th>\n",
       "      <td>977.62</td>\n",
       "      <td>11.87</td>\n",
       "      <td>8.13</td>\n",
       "      <td>77.79</td>\n",
       "      <td>10.83</td>\n",
       "      <td>6.92</td>\n",
       "      <td>1189.87</td>\n",
       "      <td>4.81</td>\n",
       "      <td>213.7</td>\n",
       "      <td>0.0</td>\n",
       "      <td>winter</td>\n",
       "      <td>208</td>\n",
       "    </tr>\n",
       "    <tr>\n",
       "      <th>2024-01-07</th>\n",
       "      <td>979.65</td>\n",
       "      <td>7.57</td>\n",
       "      <td>2.90</td>\n",
       "      <td>72.20</td>\n",
       "      <td>7.53</td>\n",
       "      <td>4.79</td>\n",
       "      <td>1212.16</td>\n",
       "      <td>3.85</td>\n",
       "      <td>203.6</td>\n",
       "      <td>0.0</td>\n",
       "      <td>winter</td>\n",
       "      <td>209</td>\n",
       "    </tr>\n",
       "  </tbody>\n",
       "</table>\n",
       "</div>"
      ],
      "text/plain": [
       "            pressure_mbar  temperature_celsius  dew_point_celsius  \\\n",
       "date_time                                                           \n",
       "2023-12-10         994.83                -5.48              -6.00   \n",
       "2023-12-17         975.46                 7.13               5.27   \n",
       "2023-12-24        1007.28                 2.99               2.65   \n",
       "2023-12-31         977.62                11.87               8.13   \n",
       "2024-01-07         979.65                 7.57               2.90   \n",
       "\n",
       "            relative_humidity_percent  vapor_pressure_actual_mbar  \\\n",
       "date_time                                                           \n",
       "2023-12-10                      96.10                        3.90   \n",
       "2023-12-17                      87.90                        8.89   \n",
       "2023-12-24                      97.60                        7.39   \n",
       "2023-12-31                      77.79                       10.83   \n",
       "2024-01-07                      72.20                        7.53   \n",
       "\n",
       "            specific_humidity_g_per_kg  air_density_g_per_m_cubed  \\\n",
       "date_time                                                           \n",
       "2023-12-10                        2.44                    1292.80   \n",
       "2023-12-17                        5.69                    1208.23   \n",
       "2023-12-24                        4.58                    1267.19   \n",
       "2023-12-31                        6.92                    1189.87   \n",
       "2024-01-07                        4.79                    1212.16   \n",
       "\n",
       "            wind_velocity_m_per_s  wind_direction_degrees  rainfall_mm  \\\n",
       "date_time                                                                \n",
       "2023-12-10                   1.73                   213.9          0.0   \n",
       "2023-12-17                   5.30                   204.4          0.0   \n",
       "2023-12-24                   2.89                   193.0          0.0   \n",
       "2023-12-31                   4.81                   213.7          0.0   \n",
       "2024-01-07                   3.85                   203.6          0.0   \n",
       "\n",
       "            season  idx  \n",
       "date_time                \n",
       "2023-12-10  winter  205  \n",
       "2023-12-17  winter  206  \n",
       "2023-12-24  winter  207  \n",
       "2023-12-31  winter  208  \n",
       "2024-01-07  winter  209  "
      ]
     },
     "execution_count": 16,
     "metadata": {},
     "output_type": "execute_result"
    }
   ],
   "source": [
    "df_weekly.tail()"
   ]
  },
  {
   "cell_type": "code",
   "execution_count": 17,
   "id": "e0ae9b77-ef4b-4eed-9bf6-131c2b1a3b1d",
   "metadata": {},
   "outputs": [
    {
     "data": {
      "text/html": [
       "<div>\n",
       "<style scoped>\n",
       "    .dataframe tbody tr th:only-of-type {\n",
       "        vertical-align: middle;\n",
       "    }\n",
       "\n",
       "    .dataframe tbody tr th {\n",
       "        vertical-align: top;\n",
       "    }\n",
       "\n",
       "    .dataframe thead th {\n",
       "        text-align: right;\n",
       "    }\n",
       "</style>\n",
       "<table border=\"1\" class=\"dataframe\">\n",
       "  <thead>\n",
       "    <tr style=\"text-align: right;\">\n",
       "      <th></th>\n",
       "      <th>const</th>\n",
       "      <th>idx</th>\n",
       "      <th>season_spring</th>\n",
       "      <th>season_summer</th>\n",
       "      <th>season_winter</th>\n",
       "    </tr>\n",
       "    <tr>\n",
       "      <th>date_time</th>\n",
       "      <th></th>\n",
       "      <th></th>\n",
       "      <th></th>\n",
       "      <th></th>\n",
       "      <th></th>\n",
       "    </tr>\n",
       "  </thead>\n",
       "  <tbody>\n",
       "    <tr>\n",
       "      <th>2020-01-05</th>\n",
       "      <td>1.0</td>\n",
       "      <td>0</td>\n",
       "      <td>0</td>\n",
       "      <td>0</td>\n",
       "      <td>1</td>\n",
       "    </tr>\n",
       "    <tr>\n",
       "      <th>2020-01-12</th>\n",
       "      <td>1.0</td>\n",
       "      <td>1</td>\n",
       "      <td>0</td>\n",
       "      <td>0</td>\n",
       "      <td>1</td>\n",
       "    </tr>\n",
       "    <tr>\n",
       "      <th>2020-01-19</th>\n",
       "      <td>1.0</td>\n",
       "      <td>2</td>\n",
       "      <td>0</td>\n",
       "      <td>0</td>\n",
       "      <td>1</td>\n",
       "    </tr>\n",
       "    <tr>\n",
       "      <th>2020-01-26</th>\n",
       "      <td>1.0</td>\n",
       "      <td>3</td>\n",
       "      <td>0</td>\n",
       "      <td>0</td>\n",
       "      <td>1</td>\n",
       "    </tr>\n",
       "    <tr>\n",
       "      <th>2020-02-02</th>\n",
       "      <td>1.0</td>\n",
       "      <td>4</td>\n",
       "      <td>0</td>\n",
       "      <td>0</td>\n",
       "      <td>1</td>\n",
       "    </tr>\n",
       "  </tbody>\n",
       "</table>\n",
       "</div>"
      ],
      "text/plain": [
       "            const  idx  season_spring  season_summer  season_winter\n",
       "date_time                                                          \n",
       "2020-01-05    1.0    0              0              0              1\n",
       "2020-01-12    1.0    1              0              0              1\n",
       "2020-01-19    1.0    2              0              0              1\n",
       "2020-01-26    1.0    3              0              0              1\n",
       "2020-02-02    1.0    4              0              0              1"
      ]
     },
     "execution_count": 17,
     "metadata": {},
     "output_type": "execute_result"
    }
   ],
   "source": [
    "X.head()"
   ]
  },
  {
   "cell_type": "code",
   "execution_count": 18,
   "id": "b70e9075-db93-4a48-81d3-b78376e0cedd",
   "metadata": {},
   "outputs": [
    {
     "data": {
      "text/plain": [
       "array([3.31857783])"
      ]
     },
     "execution_count": 18,
     "metadata": {},
     "output_type": "execute_result"
    }
   ],
   "source": [
    "week210 = [1, 210, 0, 0, 1]\n",
    "results.predict(week210)"
   ]
  },
  {
   "cell_type": "code",
   "execution_count": 19,
   "id": "b8329542-e3cf-40ed-b574-ae0dc89d15f9",
   "metadata": {},
   "outputs": [
    {
     "data": {
      "text/plain": [
       "array([17.83068544])"
      ]
     },
     "execution_count": 19,
     "metadata": {},
     "output_type": "execute_result"
    }
   ],
   "source": [
    "week210 = [1, 210, 0, 1, 0]\n",
    "results.predict(week210)"
   ]
  },
  {
   "cell_type": "code",
   "execution_count": 20,
   "id": "af837603-5236-40de-aaff-fef343ef8e6d",
   "metadata": {},
   "outputs": [],
   "source": [
    "# calculate residuals: actual - predicted\n",
    "y_pred = results.predict(X)\n",
    "y_actual = Y\n",
    "residuals = y_actual - y_pred"
   ]
  },
  {
   "cell_type": "code",
   "execution_count": 21,
   "id": "a2f2ae67-bd63-4ac1-b72e-4d20d79db4b7",
   "metadata": {},
   "outputs": [
    {
     "data": {
      "text/plain": [
       "date_time\n",
       "2020-01-05   -1.847278\n",
       "2020-01-12    1.127335\n",
       "2020-01-19    0.511948\n",
       "2020-01-26    0.626561\n",
       "2020-02-02   -1.018826\n",
       "Freq: W-SUN, dtype: float64"
      ]
     },
     "execution_count": 21,
     "metadata": {},
     "output_type": "execute_result"
    }
   ],
   "source": [
    "residuals.head()"
   ]
  },
  {
   "cell_type": "code",
   "execution_count": 23,
   "id": "aa622096-5914-4b0f-bab1-9f985f5b17be",
   "metadata": {},
   "outputs": [
    {
     "data": {
      "image/png": "[encoded data removed]",
      "text/plain": [
       "<Figure size 640x480 with 1 Axes>"
      ]
     },
     "metadata": {},
     "output_type": "display_data"
    }
   ],
   "source": [
    "sns.regplot(x=y_pred, y=y_actual, line_kws={'color': 'black'})\n",
    "plt.xlabel(\"Predicted Temperature\")\n",
    "plt.ylabel(\"Actual Temperature\")\n",
    "plt.grid(alpha=0.7, linestyle=\"--\")\n",
    "plt.show()"
   ]
  },
  {
   "cell_type": "code",
   "execution_count": 29,
   "id": "a38905ce-25c3-40b1-a4e6-c6baf3bf30ae",
   "metadata": {},
   "outputs": [
    {
     "data": {
      "text/plain": [
       "np.float64(14.075012470182084)"
      ]
     },
     "execution_count": 29,
     "metadata": {},
     "output_type": "execute_result"
    }
   ],
   "source": [
    "residuals.max()"
   ]
  },
  {
   "cell_type": "code",
   "execution_count": 30,
   "id": "6164033a-4389-43ae-9422-b42c9b5010ca",
   "metadata": {},
   "outputs": [
    {
     "name": "stdout",
     "output_type": "stream",
     "text": [
      "3.5963428576939673\n"
     ]
    }
   ],
   "source": [
    "MAE = residuals.abs().mean()\n",
    "print(MAE) # in degrees C"
   ]
  },
  {
   "cell_type": "code",
   "execution_count": null,
   "id": "60373cc5-8ebe-431e-b2a2-0823774cc1e3",
   "metadata": {},
   "outputs": [],
   "source": []
  },
  {
   "cell_type": "code",
   "execution_count": null,
   "id": "1d14c01f-2f80-4c69-a002-c9e61ab8a7a3",
   "metadata": {},
   "outputs": [],
   "source": []
  },
  {
   "cell_type": "code",
   "execution_count": null,
   "id": "c7ab70b1-2370-406e-931c-a72c169d20eb",
   "metadata": {},
   "outputs": [],
   "source": []
  },
  {
   "cell_type": "code",
   "execution_count": null,
   "id": "e414aa63-ff96-42f8-96ef-99b13716b35a",
   "metadata": {},
   "outputs": [],
   "source": []
  },
  {
   "cell_type": "code",
   "execution_count": null,
   "id": "af8b7d14-43a8-4746-b129-16ee9d58d58c",
   "metadata": {},
   "outputs": [],
   "source": []
  },
  {
   "cell_type": "code",
   "execution_count": null,
   "id": "db9c60cd-0000-4bbf-86af-9c986b66a1bb",
   "metadata": {},
   "outputs": [],
   "source": []
  },
  {
   "cell_type": "code",
   "execution_count": null,
   "id": "aa009e02-9afb-49f4-847b-ed461319bb08",
   "metadata": {},
   "outputs": [],
   "source": []
  },
  {
   "cell_type": "code",
   "execution_count": null,
   "id": "539e1de8-77f7-4bc8-8361-0254bfdd0046",
   "metadata": {},
   "outputs": [],
   "source": []
  },
  {
   "cell_type": "code",
   "execution_count": null,
   "id": "1baefee0-6ed4-45ac-a19a-b3b8d0fa2962",
   "metadata": {},
   "outputs": [],
   "source": []
  },
  {
   "cell_type": "code",
   "execution_count": null,
   "id": "edbce3e3-2f95-4ea8-a8c1-39c0d1b02b49",
   "metadata": {},
   "outputs": [],
   "source": []
  },
  {
   "cell_type": "code",
   "execution_count": null,
   "id": "b9c904da-7f58-4908-9e3c-81de3c3737b4",
   "metadata": {},
   "outputs": [],
   "source": []
  },
  {
   "cell_type": "code",
   "execution_count": null,
   "id": "0ae1faf7-20ed-4b32-bb28-67ca03a7cb2f",
   "metadata": {},
   "outputs": [],
   "source": []
  },
  {
   "cell_type": "code",
   "execution_count": null,
   "id": "7cac7ae7-1122-4885-aca6-e5182469f249",
   "metadata": {},
   "outputs": [],
   "source": []
  },
  {
   "cell_type": "code",
   "execution_count": null,
   "id": "cf709090-d268-4657-a24f-45ff16bee487",
   "metadata": {},
   "outputs": [],
   "source": []
  },
  {
   "cell_type": "code",
   "execution_count": null,
   "id": "02324af5-45df-4a71-b268-db9599c3ba24",
   "metadata": {},
   "outputs": [],
   "source": []
  },
  {
   "cell_type": "code",
   "execution_count": null,
   "id": "a585db23-1dfc-41ea-be28-6c3681964f96",
   "metadata": {},
   "outputs": [],
   "source": []
  },
  {
   "cell_type": "code",
   "execution_count": null,
   "id": "55ba9105-34fe-4544-86ce-ea4cf732b85f",
   "metadata": {},
   "outputs": [],
   "source": []
  },
  {
   "cell_type": "code",
   "execution_count": null,
   "id": "19a0e665-1434-4e9c-95a8-0fd20d25a0d9",
   "metadata": {},
   "outputs": [],
   "source": []
  },
  {
   "cell_type": "code",
   "execution_count": null,
   "id": "fbe013b3-81d1-467b-97cd-fd32a34ec45c",
   "metadata": {},
   "outputs": [],
   "source": []
  },
  {
   "cell_type": "code",
   "execution_count": null,
   "id": "35286b04-2739-4845-9a08-305665942613",
   "metadata": {},
   "outputs": [],
   "source": []
  },
  {
   "cell_type": "code",
   "execution_count": null,
   "id": "e708d271-bf8a-47ff-ae27-4d251bd455ec",
   "metadata": {},
   "outputs": [],
   "source": []
  },
  {
   "cell_type": "code",
   "execution_count": null,
   "id": "d61676aa-2bd5-45a3-9f14-2f0ac21a6962",
   "metadata": {},
   "outputs": [],
   "source": []
  },
  {
   "cell_type": "code",
   "execution_count": null,
   "id": "c756eba3-1824-45e0-97e0-5e9ad904d6cd",
   "metadata": {},
   "outputs": [],
   "source": []
  },
  {
   "cell_type": "code",
   "execution_count": null,
   "id": "1d40f0d9-ec14-48e7-875c-67dadc3deb06",
   "metadata": {},
   "outputs": [],
   "source": []
  },
  {
   "cell_type": "code",
   "execution_count": null,
   "id": "6fe1c1b4-1a2d-4417-a97c-48d33f6460ff",
   "metadata": {},
   "outputs": [],
   "source": []
  },
  {
   "cell_type": "code",
   "execution_count": null,
   "id": "2ba8bbd8-b4a5-4e69-8832-1d60c7c819e0",
   "metadata": {},
   "outputs": [],
   "source": []
  },
  {
   "cell_type": "code",
   "execution_count": null,
   "id": "0bfbe8d5-ccf4-4db9-96f9-8c620b868e6e",
   "metadata": {},
   "outputs": [],
   "source": []
  },
  {
   "cell_type": "code",
   "execution_count": null,
   "id": "4b5bb2db-8c32-421e-843f-454cd7002098",
   "metadata": {},
   "outputs": [],
   "source": []
  },
  {
   "cell_type": "code",
   "execution_count": null,
   "id": "0962f426-383a-4227-9a6c-bc0b8707057c",
   "metadata": {},
   "outputs": [],
   "source": []
  },
  {
   "cell_type": "code",
   "execution_count": null,
   "id": "0715a822-a2f0-45b7-9575-846cd074b3a5",
   "metadata": {},
   "outputs": [],
   "source": []
  },
  {
   "cell_type": "code",
   "execution_count": null,
   "id": "c66de197-a72e-451c-bbe8-1aca71815b5e",
   "metadata": {},
   "outputs": [],
   "source": []
  },
  {
   "cell_type": "code",
   "execution_count": null,
   "id": "92fe156d-901b-4402-92b0-912717ba6e32",
   "metadata": {},
   "outputs": [],
   "source": []
  },
  {
   "cell_type": "code",
   "execution_count": null,
   "id": "a11f7c1f-0c9e-429e-bde8-a64261bb99ae",
   "metadata": {},
   "outputs": [],
   "source": []
  },
  {
   "cell_type": "code",
   "execution_count": null,
   "id": "951e19c8-dd10-4c2a-bdd1-44cbb1096e88",
   "metadata": {},
   "outputs": [],
   "source": []
  },
  {
   "cell_type": "code",
   "execution_count": null,
   "id": "74199fa5-df13-4e45-b18d-c90e1ce3347d",
   "metadata": {},
   "outputs": [],
   "source": []
  },
  {
   "cell_type": "code",
   "execution_count": null,
   "id": "aa1eca18-7cca-4c66-aecd-1c48cee6138d",
   "metadata": {},
   "outputs": [],
   "source": []
  },
  {
   "cell_type": "code",
   "execution_count": null,
   "id": "0ef82127-cedc-41b3-a4ec-b616c6a98e6f",
   "metadata": {},
   "outputs": [],
   "source": []
  },
  {
   "cell_type": "code",
   "execution_count": null,
   "id": "947d75ce-3c3a-4637-9922-3afdf80d430c",
   "metadata": {},
   "outputs": [],
   "source": []
  },
  {
   "cell_type": "code",
   "execution_count": null,
   "id": "f678ca71-3c62-4b2d-95e5-028c265ad582",
   "metadata": {},
   "outputs": [],
   "source": []
  },
  {
   "cell_type": "code",
   "execution_count": null,
   "id": "1ce2b525-e561-4181-8bf7-57761d9d6084",
   "metadata": {},
   "outputs": [],
   "source": []
  },
  {
   "cell_type": "code",
   "execution_count": null,
   "id": "010d47cc-aaa9-450f-bf06-d70611b957b7",
   "metadata": {},
   "outputs": [],
   "source": []
  },
  {
   "cell_type": "code",
   "execution_count": null,
   "id": "be085aa1-fb56-48a1-bccd-94235d5029c1",
   "metadata": {},
   "outputs": [],
   "source": []
  },
  {
   "cell_type": "code",
   "execution_count": null,
   "id": "cc739f65-366e-43ea-a319-aa107cca37d7",
   "metadata": {},
   "outputs": [],
   "source": []
  },
  {
   "cell_type": "code",
   "execution_count": null,
   "id": "7a36ad7c-b1cf-4898-ad3d-c9cc7a7f0cf2",
   "metadata": {},
   "outputs": [],
   "source": []
  },
  {
   "cell_type": "code",
   "execution_count": null,
   "id": "6b26a66a-9215-42d3-963f-6a3d29c50c28",
   "metadata": {},
   "outputs": [],
   "source": []
  },
  {
   "cell_type": "code",
   "execution_count": null,
   "id": "edb17e4a-8976-4dda-8d22-508ac6178680",
   "metadata": {},
   "outputs": [],
   "source": []
  },
  {
   "cell_type": "code",
   "execution_count": null,
   "id": "5beceb4e-77e1-44dd-8762-4c7af8594437",
   "metadata": {},
   "outputs": [],
   "source": []
  },
  {
   "cell_type": "code",
   "execution_count": null,
   "id": "ab130ff6-6d47-4486-b4f8-8098e12d5e2e",
   "metadata": {},
   "outputs": [],
   "source": []
  },
  {
   "cell_type": "code",
   "execution_count": null,
   "id": "7f16e635-0436-4bd4-be8e-7e0a7d91eaac",
   "metadata": {},
   "outputs": [],
   "source": []
  },
  {
   "cell_type": "code",
   "execution_count": null,
   "id": "59b5ce9f-cbe1-4eed-95a8-f7515a380e09",
   "metadata": {},
   "outputs": [],
   "source": []
  },
  {
   "cell_type": "code",
   "execution_count": null,
   "id": "c87f0469-86c6-4a37-a327-38142df8337b",
   "metadata": {},
   "outputs": [],
   "source": []
  },
  {
   "cell_type": "code",
   "execution_count": null,
   "id": "3a17328f-9cdf-4858-bc1f-f69d0eb792da",
   "metadata": {},
   "outputs": [],
   "source": []
  },
  {
   "cell_type": "code",
   "execution_count": null,
   "id": "0d017012-5d18-4d49-be3e-f40f59fb0d82",
   "metadata": {},
   "outputs": [],
   "source": []
  },
  {
   "cell_type": "code",
   "execution_count": null,
   "id": "85e2b860-85fa-4d65-a5f2-6e45d5c3d5be",
   "metadata": {},
   "outputs": [],
   "source": []
  },
  {
   "cell_type": "code",
   "execution_count": null,
   "id": "a86ecd62-b97a-4b2b-af71-2e7b15eee281",
   "metadata": {},
   "outputs": [],
   "source": []
  },
  {
   "cell_type": "code",
   "execution_count": null,
   "id": "a30eedf2-033c-497c-89ac-50de4ffa0e06",
   "metadata": {},
   "outputs": [],
   "source": []
  },
  {
   "cell_type": "code",
   "execution_count": null,
   "id": "9fc1895d-ba18-4cdc-a7c9-062d0593cdba",
   "metadata": {},
   "outputs": [],
   "source": []
  },
  {
   "cell_type": "code",
   "execution_count": null,
   "id": "203532bd-1123-4e9b-8713-c32289f875ea",
   "metadata": {},
   "outputs": [],
   "source": []
  },
  {
   "cell_type": "code",
   "execution_count": null,
   "id": "129a2733-7372-4aa3-8706-72b056dc1c3c",
   "metadata": {},
   "outputs": [],
   "source": []
  },
  {
   "cell_type": "code",
   "execution_count": null,
   "id": "9535c54c-5502-4dbc-83a2-3b3c1a5f2d4d",
   "metadata": {},
   "outputs": [],
   "source": []
  },
  {
   "cell_type": "code",
   "execution_count": null,
   "id": "ee362ed3-7e8a-491b-9b93-300d517a008b",
   "metadata": {},
   "outputs": [],
   "source": []
  },
  {
   "cell_type": "code",
   "execution_count": null,
   "id": "b10ee96f-a9f8-4c1e-8dc6-a6acea8877e5",
   "metadata": {},
   "outputs": [],
   "source": []
  },
  {
   "cell_type": "code",
   "execution_count": null,
   "id": "d5996b3a-aeb6-4728-9142-aad3e5ecfd66",
   "metadata": {},
   "outputs": [],
   "source": []
  }
 ],
 "metadata": {
  "kernelspec": {
   "display_name": "Python 3 (ipykernel)",
   "language": "python",
   "name": "python3"
  },
  "language_info": {
   "codemirror_mode": {
    "name": "ipython",
    "version": 3
   },
   "file_extension": ".py",
   "mimetype": "text/x-python",
   "name": "python",
   "nbconvert_exporter": "python",
   "pygments_lexer": "ipython3",
   "version": "3.11.6"
  }
 },
 "nbformat": 4,
 "nbformat_minor": 5
}
