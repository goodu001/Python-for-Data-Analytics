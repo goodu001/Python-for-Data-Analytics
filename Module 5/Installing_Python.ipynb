{
 "cells": [
  {
   "cell_type": "markdown",
   "id": "b65e454a-4377-405e-9ac6-6a97d3896dbf",
   "metadata": {},
   "source": [
    "# Install Python on your computer (Optional)"
   ]
  },
  {
   "cell_type": "markdown",
   "id": "f589a5f6-b514-4965-9adf-a8172604ed68",
   "metadata": {},
   "source": [
    "As you have seen in this course, Python is one of the most popular programming languages. To easily write and run Python programs on your computer, you need a code editor like the Jupyter Notebook used in the learning platform.\n",
    "\n",
    "A convenient way to get everything you need is by downloading [Anaconda](https://www.anaconda.com), which provides Python, Jupyter Notebook, and many other tools in a single installation. In this tutorial, you will see how to download and install Anaconda on your computer, how to create a Jupyter notebook, and how to get your own API keys from OpenWeather and OpenAI.\n",
    "\n",
    "For more detailed installation instructions specific to your operating system, or if you encounter any problems, please visit [this link](https://docs.anaconda.com/anaconda/install/)."
   ]
  },
  {
   "cell_type": "markdown",
   "id": "c9b12015-1aad-429f-8496-485d15dcac54",
   "metadata": {},
   "source": [
    "# Downloading Anaconda"
   ]
  },
  {
   "cell_type": "markdown",
   "id": "94b7b999-4d21-491d-b58f-c544ee60642a",
   "metadata": {},
   "source": [
    "Go to [Anaconda](https://www.anaconda.com) and:\n",
    "\n",
    "1. Click on \"Free Download\"\n",
    "   \n",
    "   <img src=\"img/free_download.png\" alt=\"Free Download\" style=\"width:40%;\"/>\n",
    "\n",
    "2. Register your information or skip that step\n",
    "\n",
    "   <img src=\"img/skip.png\" alt=\"Skip\" style=\"width:40%;\"/>\n",
    "\n",
    "3. Click on the download button\n",
    "\n",
    "   <img src=\"img/download.png\" alt=\"Download\" style=\"width:40%;\"/>\n",
    "\n",
    "These steps will usually get you the appropriate distribution for your operating system. If it doesn't provide you with the correct distribution, you can check the list under **Anaconda installers** and find the one that best suits you."
   ]
  },
  {
   "cell_type": "markdown",
   "id": "ebb3984b-4aa8-4e8c-92f4-fb05bb0885c0",
   "metadata": {},
   "source": [
    "# Installing Anaconda"
   ]
  },
  {
   "cell_type": "markdown",
   "id": "1a35f3f9-88c7-4d75-8458-c899086a76bf",
   "metadata": {},
   "source": [
    "### MacOS"
   ]
  },
  {
   "cell_type": "markdown",
   "id": "dd1bb0c5-19f3-498a-bb3b-7bdaa8ef4261",
   "metadata": {},
   "source": [
    "Anaconda provides a graphical installer that is fairly easy to follow in macOS. After you open the installer, you simply have to follow the prompts. The steps you will need to follow will be similar to the ones outlined here:\n",
    "\n",
    "1. Read the introduction, click Continue.\n",
    "2. Read the Read Me document, click Continue.\n",
    "3. Read and accept the license agreement.\n",
    "4. Select the installation destination. Anaconda recommends that you select the first option \"Install for all users on this computer.\" Click Continue.\n",
    "\n",
    "   <img src=\"img/mac_destination.png\" alt=\"Installation Destination\" style=\"width:40%;\"/>\n",
    "\n",
    "5. Click Install.\n",
    "\n",
    "   <img src=\"img/mac_install.png\" alt=\"Install\" style=\"width:40%;\"/>\n",
    "\n",
    "6. After the installation is complete, click Continue.\n",
    "7. You will be prompted with the option to learn more about Anaconda in the cloud. Feel free to skip and click Continue.\n",
    "\n",
    "   <img src=\"img/mac_cloud.png\" alt=\"Anaconda Cloud\" style=\"width:40%;\"/>\n",
    "\n",
    "8. Finally, you will get a confirmation telling you that the installation was successful. Click Close.\n",
    "\n",
    "   <img src=\"img/mac_close.png\" alt=\"Installation Successful\" style=\"width:40%;\"/>\n",
    "\n",
    "After following the instructions from the graphical installer, you will have Anaconda on your computer. If you have any trouble, please consult [this link](https://docs.anaconda.com/anaconda/install/mac-os/)."
   ]
  },
  {
   "cell_type": "markdown",
   "id": "c5a0ab59-20fb-405d-96d1-70d80c52ba43",
   "metadata": {},
   "source": [
    "### Windows"
   ]
  },
  {
   "cell_type": "markdown",
   "id": "52ec831e-0ac7-488e-9eac-2e6b1f797889",
   "metadata": {},
   "source": [
    "Anaconda provides a graphical installer that is fairly easy to follow in Windows. After you open the installer, you simply have to follow the prompts. The steps you will need to follow will be similar to the ones outlined here:\n",
    "\n",
    "1. Read the introduction, click Next.\n",
    "2. Read the terms and conditions and click \"I agree\".\n",
    "3. Then, you will need to decide the installation type. Anaconda recommends that you do it \"Just for me\". Click next.\n",
    "4. You will be prompted with the installation folder selection. Usually, the predetermined location is a good choice, but feel free to select another if you need to. Click Next.\n",
    "\n",
    "   <img src=\"img/win_folder.png\" alt=\"Installation Folder\" style=\"width:40%;\"/>\n",
    "\n",
    "5. Select whether you want to add Anaconda to your PATH and register Anaconda as your default Python. Anaconda doesn't recommend that you add to your PATH, while it is recommended to set it as your default Python. Click Install.\n",
    "\n",
    "   <img src=\"img/win_install.png\" alt=\"Anaconda Install\" style=\"width:40%;\"/>\n",
    "\n",
    "6. After the installation is complete, click Next.\n",
    "7. You will be prompted with the option to learn more about Anaconda in the cloud. Feel free to skip and click Next.\n",
    "\n",
    "   <img src=\"img/win_cloud.png\" alt=\"Anaconda Cloud\" style=\"width:40%;\"/>\n",
    "\n",
    "8. You will get a confirmation window telling you that the installation was successful. Click Finish.\n",
    "\n",
    "   <img src=\"img/win_finish.png\" alt=\"Installation Successful\" style=\"width:40%;\"/>\n",
    "\n",
    "After following the instructions from the graphical installer, you will have Anaconda on your computer. If you have any trouble, please consult [this link](https://docs.anaconda.com/anaconda/install/windows/)."
   ]
  },
  {
   "cell_type": "markdown",
   "id": "fd9bf2bd-0fab-4cd9-b927-59fc3103f24c",
   "metadata": {},
   "source": [
    "### Linux"
   ]
  },
  {
   "cell_type": "markdown",
   "id": "9afada1a-e8a5-485a-b0cc-f221f8e59cb0",
   "metadata": {},
   "source": [
    "Run the `.sh` as a program with the method that you prefer. Then, follow these steps in the terminal that is executing the `.sh`:\n",
    "\n",
    "1. Read the welcome message, press enter.\n",
    "\n",
    "   <img src=\"img/linux_greeting.png\" alt=\"Linux Greeting\" style=\"width:40%;\"/>\n",
    "\n",
    "2. Go through the license agreement. Type \"yes\", then press enter.\n",
    "\n",
    "   <img src=\"img/linux_license.png\" alt=\"Linux License\" style=\"width:40%;\"/>\n",
    "\n",
    "3. You will be able to choose the installation destination. The default is usually a good location, but feel free to change it according to your preferences. Press enter to confirm the location.\n",
    "\n",
    "   <img src=\"img/linux_destination.png\" alt=\"Linux Destination\" style=\"width:40%;\"/>\n",
    "\n",
    "4. Finally, you will need to decide whether to update the shell profile to automatically initialize Conda or not. The default is \"no\". After you have typed your selection, press enter.\n",
    "\n",
    "   <img src=\"img/linux_finish.png\" alt=\"Linux Finish\" style=\"width:40%;\"/>\n",
    "\n",
    "5. The program will close after the installation is completed.\n",
    "\n",
    "After following the instructions from the graphical installer, you will have Anaconda on your computer. If you have any trouble, please consult [this link](https://docs.anaconda.com/anaconda/install/linux/)."
   ]
  },
  {
   "cell_type": "markdown",
   "id": "e02841d7-86ea-4344-bdc0-a7fad024ee61",
   "metadata": {},
   "source": [
    "## Creating a Jupyter Notebook"
   ]
  },
  {
   "cell_type": "markdown",
   "id": "54b1f3ce-5296-4a30-97b4-14e8cfaaf046",
   "metadata": {},
   "source": [
    "Once you have installed Anaconda on your computer, you will be able to access the Anaconda Navigator. It provides you with a graphical interface that makes it easy to access Jupyter Notebook and other tools included in the installation. For a quick overview and tutorials, visit [this link](https://docs.anaconda.com/navigator/).\n",
    "\n",
    "Follow the next steps to open Jupyter Notebook and create a notebook that uses Python:\n",
    "\n",
    "1. Launch Anaconda Navigator.\n",
    "2. In the navigator, look for Jupyter Notebook and click \"Launch\".\n",
    "\n",
    "   <img src=\"img/anaconda_nav.png\" alt=\"Anaconda Navigator\" style=\"width:40%;\"/>\n",
    "\n",
    "3. Click on \"New\", select and click \"Notebook\".\n",
    "\n",
    "   <img src=\"img/new_notebook.png\" alt=\"New Notebook\" style=\"width:40%;\"/>\n",
    "\n",
    "4. Look for Python in \"Select kernel\" and click \"Select\".\n",
    "\n",
    "   <img src=\"img/python_kernel.png\" alt=\"Select Python Kernel\" style=\"width:40%;\"/>\n",
    "\n",
    "You are ready to write and run Python code in a Jupyter Notebook on your computer!\n",
    "\n",
    "   <img src=\"img/notebook_ready.png\" alt=\"Notebook Ready\" style=\"width:40%;\"/>\n"
   ]
  },
  {
   "cell_type": "markdown",
   "id": "270dc4f9",
   "metadata": {},
   "source": [
    "# Installing Python and Jupyter separately\n",
    "\n",
    "If you have ever used the terminal on a mac or linux, or Command Prompt on a windows machine, you may want to install Python in a more manual way. This is slightly more difficult than the Anaconda process above, but is a more common way to install and setup Python. \n",
    "\n",
    "Here are the steps you would follow:\n",
    "\n",
    "## 1. Install Python:\n",
    "- Go to the [Python website](https://www.python.org/).\n",
    "- Download the latest version of Python for your operating system.\n",
    "- Run the installer and ensure you check the box \"Add Python to PATH.\"\n",
    "\n",
    "## 2. Install Jupyter Notebook:\n",
    "- Open Command Prompt (Windows) or Terminal (Mac/Linux).\n",
    "- Run the command: \n",
    "    ```sh\n",
    "    pip install jupyter\n",
    "    ```\n",
    "\n",
    "## Start Jupyter Notebook:\n",
    "- Run this command in the Command Prompt or Terminal:\n",
    "    ```sh\n",
    "    jupyter notebook\n",
    "    ```\n",
    "    \n",
    "\n",
    "## Alternative: Start Jupyter Lab:\n",
    "- Jupyter lab has some extra features, like a file browser that makes it easier to view and upload files. This is the same lab environment you're using right now.\n",
    "- Run this command in the Command Prompt or Terminal:\n",
    "    ```sh\n",
    "    jupyter lab\n",
    "    ```\n",
    "\n",
    "**If you need help with any of these steps, a chatbot can be helpful, or you can search the web.**\n"
   ]
  }
 ],
 "metadata": {
  "kernelspec": {
   "display_name": "Python 3 (ipykernel)",
   "language": "python",
   "name": "python3"
  },
  "language_info": {
   "codemirror_mode": {
    "name": "ipython",
    "version": 3
   },
   "file_extension": ".py",
   "mimetype": "text/x-python",
   "name": "python",
   "nbconvert_exporter": "python",
   "pygments_lexer": "ipython3",
   "version": "3.11.6"
  }
 },
 "nbformat": 4,
 "nbformat_minor": 5
}
