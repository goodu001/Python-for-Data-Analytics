{
 "cells": [
  {
   "cell_type": "code",
   "execution_count": 1,
   "id": "b1fb30aa-bc39-4b0e-afd3-09d569c3cc39",
   "metadata": {},
   "outputs": [
    {
     "data": {
      "text/html": [
       "<div>\n",
       "<style scoped>\n",
       "    .dataframe tbody tr th:only-of-type {\n",
       "        vertical-align: middle;\n",
       "    }\n",
       "\n",
       "    .dataframe tbody tr th {\n",
       "        vertical-align: top;\n",
       "    }\n",
       "\n",
       "    .dataframe thead th {\n",
       "        text-align: right;\n",
       "    }\n",
       "</style>\n",
       "<table border=\"1\" class=\"dataframe\">\n",
       "  <thead>\n",
       "    <tr style=\"text-align: right;\">\n",
       "      <th></th>\n",
       "      <th>Age</th>\n",
       "      <th>Gender</th>\n",
       "      <th>NumberOfChildren</th>\n",
       "      <th>CommuteTime</th>\n",
       "      <th>CountryOfResidence</th>\n",
       "      <th>HoursSpentLearningToCode</th>\n",
       "      <th>Income</th>\n",
       "      <th>IsSoftwareDev</th>\n",
       "      <th>LanguageAtHome</th>\n",
       "      <th>MaritalStatus</th>\n",
       "      <th>MoneySpentLearningToCode</th>\n",
       "      <th>MonthsSpentProgramming</th>\n",
       "      <th>ResourceBooks</th>\n",
       "      <th>ResourceCoursera</th>\n",
       "      <th>StudentDebtOwed</th>\n",
       "    </tr>\n",
       "    <tr>\n",
       "      <th>ID</th>\n",
       "      <th></th>\n",
       "      <th></th>\n",
       "      <th></th>\n",
       "      <th></th>\n",
       "      <th></th>\n",
       "      <th></th>\n",
       "      <th></th>\n",
       "      <th></th>\n",
       "      <th></th>\n",
       "      <th></th>\n",
       "      <th></th>\n",
       "      <th></th>\n",
       "      <th></th>\n",
       "      <th></th>\n",
       "      <th></th>\n",
       "    </tr>\n",
       "  </thead>\n",
       "  <tbody>\n",
       "    <tr>\n",
       "      <th>92257</th>\n",
       "      <td>28.0</td>\n",
       "      <td>male</td>\n",
       "      <td>NaN</td>\n",
       "      <td>35.0</td>\n",
       "      <td>United States of America</td>\n",
       "      <td>30.0</td>\n",
       "      <td>32000.0</td>\n",
       "      <td>0.0</td>\n",
       "      <td>English</td>\n",
       "      <td>married or domestic partnership</td>\n",
       "      <td>0.0</td>\n",
       "      <td>1.0</td>\n",
       "      <td>NaN</td>\n",
       "      <td>1.0</td>\n",
       "      <td>20000.0</td>\n",
       "    </tr>\n",
       "    <tr>\n",
       "      <th>43079</th>\n",
       "      <td>22.0</td>\n",
       "      <td>male</td>\n",
       "      <td>NaN</td>\n",
       "      <td>90.0</td>\n",
       "      <td>United States of America</td>\n",
       "      <td>30.0</td>\n",
       "      <td>15000.0</td>\n",
       "      <td>0.0</td>\n",
       "      <td>English</td>\n",
       "      <td>NaN</td>\n",
       "      <td>20.0</td>\n",
       "      <td>2.0</td>\n",
       "      <td>NaN</td>\n",
       "      <td>1.0</td>\n",
       "      <td>NaN</td>\n",
       "    </tr>\n",
       "    <tr>\n",
       "      <th>67780</th>\n",
       "      <td>19.0</td>\n",
       "      <td>male</td>\n",
       "      <td>NaN</td>\n",
       "      <td>45.0</td>\n",
       "      <td>United States of America</td>\n",
       "      <td>20.0</td>\n",
       "      <td>48000.0</td>\n",
       "      <td>0.0</td>\n",
       "      <td>English</td>\n",
       "      <td>NaN</td>\n",
       "      <td>50.0</td>\n",
       "      <td>24.0</td>\n",
       "      <td>NaN</td>\n",
       "      <td>NaN</td>\n",
       "      <td>NaN</td>\n",
       "    </tr>\n",
       "    <tr>\n",
       "      <th>95684</th>\n",
       "      <td>26.0</td>\n",
       "      <td>female</td>\n",
       "      <td>NaN</td>\n",
       "      <td>45.0</td>\n",
       "      <td>United States of America</td>\n",
       "      <td>20.0</td>\n",
       "      <td>43000.0</td>\n",
       "      <td>0.0</td>\n",
       "      <td>English</td>\n",
       "      <td>NaN</td>\n",
       "      <td>100.0</td>\n",
       "      <td>3.0</td>\n",
       "      <td>NaN</td>\n",
       "      <td>NaN</td>\n",
       "      <td>7000.0</td>\n",
       "    </tr>\n",
       "    <tr>\n",
       "      <th>39053</th>\n",
       "      <td>20.0</td>\n",
       "      <td>female</td>\n",
       "      <td>NaN</td>\n",
       "      <td>10.0</td>\n",
       "      <td>United States of America</td>\n",
       "      <td>25.0</td>\n",
       "      <td>6000.0</td>\n",
       "      <td>0.0</td>\n",
       "      <td>Khmer</td>\n",
       "      <td>NaN</td>\n",
       "      <td>1300.0</td>\n",
       "      <td>48.0</td>\n",
       "      <td>NaN</td>\n",
       "      <td>NaN</td>\n",
       "      <td>NaN</td>\n",
       "    </tr>\n",
       "  </tbody>\n",
       "</table>\n",
       "</div>"
      ],
      "text/plain": [
       "        Age  Gender  NumberOfChildren  CommuteTime        CountryOfResidence  \\\n",
       "ID                                                                             \n",
       "92257  28.0    male               NaN         35.0  United States of America   \n",
       "43079  22.0    male               NaN         90.0  United States of America   \n",
       "67780  19.0    male               NaN         45.0  United States of America   \n",
       "95684  26.0  female               NaN         45.0  United States of America   \n",
       "39053  20.0  female               NaN         10.0  United States of America   \n",
       "\n",
       "       HoursSpentLearningToCode   Income  IsSoftwareDev LanguageAtHome  \\\n",
       "ID                                                                       \n",
       "92257                      30.0  32000.0            0.0        English   \n",
       "43079                      30.0  15000.0            0.0        English   \n",
       "67780                      20.0  48000.0            0.0        English   \n",
       "95684                      20.0  43000.0            0.0        English   \n",
       "39053                      25.0   6000.0            0.0          Khmer   \n",
       "\n",
       "                         MaritalStatus  MoneySpentLearningToCode  \\\n",
       "ID                                                                 \n",
       "92257  married or domestic partnership                       0.0   \n",
       "43079                              NaN                      20.0   \n",
       "67780                              NaN                      50.0   \n",
       "95684                              NaN                     100.0   \n",
       "39053                              NaN                    1300.0   \n",
       "\n",
       "       MonthsSpentProgramming  ResourceBooks  ResourceCoursera  \\\n",
       "ID                                                               \n",
       "92257                     1.0            NaN               1.0   \n",
       "43079                     2.0            NaN               1.0   \n",
       "67780                    24.0            NaN               NaN   \n",
       "95684                     3.0            NaN               NaN   \n",
       "39053                    48.0            NaN               NaN   \n",
       "\n",
       "       StudentDebtOwed  \n",
       "ID                      \n",
       "92257          20000.0  \n",
       "43079              NaN  \n",
       "67780              NaN  \n",
       "95684           7000.0  \n",
       "39053              NaN  "
      ]
     },
     "execution_count": 1,
     "metadata": {},
     "output_type": "execute_result"
    }
   ],
   "source": [
    "import pandas as pd\n",
    "df = pd.read_csv(\"survey_data.csv\")\n",
    "df = df.set_index(\"ID\")\n",
    "df.head()"
   ]
  },
  {
   "cell_type": "markdown",
   "id": "d48eee04-82d5-4aac-8398-cce3820b06a7",
   "metadata": {},
   "source": [
    "**Goals:** Describe the distribution of hours spent learning to code"
   ]
  },
  {
   "cell_type": "code",
   "execution_count": 2,
   "id": "97d88cfe-f304-48cf-ac95-ca81b2b775a9",
   "metadata": {},
   "outputs": [],
   "source": [
    "hours = df[\"HoursSpentLearningToCode\"]"
   ]
  },
  {
   "cell_type": "code",
   "execution_count": 3,
   "id": "4e3535a6-ebf7-4541-ab35-de1f5b8ccb85",
   "metadata": {},
   "outputs": [
    {
     "data": {
      "text/plain": [
       "<Axes: >"
      ]
     },
     "execution_count": 3,
     "metadata": {},
     "output_type": "execute_result"
    },
    {
     "data": {
      "image/png": "[encoded data removed]",
      "text/plain": [
       "<Figure size 640x480 with 1 Axes>"
      ]
     },
     "metadata": {},
     "output_type": "display_data"
    }
   ],
   "source": [
    "hours.hist()"
   ]
  },
  {
   "cell_type": "code",
   "execution_count": 4,
   "id": "6f52b514-5f35-4a5c-bbb1-22736957c2f3",
   "metadata": {},
   "outputs": [
    {
     "data": {
      "text/plain": [
       "np.float64(15.323316825056887)"
      ]
     },
     "execution_count": 4,
     "metadata": {},
     "output_type": "execute_result"
    }
   ],
   "source": [
    "hours.mean()"
   ]
  },
  {
   "cell_type": "code",
   "execution_count": 5,
   "id": "5a25ab4f-69d1-4ccb-a167-59dd538f7ed1",
   "metadata": {},
   "outputs": [
    {
     "name": "stdout",
     "output_type": "stream",
     "text": [
      "15.323316825056887\n"
     ]
    }
   ],
   "source": [
    "print(hours.mean())"
   ]
  },
  {
   "cell_type": "code",
   "execution_count": 6,
   "id": "da8f221c-5a34-4ed8-89be-5dce13ae79e3",
   "metadata": {},
   "outputs": [
    {
     "data": {
      "text/plain": [
       "np.float64(10.0)"
      ]
     },
     "execution_count": 6,
     "metadata": {},
     "output_type": "execute_result"
    }
   ],
   "source": [
    "hours.median()"
   ]
  },
  {
   "cell_type": "code",
   "execution_count": 7,
   "id": "187015e4-0d7f-4b54-ae7f-930fe550eb37",
   "metadata": {},
   "outputs": [
    {
     "data": {
      "text/plain": [
       "np.float64(14.274867413180692)"
      ]
     },
     "execution_count": 7,
     "metadata": {},
     "output_type": "execute_result"
    }
   ],
   "source": [
    "hours.std()"
   ]
  },
  {
   "cell_type": "code",
   "execution_count": 8,
   "id": "dd4baaae-1112-4bee-b75e-69b166d7c625",
   "metadata": {},
   "outputs": [
    {
     "data": {
      "text/plain": [
       "np.float64(15.323316825056887)"
      ]
     },
     "execution_count": 8,
     "metadata": {},
     "output_type": "execute_result"
    }
   ],
   "source": [
    "df[\"HoursSpentLearningToCode\"].mean()"
   ]
  },
  {
   "cell_type": "code",
   "execution_count": 10,
   "id": "a3acda50-583f-478e-b69e-8bc6b78fbdd8",
   "metadata": {},
   "outputs": [
    {
     "ename": "AttributeError",
     "evalue": "'Series' object has no attribute 'quartile'",
     "output_type": "error",
     "traceback": [
      "\u001b[0;31m---------------------------------------------------------------------------\u001b[0m",
      "\u001b[0;31mAttributeError\u001b[0m                            Traceback (most recent call last)",
      "\u001b[0;32m/tmp/ipykernel_16670/1709956991.py\u001b[0m in \u001b[0;36m?\u001b[0;34m()\u001b[0m\n\u001b[1;32m      1\u001b[0m \u001b[0;31m# get quartiles!\u001b[0m\u001b[0;34m\u001b[0m\u001b[0;34m\u001b[0m\u001b[0m\n\u001b[0;32m----> 2\u001b[0;31m \u001b[0mhours\u001b[0m\u001b[0;34m.\u001b[0m\u001b[0mquartile\u001b[0m\u001b[0;34m(\u001b[0m\u001b[0;36m0.25\u001b[0m\u001b[0;34m)\u001b[0m\u001b[0;34m\u001b[0m\u001b[0;34m\u001b[0m\u001b[0m\n\u001b[0m\u001b[1;32m      3\u001b[0m \u001b[0mhours\u001b[0m\u001b[0;34m.\u001b[0m\u001b[0mquartile\u001b[0m\u001b[0;34m(\u001b[0m\u001b[0;36m0.5\u001b[0m\u001b[0;34m)\u001b[0m\u001b[0;34m\u001b[0m\u001b[0;34m\u001b[0m\u001b[0m\n\u001b[1;32m      4\u001b[0m \u001b[0mhours\u001b[0m\u001b[0;34m.\u001b[0m\u001b[0mquartile\u001b[0m\u001b[0;34m(\u001b[0m\u001b[0;36m0.75\u001b[0m\u001b[0;34m)\u001b[0m\u001b[0;34m\u001b[0m\u001b[0;34m\u001b[0m\u001b[0m\n",
      "\u001b[0;32m/opt/conda/lib/python3.11/site-packages/pandas/core/generic.py\u001b[0m in \u001b[0;36m?\u001b[0;34m(self, name)\u001b[0m\n\u001b[1;32m   6295\u001b[0m             \u001b[0;32mand\u001b[0m \u001b[0mname\u001b[0m \u001b[0;32mnot\u001b[0m \u001b[0;32min\u001b[0m \u001b[0mself\u001b[0m\u001b[0;34m.\u001b[0m\u001b[0m_accessors\u001b[0m\u001b[0;34m\u001b[0m\u001b[0;34m\u001b[0m\u001b[0m\n\u001b[1;32m   6296\u001b[0m             \u001b[0;32mand\u001b[0m \u001b[0mself\u001b[0m\u001b[0;34m.\u001b[0m\u001b[0m_info_axis\u001b[0m\u001b[0;34m.\u001b[0m\u001b[0m_can_hold_identifiers_and_holds_name\u001b[0m\u001b[0;34m(\u001b[0m\u001b[0mname\u001b[0m\u001b[0;34m)\u001b[0m\u001b[0;34m\u001b[0m\u001b[0;34m\u001b[0m\u001b[0m\n\u001b[1;32m   6297\u001b[0m         ):\n\u001b[1;32m   6298\u001b[0m             \u001b[0;32mreturn\u001b[0m \u001b[0mself\u001b[0m\u001b[0;34m[\u001b[0m\u001b[0mname\u001b[0m\u001b[0;34m]\u001b[0m\u001b[0;34m\u001b[0m\u001b[0;34m\u001b[0m\u001b[0m\n\u001b[0;32m-> 6299\u001b[0;31m         \u001b[0;32mreturn\u001b[0m \u001b[0mobject\u001b[0m\u001b[0;34m.\u001b[0m\u001b[0m__getattribute__\u001b[0m\u001b[0;34m(\u001b[0m\u001b[0mself\u001b[0m\u001b[0;34m,\u001b[0m \u001b[0mname\u001b[0m\u001b[0;34m)\u001b[0m\u001b[0;34m\u001b[0m\u001b[0;34m\u001b[0m\u001b[0m\n\u001b[0m",
      "\u001b[0;31mAttributeError\u001b[0m: 'Series' object has no attribute 'quartile'"
     ]
    }
   ],
   "source": [
    "# get quartiles!\n",
    "hours.quartile(0.25)\n",
    "hours.quartile(0.5)\n",
    "hours.quartile(0.75)"
   ]
  },
  {
   "cell_type": "code",
   "execution_count": 11,
   "id": "7eaa398b-49a4-4d52-9bb6-6fc0d198f9c6",
   "metadata": {},
   "outputs": [
    {
     "name": "stdout",
     "output_type": "stream",
     "text": [
      "5.0\n",
      "10.0\n",
      "20.0\n"
     ]
    }
   ],
   "source": [
    "hours_25th_percentile = hours.quantile(0.25)\n",
    "hours_50th_percentile = hours.quantile(0.5)\n",
    "hours_75th_percentile = hours.quantile(0.75)\n",
    "\n",
    "print(hours_25th_percentile)\n",
    "print(hours_50th_percentile)\n",
    "print(hours_75th_percentile)"
   ]
  },
  {
   "cell_type": "code",
   "execution_count": 12,
   "id": "b695d8f5-604c-4b25-a91c-aff3eae86669",
   "metadata": {},
   "outputs": [
    {
     "name": "stdout",
     "output_type": "stream",
     "text": [
      "0.25     5.0\n",
      "0.50    10.0\n",
      "0.75    20.0\n",
      "Name: HoursSpentLearningToCode, dtype: float64\n"
     ]
    }
   ],
   "source": [
    "percentiles = hours.quantile([0.25, 0.5, 0.75])\n",
    "print(percentiles)"
   ]
  },
  {
   "cell_type": "code",
   "execution_count": 13,
   "id": "e5f81939-0990-40b6-ade1-d0fbf4ca71fa",
   "metadata": {},
   "outputs": [
    {
     "data": {
      "text/plain": [
       "pandas.core.series.Series"
      ]
     },
     "execution_count": 13,
     "metadata": {},
     "output_type": "execute_result"
    }
   ],
   "source": [
    "type(percentiles)"
   ]
  },
  {
   "cell_type": "code",
   "execution_count": 14,
   "id": "628b0b8d-2393-4edd-abd6-2204504b2ab5",
   "metadata": {},
   "outputs": [
    {
     "data": {
      "text/plain": [
       "np.float64(5.0)"
      ]
     },
     "execution_count": 14,
     "metadata": {},
     "output_type": "execute_result"
    }
   ],
   "source": [
    "percentiles[0.25]"
   ]
  },
  {
   "cell_type": "code",
   "execution_count": 15,
   "id": "36d8944d-39f9-4868-9bd9-8627215aed73",
   "metadata": {},
   "outputs": [
    {
     "data": {
      "text/plain": [
       "count    14942.000000\n",
       "mean        15.323317\n",
       "std         14.274867\n",
       "min          0.000000\n",
       "25%          5.000000\n",
       "50%         10.000000\n",
       "75%         20.000000\n",
       "max        100.000000\n",
       "Name: HoursSpentLearningToCode, dtype: float64"
      ]
     },
     "execution_count": 15,
     "metadata": {},
     "output_type": "execute_result"
    }
   ],
   "source": [
    "hours.describe()"
   ]
  },
  {
   "cell_type": "code",
   "execution_count": 17,
   "id": "c5e799fc-711e-439e-9fd9-48afd949bcf6",
   "metadata": {},
   "outputs": [
    {
     "data": {
      "text/plain": [
       "np.float64(2.039775243097656)"
      ]
     },
     "execution_count": 17,
     "metadata": {},
     "output_type": "execute_result"
    }
   ],
   "source": [
    "hours.skew() # strong positive skew"
   ]
  },
  {
   "cell_type": "code",
   "execution_count": 18,
   "id": "741c39c0-e482-4b59-9ca1-f2ba7e15bf74",
   "metadata": {},
   "outputs": [
    {
     "data": {
      "text/html": [
       "<div>\n",
       "<style scoped>\n",
       "    .dataframe tbody tr th:only-of-type {\n",
       "        vertical-align: middle;\n",
       "    }\n",
       "\n",
       "    .dataframe tbody tr th {\n",
       "        vertical-align: top;\n",
       "    }\n",
       "\n",
       "    .dataframe thead th {\n",
       "        text-align: right;\n",
       "    }\n",
       "</style>\n",
       "<table border=\"1\" class=\"dataframe\">\n",
       "  <thead>\n",
       "    <tr style=\"text-align: right;\">\n",
       "      <th></th>\n",
       "      <th>Age</th>\n",
       "      <th>NumberOfChildren</th>\n",
       "      <th>CommuteTime</th>\n",
       "      <th>HoursSpentLearningToCode</th>\n",
       "      <th>Income</th>\n",
       "      <th>IsSoftwareDev</th>\n",
       "      <th>MoneySpentLearningToCode</th>\n",
       "      <th>MonthsSpentProgramming</th>\n",
       "      <th>ResourceBooks</th>\n",
       "      <th>ResourceCoursera</th>\n",
       "      <th>StudentDebtOwed</th>\n",
       "    </tr>\n",
       "  </thead>\n",
       "  <tbody>\n",
       "    <tr>\n",
       "      <th>count</th>\n",
       "      <td>13613.000000</td>\n",
       "      <td>2549.000000</td>\n",
       "      <td>8255.000000</td>\n",
       "      <td>14942.000000</td>\n",
       "      <td>7329.000000</td>\n",
       "      <td>15537.000000</td>\n",
       "      <td>14679.000000</td>\n",
       "      <td>15014.000000</td>\n",
       "      <td>144.0</td>\n",
       "      <td>4844.0</td>\n",
       "      <td>3438.000000</td>\n",
       "    </tr>\n",
       "    <tr>\n",
       "      <th>mean</th>\n",
       "      <td>29.175421</td>\n",
       "      <td>1.899961</td>\n",
       "      <td>50.463234</td>\n",
       "      <td>15.323317</td>\n",
       "      <td>44930.010506</td>\n",
       "      <td>0.276952</td>\n",
       "      <td>1108.010559</td>\n",
       "      <td>24.430198</td>\n",
       "      <td>1.0</td>\n",
       "      <td>1.0</td>\n",
       "      <td>33489.955207</td>\n",
       "    </tr>\n",
       "    <tr>\n",
       "      <th>std</th>\n",
       "      <td>9.017716</td>\n",
       "      <td>1.113900</td>\n",
       "      <td>47.940599</td>\n",
       "      <td>14.274867</td>\n",
       "      <td>35582.783216</td>\n",
       "      <td>0.447507</td>\n",
       "      <td>4860.825612</td>\n",
       "      <td>49.426744</td>\n",
       "      <td>0.0</td>\n",
       "      <td>0.0</td>\n",
       "      <td>38173.579783</td>\n",
       "    </tr>\n",
       "    <tr>\n",
       "      <th>min</th>\n",
       "      <td>10.000000</td>\n",
       "      <td>1.000000</td>\n",
       "      <td>0.000000</td>\n",
       "      <td>0.000000</td>\n",
       "      <td>6000.000000</td>\n",
       "      <td>0.000000</td>\n",
       "      <td>0.000000</td>\n",
       "      <td>0.000000</td>\n",
       "      <td>1.0</td>\n",
       "      <td>1.0</td>\n",
       "      <td>1000.000000</td>\n",
       "    </tr>\n",
       "    <tr>\n",
       "      <th>25%</th>\n",
       "      <td>23.000000</td>\n",
       "      <td>1.000000</td>\n",
       "      <td>15.000000</td>\n",
       "      <td>5.000000</td>\n",
       "      <td>20000.000000</td>\n",
       "      <td>0.000000</td>\n",
       "      <td>0.000000</td>\n",
       "      <td>3.000000</td>\n",
       "      <td>1.0</td>\n",
       "      <td>1.0</td>\n",
       "      <td>10000.000000</td>\n",
       "    </tr>\n",
       "    <tr>\n",
       "      <th>50%</th>\n",
       "      <td>27.000000</td>\n",
       "      <td>2.000000</td>\n",
       "      <td>40.000000</td>\n",
       "      <td>10.000000</td>\n",
       "      <td>37000.000000</td>\n",
       "      <td>0.000000</td>\n",
       "      <td>30.000000</td>\n",
       "      <td>9.000000</td>\n",
       "      <td>1.0</td>\n",
       "      <td>1.0</td>\n",
       "      <td>22000.000000</td>\n",
       "    </tr>\n",
       "    <tr>\n",
       "      <th>75%</th>\n",
       "      <td>33.000000</td>\n",
       "      <td>2.000000</td>\n",
       "      <td>70.000000</td>\n",
       "      <td>20.000000</td>\n",
       "      <td>60000.000000</td>\n",
       "      <td>1.000000</td>\n",
       "      <td>300.000000</td>\n",
       "      <td>24.000000</td>\n",
       "      <td>1.0</td>\n",
       "      <td>1.0</td>\n",
       "      <td>40000.000000</td>\n",
       "    </tr>\n",
       "    <tr>\n",
       "      <th>max</th>\n",
       "      <td>86.000000</td>\n",
       "      <td>18.000000</td>\n",
       "      <td>300.000000</td>\n",
       "      <td>100.000000</td>\n",
       "      <td>200000.000000</td>\n",
       "      <td>1.000000</td>\n",
       "      <td>180000.000000</td>\n",
       "      <td>720.000000</td>\n",
       "      <td>1.0</td>\n",
       "      <td>1.0</td>\n",
       "      <td>500000.000000</td>\n",
       "    </tr>\n",
       "  </tbody>\n",
       "</table>\n",
       "</div>"
      ],
      "text/plain": [
       "                Age  NumberOfChildren  CommuteTime  HoursSpentLearningToCode  \\\n",
       "count  13613.000000       2549.000000  8255.000000              14942.000000   \n",
       "mean      29.175421          1.899961    50.463234                 15.323317   \n",
       "std        9.017716          1.113900    47.940599                 14.274867   \n",
       "min       10.000000          1.000000     0.000000                  0.000000   \n",
       "25%       23.000000          1.000000    15.000000                  5.000000   \n",
       "50%       27.000000          2.000000    40.000000                 10.000000   \n",
       "75%       33.000000          2.000000    70.000000                 20.000000   \n",
       "max       86.000000         18.000000   300.000000                100.000000   \n",
       "\n",
       "              Income  IsSoftwareDev  MoneySpentLearningToCode  \\\n",
       "count    7329.000000   15537.000000              14679.000000   \n",
       "mean    44930.010506       0.276952               1108.010559   \n",
       "std     35582.783216       0.447507               4860.825612   \n",
       "min      6000.000000       0.000000                  0.000000   \n",
       "25%     20000.000000       0.000000                  0.000000   \n",
       "50%     37000.000000       0.000000                 30.000000   \n",
       "75%     60000.000000       1.000000                300.000000   \n",
       "max    200000.000000       1.000000             180000.000000   \n",
       "\n",
       "       MonthsSpentProgramming  ResourceBooks  ResourceCoursera  \\\n",
       "count            15014.000000          144.0            4844.0   \n",
       "mean                24.430198            1.0               1.0   \n",
       "std                 49.426744            0.0               0.0   \n",
       "min                  0.000000            1.0               1.0   \n",
       "25%                  3.000000            1.0               1.0   \n",
       "50%                  9.000000            1.0               1.0   \n",
       "75%                 24.000000            1.0               1.0   \n",
       "max                720.000000            1.0               1.0   \n",
       "\n",
       "       StudentDebtOwed  \n",
       "count      3438.000000  \n",
       "mean      33489.955207  \n",
       "std       38173.579783  \n",
       "min        1000.000000  \n",
       "25%       10000.000000  \n",
       "50%       22000.000000  \n",
       "75%       40000.000000  \n",
       "max      500000.000000  "
      ]
     },
     "execution_count": 18,
     "metadata": {},
     "output_type": "execute_result"
    }
   ],
   "source": [
    "df.describe()"
   ]
  },
  {
   "cell_type": "markdown",
   "id": "87cbff88-beff-434c-8892-719cf8e17a81",
   "metadata": {},
   "source": [
    "**Goals:** \n",
    "- [ ] Describe the distribution of gender\n",
    "- [ ] Identify the top 5 languages spoken at home"
   ]
  },
  {
   "cell_type": "code",
   "execution_count": 19,
   "id": "3010561e-dc58-4795-b37b-9d70f8ebdb75",
   "metadata": {},
   "outputs": [
    {
     "data": {
      "text/plain": [
       "Age                         float64\n",
       "Gender                       object\n",
       "NumberOfChildren            float64\n",
       "CommuteTime                 float64\n",
       "CountryOfResidence           object\n",
       "HoursSpentLearningToCode    float64\n",
       "Income                      float64\n",
       "IsSoftwareDev               float64\n",
       "LanguageAtHome               object\n",
       "MaritalStatus                object\n",
       "MoneySpentLearningToCode    float64\n",
       "MonthsSpentProgramming      float64\n",
       "ResourceBooks               float64\n",
       "ResourceCoursera            float64\n",
       "StudentDebtOwed             float64\n",
       "dtype: object"
      ]
     },
     "execution_count": 19,
     "metadata": {},
     "output_type": "execute_result"
    }
   ],
   "source": [
    "df.dtypes"
   ]
  },
  {
   "cell_type": "code",
   "execution_count": 20,
   "id": "69722476-0ff7-4897-aeb3-882bc22f17fb",
   "metadata": {},
   "outputs": [],
   "source": [
    "counts_of_gender = df[\"Gender\"].value_counts()"
   ]
  },
  {
   "cell_type": "code",
   "execution_count": 21,
   "id": "e527e6d4-018e-41e0-ad62-c9d533fa84af",
   "metadata": {},
   "outputs": [
    {
     "data": {
      "text/plain": [
       "Gender\n",
       "male           10766\n",
       "female          2840\n",
       "genderqueer       66\n",
       "agender           38\n",
       "trans             36\n",
       "Name: count, dtype: int64"
      ]
     },
     "execution_count": 21,
     "metadata": {},
     "output_type": "execute_result"
    }
   ],
   "source": [
    "counts_of_gender"
   ]
  },
  {
   "cell_type": "code",
   "execution_count": 22,
   "id": "dd4a6486-2f83-4ced-9c36-b68384fba4b3",
   "metadata": {},
   "outputs": [
    {
     "data": {
      "text/plain": [
       "pandas.core.series.Series"
      ]
     },
     "execution_count": 22,
     "metadata": {},
     "output_type": "execute_result"
    }
   ],
   "source": [
    "type(counts_of_gender)"
   ]
  },
  {
   "cell_type": "code",
   "execution_count": 23,
   "id": "bca2823b-18f7-4abb-ad13-5a3661165b5e",
   "metadata": {},
   "outputs": [
    {
     "data": {
      "text/plain": [
       "np.int64(10766)"
      ]
     },
     "execution_count": 23,
     "metadata": {},
     "output_type": "execute_result"
    }
   ],
   "source": [
    "counts_of_gender[\"male\"]"
   ]
  },
  {
   "cell_type": "code",
   "execution_count": 24,
   "id": "4d557f4f-a6d0-41a9-ba6e-e1e38a42313d",
   "metadata": {},
   "outputs": [
    {
     "data": {
      "text/plain": [
       "<Axes: xlabel='Gender'>"
      ]
     },
     "execution_count": 24,
     "metadata": {},
     "output_type": "execute_result"
    },
    {
     "data": {
      "image/png": "[encoded data removed]",
      "text/plain": [
       "<Figure size 640x480 with 1 Axes>"
      ]
     },
     "metadata": {},
     "output_type": "display_data"
    }
   ],
   "source": [
    "counts_of_gender.plot(kind=\"bar\")"
   ]
  },
  {
   "cell_type": "code",
   "execution_count": 25,
   "id": "3feaae04-9f2e-46a3-a9be-142eda40d675",
   "metadata": {},
   "outputs": [
    {
     "data": {
      "text/plain": [
       "<Axes: title={'center': 'Counts of Gender'}, xlabel='Gender', ylabel='Count'>"
      ]
     },
     "execution_count": 25,
     "metadata": {},
     "output_type": "execute_result"
    },
    {
     "data": {
      "image/png": "[encoded data removed]",
      "text/plain": [
       "<Figure size 800x600 with 1 Axes>"
      ]
     },
     "metadata": {},
     "output_type": "display_data"
    }
   ],
   "source": [
    "counts_of_gender.plot(\n",
    "    kind=\"bar\",\n",
    "    color=\"skyblue\",\n",
    "    title=\"Counts of Gender\",\n",
    "    xlabel=\"Gender\",\n",
    "    ylabel=\"Count\",\n",
    "    figsize=(8, 6)\n",
    ")"
   ]
  },
  {
   "cell_type": "code",
   "execution_count": 26,
   "id": "dca069d5-fbff-448f-9a20-164cb5bf76af",
   "metadata": {},
   "outputs": [
    {
     "ename": "ValueError",
     "evalue": "column is not a valid plot kind Valid plot kinds: ('line', 'bar', 'barh', 'kde', 'density', 'area', 'hist', 'box', 'pie', 'scatter', 'hexbin')",
     "output_type": "error",
     "traceback": [
      "\u001b[0;31m---------------------------------------------------------------------------\u001b[0m",
      "\u001b[0;31mValueError\u001b[0m                                Traceback (most recent call last)",
      "Cell \u001b[0;32mIn[26], line 1\u001b[0m\n\u001b[0;32m----> 1\u001b[0m \u001b[43mcounts_of_gender\u001b[49m\u001b[38;5;241;43m.\u001b[39;49m\u001b[43mplot\u001b[49m\u001b[43m(\u001b[49m\u001b[43mkind\u001b[49m\u001b[38;5;241;43m=\u001b[39;49m\u001b[38;5;124;43m\"\u001b[39;49m\u001b[38;5;124;43mcolumn\u001b[39;49m\u001b[38;5;124;43m\"\u001b[39;49m\u001b[43m)\u001b[49m\n",
      "File \u001b[0;32m/opt/conda/lib/python3.11/site-packages/pandas/plotting/_core.py:960\u001b[0m, in \u001b[0;36mPlotAccessor.__call__\u001b[0;34m(self, *args, **kwargs)\u001b[0m\n\u001b[1;32m    957\u001b[0m     \u001b[38;5;28;01mreturn\u001b[39;00m plot_backend\u001b[38;5;241m.\u001b[39mplot(\u001b[38;5;28mself\u001b[39m\u001b[38;5;241m.\u001b[39m_parent, x\u001b[38;5;241m=\u001b[39mx, y\u001b[38;5;241m=\u001b[39my, kind\u001b[38;5;241m=\u001b[39mkind, \u001b[38;5;241m*\u001b[39m\u001b[38;5;241m*\u001b[39mkwargs)\n\u001b[1;32m    959\u001b[0m \u001b[38;5;28;01mif\u001b[39;00m kind \u001b[38;5;129;01mnot\u001b[39;00m \u001b[38;5;129;01min\u001b[39;00m \u001b[38;5;28mself\u001b[39m\u001b[38;5;241m.\u001b[39m_all_kinds:\n\u001b[0;32m--> 960\u001b[0m     \u001b[38;5;28;01mraise\u001b[39;00m \u001b[38;5;167;01mValueError\u001b[39;00m(\n\u001b[1;32m    961\u001b[0m         \u001b[38;5;124mf\u001b[39m\u001b[38;5;124m\"\u001b[39m\u001b[38;5;132;01m{\u001b[39;00mkind\u001b[38;5;132;01m}\u001b[39;00m\u001b[38;5;124m is not a valid plot kind \u001b[39m\u001b[38;5;124m\"\u001b[39m\n\u001b[1;32m    962\u001b[0m         \u001b[38;5;124mf\u001b[39m\u001b[38;5;124m\"\u001b[39m\u001b[38;5;124mValid plot kinds: \u001b[39m\u001b[38;5;132;01m{\u001b[39;00m\u001b[38;5;28mself\u001b[39m\u001b[38;5;241m.\u001b[39m_all_kinds\u001b[38;5;132;01m}\u001b[39;00m\u001b[38;5;124m\"\u001b[39m\n\u001b[1;32m    963\u001b[0m     )\n\u001b[1;32m    965\u001b[0m \u001b[38;5;66;03m# The original data structured can be transformed before passed to the\u001b[39;00m\n\u001b[1;32m    966\u001b[0m \u001b[38;5;66;03m# backend. For example, for DataFrame is common to set the index as the\u001b[39;00m\n\u001b[1;32m    967\u001b[0m \u001b[38;5;66;03m# `x` parameter, and return a Series with the parameter `y` as values.\u001b[39;00m\n\u001b[1;32m    968\u001b[0m data \u001b[38;5;241m=\u001b[39m \u001b[38;5;28mself\u001b[39m\u001b[38;5;241m.\u001b[39m_parent\u001b[38;5;241m.\u001b[39mcopy()\n",
      "\u001b[0;31mValueError\u001b[0m: column is not a valid plot kind Valid plot kinds: ('line', 'bar', 'barh', 'kde', 'density', 'area', 'hist', 'box', 'pie', 'scatter', 'hexbin')"
     ]
    }
   ],
   "source": [
    "counts_of_gender.plot(kind=\"column\")"
   ]
  },
  {
   "cell_type": "code",
   "execution_count": 27,
   "id": "9f30b9fa-ceea-415a-8bae-77d34acb288a",
   "metadata": {},
   "outputs": [],
   "source": [
    "# top 5 languages spoken at home\n",
    "counts_of_languages = df[\"LanguageAtHome\"].value_counts()"
   ]
  },
  {
   "cell_type": "code",
   "execution_count": 28,
   "id": "11d0823c-8de9-4013-81bd-fb05736e3dd3",
   "metadata": {},
   "outputs": [
    {
     "data": {
      "text/plain": [
       "pandas.core.series.Series"
      ]
     },
     "execution_count": 28,
     "metadata": {},
     "output_type": "execute_result"
    }
   ],
   "source": [
    "type(counts_of_languages)"
   ]
  },
  {
   "cell_type": "code",
   "execution_count": 29,
   "id": "3ad43f25-efb1-440c-91bf-9e2405c98754",
   "metadata": {},
   "outputs": [
    {
     "data": {
      "text/plain": [
       "LanguageAtHome\n",
       "English       7419\n",
       "Spanish        771\n",
       "Russian        547\n",
       "Hindi          453\n",
       "Portuguese     394\n",
       "Name: count, dtype: int64"
      ]
     },
     "execution_count": 29,
     "metadata": {},
     "output_type": "execute_result"
    }
   ],
   "source": [
    "counts_of_languages.head()"
   ]
  },
  {
   "cell_type": "code",
   "execution_count": 30,
   "id": "5daf72b3-40af-4f79-9243-06f77a2f618c",
   "metadata": {},
   "outputs": [
    {
     "data": {
      "text/plain": [
       "148"
      ]
     },
     "execution_count": 30,
     "metadata": {},
     "output_type": "execute_result"
    }
   ],
   "source": [
    "len(counts_of_languages)"
   ]
  },
  {
   "cell_type": "code",
   "execution_count": 31,
   "id": "77a3583f-e5b1-426f-9835-a764a55bb5a0",
   "metadata": {},
   "outputs": [
    {
     "data": {
      "text/plain": [
       "<Axes: xlabel='LanguageAtHome'>"
      ]
     },
     "execution_count": 31,
     "metadata": {},
     "output_type": "execute_result"
    },
    {
     "data": {
      "image/png": "[encoded data removed]",
      "text/plain": [
       "<Figure size 640x480 with 1 Axes>"
      ]
     },
     "metadata": {},
     "output_type": "display_data"
    }
   ],
   "source": [
    "counts_of_languages.plot(kind=\"bar\")"
   ]
  },
  {
   "cell_type": "code",
   "execution_count": 33,
   "id": "610ce377-5bf7-4e29-b83a-dce6ac8e6108",
   "metadata": {},
   "outputs": [],
   "source": [
    "top_5_languages = counts_of_languages.head()"
   ]
  },
  {
   "cell_type": "code",
   "execution_count": 34,
   "id": "ccb2ed28-6e17-4421-813b-dcf09a7126ed",
   "metadata": {},
   "outputs": [
    {
     "data": {
      "text/plain": [
       "pandas.core.series.Series"
      ]
     },
     "execution_count": 34,
     "metadata": {},
     "output_type": "execute_result"
    }
   ],
   "source": [
    "type(top_5_languages)"
   ]
  },
  {
   "cell_type": "code",
   "execution_count": 35,
   "id": "47bfcf31-3fff-48b0-95dc-98ad8e4d6406",
   "metadata": {},
   "outputs": [
    {
     "data": {
      "text/plain": [
       "<Axes: xlabel='LanguageAtHome'>"
      ]
     },
     "execution_count": 35,
     "metadata": {},
     "output_type": "execute_result"
    },
    {
     "data": {
      "image/png": "[encoded data removed]",
      "text/plain": [
       "<Figure size 640x480 with 1 Axes>"
      ]
     },
     "metadata": {},
     "output_type": "display_data"
    }
   ],
   "source": [
    "top_5_languages.plot(kind=\"bar\")"
   ]
  },
  {
   "cell_type": "markdown",
   "id": "cb16f84a-028a-433f-bb42-f5ab1d792b68",
   "metadata": {},
   "source": [
    "**Goal:** Calculate correlation between income and money spent learning to code"
   ]
  },
  {
   "cell_type": "code",
   "execution_count": 36,
   "id": "95b1d0ed-ab62-473c-8ee0-bd3fd38bd3ee",
   "metadata": {},
   "outputs": [
    {
     "data": {
      "text/plain": [
       "Age                         float64\n",
       "Gender                       object\n",
       "NumberOfChildren            float64\n",
       "CommuteTime                 float64\n",
       "CountryOfResidence           object\n",
       "HoursSpentLearningToCode    float64\n",
       "Income                      float64\n",
       "IsSoftwareDev               float64\n",
       "LanguageAtHome               object\n",
       "MaritalStatus                object\n",
       "MoneySpentLearningToCode    float64\n",
       "MonthsSpentProgramming      float64\n",
       "ResourceBooks               float64\n",
       "ResourceCoursera            float64\n",
       "StudentDebtOwed             float64\n",
       "dtype: object"
      ]
     },
     "execution_count": 36,
     "metadata": {},
     "output_type": "execute_result"
    }
   ],
   "source": [
    "df.dtypes"
   ]
  },
  {
   "cell_type": "code",
   "execution_count": 38,
   "id": "f2ab703e-52ea-4019-8678-0b9ea4510809",
   "metadata": {},
   "outputs": [
    {
     "data": {
      "text/plain": [
       "<Axes: xlabel='Income', ylabel='MoneySpentLearningToCode'>"
      ]
     },
     "execution_count": 38,
     "metadata": {},
     "output_type": "execute_result"
    },
    {
     "data": {
      "image/png": "[encoded data removed]",
      "text/plain": [
       "<Figure size 640x480 with 1 Axes>"
      ]
     },
     "metadata": {},
     "output_type": "display_data"
    }
   ],
   "source": [
    "df.plot(kind=\"scatter\", x=\"Income\", y=\"MoneySpentLearningToCode\")"
   ]
  },
  {
   "cell_type": "code",
   "execution_count": 39,
   "id": "3e68404d-1038-4e72-9b48-3a55ec30d4e1",
   "metadata": {},
   "outputs": [
    {
     "data": {
      "text/plain": [
       "<Axes: xlabel='Age', ylabel='MonthsSpentProgramming'>"
      ]
     },
     "execution_count": 39,
     "metadata": {},
     "output_type": "execute_result"
    },
    {
     "data": {
      "image/png": "[encoded data removed]",
      "text/plain": [
       "<Figure size 640x480 with 1 Axes>"
      ]
     },
     "metadata": {},
     "output_type": "display_data"
    }
   ],
   "source": [
    "df.plot(kind=\"scatter\", x=\"Age\", y=\"MonthsSpentProgramming\")"
   ]
  },
  {
   "cell_type": "code",
   "execution_count": 41,
   "id": "9a5e7cb2-e7a5-400d-b04f-c449ef05b215",
   "metadata": {},
   "outputs": [
    {
     "ename": "ValueError",
     "evalue": "could not convert string to float: 'male'",
     "output_type": "error",
     "traceback": [
      "\u001b[0;31m---------------------------------------------------------------------------\u001b[0m",
      "\u001b[0;31mValueError\u001b[0m                                Traceback (most recent call last)",
      "Cell \u001b[0;32mIn[41], line 1\u001b[0m\n\u001b[0;32m----> 1\u001b[0m \u001b[43mdf\u001b[49m\u001b[38;5;241;43m.\u001b[39;49m\u001b[43mcorr\u001b[49m\u001b[43m(\u001b[49m\u001b[43m)\u001b[49m \u001b[38;5;66;03m# does not automatically remove categorical columns\u001b[39;00m\n",
      "File \u001b[0;32m/opt/conda/lib/python3.11/site-packages/pandas/core/frame.py:11049\u001b[0m, in \u001b[0;36mDataFrame.corr\u001b[0;34m(self, method, min_periods, numeric_only)\u001b[0m\n\u001b[1;32m  11047\u001b[0m cols \u001b[38;5;241m=\u001b[39m data\u001b[38;5;241m.\u001b[39mcolumns\n\u001b[1;32m  11048\u001b[0m idx \u001b[38;5;241m=\u001b[39m cols\u001b[38;5;241m.\u001b[39mcopy()\n\u001b[0;32m> 11049\u001b[0m mat \u001b[38;5;241m=\u001b[39m \u001b[43mdata\u001b[49m\u001b[38;5;241;43m.\u001b[39;49m\u001b[43mto_numpy\u001b[49m\u001b[43m(\u001b[49m\u001b[43mdtype\u001b[49m\u001b[38;5;241;43m=\u001b[39;49m\u001b[38;5;28;43mfloat\u001b[39;49m\u001b[43m,\u001b[49m\u001b[43m \u001b[49m\u001b[43mna_value\u001b[49m\u001b[38;5;241;43m=\u001b[39;49m\u001b[43mnp\u001b[49m\u001b[38;5;241;43m.\u001b[39;49m\u001b[43mnan\u001b[49m\u001b[43m,\u001b[49m\u001b[43m \u001b[49m\u001b[43mcopy\u001b[49m\u001b[38;5;241;43m=\u001b[39;49m\u001b[38;5;28;43;01mFalse\u001b[39;49;00m\u001b[43m)\u001b[49m\n\u001b[1;32m  11051\u001b[0m \u001b[38;5;28;01mif\u001b[39;00m method \u001b[38;5;241m==\u001b[39m \u001b[38;5;124m\"\u001b[39m\u001b[38;5;124mpearson\u001b[39m\u001b[38;5;124m\"\u001b[39m:\n\u001b[1;32m  11052\u001b[0m     correl \u001b[38;5;241m=\u001b[39m libalgos\u001b[38;5;241m.\u001b[39mnancorr(mat, minp\u001b[38;5;241m=\u001b[39mmin_periods)\n",
      "File \u001b[0;32m/opt/conda/lib/python3.11/site-packages/pandas/core/frame.py:1993\u001b[0m, in \u001b[0;36mDataFrame.to_numpy\u001b[0;34m(self, dtype, copy, na_value)\u001b[0m\n\u001b[1;32m   1991\u001b[0m \u001b[38;5;28;01mif\u001b[39;00m dtype \u001b[38;5;129;01mis\u001b[39;00m \u001b[38;5;129;01mnot\u001b[39;00m \u001b[38;5;28;01mNone\u001b[39;00m:\n\u001b[1;32m   1992\u001b[0m     dtype \u001b[38;5;241m=\u001b[39m np\u001b[38;5;241m.\u001b[39mdtype(dtype)\n\u001b[0;32m-> 1993\u001b[0m result \u001b[38;5;241m=\u001b[39m \u001b[38;5;28;43mself\u001b[39;49m\u001b[38;5;241;43m.\u001b[39;49m\u001b[43m_mgr\u001b[49m\u001b[38;5;241;43m.\u001b[39;49m\u001b[43mas_array\u001b[49m\u001b[43m(\u001b[49m\u001b[43mdtype\u001b[49m\u001b[38;5;241;43m=\u001b[39;49m\u001b[43mdtype\u001b[49m\u001b[43m,\u001b[49m\u001b[43m \u001b[49m\u001b[43mcopy\u001b[49m\u001b[38;5;241;43m=\u001b[39;49m\u001b[43mcopy\u001b[49m\u001b[43m,\u001b[49m\u001b[43m \u001b[49m\u001b[43mna_value\u001b[49m\u001b[38;5;241;43m=\u001b[39;49m\u001b[43mna_value\u001b[49m\u001b[43m)\u001b[49m\n\u001b[1;32m   1994\u001b[0m \u001b[38;5;28;01mif\u001b[39;00m result\u001b[38;5;241m.\u001b[39mdtype \u001b[38;5;129;01mis\u001b[39;00m \u001b[38;5;129;01mnot\u001b[39;00m dtype:\n\u001b[1;32m   1995\u001b[0m     result \u001b[38;5;241m=\u001b[39m np\u001b[38;5;241m.\u001b[39masarray(result, dtype\u001b[38;5;241m=\u001b[39mdtype)\n",
      "File \u001b[0;32m/opt/conda/lib/python3.11/site-packages/pandas/core/internals/managers.py:1694\u001b[0m, in \u001b[0;36mBlockManager.as_array\u001b[0;34m(self, dtype, copy, na_value)\u001b[0m\n\u001b[1;32m   1692\u001b[0m         arr\u001b[38;5;241m.\u001b[39mflags\u001b[38;5;241m.\u001b[39mwriteable \u001b[38;5;241m=\u001b[39m \u001b[38;5;28;01mFalse\u001b[39;00m\n\u001b[1;32m   1693\u001b[0m \u001b[38;5;28;01melse\u001b[39;00m:\n\u001b[0;32m-> 1694\u001b[0m     arr \u001b[38;5;241m=\u001b[39m \u001b[38;5;28;43mself\u001b[39;49m\u001b[38;5;241;43m.\u001b[39;49m\u001b[43m_interleave\u001b[49m\u001b[43m(\u001b[49m\u001b[43mdtype\u001b[49m\u001b[38;5;241;43m=\u001b[39;49m\u001b[43mdtype\u001b[49m\u001b[43m,\u001b[49m\u001b[43m \u001b[49m\u001b[43mna_value\u001b[49m\u001b[38;5;241;43m=\u001b[39;49m\u001b[43mna_value\u001b[49m\u001b[43m)\u001b[49m\n\u001b[1;32m   1695\u001b[0m     \u001b[38;5;66;03m# The underlying data was copied within _interleave, so no need\u001b[39;00m\n\u001b[1;32m   1696\u001b[0m     \u001b[38;5;66;03m# to further copy if copy=True or setting na_value\u001b[39;00m\n\u001b[1;32m   1698\u001b[0m \u001b[38;5;28;01mif\u001b[39;00m na_value \u001b[38;5;129;01mis\u001b[39;00m lib\u001b[38;5;241m.\u001b[39mno_default:\n",
      "File \u001b[0;32m/opt/conda/lib/python3.11/site-packages/pandas/core/internals/managers.py:1753\u001b[0m, in \u001b[0;36mBlockManager._interleave\u001b[0;34m(self, dtype, na_value)\u001b[0m\n\u001b[1;32m   1751\u001b[0m     \u001b[38;5;28;01melse\u001b[39;00m:\n\u001b[1;32m   1752\u001b[0m         arr \u001b[38;5;241m=\u001b[39m blk\u001b[38;5;241m.\u001b[39mget_values(dtype)\n\u001b[0;32m-> 1753\u001b[0m     \u001b[43mresult\u001b[49m\u001b[43m[\u001b[49m\u001b[43mrl\u001b[49m\u001b[38;5;241;43m.\u001b[39;49m\u001b[43mindexer\u001b[49m\u001b[43m]\u001b[49m \u001b[38;5;241m=\u001b[39m arr\n\u001b[1;32m   1754\u001b[0m     itemmask[rl\u001b[38;5;241m.\u001b[39mindexer] \u001b[38;5;241m=\u001b[39m \u001b[38;5;241m1\u001b[39m\n\u001b[1;32m   1756\u001b[0m \u001b[38;5;28;01mif\u001b[39;00m \u001b[38;5;129;01mnot\u001b[39;00m itemmask\u001b[38;5;241m.\u001b[39mall():\n",
      "\u001b[0;31mValueError\u001b[0m: could not convert string to float: 'male'"
     ]
    }
   ],
   "source": [
    "df.corr() # does not automatically remove categorical columns"
   ]
  },
  {
   "cell_type": "code",
   "execution_count": 42,
   "id": "fb795927-c04d-400f-93e4-c879d1f58ff0",
   "metadata": {},
   "outputs": [],
   "source": [
    "columns = [\"Age\", \"NumberOfChildren\", \"MoneySpentLearningToCode\", \"MonthsSpentProgramming\", \"Income\"]"
   ]
  },
  {
   "cell_type": "code",
   "execution_count": 43,
   "id": "8950a4ef-4d0f-463b-b1de-b01e0edb1cca",
   "metadata": {},
   "outputs": [
    {
     "data": {
      "text/plain": [
       "list"
      ]
     },
     "execution_count": 43,
     "metadata": {},
     "output_type": "execute_result"
    }
   ],
   "source": [
    "type(columns)"
   ]
  },
  {
   "cell_type": "code",
   "execution_count": 45,
   "id": "c798e282-74da-4152-84e4-98526c31c570",
   "metadata": {},
   "outputs": [],
   "source": [
    "selected_columns = df[columns]"
   ]
  },
  {
   "cell_type": "code",
   "execution_count": 46,
   "id": "b2a422d1-3295-4b6e-bbd7-8108271e1882",
   "metadata": {},
   "outputs": [
    {
     "data": {
      "text/plain": [
       "pandas.core.frame.DataFrame"
      ]
     },
     "execution_count": 46,
     "metadata": {},
     "output_type": "execute_result"
    }
   ],
   "source": [
    "type(selected_columns)"
   ]
  },
  {
   "cell_type": "code",
   "execution_count": 47,
   "id": "023c6421-1f05-4225-b66b-3a2d99f835f9",
   "metadata": {},
   "outputs": [
    {
     "data": {
      "text/html": [
       "<div>\n",
       "<style scoped>\n",
       "    .dataframe tbody tr th:only-of-type {\n",
       "        vertical-align: middle;\n",
       "    }\n",
       "\n",
       "    .dataframe tbody tr th {\n",
       "        vertical-align: top;\n",
       "    }\n",
       "\n",
       "    .dataframe thead th {\n",
       "        text-align: right;\n",
       "    }\n",
       "</style>\n",
       "<table border=\"1\" class=\"dataframe\">\n",
       "  <thead>\n",
       "    <tr style=\"text-align: right;\">\n",
       "      <th></th>\n",
       "      <th>Age</th>\n",
       "      <th>NumberOfChildren</th>\n",
       "      <th>MoneySpentLearningToCode</th>\n",
       "      <th>MonthsSpentProgramming</th>\n",
       "      <th>Income</th>\n",
       "    </tr>\n",
       "    <tr>\n",
       "      <th>ID</th>\n",
       "      <th></th>\n",
       "      <th></th>\n",
       "      <th></th>\n",
       "      <th></th>\n",
       "      <th></th>\n",
       "    </tr>\n",
       "  </thead>\n",
       "  <tbody>\n",
       "    <tr>\n",
       "      <th>92257</th>\n",
       "      <td>28.0</td>\n",
       "      <td>NaN</td>\n",
       "      <td>0.0</td>\n",
       "      <td>1.0</td>\n",
       "      <td>32000.0</td>\n",
       "    </tr>\n",
       "    <tr>\n",
       "      <th>43079</th>\n",
       "      <td>22.0</td>\n",
       "      <td>NaN</td>\n",
       "      <td>20.0</td>\n",
       "      <td>2.0</td>\n",
       "      <td>15000.0</td>\n",
       "    </tr>\n",
       "    <tr>\n",
       "      <th>67780</th>\n",
       "      <td>19.0</td>\n",
       "      <td>NaN</td>\n",
       "      <td>50.0</td>\n",
       "      <td>24.0</td>\n",
       "      <td>48000.0</td>\n",
       "    </tr>\n",
       "    <tr>\n",
       "      <th>95684</th>\n",
       "      <td>26.0</td>\n",
       "      <td>NaN</td>\n",
       "      <td>100.0</td>\n",
       "      <td>3.0</td>\n",
       "      <td>43000.0</td>\n",
       "    </tr>\n",
       "    <tr>\n",
       "      <th>39053</th>\n",
       "      <td>20.0</td>\n",
       "      <td>NaN</td>\n",
       "      <td>1300.0</td>\n",
       "      <td>48.0</td>\n",
       "      <td>6000.0</td>\n",
       "    </tr>\n",
       "  </tbody>\n",
       "</table>\n",
       "</div>"
      ],
      "text/plain": [
       "        Age  NumberOfChildren  MoneySpentLearningToCode  \\\n",
       "ID                                                        \n",
       "92257  28.0               NaN                       0.0   \n",
       "43079  22.0               NaN                      20.0   \n",
       "67780  19.0               NaN                      50.0   \n",
       "95684  26.0               NaN                     100.0   \n",
       "39053  20.0               NaN                    1300.0   \n",
       "\n",
       "       MonthsSpentProgramming   Income  \n",
       "ID                                      \n",
       "92257                     1.0  32000.0  \n",
       "43079                     2.0  15000.0  \n",
       "67780                    24.0  48000.0  \n",
       "95684                     3.0  43000.0  \n",
       "39053                    48.0   6000.0  "
      ]
     },
     "execution_count": 47,
     "metadata": {},
     "output_type": "execute_result"
    }
   ],
   "source": [
    "selected_columns.head()"
   ]
  },
  {
   "cell_type": "code",
   "execution_count": 49,
   "id": "6b08fcaf-b272-45cd-8a7a-aa9237015b6b",
   "metadata": {},
   "outputs": [
    {
     "data": {
      "text/html": [
       "<div>\n",
       "<style scoped>\n",
       "    .dataframe tbody tr th:only-of-type {\n",
       "        vertical-align: middle;\n",
       "    }\n",
       "\n",
       "    .dataframe tbody tr th {\n",
       "        vertical-align: top;\n",
       "    }\n",
       "\n",
       "    .dataframe thead th {\n",
       "        text-align: right;\n",
       "    }\n",
       "</style>\n",
       "<table border=\"1\" class=\"dataframe\">\n",
       "  <thead>\n",
       "    <tr style=\"text-align: right;\">\n",
       "      <th></th>\n",
       "      <th>Age</th>\n",
       "      <th>NumberOfChildren</th>\n",
       "      <th>MoneySpentLearningToCode</th>\n",
       "      <th>MonthsSpentProgramming</th>\n",
       "      <th>Income</th>\n",
       "    </tr>\n",
       "  </thead>\n",
       "  <tbody>\n",
       "    <tr>\n",
       "      <th>Age</th>\n",
       "      <td>1.000000</td>\n",
       "      <td>0.240286</td>\n",
       "      <td>0.098985</td>\n",
       "      <td>0.223237</td>\n",
       "      <td>0.259090</td>\n",
       "    </tr>\n",
       "    <tr>\n",
       "      <th>NumberOfChildren</th>\n",
       "      <td>0.240286</td>\n",
       "      <td>1.000000</td>\n",
       "      <td>-0.009486</td>\n",
       "      <td>0.048951</td>\n",
       "      <td>0.099751</td>\n",
       "    </tr>\n",
       "    <tr>\n",
       "      <th>MoneySpentLearningToCode</th>\n",
       "      <td>0.098985</td>\n",
       "      <td>-0.009486</td>\n",
       "      <td>1.000000</td>\n",
       "      <td>0.086157</td>\n",
       "      <td>0.078810</td>\n",
       "    </tr>\n",
       "    <tr>\n",
       "      <th>MonthsSpentProgramming</th>\n",
       "      <td>0.223237</td>\n",
       "      <td>0.048951</td>\n",
       "      <td>0.086157</td>\n",
       "      <td>1.000000</td>\n",
       "      <td>0.286328</td>\n",
       "    </tr>\n",
       "    <tr>\n",
       "      <th>Income</th>\n",
       "      <td>0.259090</td>\n",
       "      <td>0.099751</td>\n",
       "      <td>0.078810</td>\n",
       "      <td>0.286328</td>\n",
       "      <td>1.000000</td>\n",
       "    </tr>\n",
       "  </tbody>\n",
       "</table>\n",
       "</div>"
      ],
      "text/plain": [
       "                               Age  NumberOfChildren  \\\n",
       "Age                       1.000000          0.240286   \n",
       "NumberOfChildren          0.240286          1.000000   \n",
       "MoneySpentLearningToCode  0.098985         -0.009486   \n",
       "MonthsSpentProgramming    0.223237          0.048951   \n",
       "Income                    0.259090          0.099751   \n",
       "\n",
       "                          MoneySpentLearningToCode  MonthsSpentProgramming  \\\n",
       "Age                                       0.098985                0.223237   \n",
       "NumberOfChildren                         -0.009486                0.048951   \n",
       "MoneySpentLearningToCode                  1.000000                0.086157   \n",
       "MonthsSpentProgramming                    0.086157                1.000000   \n",
       "Income                                    0.078810                0.286328   \n",
       "\n",
       "                            Income  \n",
       "Age                       0.259090  \n",
       "NumberOfChildren          0.099751  \n",
       "MoneySpentLearningToCode  0.078810  \n",
       "MonthsSpentProgramming    0.286328  \n",
       "Income                    1.000000  "
      ]
     },
     "execution_count": 49,
     "metadata": {},
     "output_type": "execute_result"
    }
   ],
   "source": [
    "selected_columns.corr()"
   ]
  },
  {
   "cell_type": "markdown",
   "id": "a2c6946d-8e50-4fdf-b3d8-b5fceaa5bd46",
   "metadata": {},
   "source": [
    "**Goal:** Determine whether hours spent learning to code varies by number of children"
   ]
  },
  {
   "cell_type": "code",
   "execution_count": 50,
   "id": "8922a0e3-0d0d-4734-bc49-0dfb1433b68e",
   "metadata": {},
   "outputs": [
    {
     "data": {
      "text/html": [
       "<div>\n",
       "<style scoped>\n",
       "    .dataframe tbody tr th:only-of-type {\n",
       "        vertical-align: middle;\n",
       "    }\n",
       "\n",
       "    .dataframe tbody tr th {\n",
       "        vertical-align: top;\n",
       "    }\n",
       "\n",
       "    .dataframe thead th {\n",
       "        text-align: right;\n",
       "    }\n",
       "</style>\n",
       "<table border=\"1\" class=\"dataframe\">\n",
       "  <thead>\n",
       "    <tr style=\"text-align: right;\">\n",
       "      <th></th>\n",
       "      <th>Age</th>\n",
       "      <th>Gender</th>\n",
       "      <th>NumberOfChildren</th>\n",
       "      <th>CommuteTime</th>\n",
       "      <th>CountryOfResidence</th>\n",
       "      <th>HoursSpentLearningToCode</th>\n",
       "      <th>Income</th>\n",
       "      <th>IsSoftwareDev</th>\n",
       "      <th>LanguageAtHome</th>\n",
       "      <th>MaritalStatus</th>\n",
       "      <th>MoneySpentLearningToCode</th>\n",
       "      <th>MonthsSpentProgramming</th>\n",
       "      <th>ResourceBooks</th>\n",
       "      <th>ResourceCoursera</th>\n",
       "      <th>StudentDebtOwed</th>\n",
       "    </tr>\n",
       "    <tr>\n",
       "      <th>ID</th>\n",
       "      <th></th>\n",
       "      <th></th>\n",
       "      <th></th>\n",
       "      <th></th>\n",
       "      <th></th>\n",
       "      <th></th>\n",
       "      <th></th>\n",
       "      <th></th>\n",
       "      <th></th>\n",
       "      <th></th>\n",
       "      <th></th>\n",
       "      <th></th>\n",
       "      <th></th>\n",
       "      <th></th>\n",
       "      <th></th>\n",
       "    </tr>\n",
       "  </thead>\n",
       "  <tbody>\n",
       "    <tr>\n",
       "      <th>92257</th>\n",
       "      <td>28.0</td>\n",
       "      <td>male</td>\n",
       "      <td>NaN</td>\n",
       "      <td>35.0</td>\n",
       "      <td>United States of America</td>\n",
       "      <td>30.0</td>\n",
       "      <td>32000.0</td>\n",
       "      <td>0.0</td>\n",
       "      <td>English</td>\n",
       "      <td>married or domestic partnership</td>\n",
       "      <td>0.0</td>\n",
       "      <td>1.0</td>\n",
       "      <td>NaN</td>\n",
       "      <td>1.0</td>\n",
       "      <td>20000.0</td>\n",
       "    </tr>\n",
       "    <tr>\n",
       "      <th>43079</th>\n",
       "      <td>22.0</td>\n",
       "      <td>male</td>\n",
       "      <td>NaN</td>\n",
       "      <td>90.0</td>\n",
       "      <td>United States of America</td>\n",
       "      <td>30.0</td>\n",
       "      <td>15000.0</td>\n",
       "      <td>0.0</td>\n",
       "      <td>English</td>\n",
       "      <td>NaN</td>\n",
       "      <td>20.0</td>\n",
       "      <td>2.0</td>\n",
       "      <td>NaN</td>\n",
       "      <td>1.0</td>\n",
       "      <td>NaN</td>\n",
       "    </tr>\n",
       "    <tr>\n",
       "      <th>67780</th>\n",
       "      <td>19.0</td>\n",
       "      <td>male</td>\n",
       "      <td>NaN</td>\n",
       "      <td>45.0</td>\n",
       "      <td>United States of America</td>\n",
       "      <td>20.0</td>\n",
       "      <td>48000.0</td>\n",
       "      <td>0.0</td>\n",
       "      <td>English</td>\n",
       "      <td>NaN</td>\n",
       "      <td>50.0</td>\n",
       "      <td>24.0</td>\n",
       "      <td>NaN</td>\n",
       "      <td>NaN</td>\n",
       "      <td>NaN</td>\n",
       "    </tr>\n",
       "    <tr>\n",
       "      <th>95684</th>\n",
       "      <td>26.0</td>\n",
       "      <td>female</td>\n",
       "      <td>NaN</td>\n",
       "      <td>45.0</td>\n",
       "      <td>United States of America</td>\n",
       "      <td>20.0</td>\n",
       "      <td>43000.0</td>\n",
       "      <td>0.0</td>\n",
       "      <td>English</td>\n",
       "      <td>NaN</td>\n",
       "      <td>100.0</td>\n",
       "      <td>3.0</td>\n",
       "      <td>NaN</td>\n",
       "      <td>NaN</td>\n",
       "      <td>7000.0</td>\n",
       "    </tr>\n",
       "    <tr>\n",
       "      <th>39053</th>\n",
       "      <td>20.0</td>\n",
       "      <td>female</td>\n",
       "      <td>NaN</td>\n",
       "      <td>10.0</td>\n",
       "      <td>United States of America</td>\n",
       "      <td>25.0</td>\n",
       "      <td>6000.0</td>\n",
       "      <td>0.0</td>\n",
       "      <td>Khmer</td>\n",
       "      <td>NaN</td>\n",
       "      <td>1300.0</td>\n",
       "      <td>48.0</td>\n",
       "      <td>NaN</td>\n",
       "      <td>NaN</td>\n",
       "      <td>NaN</td>\n",
       "    </tr>\n",
       "    <tr>\n",
       "      <th>...</th>\n",
       "      <td>...</td>\n",
       "      <td>...</td>\n",
       "      <td>...</td>\n",
       "      <td>...</td>\n",
       "      <td>...</td>\n",
       "      <td>...</td>\n",
       "      <td>...</td>\n",
       "      <td>...</td>\n",
       "      <td>...</td>\n",
       "      <td>...</td>\n",
       "      <td>...</td>\n",
       "      <td>...</td>\n",
       "      <td>...</td>\n",
       "      <td>...</td>\n",
       "      <td>...</td>\n",
       "    </tr>\n",
       "    <tr>\n",
       "      <th>51896</th>\n",
       "      <td>28.0</td>\n",
       "      <td>male</td>\n",
       "      <td>1.0</td>\n",
       "      <td>7.0</td>\n",
       "      <td>United States of America</td>\n",
       "      <td>20.0</td>\n",
       "      <td>200000.0</td>\n",
       "      <td>0.0</td>\n",
       "      <td>English</td>\n",
       "      <td>married or domestic partnership</td>\n",
       "      <td>1400.0</td>\n",
       "      <td>7.0</td>\n",
       "      <td>NaN</td>\n",
       "      <td>NaN</td>\n",
       "      <td>12000.0</td>\n",
       "    </tr>\n",
       "    <tr>\n",
       "      <th>47456</th>\n",
       "      <td>43.0</td>\n",
       "      <td>male</td>\n",
       "      <td>3.0</td>\n",
       "      <td>3.0</td>\n",
       "      <td>Canada</td>\n",
       "      <td>3.0</td>\n",
       "      <td>200000.0</td>\n",
       "      <td>0.0</td>\n",
       "      <td>English</td>\n",
       "      <td>divorced</td>\n",
       "      <td>0.0</td>\n",
       "      <td>8.0</td>\n",
       "      <td>NaN</td>\n",
       "      <td>NaN</td>\n",
       "      <td>NaN</td>\n",
       "    </tr>\n",
       "    <tr>\n",
       "      <th>59724</th>\n",
       "      <td>43.0</td>\n",
       "      <td>male</td>\n",
       "      <td>2.0</td>\n",
       "      <td>15.0</td>\n",
       "      <td>United States of America</td>\n",
       "      <td>6.0</td>\n",
       "      <td>200000.0</td>\n",
       "      <td>0.0</td>\n",
       "      <td>English</td>\n",
       "      <td>married or domestic partnership</td>\n",
       "      <td>300.0</td>\n",
       "      <td>6.0</td>\n",
       "      <td>NaN</td>\n",
       "      <td>NaN</td>\n",
       "      <td>NaN</td>\n",
       "    </tr>\n",
       "    <tr>\n",
       "      <th>58050</th>\n",
       "      <td>37.0</td>\n",
       "      <td>male</td>\n",
       "      <td>1.0</td>\n",
       "      <td>120.0</td>\n",
       "      <td>Canada</td>\n",
       "      <td>40.0</td>\n",
       "      <td>200000.0</td>\n",
       "      <td>0.0</td>\n",
       "      <td>English</td>\n",
       "      <td>married or domestic partnership</td>\n",
       "      <td>200.0</td>\n",
       "      <td>360.0</td>\n",
       "      <td>NaN</td>\n",
       "      <td>1.0</td>\n",
       "      <td>NaN</td>\n",
       "    </tr>\n",
       "    <tr>\n",
       "      <th>17145</th>\n",
       "      <td>30.0</td>\n",
       "      <td>male</td>\n",
       "      <td>2.0</td>\n",
       "      <td>45.0</td>\n",
       "      <td>South Africa</td>\n",
       "      <td>4.0</td>\n",
       "      <td>200000.0</td>\n",
       "      <td>0.0</td>\n",
       "      <td>English</td>\n",
       "      <td>married or domestic partnership</td>\n",
       "      <td>300.0</td>\n",
       "      <td>6.0</td>\n",
       "      <td>NaN</td>\n",
       "      <td>NaN</td>\n",
       "      <td>NaN</td>\n",
       "    </tr>\n",
       "  </tbody>\n",
       "</table>\n",
       "<p>15620 rows × 15 columns</p>\n",
       "</div>"
      ],
      "text/plain": [
       "        Age  Gender  NumberOfChildren  CommuteTime        CountryOfResidence  \\\n",
       "ID                                                                             \n",
       "92257  28.0    male               NaN         35.0  United States of America   \n",
       "43079  22.0    male               NaN         90.0  United States of America   \n",
       "67780  19.0    male               NaN         45.0  United States of America   \n",
       "95684  26.0  female               NaN         45.0  United States of America   \n",
       "39053  20.0  female               NaN         10.0  United States of America   \n",
       "...     ...     ...               ...          ...                       ...   \n",
       "51896  28.0    male               1.0          7.0  United States of America   \n",
       "47456  43.0    male               3.0          3.0                    Canada   \n",
       "59724  43.0    male               2.0         15.0  United States of America   \n",
       "58050  37.0    male               1.0        120.0                    Canada   \n",
       "17145  30.0    male               2.0         45.0              South Africa   \n",
       "\n",
       "       HoursSpentLearningToCode    Income  IsSoftwareDev LanguageAtHome  \\\n",
       "ID                                                                        \n",
       "92257                      30.0   32000.0            0.0        English   \n",
       "43079                      30.0   15000.0            0.0        English   \n",
       "67780                      20.0   48000.0            0.0        English   \n",
       "95684                      20.0   43000.0            0.0        English   \n",
       "39053                      25.0    6000.0            0.0          Khmer   \n",
       "...                         ...       ...            ...            ...   \n",
       "51896                      20.0  200000.0            0.0        English   \n",
       "47456                       3.0  200000.0            0.0        English   \n",
       "59724                       6.0  200000.0            0.0        English   \n",
       "58050                      40.0  200000.0            0.0        English   \n",
       "17145                       4.0  200000.0            0.0        English   \n",
       "\n",
       "                         MaritalStatus  MoneySpentLearningToCode  \\\n",
       "ID                                                                 \n",
       "92257  married or domestic partnership                       0.0   \n",
       "43079                              NaN                      20.0   \n",
       "67780                              NaN                      50.0   \n",
       "95684                              NaN                     100.0   \n",
       "39053                              NaN                    1300.0   \n",
       "...                                ...                       ...   \n",
       "51896  married or domestic partnership                    1400.0   \n",
       "47456                         divorced                       0.0   \n",
       "59724  married or domestic partnership                     300.0   \n",
       "58050  married or domestic partnership                     200.0   \n",
       "17145  married or domestic partnership                     300.0   \n",
       "\n",
       "       MonthsSpentProgramming  ResourceBooks  ResourceCoursera  \\\n",
       "ID                                                               \n",
       "92257                     1.0            NaN               1.0   \n",
       "43079                     2.0            NaN               1.0   \n",
       "67780                    24.0            NaN               NaN   \n",
       "95684                     3.0            NaN               NaN   \n",
       "39053                    48.0            NaN               NaN   \n",
       "...                       ...            ...               ...   \n",
       "51896                     7.0            NaN               NaN   \n",
       "47456                     8.0            NaN               NaN   \n",
       "59724                     6.0            NaN               NaN   \n",
       "58050                   360.0            NaN               1.0   \n",
       "17145                     6.0            NaN               NaN   \n",
       "\n",
       "       StudentDebtOwed  \n",
       "ID                      \n",
       "92257          20000.0  \n",
       "43079              NaN  \n",
       "67780              NaN  \n",
       "95684           7000.0  \n",
       "39053              NaN  \n",
       "...                ...  \n",
       "51896          12000.0  \n",
       "47456              NaN  \n",
       "59724              NaN  \n",
       "58050              NaN  \n",
       "17145              NaN  \n",
       "\n",
       "[15620 rows x 15 columns]"
      ]
     },
     "execution_count": 50,
     "metadata": {},
     "output_type": "execute_result"
    }
   ],
   "source": [
    "df"
   ]
  },
  {
   "cell_type": "code",
   "execution_count": 51,
   "id": "929ca19f-632d-4fbe-a9fc-3126ec7ae51c",
   "metadata": {},
   "outputs": [],
   "source": [
    "# start with entire data frame\n",
    "grouped_by_children = df.groupby(\"NumberOfChildren\")"
   ]
  },
  {
   "cell_type": "code",
   "execution_count": 53,
   "id": "a1e5349b-73f9-4221-9b26-2a9f05805f7a",
   "metadata": {},
   "outputs": [
    {
     "data": {
      "text/plain": [
       "pandas.core.groupby.generic.DataFrameGroupBy"
      ]
     },
     "execution_count": 53,
     "metadata": {},
     "output_type": "execute_result"
    }
   ],
   "source": [
    "type(grouped_by_children)"
   ]
  },
  {
   "cell_type": "code",
   "execution_count": 54,
   "id": "9b533312-445c-4f52-b589-185e3985b26d",
   "metadata": {},
   "outputs": [
    {
     "data": {
      "text/plain": [
       "NumberOfChildren\n",
       "1.0     1050\n",
       "2.0      938\n",
       "3.0      342\n",
       "4.0      109\n",
       "5.0       37\n",
       "6.0       10\n",
       "7.0        1\n",
       "8.0        1\n",
       "9.0        2\n",
       "10.0       2\n",
       "12.0       1\n",
       "15.0       0\n",
       "18.0       1\n",
       "Name: HoursSpentLearningToCode, dtype: int64"
      ]
     },
     "execution_count": 54,
     "metadata": {},
     "output_type": "execute_result"
    }
   ],
   "source": [
    "grouped_by_children[\"HoursSpentLearningToCode\"].count()"
   ]
  },
  {
   "cell_type": "code",
   "execution_count": 55,
   "id": "f6bde983-4c29-4af9-997c-cd25ece5c3b1",
   "metadata": {},
   "outputs": [
    {
     "data": {
      "text/plain": [
       "NumberOfChildren\n",
       "1.0     14.184762\n",
       "2.0     12.392324\n",
       "3.0     14.991228\n",
       "4.0     13.825688\n",
       "5.0     11.405405\n",
       "6.0     11.500000\n",
       "7.0      4.000000\n",
       "8.0     20.000000\n",
       "9.0     21.500000\n",
       "10.0     9.500000\n",
       "12.0     2.000000\n",
       "15.0          NaN\n",
       "18.0     5.000000\n",
       "Name: HoursSpentLearningToCode, dtype: float64"
      ]
     },
     "execution_count": 55,
     "metadata": {},
     "output_type": "execute_result"
    }
   ],
   "source": [
    "grouped_by_children[\"HoursSpentLearningToCode\"].mean()"
   ]
  },
  {
   "cell_type": "markdown",
   "id": "7b9695f2-5ca3-4e7c-bd25-f6d8ee3102e9",
   "metadata": {},
   "source": [
    "**Goal:** Determine whether hours spent learning to code varies by **number of children** and **is software dev**"
   ]
  },
  {
   "cell_type": "code",
   "execution_count": 57,
   "id": "47ce55ec-ba9a-44d1-a011-f02f98b7386c",
   "metadata": {},
   "outputs": [
    {
     "data": {
      "text/html": [
       "<div>\n",
       "<style scoped>\n",
       "    .dataframe tbody tr th:only-of-type {\n",
       "        vertical-align: middle;\n",
       "    }\n",
       "\n",
       "    .dataframe tbody tr th {\n",
       "        vertical-align: top;\n",
       "    }\n",
       "\n",
       "    .dataframe thead th {\n",
       "        text-align: right;\n",
       "    }\n",
       "</style>\n",
       "<table border=\"1\" class=\"dataframe\">\n",
       "  <thead>\n",
       "    <tr style=\"text-align: right;\">\n",
       "      <th>IsSoftwareDev</th>\n",
       "      <th>0.0</th>\n",
       "      <th>1.0</th>\n",
       "    </tr>\n",
       "    <tr>\n",
       "      <th>NumberOfChildren</th>\n",
       "      <th></th>\n",
       "      <th></th>\n",
       "    </tr>\n",
       "  </thead>\n",
       "  <tbody>\n",
       "    <tr>\n",
       "      <th>1.0</th>\n",
       "      <td>14.548611</td>\n",
       "      <td>13.409786</td>\n",
       "    </tr>\n",
       "    <tr>\n",
       "      <th>2.0</th>\n",
       "      <td>12.784753</td>\n",
       "      <td>11.416357</td>\n",
       "    </tr>\n",
       "    <tr>\n",
       "      <th>3.0</th>\n",
       "      <td>16.071130</td>\n",
       "      <td>12.485437</td>\n",
       "    </tr>\n",
       "    <tr>\n",
       "      <th>4.0</th>\n",
       "      <td>14.973684</td>\n",
       "      <td>11.181818</td>\n",
       "    </tr>\n",
       "    <tr>\n",
       "      <th>5.0</th>\n",
       "      <td>11.935484</td>\n",
       "      <td>8.666667</td>\n",
       "    </tr>\n",
       "    <tr>\n",
       "      <th>6.0</th>\n",
       "      <td>11.750000</td>\n",
       "      <td>10.500000</td>\n",
       "    </tr>\n",
       "    <tr>\n",
       "      <th>7.0</th>\n",
       "      <td>4.000000</td>\n",
       "      <td>NaN</td>\n",
       "    </tr>\n",
       "    <tr>\n",
       "      <th>8.0</th>\n",
       "      <td>NaN</td>\n",
       "      <td>20.000000</td>\n",
       "    </tr>\n",
       "    <tr>\n",
       "      <th>9.0</th>\n",
       "      <td>21.500000</td>\n",
       "      <td>NaN</td>\n",
       "    </tr>\n",
       "    <tr>\n",
       "      <th>10.0</th>\n",
       "      <td>15.000000</td>\n",
       "      <td>4.000000</td>\n",
       "    </tr>\n",
       "    <tr>\n",
       "      <th>12.0</th>\n",
       "      <td>2.000000</td>\n",
       "      <td>NaN</td>\n",
       "    </tr>\n",
       "    <tr>\n",
       "      <th>18.0</th>\n",
       "      <td>NaN</td>\n",
       "      <td>5.000000</td>\n",
       "    </tr>\n",
       "  </tbody>\n",
       "</table>\n",
       "</div>"
      ],
      "text/plain": [
       "IsSoftwareDev           0.0        1.0\n",
       "NumberOfChildren                      \n",
       "1.0               14.548611  13.409786\n",
       "2.0               12.784753  11.416357\n",
       "3.0               16.071130  12.485437\n",
       "4.0               14.973684  11.181818\n",
       "5.0               11.935484   8.666667\n",
       "6.0               11.750000  10.500000\n",
       "7.0                4.000000        NaN\n",
       "8.0                     NaN  20.000000\n",
       "9.0               21.500000        NaN\n",
       "10.0              15.000000   4.000000\n",
       "12.0               2.000000        NaN\n",
       "18.0                    NaN   5.000000"
      ]
     },
     "execution_count": 57,
     "metadata": {},
     "output_type": "execute_result"
    }
   ],
   "source": [
    "# segment by two features -> use pivot table\n",
    "df.pivot_table(\n",
    "    index=\"NumberOfChildren\", # corresponds to row\n",
    "    columns=\"IsSoftwareDev\",\n",
    "    values=\"HoursSpentLearningToCode\"\n",
    ")"
   ]
  },
  {
   "cell_type": "code",
   "execution_count": 58,
   "id": "00ff35a0-f87c-42f8-9c02-3bff40ae7e2a",
   "metadata": {},
   "outputs": [
    {
     "data": {
      "text/html": [
       "<div>\n",
       "<style scoped>\n",
       "    .dataframe tbody tr th:only-of-type {\n",
       "        vertical-align: middle;\n",
       "    }\n",
       "\n",
       "    .dataframe tbody tr th {\n",
       "        vertical-align: top;\n",
       "    }\n",
       "\n",
       "    .dataframe thead th {\n",
       "        text-align: right;\n",
       "    }\n",
       "</style>\n",
       "<table border=\"1\" class=\"dataframe\">\n",
       "  <thead>\n",
       "    <tr style=\"text-align: right;\">\n",
       "      <th>IsSoftwareDev</th>\n",
       "      <th>0.0</th>\n",
       "      <th>1.0</th>\n",
       "    </tr>\n",
       "    <tr>\n",
       "      <th>NumberOfChildren</th>\n",
       "      <th></th>\n",
       "      <th></th>\n",
       "    </tr>\n",
       "  </thead>\n",
       "  <tbody>\n",
       "    <tr>\n",
       "      <th>1.0</th>\n",
       "      <td>14.548611</td>\n",
       "      <td>13.409786</td>\n",
       "    </tr>\n",
       "    <tr>\n",
       "      <th>2.0</th>\n",
       "      <td>12.784753</td>\n",
       "      <td>11.416357</td>\n",
       "    </tr>\n",
       "    <tr>\n",
       "      <th>3.0</th>\n",
       "      <td>16.071130</td>\n",
       "      <td>12.485437</td>\n",
       "    </tr>\n",
       "    <tr>\n",
       "      <th>4.0</th>\n",
       "      <td>14.973684</td>\n",
       "      <td>11.181818</td>\n",
       "    </tr>\n",
       "    <tr>\n",
       "      <th>5.0</th>\n",
       "      <td>11.935484</td>\n",
       "      <td>8.666667</td>\n",
       "    </tr>\n",
       "    <tr>\n",
       "      <th>6.0</th>\n",
       "      <td>11.750000</td>\n",
       "      <td>10.500000</td>\n",
       "    </tr>\n",
       "    <tr>\n",
       "      <th>7.0</th>\n",
       "      <td>4.000000</td>\n",
       "      <td>NaN</td>\n",
       "    </tr>\n",
       "    <tr>\n",
       "      <th>8.0</th>\n",
       "      <td>NaN</td>\n",
       "      <td>20.000000</td>\n",
       "    </tr>\n",
       "    <tr>\n",
       "      <th>9.0</th>\n",
       "      <td>21.500000</td>\n",
       "      <td>NaN</td>\n",
       "    </tr>\n",
       "    <tr>\n",
       "      <th>10.0</th>\n",
       "      <td>15.000000</td>\n",
       "      <td>4.000000</td>\n",
       "    </tr>\n",
       "    <tr>\n",
       "      <th>12.0</th>\n",
       "      <td>2.000000</td>\n",
       "      <td>NaN</td>\n",
       "    </tr>\n",
       "    <tr>\n",
       "      <th>18.0</th>\n",
       "      <td>NaN</td>\n",
       "      <td>5.000000</td>\n",
       "    </tr>\n",
       "  </tbody>\n",
       "</table>\n",
       "</div>"
      ],
      "text/plain": [
       "IsSoftwareDev           0.0        1.0\n",
       "NumberOfChildren                      \n",
       "1.0               14.548611  13.409786\n",
       "2.0               12.784753  11.416357\n",
       "3.0               16.071130  12.485437\n",
       "4.0               14.973684  11.181818\n",
       "5.0               11.935484   8.666667\n",
       "6.0               11.750000  10.500000\n",
       "7.0                4.000000        NaN\n",
       "8.0                     NaN  20.000000\n",
       "9.0               21.500000        NaN\n",
       "10.0              15.000000   4.000000\n",
       "12.0               2.000000        NaN\n",
       "18.0                    NaN   5.000000"
      ]
     },
     "execution_count": 58,
     "metadata": {},
     "output_type": "execute_result"
    }
   ],
   "source": [
    "df.pivot_table(\n",
    "    index=\"NumberOfChildren\", # corresponds to row\n",
    "    columns=\"IsSoftwareDev\",\n",
    "    values=\"HoursSpentLearningToCode\",\n",
    "    aggfunc=\"mean\"\n",
    ")"
   ]
  },
  {
   "cell_type": "code",
   "execution_count": 59,
   "id": "adb07330-0326-40c0-9b51-eddbb38feca1",
   "metadata": {},
   "outputs": [
    {
     "data": {
      "text/html": [
       "<div>\n",
       "<style scoped>\n",
       "    .dataframe tbody tr th:only-of-type {\n",
       "        vertical-align: middle;\n",
       "    }\n",
       "\n",
       "    .dataframe tbody tr th {\n",
       "        vertical-align: top;\n",
       "    }\n",
       "\n",
       "    .dataframe thead th {\n",
       "        text-align: right;\n",
       "    }\n",
       "</style>\n",
       "<table border=\"1\" class=\"dataframe\">\n",
       "  <thead>\n",
       "    <tr style=\"text-align: right;\">\n",
       "      <th>IsSoftwareDev</th>\n",
       "      <th>0.0</th>\n",
       "      <th>1.0</th>\n",
       "    </tr>\n",
       "    <tr>\n",
       "      <th>NumberOfChildren</th>\n",
       "      <th></th>\n",
       "      <th></th>\n",
       "    </tr>\n",
       "  </thead>\n",
       "  <tbody>\n",
       "    <tr>\n",
       "      <th>1.0</th>\n",
       "      <td>10475.0</td>\n",
       "      <td>4385.0</td>\n",
       "    </tr>\n",
       "    <tr>\n",
       "      <th>2.0</th>\n",
       "      <td>8553.0</td>\n",
       "      <td>3071.0</td>\n",
       "    </tr>\n",
       "    <tr>\n",
       "      <th>3.0</th>\n",
       "      <td>3841.0</td>\n",
       "      <td>1286.0</td>\n",
       "    </tr>\n",
       "    <tr>\n",
       "      <th>4.0</th>\n",
       "      <td>1138.0</td>\n",
       "      <td>369.0</td>\n",
       "    </tr>\n",
       "    <tr>\n",
       "      <th>5.0</th>\n",
       "      <td>370.0</td>\n",
       "      <td>52.0</td>\n",
       "    </tr>\n",
       "    <tr>\n",
       "      <th>6.0</th>\n",
       "      <td>94.0</td>\n",
       "      <td>21.0</td>\n",
       "    </tr>\n",
       "    <tr>\n",
       "      <th>7.0</th>\n",
       "      <td>4.0</td>\n",
       "      <td>NaN</td>\n",
       "    </tr>\n",
       "    <tr>\n",
       "      <th>8.0</th>\n",
       "      <td>NaN</td>\n",
       "      <td>20.0</td>\n",
       "    </tr>\n",
       "    <tr>\n",
       "      <th>9.0</th>\n",
       "      <td>43.0</td>\n",
       "      <td>NaN</td>\n",
       "    </tr>\n",
       "    <tr>\n",
       "      <th>10.0</th>\n",
       "      <td>15.0</td>\n",
       "      <td>4.0</td>\n",
       "    </tr>\n",
       "    <tr>\n",
       "      <th>12.0</th>\n",
       "      <td>2.0</td>\n",
       "      <td>NaN</td>\n",
       "    </tr>\n",
       "    <tr>\n",
       "      <th>15.0</th>\n",
       "      <td>NaN</td>\n",
       "      <td>0.0</td>\n",
       "    </tr>\n",
       "    <tr>\n",
       "      <th>18.0</th>\n",
       "      <td>NaN</td>\n",
       "      <td>5.0</td>\n",
       "    </tr>\n",
       "  </tbody>\n",
       "</table>\n",
       "</div>"
      ],
      "text/plain": [
       "IsSoftwareDev         0.0     1.0\n",
       "NumberOfChildren                 \n",
       "1.0               10475.0  4385.0\n",
       "2.0                8553.0  3071.0\n",
       "3.0                3841.0  1286.0\n",
       "4.0                1138.0   369.0\n",
       "5.0                 370.0    52.0\n",
       "6.0                  94.0    21.0\n",
       "7.0                   4.0     NaN\n",
       "8.0                   NaN    20.0\n",
       "9.0                  43.0     NaN\n",
       "10.0                 15.0     4.0\n",
       "12.0                  2.0     NaN\n",
       "15.0                  NaN     0.0\n",
       "18.0                  NaN     5.0"
      ]
     },
     "execution_count": 59,
     "metadata": {},
     "output_type": "execute_result"
    }
   ],
   "source": [
    "df.pivot_table(\n",
    "    index=\"NumberOfChildren\", # corresponds to row\n",
    "    columns=\"IsSoftwareDev\",\n",
    "    values=\"HoursSpentLearningToCode\",\n",
    "    aggfunc=\"sum\"\n",
    ")"
   ]
  },
  {
   "cell_type": "code",
   "execution_count": 60,
   "id": "75dc2116-1d8d-4e26-8f23-87297c878dac",
   "metadata": {},
   "outputs": [
    {
     "data": {
      "text/html": [
       "<div>\n",
       "<style scoped>\n",
       "    .dataframe tbody tr th:only-of-type {\n",
       "        vertical-align: middle;\n",
       "    }\n",
       "\n",
       "    .dataframe tbody tr th {\n",
       "        vertical-align: top;\n",
       "    }\n",
       "\n",
       "    .dataframe thead th {\n",
       "        text-align: right;\n",
       "    }\n",
       "</style>\n",
       "<table border=\"1\" class=\"dataframe\">\n",
       "  <thead>\n",
       "    <tr style=\"text-align: right;\">\n",
       "      <th>IsSoftwareDev</th>\n",
       "      <th>0.0</th>\n",
       "      <th>1.0</th>\n",
       "    </tr>\n",
       "    <tr>\n",
       "      <th>NumberOfChildren</th>\n",
       "      <th></th>\n",
       "      <th></th>\n",
       "    </tr>\n",
       "  </thead>\n",
       "  <tbody>\n",
       "    <tr>\n",
       "      <th>1.0</th>\n",
       "      <td>12.264034</td>\n",
       "      <td>13.506541</td>\n",
       "    </tr>\n",
       "    <tr>\n",
       "      <th>2.0</th>\n",
       "      <td>11.751226</td>\n",
       "      <td>10.760862</td>\n",
       "    </tr>\n",
       "    <tr>\n",
       "      <th>3.0</th>\n",
       "      <td>13.624587</td>\n",
       "      <td>10.186365</td>\n",
       "    </tr>\n",
       "    <tr>\n",
       "      <th>4.0</th>\n",
       "      <td>15.155174</td>\n",
       "      <td>8.375763</td>\n",
       "    </tr>\n",
       "    <tr>\n",
       "      <th>5.0</th>\n",
       "      <td>9.080879</td>\n",
       "      <td>4.885352</td>\n",
       "    </tr>\n",
       "    <tr>\n",
       "      <th>6.0</th>\n",
       "      <td>10.457397</td>\n",
       "      <td>7.778175</td>\n",
       "    </tr>\n",
       "    <tr>\n",
       "      <th>9.0</th>\n",
       "      <td>26.162951</td>\n",
       "      <td>NaN</td>\n",
       "    </tr>\n",
       "  </tbody>\n",
       "</table>\n",
       "</div>"
      ],
      "text/plain": [
       "IsSoftwareDev           0.0        1.0\n",
       "NumberOfChildren                      \n",
       "1.0               12.264034  13.506541\n",
       "2.0               11.751226  10.760862\n",
       "3.0               13.624587  10.186365\n",
       "4.0               15.155174   8.375763\n",
       "5.0                9.080879   4.885352\n",
       "6.0               10.457397   7.778175\n",
       "9.0               26.162951        NaN"
      ]
     },
     "execution_count": 60,
     "metadata": {},
     "output_type": "execute_result"
    }
   ],
   "source": [
    "df.pivot_table(\n",
    "    index=\"NumberOfChildren\", # corresponds to row\n",
    "    columns=\"IsSoftwareDev\",\n",
    "    values=\"HoursSpentLearningToCode\",\n",
    "    aggfunc=\"std\"\n",
    ")"
   ]
  },
  {
   "cell_type": "code",
   "execution_count": 61,
   "id": "5e9749b4-510f-4247-8869-496441700625",
   "metadata": {},
   "outputs": [
    {
     "data": {
      "text/html": [
       "<div>\n",
       "<style scoped>\n",
       "    .dataframe tbody tr th:only-of-type {\n",
       "        vertical-align: middle;\n",
       "    }\n",
       "\n",
       "    .dataframe tbody tr th {\n",
       "        vertical-align: top;\n",
       "    }\n",
       "\n",
       "    .dataframe thead tr th {\n",
       "        text-align: left;\n",
       "    }\n",
       "\n",
       "    .dataframe thead tr:last-of-type th {\n",
       "        text-align: right;\n",
       "    }\n",
       "</style>\n",
       "<table border=\"1\" class=\"dataframe\">\n",
       "  <thead>\n",
       "    <tr>\n",
       "      <th></th>\n",
       "      <th colspan=\"2\" halign=\"left\">min</th>\n",
       "      <th colspan=\"2\" halign=\"left\">median</th>\n",
       "      <th colspan=\"2\" halign=\"left\">max</th>\n",
       "    </tr>\n",
       "    <tr>\n",
       "      <th>IsSoftwareDev</th>\n",
       "      <th>0.0</th>\n",
       "      <th>1.0</th>\n",
       "      <th>0.0</th>\n",
       "      <th>1.0</th>\n",
       "      <th>0.0</th>\n",
       "      <th>1.0</th>\n",
       "    </tr>\n",
       "    <tr>\n",
       "      <th>NumberOfChildren</th>\n",
       "      <th></th>\n",
       "      <th></th>\n",
       "      <th></th>\n",
       "      <th></th>\n",
       "      <th></th>\n",
       "      <th></th>\n",
       "    </tr>\n",
       "  </thead>\n",
       "  <tbody>\n",
       "    <tr>\n",
       "      <th>1.0</th>\n",
       "      <td>0.0</td>\n",
       "      <td>0.0</td>\n",
       "      <td>10.0</td>\n",
       "      <td>10.0</td>\n",
       "      <td>80.0</td>\n",
       "      <td>90.0</td>\n",
       "    </tr>\n",
       "    <tr>\n",
       "      <th>2.0</th>\n",
       "      <td>0.0</td>\n",
       "      <td>1.0</td>\n",
       "      <td>10.0</td>\n",
       "      <td>8.0</td>\n",
       "      <td>100.0</td>\n",
       "      <td>60.0</td>\n",
       "    </tr>\n",
       "    <tr>\n",
       "      <th>3.0</th>\n",
       "      <td>0.0</td>\n",
       "      <td>2.0</td>\n",
       "      <td>10.0</td>\n",
       "      <td>10.0</td>\n",
       "      <td>70.0</td>\n",
       "      <td>60.0</td>\n",
       "    </tr>\n",
       "    <tr>\n",
       "      <th>4.0</th>\n",
       "      <td>0.0</td>\n",
       "      <td>2.0</td>\n",
       "      <td>10.0</td>\n",
       "      <td>10.0</td>\n",
       "      <td>100.0</td>\n",
       "      <td>40.0</td>\n",
       "    </tr>\n",
       "    <tr>\n",
       "      <th>5.0</th>\n",
       "      <td>1.0</td>\n",
       "      <td>3.0</td>\n",
       "      <td>10.0</td>\n",
       "      <td>8.0</td>\n",
       "      <td>40.0</td>\n",
       "      <td>16.0</td>\n",
       "    </tr>\n",
       "    <tr>\n",
       "      <th>6.0</th>\n",
       "      <td>3.0</td>\n",
       "      <td>5.0</td>\n",
       "      <td>5.5</td>\n",
       "      <td>10.5</td>\n",
       "      <td>30.0</td>\n",
       "      <td>16.0</td>\n",
       "    </tr>\n",
       "    <tr>\n",
       "      <th>7.0</th>\n",
       "      <td>4.0</td>\n",
       "      <td>NaN</td>\n",
       "      <td>4.0</td>\n",
       "      <td>NaN</td>\n",
       "      <td>4.0</td>\n",
       "      <td>NaN</td>\n",
       "    </tr>\n",
       "    <tr>\n",
       "      <th>8.0</th>\n",
       "      <td>NaN</td>\n",
       "      <td>20.0</td>\n",
       "      <td>NaN</td>\n",
       "      <td>20.0</td>\n",
       "      <td>NaN</td>\n",
       "      <td>20.0</td>\n",
       "    </tr>\n",
       "    <tr>\n",
       "      <th>9.0</th>\n",
       "      <td>3.0</td>\n",
       "      <td>NaN</td>\n",
       "      <td>21.5</td>\n",
       "      <td>NaN</td>\n",
       "      <td>40.0</td>\n",
       "      <td>NaN</td>\n",
       "    </tr>\n",
       "    <tr>\n",
       "      <th>10.0</th>\n",
       "      <td>15.0</td>\n",
       "      <td>4.0</td>\n",
       "      <td>15.0</td>\n",
       "      <td>4.0</td>\n",
       "      <td>15.0</td>\n",
       "      <td>4.0</td>\n",
       "    </tr>\n",
       "    <tr>\n",
       "      <th>12.0</th>\n",
       "      <td>2.0</td>\n",
       "      <td>NaN</td>\n",
       "      <td>2.0</td>\n",
       "      <td>NaN</td>\n",
       "      <td>2.0</td>\n",
       "      <td>NaN</td>\n",
       "    </tr>\n",
       "    <tr>\n",
       "      <th>18.0</th>\n",
       "      <td>NaN</td>\n",
       "      <td>5.0</td>\n",
       "      <td>NaN</td>\n",
       "      <td>5.0</td>\n",
       "      <td>NaN</td>\n",
       "      <td>5.0</td>\n",
       "    </tr>\n",
       "  </tbody>\n",
       "</table>\n",
       "</div>"
      ],
      "text/plain": [
       "                   min       median          max      \n",
       "IsSoftwareDev      0.0   1.0    0.0   1.0    0.0   1.0\n",
       "NumberOfChildren                                      \n",
       "1.0                0.0   0.0   10.0  10.0   80.0  90.0\n",
       "2.0                0.0   1.0   10.0   8.0  100.0  60.0\n",
       "3.0                0.0   2.0   10.0  10.0   70.0  60.0\n",
       "4.0                0.0   2.0   10.0  10.0  100.0  40.0\n",
       "5.0                1.0   3.0   10.0   8.0   40.0  16.0\n",
       "6.0                3.0   5.0    5.5  10.5   30.0  16.0\n",
       "7.0                4.0   NaN    4.0   NaN    4.0   NaN\n",
       "8.0                NaN  20.0    NaN  20.0    NaN  20.0\n",
       "9.0                3.0   NaN   21.5   NaN   40.0   NaN\n",
       "10.0              15.0   4.0   15.0   4.0   15.0   4.0\n",
       "12.0               2.0   NaN    2.0   NaN    2.0   NaN\n",
       "18.0               NaN   5.0    NaN   5.0    NaN   5.0"
      ]
     },
     "execution_count": 61,
     "metadata": {},
     "output_type": "execute_result"
    }
   ],
   "source": [
    "df.pivot_table(\n",
    "    index=\"NumberOfChildren\", # corresponds to row\n",
    "    columns=\"IsSoftwareDev\",\n",
    "    values=\"HoursSpentLearningToCode\",\n",
    "    aggfunc=[\"min\", \"median\", \"max\"]\n",
    ")"
   ]
  }
 ],
 "metadata": {
  "kernelspec": {
   "display_name": "Python 3 (ipykernel)",
   "language": "python",
   "name": "python3"
  },
  "language_info": {
   "codemirror_mode": {
    "name": "ipython",
    "version": 3
   },
   "file_extension": ".py",
   "mimetype": "text/x-python",
   "name": "python",
   "nbconvert_exporter": "python",
   "pygments_lexer": "ipython3",
   "version": "3.11.6"
  }
 },
 "nbformat": 4,
 "nbformat_minor": 5
}
