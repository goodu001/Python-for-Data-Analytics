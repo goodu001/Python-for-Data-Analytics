{
 "cells": [
  {
   "cell_type": "code",
   "execution_count": 1,
   "id": "d07b7979-7aa4-4d0b-a837-0fc41ce6e9d1",
   "metadata": {},
   "outputs": [],
   "source": [
    "import pandas as pd"
   ]
  },
  {
   "cell_type": "code",
   "execution_count": 2,
   "id": "bbd9c873-a332-478b-b631-2ac7a35eec5c",
   "metadata": {},
   "outputs": [],
   "source": [
    "df = pd.read_csv(\"survey_data.csv\")"
   ]
  },
  {
   "cell_type": "code",
   "execution_count": 3,
   "id": "60b02eac-0166-437a-9a26-a020b8b38b15",
   "metadata": {},
   "outputs": [
    {
     "data": {
      "text/plain": [
       "pandas.core.frame.DataFrame"
      ]
     },
     "execution_count": 3,
     "metadata": {},
     "output_type": "execute_result"
    }
   ],
   "source": [
    "type(df)"
   ]
  },
  {
   "cell_type": "code",
   "execution_count": 4,
   "id": "4948b9be-ea8b-445d-ab16-4dc8cd8ce6ba",
   "metadata": {},
   "outputs": [
    {
     "data": {
      "text/html": [
       "<div>\n",
       "<style scoped>\n",
       "    .dataframe tbody tr th:only-of-type {\n",
       "        vertical-align: middle;\n",
       "    }\n",
       "\n",
       "    .dataframe tbody tr th {\n",
       "        vertical-align: top;\n",
       "    }\n",
       "\n",
       "    .dataframe thead th {\n",
       "        text-align: right;\n",
       "    }\n",
       "</style>\n",
       "<table border=\"1\" class=\"dataframe\">\n",
       "  <thead>\n",
       "    <tr style=\"text-align: right;\">\n",
       "      <th></th>\n",
       "      <th>Age</th>\n",
       "      <th>Gender</th>\n",
       "      <th>NumberOfChildren</th>\n",
       "      <th>CountryOfResidence</th>\n",
       "      <th>LanguageAtHome</th>\n",
       "      <th>HoursSpentLearningToCode</th>\n",
       "      <th>Income</th>\n",
       "      <th>StudentDebtOwe</th>\n",
       "      <th>IsSoftwareDev</th>\n",
       "      <th>MaritalStatus</th>\n",
       "      <th>MoneySpentLearningToCode</th>\n",
       "      <th>MonthsSpentProgramming</th>\n",
       "      <th>YearsSpentLearningToCode</th>\n",
       "      <th>LearningViaBooks</th>\n",
       "      <th>LearningViaCoursera</th>\n",
       "    </tr>\n",
       "  </thead>\n",
       "  <tbody>\n",
       "    <tr>\n",
       "      <th>0</th>\n",
       "      <td>28.0</td>\n",
       "      <td>male</td>\n",
       "      <td>NaN</td>\n",
       "      <td>United States of America</td>\n",
       "      <td>English</td>\n",
       "      <td>30.0</td>\n",
       "      <td>32000.0</td>\n",
       "      <td>20000.0</td>\n",
       "      <td>False</td>\n",
       "      <td>married or domestic partnership</td>\n",
       "      <td>0.0</td>\n",
       "      <td>1.0</td>\n",
       "      <td>0.08333333333</td>\n",
       "      <td>NaN</td>\n",
       "      <td>1.0</td>\n",
       "    </tr>\n",
       "    <tr>\n",
       "      <th>1</th>\n",
       "      <td>22.0</td>\n",
       "      <td>male</td>\n",
       "      <td>NaN</td>\n",
       "      <td>United States of America</td>\n",
       "      <td>English</td>\n",
       "      <td>30.0</td>\n",
       "      <td>15000.0</td>\n",
       "      <td>NaN</td>\n",
       "      <td>False</td>\n",
       "      <td>NaN</td>\n",
       "      <td>20.0</td>\n",
       "      <td>2.0</td>\n",
       "      <td>0.1666666667</td>\n",
       "      <td>NaN</td>\n",
       "      <td>1.0</td>\n",
       "    </tr>\n",
       "    <tr>\n",
       "      <th>2</th>\n",
       "      <td>19.0</td>\n",
       "      <td>male</td>\n",
       "      <td>NaN</td>\n",
       "      <td>United States of America</td>\n",
       "      <td>English</td>\n",
       "      <td>20.0</td>\n",
       "      <td>48000.0</td>\n",
       "      <td>NaN</td>\n",
       "      <td>False</td>\n",
       "      <td>NaN</td>\n",
       "      <td>50.0</td>\n",
       "      <td>24.0</td>\n",
       "      <td>2</td>\n",
       "      <td>NaN</td>\n",
       "      <td>NaN</td>\n",
       "    </tr>\n",
       "    <tr>\n",
       "      <th>3</th>\n",
       "      <td>26.0</td>\n",
       "      <td>female</td>\n",
       "      <td>NaN</td>\n",
       "      <td>United States of America</td>\n",
       "      <td>English</td>\n",
       "      <td>20.0</td>\n",
       "      <td>43000.0</td>\n",
       "      <td>7000.0</td>\n",
       "      <td>False</td>\n",
       "      <td>NaN</td>\n",
       "      <td>100.0</td>\n",
       "      <td>3.0</td>\n",
       "      <td>0.25</td>\n",
       "      <td>NaN</td>\n",
       "      <td>NaN</td>\n",
       "    </tr>\n",
       "    <tr>\n",
       "      <th>4</th>\n",
       "      <td>20.0</td>\n",
       "      <td>female</td>\n",
       "      <td>NaN</td>\n",
       "      <td>United States of America</td>\n",
       "      <td>Khmer</td>\n",
       "      <td>25.0</td>\n",
       "      <td>6000.0</td>\n",
       "      <td>NaN</td>\n",
       "      <td>False</td>\n",
       "      <td>NaN</td>\n",
       "      <td>1300.0</td>\n",
       "      <td>48.0</td>\n",
       "      <td>4</td>\n",
       "      <td>NaN</td>\n",
       "      <td>NaN</td>\n",
       "    </tr>\n",
       "    <tr>\n",
       "      <th>...</th>\n",
       "      <td>...</td>\n",
       "      <td>...</td>\n",
       "      <td>...</td>\n",
       "      <td>...</td>\n",
       "      <td>...</td>\n",
       "      <td>...</td>\n",
       "      <td>...</td>\n",
       "      <td>...</td>\n",
       "      <td>...</td>\n",
       "      <td>...</td>\n",
       "      <td>...</td>\n",
       "      <td>...</td>\n",
       "      <td>...</td>\n",
       "      <td>...</td>\n",
       "      <td>...</td>\n",
       "    </tr>\n",
       "    <tr>\n",
       "      <th>15615</th>\n",
       "      <td>28.0</td>\n",
       "      <td>male</td>\n",
       "      <td>1.0</td>\n",
       "      <td>United States of America</td>\n",
       "      <td>English</td>\n",
       "      <td>20.0</td>\n",
       "      <td>200000.0</td>\n",
       "      <td>12000.0</td>\n",
       "      <td>False</td>\n",
       "      <td>married or domestic partnership</td>\n",
       "      <td>1400.0</td>\n",
       "      <td>7.0</td>\n",
       "      <td>0.5833333333</td>\n",
       "      <td>NaN</td>\n",
       "      <td>NaN</td>\n",
       "    </tr>\n",
       "    <tr>\n",
       "      <th>15616</th>\n",
       "      <td>43.0</td>\n",
       "      <td>male</td>\n",
       "      <td>3.0</td>\n",
       "      <td>Canada</td>\n",
       "      <td>English</td>\n",
       "      <td>3.0</td>\n",
       "      <td>200000.0</td>\n",
       "      <td>NaN</td>\n",
       "      <td>False</td>\n",
       "      <td>divorced</td>\n",
       "      <td>0.0</td>\n",
       "      <td>8.0</td>\n",
       "      <td>0.6666666667</td>\n",
       "      <td>NaN</td>\n",
       "      <td>NaN</td>\n",
       "    </tr>\n",
       "    <tr>\n",
       "      <th>15617</th>\n",
       "      <td>43.0</td>\n",
       "      <td>male</td>\n",
       "      <td>2.0</td>\n",
       "      <td>United States of America</td>\n",
       "      <td>English</td>\n",
       "      <td>6.0</td>\n",
       "      <td>200000.0</td>\n",
       "      <td>NaN</td>\n",
       "      <td>False</td>\n",
       "      <td>married or domestic partnership</td>\n",
       "      <td>300.0</td>\n",
       "      <td>6.0</td>\n",
       "      <td>0.5</td>\n",
       "      <td>NaN</td>\n",
       "      <td>NaN</td>\n",
       "    </tr>\n",
       "    <tr>\n",
       "      <th>15618</th>\n",
       "      <td>37.0</td>\n",
       "      <td>male</td>\n",
       "      <td>1.0</td>\n",
       "      <td>Canada</td>\n",
       "      <td>English</td>\n",
       "      <td>40.0</td>\n",
       "      <td>200000.0</td>\n",
       "      <td>NaN</td>\n",
       "      <td>False</td>\n",
       "      <td>married or domestic partnership</td>\n",
       "      <td>200.0</td>\n",
       "      <td>360.0</td>\n",
       "      <td>30</td>\n",
       "      <td>NaN</td>\n",
       "      <td>1.0</td>\n",
       "    </tr>\n",
       "    <tr>\n",
       "      <th>15619</th>\n",
       "      <td>30.0</td>\n",
       "      <td>male</td>\n",
       "      <td>2.0</td>\n",
       "      <td>South Africa</td>\n",
       "      <td>English</td>\n",
       "      <td>4.0</td>\n",
       "      <td>200000.0</td>\n",
       "      <td>NaN</td>\n",
       "      <td>False</td>\n",
       "      <td>married or domestic partnership</td>\n",
       "      <td>300.0</td>\n",
       "      <td>6.0</td>\n",
       "      <td>0.5</td>\n",
       "      <td>NaN</td>\n",
       "      <td>NaN</td>\n",
       "    </tr>\n",
       "  </tbody>\n",
       "</table>\n",
       "<p>15620 rows × 15 columns</p>\n",
       "</div>"
      ],
      "text/plain": [
       "        Age  Gender  NumberOfChildren        CountryOfResidence  \\\n",
       "0      28.0    male               NaN  United States of America   \n",
       "1      22.0    male               NaN  United States of America   \n",
       "2      19.0    male               NaN  United States of America   \n",
       "3      26.0  female               NaN  United States of America   \n",
       "4      20.0  female               NaN  United States of America   \n",
       "...     ...     ...               ...                       ...   \n",
       "15615  28.0    male               1.0  United States of America   \n",
       "15616  43.0    male               3.0                    Canada   \n",
       "15617  43.0    male               2.0  United States of America   \n",
       "15618  37.0    male               1.0                    Canada   \n",
       "15619  30.0    male               2.0              South Africa   \n",
       "\n",
       "      LanguageAtHome  HoursSpentLearningToCode    Income  StudentDebtOwe  \\\n",
       "0            English                      30.0   32000.0         20000.0   \n",
       "1            English                      30.0   15000.0             NaN   \n",
       "2            English                      20.0   48000.0             NaN   \n",
       "3            English                      20.0   43000.0          7000.0   \n",
       "4              Khmer                      25.0    6000.0             NaN   \n",
       "...              ...                       ...       ...             ...   \n",
       "15615        English                      20.0  200000.0         12000.0   \n",
       "15616        English                       3.0  200000.0             NaN   \n",
       "15617        English                       6.0  200000.0             NaN   \n",
       "15618        English                      40.0  200000.0             NaN   \n",
       "15619        English                       4.0  200000.0             NaN   \n",
       "\n",
       "       IsSoftwareDev                    MaritalStatus  \\\n",
       "0              False  married or domestic partnership   \n",
       "1              False                              NaN   \n",
       "2              False                              NaN   \n",
       "3              False                              NaN   \n",
       "4              False                              NaN   \n",
       "...              ...                              ...   \n",
       "15615          False  married or domestic partnership   \n",
       "15616          False                         divorced   \n",
       "15617          False  married or domestic partnership   \n",
       "15618          False  married or domestic partnership   \n",
       "15619          False  married or domestic partnership   \n",
       "\n",
       "       MoneySpentLearningToCode  MonthsSpentProgramming  \\\n",
       "0                           0.0                     1.0   \n",
       "1                          20.0                     2.0   \n",
       "2                          50.0                    24.0   \n",
       "3                         100.0                     3.0   \n",
       "4                        1300.0                    48.0   \n",
       "...                         ...                     ...   \n",
       "15615                    1400.0                     7.0   \n",
       "15616                       0.0                     8.0   \n",
       "15617                     300.0                     6.0   \n",
       "15618                     200.0                   360.0   \n",
       "15619                     300.0                     6.0   \n",
       "\n",
       "      YearsSpentLearningToCode  LearningViaBooks  LearningViaCoursera  \n",
       "0                0.08333333333               NaN                  1.0  \n",
       "1                 0.1666666667               NaN                  1.0  \n",
       "2                            2               NaN                  NaN  \n",
       "3                         0.25               NaN                  NaN  \n",
       "4                            4               NaN                  NaN  \n",
       "...                        ...               ...                  ...  \n",
       "15615             0.5833333333               NaN                  NaN  \n",
       "15616             0.6666666667               NaN                  NaN  \n",
       "15617                      0.5               NaN                  NaN  \n",
       "15618                       30               NaN                  1.0  \n",
       "15619                      0.5               NaN                  NaN  \n",
       "\n",
       "[15620 rows x 15 columns]"
      ]
     },
     "execution_count": 4,
     "metadata": {},
     "output_type": "execute_result"
    }
   ],
   "source": [
    "df"
   ]
  },
  {
   "cell_type": "code",
   "execution_count": 5,
   "id": "7e1bfc94-e2d7-4def-9c5e-b883218af34c",
   "metadata": {},
   "outputs": [
    {
     "name": "stdout",
     "output_type": "stream",
     "text": [
      "        Age  Gender  NumberOfChildren        CountryOfResidence  \\\n",
      "0      28.0    male               NaN  United States of America   \n",
      "1      22.0    male               NaN  United States of America   \n",
      "2      19.0    male               NaN  United States of America   \n",
      "3      26.0  female               NaN  United States of America   \n",
      "4      20.0  female               NaN  United States of America   \n",
      "...     ...     ...               ...                       ...   \n",
      "15615  28.0    male               1.0  United States of America   \n",
      "15616  43.0    male               3.0                    Canada   \n",
      "15617  43.0    male               2.0  United States of America   \n",
      "15618  37.0    male               1.0                    Canada   \n",
      "15619  30.0    male               2.0              South Africa   \n",
      "\n",
      "      LanguageAtHome  HoursSpentLearningToCode    Income  StudentDebtOwe  \\\n",
      "0            English                      30.0   32000.0         20000.0   \n",
      "1            English                      30.0   15000.0             NaN   \n",
      "2            English                      20.0   48000.0             NaN   \n",
      "3            English                      20.0   43000.0          7000.0   \n",
      "4              Khmer                      25.0    6000.0             NaN   \n",
      "...              ...                       ...       ...             ...   \n",
      "15615        English                      20.0  200000.0         12000.0   \n",
      "15616        English                       3.0  200000.0             NaN   \n",
      "15617        English                       6.0  200000.0             NaN   \n",
      "15618        English                      40.0  200000.0             NaN   \n",
      "15619        English                       4.0  200000.0             NaN   \n",
      "\n",
      "       IsSoftwareDev                    MaritalStatus  \\\n",
      "0              False  married or domestic partnership   \n",
      "1              False                              NaN   \n",
      "2              False                              NaN   \n",
      "3              False                              NaN   \n",
      "4              False                              NaN   \n",
      "...              ...                              ...   \n",
      "15615          False  married or domestic partnership   \n",
      "15616          False                         divorced   \n",
      "15617          False  married or domestic partnership   \n",
      "15618          False  married or domestic partnership   \n",
      "15619          False  married or domestic partnership   \n",
      "\n",
      "       MoneySpentLearningToCode  MonthsSpentProgramming  \\\n",
      "0                           0.0                     1.0   \n",
      "1                          20.0                     2.0   \n",
      "2                          50.0                    24.0   \n",
      "3                         100.0                     3.0   \n",
      "4                        1300.0                    48.0   \n",
      "...                         ...                     ...   \n",
      "15615                    1400.0                     7.0   \n",
      "15616                       0.0                     8.0   \n",
      "15617                     300.0                     6.0   \n",
      "15618                     200.0                   360.0   \n",
      "15619                     300.0                     6.0   \n",
      "\n",
      "      YearsSpentLearningToCode  LearningViaBooks  LearningViaCoursera  \n",
      "0                0.08333333333               NaN                  1.0  \n",
      "1                 0.1666666667               NaN                  1.0  \n",
      "2                            2               NaN                  NaN  \n",
      "3                         0.25               NaN                  NaN  \n",
      "4                            4               NaN                  NaN  \n",
      "...                        ...               ...                  ...  \n",
      "15615             0.5833333333               NaN                  NaN  \n",
      "15616             0.6666666667               NaN                  NaN  \n",
      "15617                      0.5               NaN                  NaN  \n",
      "15618                       30               NaN                  1.0  \n",
      "15619                      0.5               NaN                  NaN  \n",
      "\n",
      "[15620 rows x 15 columns]\n"
     ]
    }
   ],
   "source": [
    "print(df)"
   ]
  },
  {
   "cell_type": "code",
   "execution_count": 6,
   "id": "5d2a3c14-e469-43e4-9e1a-231bca853f84",
   "metadata": {},
   "outputs": [
    {
     "data": {
      "text/html": [
       "<div>\n",
       "<style scoped>\n",
       "    .dataframe tbody tr th:only-of-type {\n",
       "        vertical-align: middle;\n",
       "    }\n",
       "\n",
       "    .dataframe tbody tr th {\n",
       "        vertical-align: top;\n",
       "    }\n",
       "\n",
       "    .dataframe thead th {\n",
       "        text-align: right;\n",
       "    }\n",
       "</style>\n",
       "<table border=\"1\" class=\"dataframe\">\n",
       "  <thead>\n",
       "    <tr style=\"text-align: right;\">\n",
       "      <th></th>\n",
       "      <th>Age</th>\n",
       "      <th>Gender</th>\n",
       "      <th>NumberOfChildren</th>\n",
       "      <th>CountryOfResidence</th>\n",
       "      <th>LanguageAtHome</th>\n",
       "      <th>HoursSpentLearningToCode</th>\n",
       "      <th>Income</th>\n",
       "      <th>StudentDebtOwe</th>\n",
       "      <th>IsSoftwareDev</th>\n",
       "      <th>MaritalStatus</th>\n",
       "      <th>MoneySpentLearningToCode</th>\n",
       "      <th>MonthsSpentProgramming</th>\n",
       "      <th>YearsSpentLearningToCode</th>\n",
       "      <th>LearningViaBooks</th>\n",
       "      <th>LearningViaCoursera</th>\n",
       "    </tr>\n",
       "  </thead>\n",
       "  <tbody>\n",
       "    <tr>\n",
       "      <th>0</th>\n",
       "      <td>28.0</td>\n",
       "      <td>male</td>\n",
       "      <td>NaN</td>\n",
       "      <td>United States of America</td>\n",
       "      <td>English</td>\n",
       "      <td>30.0</td>\n",
       "      <td>32000.0</td>\n",
       "      <td>20000.0</td>\n",
       "      <td>False</td>\n",
       "      <td>married or domestic partnership</td>\n",
       "      <td>0.0</td>\n",
       "      <td>1.0</td>\n",
       "      <td>0.08333333333</td>\n",
       "      <td>NaN</td>\n",
       "      <td>1.0</td>\n",
       "    </tr>\n",
       "    <tr>\n",
       "      <th>1</th>\n",
       "      <td>22.0</td>\n",
       "      <td>male</td>\n",
       "      <td>NaN</td>\n",
       "      <td>United States of America</td>\n",
       "      <td>English</td>\n",
       "      <td>30.0</td>\n",
       "      <td>15000.0</td>\n",
       "      <td>NaN</td>\n",
       "      <td>False</td>\n",
       "      <td>NaN</td>\n",
       "      <td>20.0</td>\n",
       "      <td>2.0</td>\n",
       "      <td>0.1666666667</td>\n",
       "      <td>NaN</td>\n",
       "      <td>1.0</td>\n",
       "    </tr>\n",
       "    <tr>\n",
       "      <th>2</th>\n",
       "      <td>19.0</td>\n",
       "      <td>male</td>\n",
       "      <td>NaN</td>\n",
       "      <td>United States of America</td>\n",
       "      <td>English</td>\n",
       "      <td>20.0</td>\n",
       "      <td>48000.0</td>\n",
       "      <td>NaN</td>\n",
       "      <td>False</td>\n",
       "      <td>NaN</td>\n",
       "      <td>50.0</td>\n",
       "      <td>24.0</td>\n",
       "      <td>2</td>\n",
       "      <td>NaN</td>\n",
       "      <td>NaN</td>\n",
       "    </tr>\n",
       "    <tr>\n",
       "      <th>3</th>\n",
       "      <td>26.0</td>\n",
       "      <td>female</td>\n",
       "      <td>NaN</td>\n",
       "      <td>United States of America</td>\n",
       "      <td>English</td>\n",
       "      <td>20.0</td>\n",
       "      <td>43000.0</td>\n",
       "      <td>7000.0</td>\n",
       "      <td>False</td>\n",
       "      <td>NaN</td>\n",
       "      <td>100.0</td>\n",
       "      <td>3.0</td>\n",
       "      <td>0.25</td>\n",
       "      <td>NaN</td>\n",
       "      <td>NaN</td>\n",
       "    </tr>\n",
       "    <tr>\n",
       "      <th>4</th>\n",
       "      <td>20.0</td>\n",
       "      <td>female</td>\n",
       "      <td>NaN</td>\n",
       "      <td>United States of America</td>\n",
       "      <td>Khmer</td>\n",
       "      <td>25.0</td>\n",
       "      <td>6000.0</td>\n",
       "      <td>NaN</td>\n",
       "      <td>False</td>\n",
       "      <td>NaN</td>\n",
       "      <td>1300.0</td>\n",
       "      <td>48.0</td>\n",
       "      <td>4</td>\n",
       "      <td>NaN</td>\n",
       "      <td>NaN</td>\n",
       "    </tr>\n",
       "  </tbody>\n",
       "</table>\n",
       "</div>"
      ],
      "text/plain": [
       "    Age  Gender  NumberOfChildren        CountryOfResidence LanguageAtHome  \\\n",
       "0  28.0    male               NaN  United States of America        English   \n",
       "1  22.0    male               NaN  United States of America        English   \n",
       "2  19.0    male               NaN  United States of America        English   \n",
       "3  26.0  female               NaN  United States of America        English   \n",
       "4  20.0  female               NaN  United States of America          Khmer   \n",
       "\n",
       "   HoursSpentLearningToCode   Income  StudentDebtOwe  IsSoftwareDev  \\\n",
       "0                      30.0  32000.0         20000.0          False   \n",
       "1                      30.0  15000.0             NaN          False   \n",
       "2                      20.0  48000.0             NaN          False   \n",
       "3                      20.0  43000.0          7000.0          False   \n",
       "4                      25.0   6000.0             NaN          False   \n",
       "\n",
       "                     MaritalStatus  MoneySpentLearningToCode  \\\n",
       "0  married or domestic partnership                       0.0   \n",
       "1                              NaN                      20.0   \n",
       "2                              NaN                      50.0   \n",
       "3                              NaN                     100.0   \n",
       "4                              NaN                    1300.0   \n",
       "\n",
       "   MonthsSpentProgramming YearsSpentLearningToCode  LearningViaBooks  \\\n",
       "0                     1.0            0.08333333333               NaN   \n",
       "1                     2.0             0.1666666667               NaN   \n",
       "2                    24.0                        2               NaN   \n",
       "3                     3.0                     0.25               NaN   \n",
       "4                    48.0                        4               NaN   \n",
       "\n",
       "   LearningViaCoursera  \n",
       "0                  1.0  \n",
       "1                  1.0  \n",
       "2                  NaN  \n",
       "3                  NaN  \n",
       "4                  NaN  "
      ]
     },
     "execution_count": 6,
     "metadata": {},
     "output_type": "execute_result"
    }
   ],
   "source": [
    "df.head()"
   ]
  },
  {
   "cell_type": "code",
   "execution_count": 7,
   "id": "7750fbc0-ad66-45e7-ac8c-f1fb62612ac2",
   "metadata": {},
   "outputs": [
    {
     "data": {
      "text/html": [
       "<div>\n",
       "<style scoped>\n",
       "    .dataframe tbody tr th:only-of-type {\n",
       "        vertical-align: middle;\n",
       "    }\n",
       "\n",
       "    .dataframe tbody tr th {\n",
       "        vertical-align: top;\n",
       "    }\n",
       "\n",
       "    .dataframe thead th {\n",
       "        text-align: right;\n",
       "    }\n",
       "</style>\n",
       "<table border=\"1\" class=\"dataframe\">\n",
       "  <thead>\n",
       "    <tr style=\"text-align: right;\">\n",
       "      <th></th>\n",
       "      <th>Age</th>\n",
       "      <th>Gender</th>\n",
       "      <th>NumberOfChildren</th>\n",
       "      <th>CountryOfResidence</th>\n",
       "      <th>LanguageAtHome</th>\n",
       "      <th>HoursSpentLearningToCode</th>\n",
       "      <th>Income</th>\n",
       "      <th>StudentDebtOwe</th>\n",
       "      <th>IsSoftwareDev</th>\n",
       "      <th>MaritalStatus</th>\n",
       "      <th>MoneySpentLearningToCode</th>\n",
       "      <th>MonthsSpentProgramming</th>\n",
       "      <th>YearsSpentLearningToCode</th>\n",
       "      <th>LearningViaBooks</th>\n",
       "      <th>LearningViaCoursera</th>\n",
       "    </tr>\n",
       "  </thead>\n",
       "  <tbody>\n",
       "    <tr>\n",
       "      <th>0</th>\n",
       "      <td>28.0</td>\n",
       "      <td>male</td>\n",
       "      <td>NaN</td>\n",
       "      <td>United States of America</td>\n",
       "      <td>English</td>\n",
       "      <td>30.0</td>\n",
       "      <td>32000.0</td>\n",
       "      <td>20000.0</td>\n",
       "      <td>False</td>\n",
       "      <td>married or domestic partnership</td>\n",
       "      <td>0.0</td>\n",
       "      <td>1.0</td>\n",
       "      <td>0.08333333333</td>\n",
       "      <td>NaN</td>\n",
       "      <td>1.0</td>\n",
       "    </tr>\n",
       "    <tr>\n",
       "      <th>1</th>\n",
       "      <td>22.0</td>\n",
       "      <td>male</td>\n",
       "      <td>NaN</td>\n",
       "      <td>United States of America</td>\n",
       "      <td>English</td>\n",
       "      <td>30.0</td>\n",
       "      <td>15000.0</td>\n",
       "      <td>NaN</td>\n",
       "      <td>False</td>\n",
       "      <td>NaN</td>\n",
       "      <td>20.0</td>\n",
       "      <td>2.0</td>\n",
       "      <td>0.1666666667</td>\n",
       "      <td>NaN</td>\n",
       "      <td>1.0</td>\n",
       "    </tr>\n",
       "    <tr>\n",
       "      <th>2</th>\n",
       "      <td>19.0</td>\n",
       "      <td>male</td>\n",
       "      <td>NaN</td>\n",
       "      <td>United States of America</td>\n",
       "      <td>English</td>\n",
       "      <td>20.0</td>\n",
       "      <td>48000.0</td>\n",
       "      <td>NaN</td>\n",
       "      <td>False</td>\n",
       "      <td>NaN</td>\n",
       "      <td>50.0</td>\n",
       "      <td>24.0</td>\n",
       "      <td>2</td>\n",
       "      <td>NaN</td>\n",
       "      <td>NaN</td>\n",
       "    </tr>\n",
       "  </tbody>\n",
       "</table>\n",
       "</div>"
      ],
      "text/plain": [
       "    Age Gender  NumberOfChildren        CountryOfResidence LanguageAtHome  \\\n",
       "0  28.0   male               NaN  United States of America        English   \n",
       "1  22.0   male               NaN  United States of America        English   \n",
       "2  19.0   male               NaN  United States of America        English   \n",
       "\n",
       "   HoursSpentLearningToCode   Income  StudentDebtOwe  IsSoftwareDev  \\\n",
       "0                      30.0  32000.0         20000.0          False   \n",
       "1                      30.0  15000.0             NaN          False   \n",
       "2                      20.0  48000.0             NaN          False   \n",
       "\n",
       "                     MaritalStatus  MoneySpentLearningToCode  \\\n",
       "0  married or domestic partnership                       0.0   \n",
       "1                              NaN                      20.0   \n",
       "2                              NaN                      50.0   \n",
       "\n",
       "   MonthsSpentProgramming YearsSpentLearningToCode  LearningViaBooks  \\\n",
       "0                     1.0            0.08333333333               NaN   \n",
       "1                     2.0             0.1666666667               NaN   \n",
       "2                    24.0                        2               NaN   \n",
       "\n",
       "   LearningViaCoursera  \n",
       "0                  1.0  \n",
       "1                  1.0  \n",
       "2                  NaN  "
      ]
     },
     "execution_count": 7,
     "metadata": {},
     "output_type": "execute_result"
    }
   ],
   "source": [
    "df.head(3)"
   ]
  },
  {
   "cell_type": "code",
   "execution_count": 10,
   "id": "c268801b-0f8d-499c-afe7-de30064af27b",
   "metadata": {},
   "outputs": [
    {
     "data": {
      "text/html": [
       "<div>\n",
       "<style scoped>\n",
       "    .dataframe tbody tr th:only-of-type {\n",
       "        vertical-align: middle;\n",
       "    }\n",
       "\n",
       "    .dataframe tbody tr th {\n",
       "        vertical-align: top;\n",
       "    }\n",
       "\n",
       "    .dataframe thead th {\n",
       "        text-align: right;\n",
       "    }\n",
       "</style>\n",
       "<table border=\"1\" class=\"dataframe\">\n",
       "  <thead>\n",
       "    <tr style=\"text-align: right;\">\n",
       "      <th></th>\n",
       "      <th>Age</th>\n",
       "      <th>Gender</th>\n",
       "      <th>NumberOfChildren</th>\n",
       "      <th>CountryOfResidence</th>\n",
       "      <th>LanguageAtHome</th>\n",
       "      <th>HoursSpentLearningToCode</th>\n",
       "      <th>Income</th>\n",
       "      <th>StudentDebtOwe</th>\n",
       "      <th>IsSoftwareDev</th>\n",
       "      <th>MaritalStatus</th>\n",
       "      <th>MoneySpentLearningToCode</th>\n",
       "      <th>MonthsSpentProgramming</th>\n",
       "      <th>YearsSpentLearningToCode</th>\n",
       "      <th>LearningViaBooks</th>\n",
       "      <th>LearningViaCoursera</th>\n",
       "    </tr>\n",
       "  </thead>\n",
       "  <tbody>\n",
       "    <tr>\n",
       "      <th>6704</th>\n",
       "      <td>39.0</td>\n",
       "      <td>male</td>\n",
       "      <td>NaN</td>\n",
       "      <td>South Africa</td>\n",
       "      <td>Afrikaans</td>\n",
       "      <td>12.0</td>\n",
       "      <td>NaN</td>\n",
       "      <td>NaN</td>\n",
       "      <td>False</td>\n",
       "      <td>NaN</td>\n",
       "      <td>4000.0</td>\n",
       "      <td>48.0</td>\n",
       "      <td>4</td>\n",
       "      <td>NaN</td>\n",
       "      <td>NaN</td>\n",
       "    </tr>\n",
       "  </tbody>\n",
       "</table>\n",
       "</div>"
      ],
      "text/plain": [
       "       Age Gender  NumberOfChildren CountryOfResidence LanguageAtHome  \\\n",
       "6704  39.0   male               NaN       South Africa      Afrikaans   \n",
       "\n",
       "      HoursSpentLearningToCode  Income  StudentDebtOwe  IsSoftwareDev  \\\n",
       "6704                      12.0     NaN             NaN          False   \n",
       "\n",
       "     MaritalStatus  MoneySpentLearningToCode  MonthsSpentProgramming  \\\n",
       "6704           NaN                    4000.0                    48.0   \n",
       "\n",
       "     YearsSpentLearningToCode  LearningViaBooks  LearningViaCoursera  \n",
       "6704                        4               NaN                  NaN  "
      ]
     },
     "execution_count": 10,
     "metadata": {},
     "output_type": "execute_result"
    }
   ],
   "source": [
    "df.sample()"
   ]
  },
  {
   "cell_type": "code",
   "execution_count": 11,
   "id": "0b65b08c-a0a8-40cd-a139-81e619fd7589",
   "metadata": {},
   "outputs": [
    {
     "data": {
      "text/html": [
       "<div>\n",
       "<style scoped>\n",
       "    .dataframe tbody tr th:only-of-type {\n",
       "        vertical-align: middle;\n",
       "    }\n",
       "\n",
       "    .dataframe tbody tr th {\n",
       "        vertical-align: top;\n",
       "    }\n",
       "\n",
       "    .dataframe thead th {\n",
       "        text-align: right;\n",
       "    }\n",
       "</style>\n",
       "<table border=\"1\" class=\"dataframe\">\n",
       "  <thead>\n",
       "    <tr style=\"text-align: right;\">\n",
       "      <th></th>\n",
       "      <th>Age</th>\n",
       "      <th>Gender</th>\n",
       "      <th>NumberOfChildren</th>\n",
       "      <th>CountryOfResidence</th>\n",
       "      <th>LanguageAtHome</th>\n",
       "      <th>HoursSpentLearningToCode</th>\n",
       "      <th>Income</th>\n",
       "      <th>StudentDebtOwe</th>\n",
       "      <th>IsSoftwareDev</th>\n",
       "      <th>MaritalStatus</th>\n",
       "      <th>MoneySpentLearningToCode</th>\n",
       "      <th>MonthsSpentProgramming</th>\n",
       "      <th>YearsSpentLearningToCode</th>\n",
       "      <th>LearningViaBooks</th>\n",
       "      <th>LearningViaCoursera</th>\n",
       "    </tr>\n",
       "  </thead>\n",
       "  <tbody>\n",
       "    <tr>\n",
       "      <th>8890</th>\n",
       "      <td>NaN</td>\n",
       "      <td>NaN</td>\n",
       "      <td>NaN</td>\n",
       "      <td>NaN</td>\n",
       "      <td>NaN</td>\n",
       "      <td>6.0</td>\n",
       "      <td>NaN</td>\n",
       "      <td>NaN</td>\n",
       "      <td>False</td>\n",
       "      <td>NaN</td>\n",
       "      <td>0.0</td>\n",
       "      <td>20.0</td>\n",
       "      <td>1.666666667</td>\n",
       "      <td>NaN</td>\n",
       "      <td>1.0</td>\n",
       "    </tr>\n",
       "    <tr>\n",
       "      <th>4146</th>\n",
       "      <td>47.0</td>\n",
       "      <td>female</td>\n",
       "      <td>NaN</td>\n",
       "      <td>United States of America</td>\n",
       "      <td>English</td>\n",
       "      <td>NaN</td>\n",
       "      <td>NaN</td>\n",
       "      <td>NaN</td>\n",
       "      <td>True</td>\n",
       "      <td>NaN</td>\n",
       "      <td>NaN</td>\n",
       "      <td>1.0</td>\n",
       "      <td>0.08333333333</td>\n",
       "      <td>NaN</td>\n",
       "      <td>1.0</td>\n",
       "    </tr>\n",
       "    <tr>\n",
       "      <th>8686</th>\n",
       "      <td>NaN</td>\n",
       "      <td>NaN</td>\n",
       "      <td>NaN</td>\n",
       "      <td>NaN</td>\n",
       "      <td>NaN</td>\n",
       "      <td>10.0</td>\n",
       "      <td>NaN</td>\n",
       "      <td>NaN</td>\n",
       "      <td>True</td>\n",
       "      <td>NaN</td>\n",
       "      <td>12000.0</td>\n",
       "      <td>142.0</td>\n",
       "      <td>11.83333333</td>\n",
       "      <td>NaN</td>\n",
       "      <td>NaN</td>\n",
       "    </tr>\n",
       "    <tr>\n",
       "      <th>8480</th>\n",
       "      <td>NaN</td>\n",
       "      <td>NaN</td>\n",
       "      <td>NaN</td>\n",
       "      <td>NaN</td>\n",
       "      <td>NaN</td>\n",
       "      <td>NaN</td>\n",
       "      <td>NaN</td>\n",
       "      <td>NaN</td>\n",
       "      <td>True</td>\n",
       "      <td>NaN</td>\n",
       "      <td>NaN</td>\n",
       "      <td>NaN</td>\n",
       "      <td>#VALUE!</td>\n",
       "      <td>NaN</td>\n",
       "      <td>NaN</td>\n",
       "    </tr>\n",
       "    <tr>\n",
       "      <th>14592</th>\n",
       "      <td>33.0</td>\n",
       "      <td>male</td>\n",
       "      <td>2.0</td>\n",
       "      <td>United States of America</td>\n",
       "      <td>Spanish</td>\n",
       "      <td>5.0</td>\n",
       "      <td>65000.0</td>\n",
       "      <td>NaN</td>\n",
       "      <td>True</td>\n",
       "      <td>married or domestic partnership</td>\n",
       "      <td>0.0</td>\n",
       "      <td>30.0</td>\n",
       "      <td>2.5</td>\n",
       "      <td>NaN</td>\n",
       "      <td>NaN</td>\n",
       "    </tr>\n",
       "  </tbody>\n",
       "</table>\n",
       "</div>"
      ],
      "text/plain": [
       "        Age  Gender  NumberOfChildren        CountryOfResidence  \\\n",
       "8890    NaN     NaN               NaN                       NaN   \n",
       "4146   47.0  female               NaN  United States of America   \n",
       "8686    NaN     NaN               NaN                       NaN   \n",
       "8480    NaN     NaN               NaN                       NaN   \n",
       "14592  33.0    male               2.0  United States of America   \n",
       "\n",
       "      LanguageAtHome  HoursSpentLearningToCode   Income  StudentDebtOwe  \\\n",
       "8890             NaN                       6.0      NaN             NaN   \n",
       "4146         English                       NaN      NaN             NaN   \n",
       "8686             NaN                      10.0      NaN             NaN   \n",
       "8480             NaN                       NaN      NaN             NaN   \n",
       "14592        Spanish                       5.0  65000.0             NaN   \n",
       "\n",
       "       IsSoftwareDev                    MaritalStatus  \\\n",
       "8890           False                              NaN   \n",
       "4146            True                              NaN   \n",
       "8686            True                              NaN   \n",
       "8480            True                              NaN   \n",
       "14592           True  married or domestic partnership   \n",
       "\n",
       "       MoneySpentLearningToCode  MonthsSpentProgramming  \\\n",
       "8890                        0.0                    20.0   \n",
       "4146                        NaN                     1.0   \n",
       "8686                    12000.0                   142.0   \n",
       "8480                        NaN                     NaN   \n",
       "14592                       0.0                    30.0   \n",
       "\n",
       "      YearsSpentLearningToCode  LearningViaBooks  LearningViaCoursera  \n",
       "8890               1.666666667               NaN                  1.0  \n",
       "4146             0.08333333333               NaN                  1.0  \n",
       "8686               11.83333333               NaN                  NaN  \n",
       "8480                   #VALUE!               NaN                  NaN  \n",
       "14592                      2.5               NaN                  NaN  "
      ]
     },
     "execution_count": 11,
     "metadata": {},
     "output_type": "execute_result"
    }
   ],
   "source": [
    "df.sample(5)"
   ]
  },
  {
   "cell_type": "code",
   "execution_count": 12,
   "id": "a81c5cbf-3be9-487e-b39d-301ad8dc6e43",
   "metadata": {},
   "outputs": [
    {
     "data": {
      "text/plain": [
       "Index(['Age', 'Gender', 'NumberOfChildren', 'CountryOfResidence',\n",
       "       'LanguageAtHome', 'HoursSpentLearningToCode', 'Income',\n",
       "       'StudentDebtOwe', 'IsSoftwareDev', 'MaritalStatus',\n",
       "       'MoneySpentLearningToCode', 'MonthsSpentProgramming',\n",
       "       'YearsSpentLearningToCode', 'LearningViaBooks', 'LearningViaCoursera'],\n",
       "      dtype='object')"
      ]
     },
     "execution_count": 12,
     "metadata": {},
     "output_type": "execute_result"
    }
   ],
   "source": [
    "df.columns"
   ]
  },
  {
   "cell_type": "code",
   "execution_count": 13,
   "id": "17621dd8-8251-407f-8b6b-834604d483e5",
   "metadata": {},
   "outputs": [
    {
     "data": {
      "text/plain": [
       "Age                         float64\n",
       "Gender                       object\n",
       "NumberOfChildren            float64\n",
       "CountryOfResidence           object\n",
       "LanguageAtHome               object\n",
       "HoursSpentLearningToCode    float64\n",
       "Income                      float64\n",
       "StudentDebtOwe              float64\n",
       "IsSoftwareDev                  bool\n",
       "MaritalStatus                object\n",
       "MoneySpentLearningToCode    float64\n",
       "MonthsSpentProgramming      float64\n",
       "YearsSpentLearningToCode     object\n",
       "LearningViaBooks            float64\n",
       "LearningViaCoursera         float64\n",
       "dtype: object"
      ]
     },
     "execution_count": 13,
     "metadata": {},
     "output_type": "execute_result"
    }
   ],
   "source": [
    "df.dtypes # what are the data types of each column?"
   ]
  },
  {
   "cell_type": "code",
   "execution_count": 14,
   "id": "f0693f9c-9501-4d9a-8e62-32b1720c8ad9",
   "metadata": {},
   "outputs": [
    {
     "name": "stdout",
     "output_type": "stream",
     "text": [
      "<class 'pandas.core.frame.DataFrame'>\n",
      "RangeIndex: 15620 entries, 0 to 15619\n",
      "Data columns (total 15 columns):\n",
      " #   Column                    Non-Null Count  Dtype  \n",
      "---  ------                    --------------  -----  \n",
      " 0   Age                       13613 non-null  float64\n",
      " 1   Gender                    13746 non-null  object \n",
      " 2   NumberOfChildren          2549 non-null   float64\n",
      " 3   CountryOfResidence        13610 non-null  object \n",
      " 4   LanguageAtHome            13582 non-null  object \n",
      " 5   HoursSpentLearningToCode  14942 non-null  float64\n",
      " 6   Income                    7329 non-null   float64\n",
      " 7   StudentDebtOwe            3438 non-null   float64\n",
      " 8   IsSoftwareDev             15620 non-null  bool   \n",
      " 9   MaritalStatus             4010 non-null   object \n",
      " 10  MoneySpentLearningToCode  14679 non-null  float64\n",
      " 11  MonthsSpentProgramming    15014 non-null  float64\n",
      " 12  YearsSpentLearningToCode  15620 non-null  object \n",
      " 13  LearningViaBooks          144 non-null    float64\n",
      " 14  LearningViaCoursera       4844 non-null   float64\n",
      "dtypes: bool(1), float64(9), object(5)\n",
      "memory usage: 1.7+ MB\n"
     ]
    }
   ],
   "source": [
    "df.info()"
   ]
  },
  {
   "cell_type": "markdown",
   "id": "defb2e92-1ac6-40d0-a600-ff0d7d5fb387",
   "metadata": {},
   "source": [
    "**Goal:** Determine how many unique languages are spoken at home"
   ]
  },
  {
   "cell_type": "code",
   "execution_count": 15,
   "id": "e8f20ac0-251a-4e2e-a3f5-f94a7fa7e52b",
   "metadata": {},
   "outputs": [],
   "source": [
    "languages = df[\"LanguageAtHome\"]"
   ]
  },
  {
   "cell_type": "code",
   "execution_count": 16,
   "id": "9f6a1802-1b42-407e-be0b-90163bb53718",
   "metadata": {},
   "outputs": [
    {
     "data": {
      "text/plain": [
       "pandas.core.series.Series"
      ]
     },
     "execution_count": 16,
     "metadata": {},
     "output_type": "execute_result"
    }
   ],
   "source": [
    "type(languages)"
   ]
  },
  {
   "cell_type": "code",
   "execution_count": 17,
   "id": "86dee47c-f728-4858-88bc-881958601cd0",
   "metadata": {},
   "outputs": [
    {
     "data": {
      "text/plain": [
       "0    English\n",
       "1    English\n",
       "2    English\n",
       "3    English\n",
       "4      Khmer\n",
       "Name: LanguageAtHome, dtype: object"
      ]
     },
     "execution_count": 17,
     "metadata": {},
     "output_type": "execute_result"
    }
   ],
   "source": [
    "languages.head()"
   ]
  },
  {
   "cell_type": "code",
   "execution_count": 18,
   "id": "c9008bd8-5985-4430-a99b-3437bf93f018",
   "metadata": {},
   "outputs": [
    {
     "data": {
      "text/plain": [
       "15620"
      ]
     },
     "execution_count": 18,
     "metadata": {},
     "output_type": "execute_result"
    }
   ],
   "source": [
    "# expected length?\n",
    "len(languages)"
   ]
  },
  {
   "cell_type": "code",
   "execution_count": 19,
   "id": "f5d81fb3-dba3-455d-b427-e5907a31d856",
   "metadata": {},
   "outputs": [
    {
     "name": "stdout",
     "output_type": "stream",
     "text": [
      "['English' 'Khmer' 'Mandarin Chinese' 'Telugu' 'Bengali' 'Russian'\n",
      " 'Serbo-Croatian' 'Hindi' 'Spanish' 'Portuguese' 'Swedish'\n",
      " 'Yue (Cantonese) Chinese' 'French' 'Dutch' 'Urdu' nan 'Nepali' 'Greek'\n",
      " 'Pashto' 'Marathi' 'Arabic' 'Tamil' 'Polish' 'German' 'Punjabi' 'Italian'\n",
      " 'Kazakh' 'Korean' 'Vietnamese' 'Tagalog' 'Odia (Oriya)' 'Gujarati'\n",
      " 'Yoruba' 'Marwari' 'Malayalam' 'Akan' 'Cebuano (Visayan)' 'Belarusian'\n",
      " 'Somali' 'Kannada' 'Czech' 'Turkish' 'Romanian' 'Slovenian' 'Ukrainian'\n",
      " 'Hungarian' 'Malay Bhasa Indonesia' 'Oromo' 'Slovene' 'Sindhi' 'Persian'\n",
      " 'Sinhalese' 'Kinyarwanda' 'Malagasy' 'Burmese' 'Hmong' 'Lithuanian'\n",
      " 'Bhojpuri' 'Igbo' 'Konkani' 'Japanese' 'Ilocano' 'Thai' 'Latvian'\n",
      " 'Indonesian' 'Danish' 'Hakka' 'Chinese' 'Kikuyu' 'Croatian' 'Serbian'\n",
      " 'Bulgarian' 'Finnish' 'Icelandic' 'Slovak' 'Bosnian' 'Macedonian' 'Uzbek'\n",
      " 'Swahili' 'Palatinate German' 'Hausa' 'Asturian' 'Hebrew' 'Piedmontese'\n",
      " 'Norwegian' 'Sesotho' 'Armenian' 'Albanian' 'Esperanto' 'Afrikaans'\n",
      " 'Cebuano' 'Catalan' 'Chichewa' 'Maithili' 'Assamese' 'Lak' 'Hiligaynon'\n",
      " 'Oriya' 'Javanese' 'Turkmen' 'Newar' 'Egyptian Arabic' 'Estonian'\n",
      " 'Amharic' 'Azerbaijani' 'Lao' 'Tatar' 'Romani' 'Kashmiri'\n",
      " 'Haitian Creole' 'Bishnupriya Manipuri' 'Tswana' 'Georgian' 'Balochi'\n",
      " 'Twi' 'Northern Sotho' 'Tigrinya' 'Mongolian' 'Shona' 'Southern Min'\n",
      " 'Tibetan' 'Central Bicolano' 'Galician' 'Karachay-Balkar' 'Kirghiz'\n",
      " 'Alemannic' 'Haryanvi' 'Fiji Hindi' 'Adyghe' 'Ewe' 'Xhosa' 'Basque'\n",
      " 'Neapolitan' 'Zulu' 'Kurdish' 'Yiddish' 'Abkhazian'\n",
      " 'Xiang (Hunnanese) Chinese' 'Chechen' 'Wu (Shanghainese) Chinese' 'Wolof'\n",
      " 'Quechua' 'Irish' 'Divehi' 'Welsh' 'Acehnese' 'Sylheti' 'Eastern Min'\n",
      " 'Sundanese']\n"
     ]
    }
   ],
   "source": [
    "unique_languages = pd.unique(languages)\n",
    "print(unique_languages)"
   ]
  },
  {
   "cell_type": "code",
   "execution_count": 20,
   "id": "c3f8236c-6992-4591-bc11-2290e698dbde",
   "metadata": {},
   "outputs": [
    {
     "data": {
      "text/plain": [
       "149"
      ]
     },
     "execution_count": 20,
     "metadata": {},
     "output_type": "execute_result"
    }
   ],
   "source": [
    "len(unique_languages)"
   ]
  },
  {
   "cell_type": "code",
   "execution_count": 21,
   "id": "a4561252-4066-4f17-9fd0-95c04f8e46cf",
   "metadata": {},
   "outputs": [],
   "source": [
    "# examine country of residence and language at home\n",
    "columns = [\"LanguageAtHome\", \"CountryOfResidence\"]"
   ]
  },
  {
   "cell_type": "code",
   "execution_count": 22,
   "id": "27e54107-b7cc-40c2-acda-d4a4267679dc",
   "metadata": {},
   "outputs": [
    {
     "data": {
      "text/plain": [
       "list"
      ]
     },
     "execution_count": 22,
     "metadata": {},
     "output_type": "execute_result"
    }
   ],
   "source": [
    "type(columns)"
   ]
  },
  {
   "cell_type": "code",
   "execution_count": 23,
   "id": "ce3ae3ee-857b-4d47-9192-8bf9b7e893f8",
   "metadata": {},
   "outputs": [],
   "source": [
    "country_columns = df[columns] # selects two columns"
   ]
  },
  {
   "cell_type": "code",
   "execution_count": 24,
   "id": "459647cc-5d18-4b2b-95c3-d051de40c5ca",
   "metadata": {},
   "outputs": [
    {
     "data": {
      "text/plain": [
       "pandas.core.frame.DataFrame"
      ]
     },
     "execution_count": 24,
     "metadata": {},
     "output_type": "execute_result"
    }
   ],
   "source": [
    "type(country_columns)"
   ]
  },
  {
   "cell_type": "code",
   "execution_count": 25,
   "id": "dca854ba-a601-489a-a3a1-5dc06cb2b0c9",
   "metadata": {},
   "outputs": [
    {
     "data": {
      "text/html": [
       "<div>\n",
       "<style scoped>\n",
       "    .dataframe tbody tr th:only-of-type {\n",
       "        vertical-align: middle;\n",
       "    }\n",
       "\n",
       "    .dataframe tbody tr th {\n",
       "        vertical-align: top;\n",
       "    }\n",
       "\n",
       "    .dataframe thead th {\n",
       "        text-align: right;\n",
       "    }\n",
       "</style>\n",
       "<table border=\"1\" class=\"dataframe\">\n",
       "  <thead>\n",
       "    <tr style=\"text-align: right;\">\n",
       "      <th></th>\n",
       "      <th>LanguageAtHome</th>\n",
       "      <th>CountryOfResidence</th>\n",
       "    </tr>\n",
       "  </thead>\n",
       "  <tbody>\n",
       "    <tr>\n",
       "      <th>0</th>\n",
       "      <td>English</td>\n",
       "      <td>United States of America</td>\n",
       "    </tr>\n",
       "    <tr>\n",
       "      <th>1</th>\n",
       "      <td>English</td>\n",
       "      <td>United States of America</td>\n",
       "    </tr>\n",
       "    <tr>\n",
       "      <th>2</th>\n",
       "      <td>English</td>\n",
       "      <td>United States of America</td>\n",
       "    </tr>\n",
       "    <tr>\n",
       "      <th>3</th>\n",
       "      <td>English</td>\n",
       "      <td>United States of America</td>\n",
       "    </tr>\n",
       "    <tr>\n",
       "      <th>4</th>\n",
       "      <td>Khmer</td>\n",
       "      <td>United States of America</td>\n",
       "    </tr>\n",
       "  </tbody>\n",
       "</table>\n",
       "</div>"
      ],
      "text/plain": [
       "  LanguageAtHome        CountryOfResidence\n",
       "0        English  United States of America\n",
       "1        English  United States of America\n",
       "2        English  United States of America\n",
       "3        English  United States of America\n",
       "4          Khmer  United States of America"
      ]
     },
     "execution_count": 25,
     "metadata": {},
     "output_type": "execute_result"
    }
   ],
   "source": [
    "country_columns.head()"
   ]
  },
  {
   "cell_type": "code",
   "execution_count": 26,
   "id": "4f1a19ed-30c0-4290-9360-07cc2a8e3680",
   "metadata": {},
   "outputs": [
    {
     "data": {
      "text/html": [
       "<div>\n",
       "<style scoped>\n",
       "    .dataframe tbody tr th:only-of-type {\n",
       "        vertical-align: middle;\n",
       "    }\n",
       "\n",
       "    .dataframe tbody tr th {\n",
       "        vertical-align: top;\n",
       "    }\n",
       "\n",
       "    .dataframe thead th {\n",
       "        text-align: right;\n",
       "    }\n",
       "</style>\n",
       "<table border=\"1\" class=\"dataframe\">\n",
       "  <thead>\n",
       "    <tr style=\"text-align: right;\">\n",
       "      <th></th>\n",
       "      <th>LanguageAtHome</th>\n",
       "      <th>CountryOfResidence</th>\n",
       "    </tr>\n",
       "  </thead>\n",
       "  <tbody>\n",
       "    <tr>\n",
       "      <th>12409</th>\n",
       "      <td>Indonesian</td>\n",
       "      <td>Indonesia</td>\n",
       "    </tr>\n",
       "    <tr>\n",
       "      <th>3193</th>\n",
       "      <td>English</td>\n",
       "      <td>United Kingdom</td>\n",
       "    </tr>\n",
       "    <tr>\n",
       "      <th>11766</th>\n",
       "      <td>English</td>\n",
       "      <td>United States of America</td>\n",
       "    </tr>\n",
       "    <tr>\n",
       "      <th>15242</th>\n",
       "      <td>English</td>\n",
       "      <td>United States of America</td>\n",
       "    </tr>\n",
       "    <tr>\n",
       "      <th>5616</th>\n",
       "      <td>English</td>\n",
       "      <td>United States of America</td>\n",
       "    </tr>\n",
       "  </tbody>\n",
       "</table>\n",
       "</div>"
      ],
      "text/plain": [
       "      LanguageAtHome        CountryOfResidence\n",
       "12409     Indonesian                 Indonesia\n",
       "3193         English            United Kingdom\n",
       "11766        English  United States of America\n",
       "15242        English  United States of America\n",
       "5616         English  United States of America"
      ]
     },
     "execution_count": 26,
     "metadata": {},
     "output_type": "execute_result"
    }
   ],
   "source": [
    "country_columns.sample(5)"
   ]
  },
  {
   "cell_type": "code",
   "execution_count": 28,
   "id": "5e78e885-08dd-4305-9dd2-e1aa927094b9",
   "metadata": {},
   "outputs": [],
   "source": [
    "country = df[\"CountryOfResidence\"] # can you spot the error?"
   ]
  },
  {
   "cell_type": "code",
   "execution_count": 29,
   "id": "86d59189-87c4-4ca1-9f72-84d5c1d37e32",
   "metadata": {},
   "outputs": [
    {
     "data": {
      "text/plain": [
       "0    United States of America\n",
       "1    United States of America\n",
       "2    United States of America\n",
       "3    United States of America\n",
       "4    United States of America\n",
       "Name: CountryOfResidence, dtype: object"
      ]
     },
     "execution_count": 29,
     "metadata": {},
     "output_type": "execute_result"
    }
   ],
   "source": [
    "country.head()"
   ]
  },
  {
   "cell_type": "markdown",
   "id": "e11afdcf-2e23-4a53-bfea-af75f37393d8",
   "metadata": {},
   "source": [
    "**Goal:** Count and visualize distributions of age and hours spent learning to code"
   ]
  },
  {
   "cell_type": "code",
   "execution_count": 30,
   "id": "351cee1e-debe-4d71-8a30-259b5595a037",
   "metadata": {},
   "outputs": [],
   "source": [
    "age = df[\"Age\"]"
   ]
  },
  {
   "cell_type": "code",
   "execution_count": 31,
   "id": "acefb90f-fc56-4038-b8f6-c02165ba85c7",
   "metadata": {},
   "outputs": [
    {
     "data": {
      "text/plain": [
       "<Axes: >"
      ]
     },
     "execution_count": 31,
     "metadata": {},
     "output_type": "execute_result"
    },
    {
     "data": {
      "image/png": "[encoded data removed]",
      "text/plain": [
       "<Figure size 640x480 with 1 Axes>"
      ]
     },
     "metadata": {},
     "output_type": "display_data"
    }
   ],
   "source": [
    "age.hist()"
   ]
  },
  {
   "cell_type": "code",
   "execution_count": 32,
   "id": "5eab5f9d-40ce-4ff6-b6b1-a1e6baf12a66",
   "metadata": {},
   "outputs": [
    {
     "data": {
      "text/plain": [
       "<Axes: >"
      ]
     },
     "execution_count": 32,
     "metadata": {},
     "output_type": "execute_result"
    },
    {
     "data": {
      "image/png": "[encoded data removed]",
      "text/plain": [
       "<Figure size 640x480 with 1 Axes>"
      ]
     },
     "metadata": {},
     "output_type": "display_data"
    }
   ],
   "source": [
    "age.hist(bins=20, color='skyblue', edgecolor='black', grid=False, alpha=0.7)"
   ]
  },
  {
   "cell_type": "code",
   "execution_count": 33,
   "id": "bfbf97e2-37c3-4fdb-9fe2-25739c0cc566",
   "metadata": {},
   "outputs": [
    {
     "data": {
      "text/plain": [
       "np.int64(13613)"
      ]
     },
     "execution_count": 33,
     "metadata": {},
     "output_type": "execute_result"
    }
   ],
   "source": [
    "age.count() # number of non-null values"
   ]
  },
  {
   "cell_type": "code",
   "execution_count": 34,
   "id": "8f0cfdce-6994-4f4b-abf0-78e2031cadcb",
   "metadata": {},
   "outputs": [
    {
     "data": {
      "text/plain": [
       "15620"
      ]
     },
     "execution_count": 34,
     "metadata": {},
     "output_type": "execute_result"
    }
   ],
   "source": [
    "len(age)"
   ]
  },
  {
   "cell_type": "code",
   "execution_count": 35,
   "id": "43a66ea5-1ae7-4f5e-ae01-116ff2e4233f",
   "metadata": {},
   "outputs": [
    {
     "data": {
      "text/plain": [
       "Age                         13613\n",
       "Gender                      13746\n",
       "NumberOfChildren             2549\n",
       "CommuteTime                  8255\n",
       "CountryOfResidence          13610\n",
       "HoursSpentLearningToCode    14942\n",
       "Income                       7329\n",
       "IsSoftwareDev               15537\n",
       "LanguageAtHome              13582\n",
       "MaritalStatus                4010\n",
       "MoneySpentLearningToCode    14679\n",
       "MonthsSpentProgramming      15014\n",
       "ResourceBooks                 144\n",
       "ResourceCoursera             4844\n",
       "StudentDebtOwed              3438\n",
       "ID                          15620\n",
       "dtype: int64"
      ]
     },
     "execution_count": 35,
     "metadata": {},
     "output_type": "execute_result"
    }
   ],
   "source": [
    "df.count()"
   ]
  },
  {
   "cell_type": "code",
   "execution_count": 36,
   "id": "3280548c-0997-47c9-90a9-2a8293f57dc5",
   "metadata": {},
   "outputs": [],
   "source": [
    "hours = df[\"HoursSpentLearningToCode\"]"
   ]
  },
  {
   "cell_type": "code",
   "execution_count": 38,
   "id": "a88acc3c-8cf7-42dc-a1c3-2172aef88b90",
   "metadata": {},
   "outputs": [
    {
     "data": {
      "text/plain": [
       "<Axes: >"
      ]
     },
     "execution_count": 38,
     "metadata": {},
     "output_type": "execute_result"
    },
    {
     "data": {
      "image/png": "[encoded data removed]",
      "text/plain": [
       "<Figure size 640x480 with 1 Axes>"
      ]
     },
     "metadata": {},
     "output_type": "display_data"
    }
   ],
   "source": [
    "hours.hist(bins=40, color='skyblue', edgecolor='black', grid=False, alpha=0.7)"
   ]
  },
  {
   "cell_type": "code",
   "execution_count": 39,
   "id": "b80ee34c-843c-4b37-bbc5-f7db2a257bc8",
   "metadata": {},
   "outputs": [
    {
     "data": {
      "text/plain": [
       "np.float64(228961.0)"
      ]
     },
     "execution_count": 39,
     "metadata": {},
     "output_type": "execute_result"
    }
   ],
   "source": [
    "# total hours spent learning to code\n",
    "hours.sum()"
   ]
  },
  {
   "cell_type": "code",
   "execution_count": 40,
   "id": "df71f003-6223-4479-b73a-b26a1aee50b7",
   "metadata": {},
   "outputs": [],
   "source": [
    "money = df[\"MoneySpentLearningToCode\"]"
   ]
  },
  {
   "cell_type": "code",
   "execution_count": 42,
   "id": "17b57874-9e73-427c-ab74-0ae6a25b3ec6",
   "metadata": {},
   "outputs": [
    {
     "data": {
      "text/plain": [
       "<Axes: >"
      ]
     },
     "execution_count": 42,
     "metadata": {},
     "output_type": "execute_result"
    },
    {
     "data": {
      "image/png": "[encoded data removed]",
      "text/plain": [
       "<Figure size 640x480 with 1 Axes>"
      ]
     },
     "metadata": {},
     "output_type": "display_data"
    }
   ],
   "source": [
    "money.hist(bins=40, color='skyblue', edgecolor='black', grid=False, alpha=0.7)"
   ]
  },
  {
   "cell_type": "code",
   "execution_count": 43,
   "id": "806c90ac-058c-4571-b7e7-392c7913b97a",
   "metadata": {},
   "outputs": [
    {
     "data": {
      "text/plain": [
       "np.float64(16264487.0)"
      ]
     },
     "execution_count": 43,
     "metadata": {},
     "output_type": "execute_result"
    }
   ],
   "source": [
    "money.sum()"
   ]
  }
 ],
 "metadata": {
  "kernelspec": {
   "display_name": "Python 3 (ipykernel)",
   "language": "python",
   "name": "python3"
  },
  "language_info": {
   "codemirror_mode": {
    "name": "ipython",
    "version": 3
   },
   "file_extension": ".py",
   "mimetype": "text/x-python",
   "name": "python",
   "nbconvert_exporter": "python",
   "pygments_lexer": "ipython3",
   "version": "3.11.6"
  }
 },
 "nbformat": 4,
 "nbformat_minor": 5
}
