{
 "cells": [
  {
   "cell_type": "markdown",
   "id": "8dfa61a0-ad30-428b-8161-5604a40f4124",
   "metadata": {},
   "source": [
    "**Goal:** Create a list of unique restaurant santiation scores"
   ]
  },
  {
   "cell_type": "code",
   "execution_count": 1,
   "id": "84b9361e-7205-4a39-9b73-7c5f27afbd6f",
   "metadata": {},
   "outputs": [],
   "source": [
    "from helper_functions import get_restaurant_list\n",
    "scores = get_restaurant_list(\"score\")"
   ]
  },
  {
   "cell_type": "code",
   "execution_count": 2,
   "id": "c3850e0a-4726-419c-8650-a99c536af5d7",
   "metadata": {},
   "outputs": [
    {
     "name": "stdout",
     "output_type": "stream",
     "text": [
      "67573\n"
     ]
    }
   ],
   "source": [
    "print(len(scores))"
   ]
  },
  {
   "cell_type": "code",
   "execution_count": 3,
   "id": "5959344f-74b3-4af0-8198-175e709cd82e",
   "metadata": {},
   "outputs": [
    {
     "name": "stdout",
     "output_type": "stream",
     "text": [
      "\n",
      "    ~~~~~~~\n",
      "        ~~~~~~~\n",
      "    ~~~~~~~~\n",
      "    \n"
     ]
    }
   ],
   "source": [
    "import helper_functions\n",
    "\n",
    "helper_functions.print_pythons()"
   ]
  },
  {
   "cell_type": "code",
   "execution_count": 4,
   "id": "42e896f6-9088-487c-85ed-cc6e8ad42b4a",
   "metadata": {},
   "outputs": [
    {
     "name": "stdout",
     "output_type": "stream",
     "text": [
      "\n",
      "    ~~~~~~~\n",
      "        ~~~~~~~\n",
      "    ~~~~~~~~\n",
      "    \n"
     ]
    }
   ],
   "source": [
    "import helper_functions as hf\n",
    "hf.print_pythons()"
   ]
  },
  {
   "cell_type": "code",
   "execution_count": 5,
   "id": "b5eed58e-1474-4a2e-ad5d-02d227c599e3",
   "metadata": {},
   "outputs": [],
   "source": [
    "import pandas as pd"
   ]
  },
  {
   "cell_type": "code",
   "execution_count": 6,
   "id": "d7669b43-dcca-47db-93a1-c44e752d18a0",
   "metadata": {},
   "outputs": [
    {
     "name": "stderr",
     "output_type": "stream",
     "text": [
      "/tmp/ipykernel_146/1185563128.py:1: FutureWarning: unique with argument that is not not a Series, Index, ExtensionArray, or np.ndarray is deprecated and will raise in a future version.\n",
      "  pd.unique(scores)\n"
     ]
    },
    {
     "data": {
      "text/plain": [
       "array([ 86,  90,  91,  92,  93,  94,  95,  96,  98,  99,  83,  84,  87,\n",
       "        97, 100,  81,  80,  75,  76,  82,  74,  85,  88,  77,  73,  71,\n",
       "        70,  78,  89,  79,  72,  65,  68,  67,  64,  66])"
      ]
     },
     "execution_count": 6,
     "metadata": {},
     "output_type": "execute_result"
    }
   ],
   "source": [
    "pd.unique(scores)"
   ]
  },
  {
   "cell_type": "code",
   "execution_count": null,
   "id": "08ebac76-4bf4-4d84-893c-9a3da8c7f91d",
   "metadata": {},
   "outputs": [],
   "source": []
  }
 ],
 "metadata": {
  "kernelspec": {
   "display_name": "Python 3 (ipykernel)",
   "language": "python",
   "name": "python3"
  },
  "language_info": {
   "codemirror_mode": {
    "name": "ipython",
    "version": 3
   },
   "file_extension": ".py",
   "mimetype": "text/x-python",
   "name": "python",
   "nbconvert_exporter": "python",
   "pygments_lexer": "ipython3",
   "version": "3.11.6"
  }
 },
 "nbformat": 4,
 "nbformat_minor": 5
}
