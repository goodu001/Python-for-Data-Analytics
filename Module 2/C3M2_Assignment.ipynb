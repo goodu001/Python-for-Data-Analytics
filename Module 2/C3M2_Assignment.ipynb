{
 "cells": [
  {
   "cell_type": "markdown",
   "metadata": {},
   "source": [
    "# Module 2 Assignment: Retail sales - Expanding your analysis\n",
    "\n",
    "## Background\n",
    "\n",
    "You're continuing your work for the elderly couple who owns a retail store. In the first part of the analysis, you demonstrated the benefits of digitizing sales data, which impressed your bosses. Now, you'll expand on that progress by incorporating more data points and transitioning from lists to DataFrames, allowing for a more detailed and comprehensive analysis. \n",
    "\n",
    "## In order for your submission to be graded correctly, you **MUST**:\n",
    "* **Use the provided variable names**, otherwise the autograder will not be able to locate the variable for grading. \n",
    "\n",
    "* **Replace any instances of `None` with your own code.** \n",
    "\n",
    "* **Only modify the cells that start with the comment `# GRADED CELL`**.  \n",
    "\n",
    "* **Use the provided cells for your solution.** You can add new cells to experiment, but these will be omitted when grading. \n",
    "\n",
    "To submit your solution, save it, then click on the blue `Submit assignment` button at the top of the page.\n",
    "\n",
    "<div style=\"background-color: #FAD888; padding: 10px; border-radius: 3px; box-shadow: 0 2px 4px rgba(0, 0, 0, 0.1); width:95%\n",
    "\">\n",
    "<strong>Important note</strong>: Code blocks with None will not run properly. If you run them before completing the exercise, you will likely get an error. \n",
    "\n",
    "</div>"
   ]
  },
  {
   "cell_type": "markdown",
   "metadata": {
    "editable": true,
    "slideshow": {
     "slide_type": ""
    },
    "tags": []
   },
   "source": [
    "## Table of contents\n",
    "- [Step 1: Importing Modules](#step-1)\n",
    "    - [Exercise 1: Import Pandas](#ex1)\n",
    "- [Step 2: Load the Data](#step-2)\n",
    "     - [Importing data from a csv file](#importing-data-from-a-csv-file)\n",
    "        - [Exercise 2: Import data](#ex2)\n",
    "- [Step 3: Processing and Analyzing the Dataset](#step-3)\n",
    "    - [Understanding the data](#understanding-the-data)\n",
    "        - [Exercise 3: Get the data types](#ex3)\n",
    "    - [Sorting the DataFrame](#sorting-the-dataframe)\n",
    "        - [Exercise 4: Purchases With the Biggest Sales](#ex4)\n",
    "    - [Product counts](#product-counts)\n",
    "        - [Exercise 5: Product name per row](#ex5)\n",
    "        - [Exercise 6: Units sold per product](#ex6)\n",
    "    - [Filtering the DataFrame](#filtering-the-dataframe)\n",
    "        - [Exercise 7: Filter by product name and units sold](#ex7)\n",
    "    - [Total amount per invoice](#total-amount-per-invoice)\n",
    "        - [(Optional) Exercise 8: Find the total amount per invoice](#ex8)\n",
    "    - [Descriptive Statistics](#descriptive-statistics)\n",
    "        - [Exercise 9: Slicing the DataFrame](#ex9)\n",
    "        - [Exercise 10: Analyzing the amount per invoice](#ex10) \n"
   ]
  },
  {
   "cell_type": "markdown",
   "metadata": {
    "editable": true,
    "slideshow": {
     "slide_type": ""
    },
    "tags": []
   },
   "source": [
    "<a id=\"step-1\"></a>\n",
    "\n",
    "## Step 1: Import Modules\n",
    "\n",
    "It is good practice to import all your required modules at the beginning of your code. For this lab, you will only need `pandas`.\n",
    "\n",
    "<a id=\"ex1\"></a>\n",
    "\n",
    "#### Exercise 1: Import Pandas\n",
    "<div style=\"background-color: #C6E2FF; padding: 10px; border-radius: 3px; box-shadow: 0 2px 4px rgba(0, 0, 0, 0.1); width:95%\">\n",
    "\n",
    "**▶▶▶ Directions**\n",
    "\n",
    "1. Import the <code>pandas</code> module with the alias <code>pd</code> \n",
    "\n",
    "</div>"
   ]
  },
  {
   "cell_type": "markdown",
   "metadata": {
    "editable": true,
    "slideshow": {
     "slide_type": ""
    },
    "tags": []
   },
   "source": [
    "<details>\n",
    "<summary style=\"background-color: #FDBFC7; padding: 10px; border-radius: 3px; box-shadow: 0 2px 4px rgba(0, 0, 0, 0.1); width: 95%; text-align: left; cursor: pointer; font-weight: bold;\"\">\n",
    "If you are stuck, click here for extra hints!</summary> \n",
    "\n",
    "<ul style=\"background-color: #FFF8F8; padding: 10px; border-radius: 3px; margin-top: 5px; width: 95%; box-shadow: inset 0 2px 4px rgba(0, 0, 0, 0.1);\">\n",
    "   \n",
    "\n",
    "- To import packages or libraries, you can use the `import` statement\n",
    "- The alias, or nickname, can be set using `as`\n",
    "</details>"
   ]
  },
  {
   "cell_type": "code",
   "execution_count": 1,
   "metadata": {
    "editable": true,
    "slideshow": {
     "slide_type": ""
    },
    "tags": [
     "graded"
    ]
   },
   "outputs": [],
   "source": [
    "# GRADED cell: Exercise 1\n",
    "\n",
    "### START CODE HERE ###\n",
    "\n",
    "# Import the pandas module with the common alias\n",
    "import pandas as pd\n",
    "\n",
    "### END CODE HERE ###"
   ]
  },
  {
   "cell_type": "markdown",
   "metadata": {},
   "source": [
    "<a id=\"step-2\"></a>\n",
    "\n",
    "## Step 2: Loading the Data\n",
    "\n",
    "You were able to make some great insights from digitizing a few data points, and you want to add more. You ask the owners for their purchase history, as they must have kept a record. You've saved all the data in a CSV file and are now ready to inspect it in Python.\n",
    "\n",
    "<a id=\"ex2\"></a>\n",
    "\n",
    "#### Exercise 2: Import Data\n",
    "\n",
    "<div style=\"background-color: #C6E2FF; padding: 10px; border-radius: 3px; box-shadow: 0 2px 4px rgba(0, 0, 0, 0.1); width:95%\n",
    "\">\n",
    "    <strong>▶▶▶ Directions</strong> \n",
    "        <ol>\n",
    "            <li>Load the \"sales.csv\" file into a DataFrame. Save it in a variable called <code>sales_df</code>. <strong> For grading purposes, please don't modify this variable's name</strong>.</li>\n",
    "        </ol>\n",
    "</div>"
   ]
  },
  {
   "cell_type": "markdown",
   "metadata": {},
   "source": [
    "\n",
    "<details>\n",
    "<summary style=\"background-color: #FDBFC7; padding: 10px; border-radius: 3px; box-shadow: 0 2px 4px rgba(0, 0, 0, 0.1); width: 95%; text-align: left; cursor: pointer; font-weight: bold;\"\">\n",
    "If you are stuck, click here for extra hints!</summary> \n",
    "\n",
    "<ul style=\"background-color: #FFF8F8; padding: 10px; border-radius: 3px; margin-top: 5px; width: 95%; box-shadow: inset 0 2px 4px rgba(0, 0, 0, 0.1);\">\n",
    "   \n",
    "\n",
    "- Remember that to load a csv file you can use `pd.read_csv()` function. You shouldn't need to pass any arguments other than the file you want to load, but if you want a little more information, you can check out [🔗this tutorial](https://www.geeksforgeeks.org/python-read-csv-using-pandas-read_csv/) .\n",
    "\n",
    "</details>"
   ]
  },
  {
   "cell_type": "code",
   "execution_count": 2,
   "metadata": {
    "deletable": false,
    "editable": true,
    "slideshow": {
     "slide_type": ""
    },
    "tags": [
     "graded"
    ]
   },
   "outputs": [],
   "source": [
    "# GRADED CELL: Exercise 2\n",
    "\n",
    "### START CODE HERE ###\n",
    "\n",
    "# Load the dataset \n",
    "sales_df = pd.read_csv(\"sales.csv\")\n",
    "\n",
    "### END CODE HERE ###"
   ]
  },
  {
   "cell_type": "code",
   "execution_count": 3,
   "metadata": {
    "deletable": false,
    "slideshow": {
     "slide_type": ""
    },
    "tags": []
   },
   "outputs": [
    {
     "data": {
      "text/html": [
       "<div>\n",
       "<style scoped>\n",
       "    .dataframe tbody tr th:only-of-type {\n",
       "        vertical-align: middle;\n",
       "    }\n",
       "\n",
       "    .dataframe tbody tr th {\n",
       "        vertical-align: top;\n",
       "    }\n",
       "\n",
       "    .dataframe thead th {\n",
       "        text-align: right;\n",
       "    }\n",
       "</style>\n",
       "<table border=\"1\" class=\"dataframe\">\n",
       "  <thead>\n",
       "    <tr style=\"text-align: right;\">\n",
       "      <th></th>\n",
       "      <th>invoice_id</th>\n",
       "      <th>date</th>\n",
       "      <th>day_of_week</th>\n",
       "      <th>product_name</th>\n",
       "      <th>units_sold</th>\n",
       "      <th>price_per_unit</th>\n",
       "      <th>amount</th>\n",
       "    </tr>\n",
       "  </thead>\n",
       "  <tbody>\n",
       "    <tr>\n",
       "      <th>0</th>\n",
       "      <td>534377</td>\n",
       "      <td>2010-11-22</td>\n",
       "      <td>Monday</td>\n",
       "      <td>RED RETROSPOT TRADITIONAL TEAPOT</td>\n",
       "      <td>1</td>\n",
       "      <td>7.95</td>\n",
       "      <td>7.95</td>\n",
       "    </tr>\n",
       "    <tr>\n",
       "      <th>1</th>\n",
       "      <td>534377</td>\n",
       "      <td>2010-11-22</td>\n",
       "      <td>Monday</td>\n",
       "      <td>SET/5 RED RETROSPOT LID GLASS BOWLS</td>\n",
       "      <td>1</td>\n",
       "      <td>2.95</td>\n",
       "      <td>2.95</td>\n",
       "    </tr>\n",
       "    <tr>\n",
       "      <th>2</th>\n",
       "      <td>534377</td>\n",
       "      <td>2010-11-22</td>\n",
       "      <td>Monday</td>\n",
       "      <td>BROWN CHECK CAT DOORSTOP</td>\n",
       "      <td>1</td>\n",
       "      <td>4.25</td>\n",
       "      <td>4.25</td>\n",
       "    </tr>\n",
       "    <tr>\n",
       "      <th>3</th>\n",
       "      <td>534377</td>\n",
       "      <td>2010-11-22</td>\n",
       "      <td>Monday</td>\n",
       "      <td>TEA BAG PLATE RED RETROSPOT</td>\n",
       "      <td>2</td>\n",
       "      <td>0.85</td>\n",
       "      <td>1.70</td>\n",
       "    </tr>\n",
       "    <tr>\n",
       "      <th>4</th>\n",
       "      <td>534377</td>\n",
       "      <td>2010-11-22</td>\n",
       "      <td>Monday</td>\n",
       "      <td>CHILLI LIGHTS</td>\n",
       "      <td>1</td>\n",
       "      <td>4.95</td>\n",
       "      <td>4.95</td>\n",
       "    </tr>\n",
       "  </tbody>\n",
       "</table>\n",
       "</div>"
      ],
      "text/plain": [
       "   invoice_id        date day_of_week                         product_name  \\\n",
       "0      534377  2010-11-22      Monday    RED RETROSPOT TRADITIONAL TEAPOT    \n",
       "1      534377  2010-11-22      Monday  SET/5 RED RETROSPOT LID GLASS BOWLS   \n",
       "2      534377  2010-11-22      Monday            BROWN CHECK CAT DOORSTOP    \n",
       "3      534377  2010-11-22      Monday          TEA BAG PLATE RED RETROSPOT   \n",
       "4      534377  2010-11-22      Monday                        CHILLI LIGHTS   \n",
       "\n",
       "   units_sold  price_per_unit  amount  \n",
       "0           1            7.95    7.95  \n",
       "1           1            2.95    2.95  \n",
       "2           1            4.25    4.25  \n",
       "3           2            0.85    1.70  \n",
       "4           1            4.95    4.95  "
      ]
     },
     "execution_count": 3,
     "metadata": {},
     "output_type": "execute_result"
    }
   ],
   "source": [
    "# Inspect the loaded data using head() method\n",
    "sales_df.head()"
   ]
  },
  {
   "cell_type": "markdown",
   "metadata": {},
   "source": [
    "<details>\n",
    "<summary style=\"background-color: #c6e2ff6c; padding: 10px; border-radius: 3px; box-shadow: 0 2px 4px rgba(0, 0, 0, 0.01); width: 95%; text-align: left; cursor: pointer; font-weight: bold;\">\n",
    "Expected output:</summary> \n",
    "<br>\n",
    "\n",
    "<img src=\"img/output_ex2.png\">\n",
    "\n",
    "\n",
    "</details>"
   ]
  },
  {
   "cell_type": "markdown",
   "metadata": {
    "editable": true,
    "slideshow": {
     "slide_type": ""
    },
    "tags": []
   },
   "source": [
    "<a id=\"step-3\"></a>\n",
    "\n",
    "## Step 3: Processing and Analyzing the Dataset\n",
    "\n",
    "<a id=\"Understanding the data\"></a>\n",
    "\n",
    "### Understanding the data\n",
    "Before you move any further, you want to first understand the data. You've consulted with the owners and verified these descriptions established in your previous analysis:\n",
    "\n",
    "* `invoice_id`: id of the purchase. The invoice_id will be repeated as many times as different products were in the purchase. In other words, there will be one observation (row) for each product sold in each purchase. \n",
    "* `date`: date of the purchase\n",
    "* `day_of_week`: Monday - Saturday\n",
    "* `product_name`: description of the product\n",
    "* `units_sold`: number of units sold of the product\n",
    "* `price_per_unit`: price for each individual unit of the product\n",
    "* `amount`: calculated by multiplying `units_sold` with `price_per_unit`\n",
    "\n",
    "Now you want to know how `pandas` stored each feature, and you can retrieve that with one attribute.\n",
    "\n",
    "<a id=\"ex3\"></a>\n",
    "#### Exercise 3: Get the data types\n",
    "<div style=\"background-color: #C6E2FF; padding: 10px; border-radius: 3px; box-shadow: 0 2px 4px rgba(0, 0, 0, 0.1); width:95%\n",
    "\">\n",
    "    <strong>▶▶▶ Directions</strong> \n",
    "        <ol>\n",
    "            <li>Get the data types of each feature in the <code>sales_df</code> DataFrame. Store it in the <code>dtypes</code> variable.   \n",
    "        </ol>\n",
    "</div>\n"
   ]
  },
  {
   "cell_type": "markdown",
   "metadata": {
    "editable": true,
    "slideshow": {
     "slide_type": ""
    },
    "tags": []
   },
   "source": [
    "\n",
    "<br>\n",
    "<details>\n",
    "<summary style=\"background-color: #FDBFC7; padding: 10px; border-radius: 3px; box-shadow: 0 2px 4px rgba(0, 0, 0, 0.1); width: 95%; text-align: left; cursor: pointer; font-weight: bold;\"\">\n",
    "If you are stuck, click here for extra hints!</summary> \n",
    "\n",
    "<ul style=\"background-color: #FFF8F8; padding: 10px; border-radius: 3px; margin-top: 5px; width: 95%; box-shadow: inset 0 2px 4px rgba(0, 0, 0, 0.1);\">\n",
    "   \n",
    "\n",
    "- For grading purposes, do not use the `info()` method here.\n",
    "- You used this attribute in the first practice lab in this module.\n",
    "  \n",
    "</details>"
   ]
  },
  {
   "cell_type": "code",
   "execution_count": 4,
   "metadata": {
    "deletable": false,
    "editable": true,
    "slideshow": {
     "slide_type": ""
    },
    "tags": [
     "graded"
    ]
   },
   "outputs": [],
   "source": [
    "# GRADED CELL: Exercise 3\n",
    "\n",
    "### START CODE HERE ###\n",
    "\n",
    "# Get the data types of each feature\n",
    "feature_types = sales_df.dtypes\n",
    "\n",
    "### END CODE HERE ###"
   ]
  },
  {
   "cell_type": "code",
   "execution_count": 5,
   "metadata": {
    "deletable": false,
    "slideshow": {
     "slide_type": ""
    },
    "tags": []
   },
   "outputs": [
    {
     "name": "stdout",
     "output_type": "stream",
     "text": [
      "invoice_id          int64\n",
      "date               object\n",
      "day_of_week        object\n",
      "product_name       object\n",
      "units_sold          int64\n",
      "price_per_unit    float64\n",
      "amount            float64\n",
      "dtype: object\n"
     ]
    }
   ],
   "source": [
    "# Print the result\n",
    "print(feature_types)"
   ]
  },
  {
   "cell_type": "markdown",
   "metadata": {
    "editable": true,
    "slideshow": {
     "slide_type": ""
    },
    "tags": []
   },
   "source": [
    "<details>\n",
    "<summary style=\"background-color: #c6e2ff6c; padding: 10px; border-radius: 3px; box-shadow: 0 2px 4px rgba(0, 0, 0, 0.01); width: 95%; text-align: left; cursor: pointer; font-weight: bold;\">\n",
    "Expected output:</summary> \n",
    "<br>\n",
    "\n",
    "```text\n",
    "invoice_id          int64\n",
    "date               object\n",
    "day_of_week        object\n",
    "product_name       object\n",
    "units_sold          int64\n",
    "price_per_unit    float64\n",
    "amount            float64\n",
    "dtype: object\n",
    "```\n",
    "\n",
    "\n",
    "</details>"
   ]
  },
  {
   "cell_type": "markdown",
   "metadata": {
    "editable": true,
    "slideshow": {
     "slide_type": ""
    },
    "tags": []
   },
   "source": [
    "<a id=\"sorting-the-dataframe\"></a>\n",
    "### Sorting the DataFrame\n",
    "Which were the top 10 largest sales amounts recorded in the dataset? One way to figure this out is by sorting the DataFrame by \"amount\" in descending order. This way your first observations will be the most profitable ones. \n",
    "\n",
    "<a id=\"ex4\"></a>\n",
    "\n",
    "#### Exercise 4: Purchases with Biggest Sales\n",
    "<div style=\"background-color: #C6E2FF; padding: 10px; border-radius: 3px; box-shadow: 0 2px 4px rgba(0, 0, 0, 0.1); width:95%\n",
    "\">\n",
    "    <strong>▶▶▶ Directions</strong> \n",
    "        <ol>\n",
    "            <li>Sort <code>sales_df</code> by \"amount\" in decreasing order </li>\n",
    "            <li>Get the first 10 rows of the sorted dataset and save them into a new variable, <code>top_10</code>. <strong>For grading purposes, please don't modify the name of this variable</strong></li>\n",
    "</div>"
   ]
  },
  {
   "cell_type": "markdown",
   "metadata": {
    "editable": true,
    "slideshow": {
     "slide_type": ""
    },
    "tags": []
   },
   "source": [
    "<details>\n",
    "<summary style=\"background-color: #FDBFC7; padding: 10px; border-radius: 3px; box-shadow: 0 2px 4px rgba(0, 0, 0, 0.1); width: 95%; text-align: left; cursor: pointer; font-weight: bold;\"\">\n",
    "If you are stuck, click here for extra hints!</summary> \n",
    "\n",
    "<ul style=\"background-color: #FFF8F8; padding: 10px; border-radius: 3px; margin-top: 5px; width: 95%; box-shadow: inset 0 2px 4px rgba(0, 0, 0, 0.1);\">\n",
    "   \n",
    "\n",
    "- To sort the DataFrame you can use the [`🔗sort_values()`](https://pandas.pydata.org/docs/reference/api/pandas.DataFrame.sort_values.html) method. Make sure to set the arguments `by` to the column you are sorting by,  and `ascending=False` (you want descending sorting in this case). \n",
    "- To get the first ten rows of the sorted dataset, you can use the `head()` method, passing the argument 10 to overwrite the default of 5 rows.\n",
    "</details>\n"
   ]
  },
  {
   "cell_type": "code",
   "execution_count": 7,
   "metadata": {
    "deletable": false,
    "editable": true,
    "slideshow": {
     "slide_type": ""
    },
    "tags": [
     "graded"
    ]
   },
   "outputs": [],
   "source": [
    "# GRADED cell: Exercise 4\n",
    "\n",
    "### START CODE HERE ###\n",
    "\n",
    "# Sort the dataset by decreasing amount\n",
    "sorted_df = sales_df.sort_values(by=\"amount\", ascending=False)\n",
    "\n",
    "# Save the top 10 sales\n",
    "top_10 = sorted_df.head(10)\n",
    "\n",
    "### END CODE HERE ###"
   ]
  },
  {
   "cell_type": "code",
   "execution_count": 8,
   "metadata": {
    "deletable": false,
    "slideshow": {
     "slide_type": ""
    },
    "tags": []
   },
   "outputs": [
    {
     "data": {
      "text/html": [
       "<div>\n",
       "<style scoped>\n",
       "    .dataframe tbody tr th:only-of-type {\n",
       "        vertical-align: middle;\n",
       "    }\n",
       "\n",
       "    .dataframe tbody tr th {\n",
       "        vertical-align: top;\n",
       "    }\n",
       "\n",
       "    .dataframe thead th {\n",
       "        text-align: right;\n",
       "    }\n",
       "</style>\n",
       "<table border=\"1\" class=\"dataframe\">\n",
       "  <thead>\n",
       "    <tr style=\"text-align: right;\">\n",
       "      <th></th>\n",
       "      <th>invoice_id</th>\n",
       "      <th>date</th>\n",
       "      <th>day_of_week</th>\n",
       "      <th>product_name</th>\n",
       "      <th>units_sold</th>\n",
       "      <th>price_per_unit</th>\n",
       "      <th>amount</th>\n",
       "    </tr>\n",
       "  </thead>\n",
       "  <tbody>\n",
       "    <tr>\n",
       "      <th>438</th>\n",
       "      <td>534418</td>\n",
       "      <td>2010-12-02</td>\n",
       "      <td>Thursday</td>\n",
       "      <td>VINTAGE RED KITCHEN CABINET</td>\n",
       "      <td>1</td>\n",
       "      <td>295.00</td>\n",
       "      <td>295.00</td>\n",
       "    </tr>\n",
       "    <tr>\n",
       "      <th>418</th>\n",
       "      <td>534409</td>\n",
       "      <td>2010-11-30</td>\n",
       "      <td>Tuesday</td>\n",
       "      <td>3 TIER CAKE TIN GREEN AND CREAM</td>\n",
       "      <td>4</td>\n",
       "      <td>14.95</td>\n",
       "      <td>59.80</td>\n",
       "    </tr>\n",
       "    <tr>\n",
       "      <th>301</th>\n",
       "      <td>534399</td>\n",
       "      <td>2010-11-25</td>\n",
       "      <td>Thursday</td>\n",
       "      <td>CAKE TIN, 3 TIER RED/IVORY</td>\n",
       "      <td>3</td>\n",
       "      <td>14.95</td>\n",
       "      <td>44.85</td>\n",
       "    </tr>\n",
       "    <tr>\n",
       "      <th>303</th>\n",
       "      <td>534399</td>\n",
       "      <td>2010-11-25</td>\n",
       "      <td>Thursday</td>\n",
       "      <td>CAKE TIN, 3 TIER MINT/IVORY</td>\n",
       "      <td>3</td>\n",
       "      <td>14.95</td>\n",
       "      <td>44.85</td>\n",
       "    </tr>\n",
       "    <tr>\n",
       "      <th>17</th>\n",
       "      <td>534378</td>\n",
       "      <td>2010-11-22</td>\n",
       "      <td>Monday</td>\n",
       "      <td>SET/4 WHITE RETRO STORAGE CUBES</td>\n",
       "      <td>1</td>\n",
       "      <td>39.95</td>\n",
       "      <td>39.95</td>\n",
       "    </tr>\n",
       "    <tr>\n",
       "      <th>414</th>\n",
       "      <td>534409</td>\n",
       "      <td>2010-11-30</td>\n",
       "      <td>Tuesday</td>\n",
       "      <td>REGENCY CAKESTAND 3 TIER</td>\n",
       "      <td>3</td>\n",
       "      <td>12.75</td>\n",
       "      <td>38.25</td>\n",
       "    </tr>\n",
       "    <tr>\n",
       "      <th>360</th>\n",
       "      <td>534406</td>\n",
       "      <td>2010-11-29</td>\n",
       "      <td>Monday</td>\n",
       "      <td>CREAM SWEETHEART WALL CABINET</td>\n",
       "      <td>2</td>\n",
       "      <td>18.95</td>\n",
       "      <td>37.90</td>\n",
       "    </tr>\n",
       "    <tr>\n",
       "      <th>53</th>\n",
       "      <td>534382</td>\n",
       "      <td>2010-11-23</td>\n",
       "      <td>Tuesday</td>\n",
       "      <td>WOODEN ADVENT CALENDAR CREAM</td>\n",
       "      <td>2</td>\n",
       "      <td>16.95</td>\n",
       "      <td>33.90</td>\n",
       "    </tr>\n",
       "    <tr>\n",
       "      <th>508</th>\n",
       "      <td>534424</td>\n",
       "      <td>2010-11-23</td>\n",
       "      <td>Tuesday</td>\n",
       "      <td>3 TIER CAKE TIN RED AND CREAM</td>\n",
       "      <td>2</td>\n",
       "      <td>14.95</td>\n",
       "      <td>29.90</td>\n",
       "    </tr>\n",
       "    <tr>\n",
       "      <th>564</th>\n",
       "      <td>534443</td>\n",
       "      <td>2010-12-03</td>\n",
       "      <td>Friday</td>\n",
       "      <td>3 TIER CAKE TIN RED AND CREAM</td>\n",
       "      <td>1</td>\n",
       "      <td>29.79</td>\n",
       "      <td>29.79</td>\n",
       "    </tr>\n",
       "  </tbody>\n",
       "</table>\n",
       "</div>"
      ],
      "text/plain": [
       "     invoice_id        date day_of_week                      product_name  \\\n",
       "438      534418  2010-12-02    Thursday       VINTAGE RED KITCHEN CABINET   \n",
       "418      534409  2010-11-30     Tuesday   3 TIER CAKE TIN GREEN AND CREAM   \n",
       "301      534399  2010-11-25    Thursday        CAKE TIN, 3 TIER RED/IVORY   \n",
       "303      534399  2010-11-25    Thursday       CAKE TIN, 3 TIER MINT/IVORY   \n",
       "17       534378  2010-11-22      Monday  SET/4 WHITE RETRO STORAGE CUBES    \n",
       "414      534409  2010-11-30     Tuesday          REGENCY CAKESTAND 3 TIER   \n",
       "360      534406  2010-11-29      Monday     CREAM SWEETHEART WALL CABINET   \n",
       "53       534382  2010-11-23     Tuesday      WOODEN ADVENT CALENDAR CREAM   \n",
       "508      534424  2010-11-23     Tuesday     3 TIER CAKE TIN RED AND CREAM   \n",
       "564      534443  2010-12-03      Friday     3 TIER CAKE TIN RED AND CREAM   \n",
       "\n",
       "     units_sold  price_per_unit  amount  \n",
       "438           1          295.00  295.00  \n",
       "418           4           14.95   59.80  \n",
       "301           3           14.95   44.85  \n",
       "303           3           14.95   44.85  \n",
       "17            1           39.95   39.95  \n",
       "414           3           12.75   38.25  \n",
       "360           2           18.95   37.90  \n",
       "53            2           16.95   33.90  \n",
       "508           2           14.95   29.90  \n",
       "564           1           29.79   29.79  "
      ]
     },
     "execution_count": 8,
     "metadata": {},
     "output_type": "execute_result"
    }
   ],
   "source": [
    "# Display the results\n",
    "top_10"
   ]
  },
  {
   "cell_type": "markdown",
   "metadata": {
    "editable": true,
    "slideshow": {
     "slide_type": ""
    },
    "tags": []
   },
   "source": [
    "<details>\n",
    "<summary style=\"background-color: #c6e2ff6c; padding: 10px; border-radius: 3px; box-shadow: 0 2px 4px rgba(0, 0, 0, 0.01); width: 95%; text-align: left; cursor: pointer; font-weight: bold;\">\n",
    "Expected output:</summary> \n",
    "<br>\n",
    "\n",
    "<img src=\"img/output_ex4.png\">\n",
    "\n",
    "\n",
    "</details>"
   ]
  },
  {
   "cell_type": "markdown",
   "metadata": {
    "editable": true,
    "slideshow": {
     "slide_type": ""
    },
    "tags": []
   },
   "source": [
    "<a id=\"product-counts\"></a>\n",
    "\n",
    "### Product counts\n",
    "\n",
    "You want to see which products are frequently bought by the customers. One way to do that is to count the number of times a product name appears in an invoice.\n",
    "\n",
    "<a id=\"ex5\"></a>\n",
    "\n",
    "#### Exercise 5: Product name per row\n",
    "<div style=\"background-color: #C6E2FF; padding: 10px; border-radius: 3px; box-shadow: 0 2px 4px rgba(0, 0, 0, 0.1); width:95%\n",
    "\">\n",
    "    <strong>▶▶▶ Directions</strong> \n",
    "        <ol>\n",
    "            <li>Use a method on the <code>product_name</code> feature of the <code>sales_df</code> DataFrame to count how often each one occurs.</li>\n",
    "            <li>Store the result in the <code>product_counts</code> variable.</li>\n",
    "</div>"
   ]
  },
  {
   "cell_type": "markdown",
   "metadata": {},
   "source": [
    "\n",
    "<details>\n",
    "<summary style=\"background-color: #FDBFC7; padding: 10px; border-radius: 3px; box-shadow: 0 2px 4px rgba(0, 0, 0, 0.1); width: 95%; text-align: left; cursor: pointer; font-weight: bold;\"\">\n",
    "If you are stuck, click here for extra hints!</summary> \n",
    "\n",
    "<ul style=\"background-color: #FFF8F8; padding: 10px; border-radius: 3px; margin-top: 5px; width: 95%; box-shadow: inset 0 2px 4px rgba(0, 0, 0, 0.1);\">\n",
    "   \n",
    "- use the `value_counts()` method on the 'product_name' column.\n"
   ]
  },
  {
   "cell_type": "code",
   "execution_count": 9,
   "metadata": {
    "deletable": false,
    "editable": true,
    "slideshow": {
     "slide_type": ""
    },
    "tags": [
     "graded"
    ]
   },
   "outputs": [],
   "source": [
    "# GRADED cell: Exercise 5\n",
    "\n",
    "### START CODE HERE ###\n",
    "\n",
    "# Find out which product name appears most frequently.\n",
    "product_counts = sales_df[\"product_name\"].value_counts()\n",
    "\n",
    "### END CODE HERE ###"
   ]
  },
  {
   "cell_type": "code",
   "execution_count": 10,
   "metadata": {
    "editable": true,
    "slideshow": {
     "slide_type": ""
    },
    "tags": []
   },
   "outputs": [
    {
     "data": {
      "text/plain": [
       "product_name\n",
       "HAND WARMER BIRD DESIGN           8\n",
       "HAND WARMER OWL DESIGN            8\n",
       "HAND WARMER RED RETROSPOT         7\n",
       "CHRISTMAS CRAFT LITTLE FRIENDS    7\n",
       "HAND WARMER SCOTTY DOG DESIGN     6\n",
       "Name: count, dtype: int64"
      ]
     },
     "execution_count": 10,
     "metadata": {},
     "output_type": "execute_result"
    }
   ],
   "source": [
    "# Preview the results\n",
    "product_counts.head()"
   ]
  },
  {
   "cell_type": "markdown",
   "metadata": {
    "editable": true,
    "slideshow": {
     "slide_type": ""
    },
    "tags": []
   },
   "source": [
    "<details>\n",
    "<summary style=\"background-color: #c6e2ff6c; padding: 10px; border-radius: 3px; box-shadow: 0 2px 4px rgba(0, 0, 0, 0.01); width: 95%; text-align: left; cursor: pointer; font-weight: bold;\">\n",
    "Expected output:</summary> \n",
    "<br>\n",
    "\n",
    "```text\n",
    "HAND WARMER BIRD DESIGN           8\n",
    "HAND WARMER OWL DESIGN            8\n",
    "HAND WARMER RED RETROSPOT         7\n",
    "CHRISTMAS CRAFT LITTLE FRIENDS    7\n",
    "HAND WARMER SCOTTY DOG DESIGN     6\n",
    "Name: count, dtype: int64\n",
    "```\n",
    "\n",
    "\n",
    "</details>"
   ]
  },
  {
   "cell_type": "markdown",
   "metadata": {
    "editable": true,
    "slideshow": {
     "slide_type": ""
    },
    "tags": []
   },
   "source": [
    "This tells you that \"HAND WARMER BIRD DESIGN\" appeared on eight invoices. However, it doesn't take into account how many units are sold. For example, there could be 3 units sold in one invoice. You want to consider this as well in your tally.\n",
    "\n",
    "<a id=\"ex6\"></a>\n",
    "\n",
    "#### Exercise 6: Units sold per product name\n",
    "<div style=\"background-color: #C6E2FF; padding: 10px; border-radius: 3px; box-shadow: 0 2px 4px rgba(0, 0, 0, 0.1); width:95%\n",
    "\">\n",
    "    <strong>▶▶▶ Directions</strong> \n",
    "        <ol>\n",
    "            <li>Group the <code>sales_df</code> DataFrame by <code>product_name</code>. Store the results in <code>grouped_by_product_name</code>.</li>\n",
    "            <li>Calculate the sum of <code>units_sold</code> in the <code>grouped_by_product_name</code> object. Store the results in <code>unit_counts</code>.</li>\n",
    "        </ol>\n",
    "</div>\n"
   ]
  },
  {
   "cell_type": "markdown",
   "metadata": {},
   "source": [
    "<details>\n",
    "<summary style=\"background-color: #FDBFC7; padding: 10px; border-radius: 3px; box-shadow: 0 2px 4px rgba(0, 0, 0, 0.1); width: 95%; text-align: left; cursor: pointer; font-weight: bold;\"\">\n",
    "If you are stuck, click here for extra hints!</summary> \n",
    "\n",
    "<ul style=\"background-color: #FFF8F8; padding: 10px; border-radius: 3px; margin-top: 5px; width: 95%; box-shadow: inset 0 2px 4px rgba(0, 0, 0, 0.1);\">\n",
    "   \n",
    "\n",
    "- Use the `groupby()` method for grouping.\n",
    "- Use the `sum()` method for calculating the sum.\n",
    "</details>"
   ]
  },
  {
   "cell_type": "code",
   "execution_count": 11,
   "metadata": {
    "editable": true,
    "slideshow": {
     "slide_type": ""
    },
    "tags": [
     "graded"
    ]
   },
   "outputs": [],
   "source": [
    "# GRADED cell: Exercise 6\n",
    "\n",
    "### START CODE HERE ###\n",
    "\n",
    "grouped_by_product_name = sales_df.groupby(\"product_name\")\n",
    "\n",
    "unit_counts = grouped_by_product_name['units_sold'].sum()\n",
    "\n",
    "### END CODE HERE ###"
   ]
  },
  {
   "cell_type": "code",
   "execution_count": 12,
   "metadata": {
    "editable": true,
    "slideshow": {
     "slide_type": ""
    },
    "tags": []
   },
   "outputs": [
    {
     "data": {
      "text/plain": [
       "product_name\n",
       "HAND WARMER BIRD DESIGN      14\n",
       "SMALL POPCORN HOLDER         13\n",
       "HAND WARMER RED RETROSPOT    13\n",
       "SCANDINAVIAN REDS RIBBONS    12\n",
       "HAND WARMER OWL DESIGN       12\n",
       "Name: units_sold, dtype: int64"
      ]
     },
     "execution_count": 12,
     "metadata": {},
     "output_type": "execute_result"
    }
   ],
   "source": [
    "# Sort and preview the results\n",
    "unit_counts.sort_values(ascending=False).head()"
   ]
  },
  {
   "cell_type": "markdown",
   "metadata": {},
   "source": [
    "<details>\n",
    "<summary style=\"background-color: #c6e2ff6c; padding: 10px; border-radius: 3px; box-shadow: 0 2px 4px rgba(0, 0, 0, 0.01); width: 95%; text-align: left; cursor: pointer; font-weight: bold;\">\n",
    "Expected output:</summary> \n",
    "<br>\n",
    "<small>\n",
    "\n",
    "```text\n",
    "product_name\n",
    "HAND WARMER BIRD DESIGN      14\n",
    "SMALL POPCORN HOLDER         13\n",
    "HAND WARMER RED RETROSPOT    13\n",
    "SCANDINAVIAN REDS RIBBONS    12\n",
    "HAND WARMER OWL DESIGN       12\n",
    "Name: units_sold, dtype: int64\n",
    "```\n",
    "\n",
    "</small>\n",
    "\n",
    "\n",
    "</details>"
   ]
  },
  {
   "cell_type": "markdown",
   "metadata": {
    "editable": true,
    "slideshow": {
     "slide_type": ""
    },
    "tags": []
   },
   "source": [
    "<a id=\"filtering-the-dataframe\"></a>\n",
    "\n",
    "### Filtering the DataFrame\n",
    "Identify invoices with purchases of more than one `\"HAND WARMER BIRD DESIGN\"` to analyze the commonly bundled products.\n",
    "\n",
    "<a id=\"ex7\"></a>\n",
    "\n",
    "#### Exercise 7: Filter by product name and units sold\n",
    "<div style=\"background-color: #C6E2FF; padding: 10px; border-radius: 3px; box-shadow: 0 2px 4px rgba(0, 0, 0, 0.1); width:95%\n",
    "\">\n",
    "    <strong>▶▶▶ Directions</strong> \n",
    "        <ol>\n",
    "            <li>Filter the <code>sales_df</code> DataFrame by these two conditions:</li>\n",
    "            <ul>\n",
    "                <li><code>\"product_name\"</code> is <code>\"HAND WARMER BIRD DESIGN\"</code></li>\n",
    "                <li><code>\"units_sold\"</code> is greater than <code>1</code></li>\n",
    "            </ul>\n",
    "            <li>Store the results in <code>df_filtered</code></li>\n",
    "        </ol>\n",
    "</div>\n"
   ]
  },
  {
   "cell_type": "markdown",
   "metadata": {
    "editable": true,
    "slideshow": {
     "slide_type": ""
    },
    "tags": []
   },
   "source": [
    "<details>\n",
    "<summary style=\"background-color: #FDBFC7; padding: 10px; border-radius: 3px; box-shadow: 0 2px 4px rgba(0, 0, 0, 0.1); width: 95%; text-align: left; cursor: pointer; font-weight: bold;\"\">\n",
    "If you are stuck, click here for extra hints!</summary> \n",
    "\n",
    "<ul style=\"background-color: #FFF8F8; padding: 10px; border-radius: 3px; margin-top: 5px; width: 95%; box-shadow: inset 0 2px 4px rgba(0, 0, 0, 0.1);\">\n",
    "   \n",
    "- Remember when to use `[]`, `()` and `&` when filtering the DataFrame.\n",
    "- You can try filtering with one condition first. If it works correctly, then add the next. Remember to use `()` to group the conditions.\n",
    "</details>"
   ]
  },
  {
   "cell_type": "code",
   "execution_count": 15,
   "metadata": {
    "editable": true,
    "slideshow": {
     "slide_type": ""
    },
    "tags": [
     "graded"
    ]
   },
   "outputs": [],
   "source": [
    "# GRADED cell: Exercise 7\n",
    "\n",
    "### START CODE HERE ###\n",
    "\n",
    "# Get rows that sold more than 1 HAND WARMER BIRD DESIGN\n",
    "df_filtered = sales_df[(sales_df[\"product_name\"] == \"HAND WARMER BIRD DESIGN\") & (sales_df[\"units_sold\"] > 1)]\n",
    "\n",
    "### END CODE HERE ###"
   ]
  },
  {
   "cell_type": "code",
   "execution_count": 16,
   "metadata": {
    "editable": true,
    "slideshow": {
     "slide_type": ""
    },
    "tags": []
   },
   "outputs": [
    {
     "data": {
      "text/html": [
       "<div>\n",
       "<style scoped>\n",
       "    .dataframe tbody tr th:only-of-type {\n",
       "        vertical-align: middle;\n",
       "    }\n",
       "\n",
       "    .dataframe tbody tr th {\n",
       "        vertical-align: top;\n",
       "    }\n",
       "\n",
       "    .dataframe thead th {\n",
       "        text-align: right;\n",
       "    }\n",
       "</style>\n",
       "<table border=\"1\" class=\"dataframe\">\n",
       "  <thead>\n",
       "    <tr style=\"text-align: right;\">\n",
       "      <th></th>\n",
       "      <th>invoice_id</th>\n",
       "      <th>date</th>\n",
       "      <th>day_of_week</th>\n",
       "      <th>product_name</th>\n",
       "      <th>units_sold</th>\n",
       "      <th>price_per_unit</th>\n",
       "      <th>amount</th>\n",
       "    </tr>\n",
       "  </thead>\n",
       "  <tbody>\n",
       "    <tr>\n",
       "      <th>527</th>\n",
       "      <td>534429</td>\n",
       "      <td>2010-11-24</td>\n",
       "      <td>Wednesday</td>\n",
       "      <td>HAND WARMER BIRD DESIGN</td>\n",
       "      <td>3</td>\n",
       "      <td>2.1</td>\n",
       "      <td>6.3</td>\n",
       "    </tr>\n",
       "    <tr>\n",
       "      <th>534</th>\n",
       "      <td>534431</td>\n",
       "      <td>2010-11-24</td>\n",
       "      <td>Wednesday</td>\n",
       "      <td>HAND WARMER BIRD DESIGN</td>\n",
       "      <td>3</td>\n",
       "      <td>2.1</td>\n",
       "      <td>6.3</td>\n",
       "    </tr>\n",
       "    <tr>\n",
       "      <th>536</th>\n",
       "      <td>534432</td>\n",
       "      <td>2010-11-25</td>\n",
       "      <td>Thursday</td>\n",
       "      <td>HAND WARMER BIRD DESIGN</td>\n",
       "      <td>2</td>\n",
       "      <td>2.1</td>\n",
       "      <td>4.2</td>\n",
       "    </tr>\n",
       "    <tr>\n",
       "      <th>550</th>\n",
       "      <td>534438</td>\n",
       "      <td>2010-11-30</td>\n",
       "      <td>Tuesday</td>\n",
       "      <td>HAND WARMER BIRD DESIGN</td>\n",
       "      <td>2</td>\n",
       "      <td>2.1</td>\n",
       "      <td>4.2</td>\n",
       "    </tr>\n",
       "  </tbody>\n",
       "</table>\n",
       "</div>"
      ],
      "text/plain": [
       "     invoice_id        date day_of_week             product_name  units_sold  \\\n",
       "527      534429  2010-11-24   Wednesday  HAND WARMER BIRD DESIGN           3   \n",
       "534      534431  2010-11-24   Wednesday  HAND WARMER BIRD DESIGN           3   \n",
       "536      534432  2010-11-25    Thursday  HAND WARMER BIRD DESIGN           2   \n",
       "550      534438  2010-11-30     Tuesday  HAND WARMER BIRD DESIGN           2   \n",
       "\n",
       "     price_per_unit  amount  \n",
       "527             2.1     6.3  \n",
       "534             2.1     6.3  \n",
       "536             2.1     4.2  \n",
       "550             2.1     4.2  "
      ]
     },
     "execution_count": 16,
     "metadata": {},
     "output_type": "execute_result"
    }
   ],
   "source": [
    "# Preview the results\n",
    "df_filtered.head()"
   ]
  },
  {
   "cell_type": "markdown",
   "metadata": {},
   "source": [
    "<details>\n",
    "<summary style=\"background-color: #c6e2ff6c; padding: 10px; border-radius: 3px; box-shadow: 0 2px 4px rgba(0, 0, 0, 0.01); width: 95%; text-align: left; cursor: pointer; font-weight: bold;\">\n",
    "Expected output:</summary> \n",
    "<br>\n",
    "<img src='img/output_ex7.png'\n",
    "\n",
    "\n",
    "</details>"
   ]
  },
  {
   "cell_type": "markdown",
   "metadata": {},
   "source": [
    "Now that you have these, you can filter by invoice id to see the other items a customer purchased. You can use this to recommend items to future buyers of the popular item."
   ]
  },
  {
   "cell_type": "code",
   "execution_count": 17,
   "metadata": {
    "editable": true,
    "slideshow": {
     "slide_type": ""
    },
    "tags": []
   },
   "outputs": [
    {
     "data": {
      "text/plain": [
       "549            HAND WARMER OWL DESIGN\n",
       "550           HAND WARMER BIRD DESIGN\n",
       "551         HAND WARMER RED RETROSPOT\n",
       "552     3 TIER CAKE TIN RED AND CREAM\n",
       "553    CHRISTMAS CRAFT LITTLE FRIENDS\n",
       "Name: product_name, dtype: object"
      ]
     },
     "execution_count": 17,
     "metadata": {},
     "output_type": "execute_result"
    }
   ],
   "source": [
    "# Specify one invoice from the results above\n",
    "index = 534438\n",
    "\n",
    "# Filter by the invoice id\n",
    "row = sales_df[(sales_df[\"invoice_id\"]==index)]\n",
    "\n",
    "# Print the products found in the invoice\n",
    "row['product_name']"
   ]
  },
  {
   "cell_type": "markdown",
   "metadata": {
    "deletable": false,
    "editable": true,
    "slideshow": {
     "slide_type": ""
    },
    "tags": []
   },
   "source": [
    "<a id=\"total-amount-per-invoice\"></a>\n",
    "### Total amount per invoice\n",
    "One question remains unanswered: how much are customers spending per purchase? Since each purchase (identified by `invoice_id`) can include multiple products, with each row representing one product, you don’t yet know the total amount for each sale. By grouping the rows by `invoice_id`, you can calculate the total for each purchase. The owners would also like to know how many units of their products are being sold and if it translates to higher revenue. They have many low-priced items in their catalog and they'd like to see if there is enough demand for those, or if it's better to focus on their higher-priced items.\n",
    "\n",
    "<a id=\"ex8\"></a>\n",
    "\n",
    "#### (Optional) Exercise 8: Find the total amount per invoice\n",
    "<div style=\"background-color: #C6E2FF; padding: 10px; border-radius: 3px; box-shadow: 0 2px 4px rgba(0, 0, 0, 0.1); width:95%\n",
    "\">\n",
    "    <strong>▶▶▶ Directions</strong> \n",
    "        <ol>\n",
    "            <li>Create a pivot table with the following arguments:</li>\n",
    "            <ol>\n",
    "                <li>Use \"invoice_id\" as the index</li>\n",
    "                <li>Do not use the columns argument. Go straight to values.</li>\n",
    "                <li>Use the features \"units_sold\" and \"amount\" as values. Pass it as a list.</li>\n",
    "                <li>Aggregate values using the sum function</li> \n",
    "            </ol>\n",
    "        </ol>\n",
    "</div>"
   ]
  },
  {
   "cell_type": "markdown",
   "metadata": {},
   "source": [
    "<details>\n",
    "<summary style=\"background-color: #FDBFC7; padding: 10px; border-radius: 3px; box-shadow: 0 2px 4px rgba(0, 0, 0, 0.1); width: 95%; text-align: left; cursor: pointer; font-weight: bold;\"\">\n",
    "If you are stuck, click here for extra hints!</summary> \n",
    "\n",
    "<ul style=\"background-color: #FFF8F8; padding: 10px; border-radius: 3px; margin-top: 5px; width: 95%; box-shadow: inset 0 2px 4px rgba(0, 0, 0, 0.1);\">\n",
    "   \n",
    "- You can use the [`🔗pivot_table()`](https://pandas.pydata.org/docs/reference/api/pandas.pivot_table.html) method for DataFrames to complete this task. Since each invoice has more than one row in the original DataFrame (one for each product in the purchase), you want to create a new DataFrame with aggregated data for each individual sale. This allows you to see the total amount spent per invoice, which isn't directly available in the original data due to its row-by-product structure.\n",
    "- Remember to set the arguments `index`, `values` and `aggfunc` appropriately. No need for the `columns` argument. You should pass a list to the `values` argument, since you want to use both `units_sold` and `amount` columns.\n",
    "</details>"
   ]
  },
  {
   "cell_type": "markdown",
   "metadata": {},
   "source": [
    "<details>\n",
    "<summary style=\"background-color: #FDBFC7; padding: 10px; border-radius: 3px; box-shadow: 0 2px 4px rgba(0, 0, 0, 0.1); width: 95%; text-align: left; cursor: pointer; font-weight: bold;\"\">\n",
    "If you opt not to do the exercise, you can copy paste from the solution here.\n",
    "</summary> \n",
    "\n",
    "<ul style=\"background-color: #FFF8F8; padding: 10px; border-radius: 3px; margin-top: 5px; width: 95%; box-shadow: inset 0 2px 4px rgba(0, 0, 0, 0.1);\">\n",
    "   \n",
    "```python\n",
    "# create a pivot table using \"invoice_id\" as index.\n",
    "# use the columns \"units_sold\" and \"amount\" as values, aggregating by sum\n",
    "pivot_by_invoice = sales_df.pivot_table(index=\"invoice_id\",\n",
    "                                        values=[\"units_sold\", \"amount\"], \n",
    "                                        aggfunc=\"sum\")\n",
    "```\n",
    "</details>"
   ]
  },
  {
   "cell_type": "code",
   "execution_count": 19,
   "metadata": {
    "deletable": false,
    "editable": true,
    "slideshow": {
     "slide_type": ""
    },
    "tags": [
     "graded"
    ]
   },
   "outputs": [],
   "source": [
    "# OPTIONAL cell: Exercise 8\n",
    "\n",
    "### START CODE HERE ###\n",
    "\n",
    "# create a pivot table using \"invoice_id\" as index.\n",
    "# use the columns \"units_sold\" and \"amount\" as values, aggregating by sum\n",
    "pivot_by_invoice = sales_df.pivot_table(\n",
    "    index='invoice_id',\n",
    "    values=['units_sold', 'amount'],\n",
    "    aggfunc='sum'\n",
    ")\n",
    "\n",
    "### END CODE HERE ###"
   ]
  },
  {
   "cell_type": "code",
   "execution_count": 20,
   "metadata": {
    "deletable": false,
    "editable": true,
    "slideshow": {
     "slide_type": ""
    },
    "tags": []
   },
   "outputs": [
    {
     "data": {
      "text/html": [
       "<div>\n",
       "<style scoped>\n",
       "    .dataframe tbody tr th:only-of-type {\n",
       "        vertical-align: middle;\n",
       "    }\n",
       "\n",
       "    .dataframe tbody tr th {\n",
       "        vertical-align: top;\n",
       "    }\n",
       "\n",
       "    .dataframe thead th {\n",
       "        text-align: right;\n",
       "    }\n",
       "</style>\n",
       "<table border=\"1\" class=\"dataframe\">\n",
       "  <thead>\n",
       "    <tr style=\"text-align: right;\">\n",
       "      <th></th>\n",
       "      <th>amount</th>\n",
       "      <th>units_sold</th>\n",
       "    </tr>\n",
       "    <tr>\n",
       "      <th>invoice_id</th>\n",
       "      <th></th>\n",
       "      <th></th>\n",
       "    </tr>\n",
       "  </thead>\n",
       "  <tbody>\n",
       "    <tr>\n",
       "      <th>534377</th>\n",
       "      <td>94.99</td>\n",
       "      <td>19</td>\n",
       "    </tr>\n",
       "    <tr>\n",
       "      <th>534378</th>\n",
       "      <td>39.95</td>\n",
       "      <td>1</td>\n",
       "    </tr>\n",
       "    <tr>\n",
       "      <th>534379</th>\n",
       "      <td>23.80</td>\n",
       "      <td>4</td>\n",
       "    </tr>\n",
       "    <tr>\n",
       "      <th>534380</th>\n",
       "      <td>113.35</td>\n",
       "      <td>13</td>\n",
       "    </tr>\n",
       "    <tr>\n",
       "      <th>534381</th>\n",
       "      <td>140.35</td>\n",
       "      <td>55</td>\n",
       "    </tr>\n",
       "  </tbody>\n",
       "</table>\n",
       "</div>"
      ],
      "text/plain": [
       "            amount  units_sold\n",
       "invoice_id                    \n",
       "534377       94.99          19\n",
       "534378       39.95           1\n",
       "534379       23.80           4\n",
       "534380      113.35          13\n",
       "534381      140.35          55"
      ]
     },
     "execution_count": 20,
     "metadata": {},
     "output_type": "execute_result"
    }
   ],
   "source": [
    "# Inspect the total_amount Series\n",
    "pivot_by_invoice.head()"
   ]
  },
  {
   "cell_type": "markdown",
   "metadata": {
    "editable": true,
    "slideshow": {
     "slide_type": ""
    },
    "tags": []
   },
   "source": [
    "<details>\n",
    "<summary style=\"background-color: #c6e2ff6c; padding: 10px; border-radius: 3px; box-shadow: 0 2px 4px rgba(0, 0, 0, 0.01); width: 95%; text-align: left; cursor: pointer; font-weight: bold;\">\n",
    "Expected output:</summary> \n",
    "<br>\n",
    "\n",
    "<img src=\"img/output_ex8.png\">\n",
    "\n",
    "\n",
    "</details>"
   ]
  },
  {
   "cell_type": "markdown",
   "metadata": {
    "editable": true,
    "slideshow": {
     "slide_type": ""
    },
    "tags": []
   },
   "source": [
    "<a id=\"descriptive-statistics\"></a>\n",
    "\n",
    "### Descriptive statistics\n",
    "\n",
    "The owners told you that the first 20 invoices have already been accounted for. They want you to get statistics for the next 40 invoices. If you look at the datatype generated by the `pivot_table()` method above, you'll see that it is also a DataFrame.\n",
    "\n",
    "_Note: If you skipped Exercise 8, please uncomment the code below and run it to have the correct DataFrame to work with._"
   ]
  },
  {
   "cell_type": "code",
   "execution_count": null,
   "metadata": {},
   "outputs": [],
   "source": [
    "# NOTE: Uncomment this line if you did not do exercise 8 above\n",
    "# pivot_by_invoice = sales_df.pivot_table(index=\"invoice_id\", values=[\"units_sold\", \"amount\"], aggfunc=\"sum\")"
   ]
  },
  {
   "cell_type": "code",
   "execution_count": 21,
   "metadata": {
    "editable": true,
    "slideshow": {
     "slide_type": ""
    },
    "tags": []
   },
   "outputs": [
    {
     "data": {
      "text/plain": [
       "pandas.core.frame.DataFrame"
      ]
     },
     "execution_count": 21,
     "metadata": {},
     "output_type": "execute_result"
    }
   ],
   "source": [
    "# Get the datatype of the pivot table output\n",
    "type(pivot_by_invoice)"
   ]
  },
  {
   "cell_type": "markdown",
   "metadata": {},
   "source": [
    "Thus, all the attributes and methods you know about DataFrames can be applied to it. For instance, you can get a summary of the features."
   ]
  },
  {
   "cell_type": "code",
   "execution_count": 22,
   "metadata": {
    "editable": true,
    "slideshow": {
     "slide_type": ""
    },
    "tags": []
   },
   "outputs": [
    {
     "name": "stdout",
     "output_type": "stream",
     "text": [
      "<class 'pandas.core.frame.DataFrame'>\n",
      "Index: 69 entries, 534377 to 534445\n",
      "Data columns (total 2 columns):\n",
      " #   Column      Non-Null Count  Dtype  \n",
      "---  ------      --------------  -----  \n",
      " 0   amount      69 non-null     float64\n",
      " 1   units_sold  69 non-null     int64  \n",
      "dtypes: float64(1), int64(1)\n",
      "memory usage: 1.6 KB\n"
     ]
    }
   ],
   "source": [
    "# Get a summary of the features\n",
    "pivot_by_invoice.info()"
   ]
  },
  {
   "cell_type": "markdown",
   "metadata": {},
   "source": [
    "<a id=\"ex9\"></a>\n",
    "\n",
    "#### Exercise 9: Slicing the DataFrame\n",
    "\n",
    "As mentioned earlier, the owners wanted you to get a set of 40 invoices starting from the 21th invoice.\n",
    "\n",
    "<div style=\"background-color: #C6E2FF; padding: 10px; border-radius: 3px; box-shadow: 0 2px 4px rgba(0, 0, 0, 0.1); width:95%\n",
    "\">\n",
    "    <strong>▶▶▶ Directions</strong> \n",
    "        <ol>\n",
    "            <li>Slice the <code>pivot_by_invoice</code> DataFrame from the 21th invoice to the 60th.</li>\n",
    "        </ol>\n",
    "</div>"
   ]
  },
  {
   "cell_type": "markdown",
   "metadata": {},
   "source": [
    "<details>\n",
    "<summary style=\"background-color: #FDBFC7; padding: 10px; border-radius: 3px; box-shadow: 0 2px 4px rgba(0, 0, 0, 0.1); width: 95%; text-align: left; cursor: pointer; font-weight: bold;\"\">\n",
    "If you are stuck, click here for extra hints!</summary> \n",
    "\n",
    "<ul style=\"background-color: #FFF8F8; padding: 10px; border-radius: 3px; margin-top: 5px; width: 95%; box-shadow: inset 0 2px 4px rgba(0, 0, 0, 0.1);\">\n",
    "   \n",
    "- Use the `iloc` property to slice the dataframe.\n",
    "- Remember that Python is 0-indexed. This means the 1st invoice starts at index `0`.\n",
    "- Remember that indexing ranges using `iloc` excludes the ending number. For example, if you specified `[a:b]`, it will return results from index `a` to `b-1`.\n",
    "</details>"
   ]
  },
  {
   "cell_type": "code",
   "execution_count": 34,
   "metadata": {
    "editable": true,
    "slideshow": {
     "slide_type": ""
    },
    "tags": [
     "graded"
    ]
   },
   "outputs": [],
   "source": [
    "# GRADED cell: Exercise 9\n",
    "\n",
    "#### START CODE HERE ###\n",
    "\n",
    "# Get 40 rows starting on the 21th invoice.\n",
    "pbi_sliced = pivot_by_invoice.iloc[20:61]\n",
    "\n",
    "#### END CODE HERE ###"
   ]
  },
  {
   "cell_type": "code",
   "execution_count": 35,
   "metadata": {
    "editable": true,
    "slideshow": {
     "slide_type": ""
    },
    "tags": []
   },
   "outputs": [
    {
     "name": "stdout",
     "output_type": "stream",
     "text": [
      "number of rows: 41\n",
      "\n",
      "amount        115.25\n",
      "units_sold     65.00\n",
      "Name: 534397, dtype: float64\n",
      "\n",
      "amount        11.8\n",
      "units_sold     4.0\n",
      "Name: 534436, dtype: float64\n"
     ]
    }
   ],
   "source": [
    "# Print number of rows\n",
    "print(\"number of rows:\", len(pbi_sliced))\n",
    "print()\n",
    "\n",
    "# Print start and end rows\n",
    "print(pbi_sliced.iloc[0])\n",
    "print()\n",
    "print(pbi_sliced.iloc[39])"
   ]
  },
  {
   "cell_type": "markdown",
   "metadata": {},
   "source": [
    "<details>\n",
    "<summary style=\"background-color: #c6e2ff6c; padding: 10px; border-radius: 3px; box-shadow: 0 2px 4px rgba(0, 0, 0, 0.01); width: 95%; text-align: left; cursor: pointer; font-weight: bold;\">\n",
    "Expected output:</summary> \n",
    "<br>\n",
    "<small>\n",
    "\n",
    "```text\n",
    "number of rows: 40\n",
    "\n",
    "amount        115.25\n",
    "units_sold     65.00\n",
    "Name: 534397, dtype: float64\n",
    "\n",
    "amount        11.8\n",
    "units_sold     4.0\n",
    "Name: 534436, dtype: float64\n",
    "```\n",
    "\n",
    "</small>\n",
    "\n",
    "\n",
    "</details>"
   ]
  },
  {
   "cell_type": "markdown",
   "metadata": {
    "editable": true,
    "slideshow": {
     "slide_type": ""
    },
    "tags": []
   },
   "source": [
    "<a id=\"ex7\"></a>\n",
    "#### Exercise 10: Analyzing the amount per invoice\n",
    "\n",
    "Now that you have that amount per invoice, let's find some statistics of the sales!\n",
    "\n",
    "<div style=\"background-color: #C6E2FF; padding: 10px; border-radius: 3px; box-shadow: 0 2px 4px rgba(0, 0, 0, 0.1); width:95%\n",
    "\">\n",
    "    <strong>▶▶▶ Directions</strong> \n",
    "        <ol>\n",
    "            <li>Find the sum of all sales in the <code>pbi_sliced</code> DataFrame, and save it in the variable <code>amount_sum</code></li>\n",
    "            <li>Find the mean amount per invoice in the <code>pbi_sliced</code> DataFrame, and save it in the variable <code>amount_mean</code></li>\n",
    "            <li>Find the max amount in the <code>pbi_sliced</code> DataFrame, and save it in the variable <code>amount_max</code></li>\n",
    "            <li>Find the correlation between the number of units and the amount per invoice and save it in the variable <code>corr_units_amount</code>. </li>\n",
    "            <ul>\n",
    "                <li><b>Reflect:</b> What sign do you expect this correlation to have? </li> \n",
    "                <li><b>Reflect:</b> What intensity do you expect this correlation to have (weak, moderate or strong)?</li>\n",
    "            </ul>\n",
    "        </ol>\n",
    "</div>"
   ]
  },
  {
   "cell_type": "markdown",
   "metadata": {
    "editable": true,
    "slideshow": {
     "slide_type": ""
    },
    "tags": []
   },
   "source": [
    "<details>\n",
    "<summary style=\"background-color: #FDBFC7; padding: 10px; border-radius: 3px; box-shadow: 0 2px 4px rgba(0, 0, 0, 0.1); width: 95%; text-align: left; cursor: pointer; font-weight: bold;\"\">\n",
    "If you are stuck, click here for extra hints!</summary> \n",
    "\n",
    "<ul style=\"background-color: #FFF8F8; padding: 10px; border-radius: 3px; margin-top: 5px; width: 95%; box-shadow: inset 0 2px 4px rgba(0, 0, 0, 0.1);\">\n",
    "\n",
    "You can solve all of this questions using methods define for Series.\n",
    "- First, you will need to select the correct column of the `pivot_by_invoice` DataFrame, in this case `amount`.\n",
    "- Method [`🔗sum`](https://pandas.pydata.org/docs/reference/api/pandas.Series.sum.html) will return the sample sum of the Series, while [`🔗mean`](https://pandas.pydata.org/docs/reference/api/pandas.Series.mean.html) gives you the average.\n",
    "- For getting the max value you can use the [`🔗max()`](https://pandas.pydata.org/docs/reference/api/pandas.Series.max.html#pandas.Series.max) method\n",
    "- Finally, for the correlation you can use the [`🔗corr`](https://pandas.pydata.org/docs/reference/api/pandas.Series.corr.html) method to generate the table for the two numerical variables in the dataframe.\n",
    "</details>\n"
   ]
  },
  {
   "cell_type": "code",
   "execution_count": 36,
   "metadata": {
    "deletable": false,
    "editable": true,
    "slideshow": {
     "slide_type": ""
    },
    "tags": [
     "graded"
    ]
   },
   "outputs": [],
   "source": [
    "# GRADED cell: Exercise 10\n",
    "\n",
    "### START CODE HERE ###\n",
    "\n",
    "# find the sum, mean, max in pbi_sliced\n",
    "amount_sum = pbi_sliced[\"amount\"].sum()\n",
    "amount_mean = pbi_sliced[\"amount\"].mean()\n",
    "amount_max = pbi_sliced[\"amount\"].max()\n",
    "\n",
    "# find the correlation of the numerical variables of pbi_sliced\n",
    "corr_units_amount = pbi_sliced[[\"units_sold\", \"amount\"]].corr()\n",
    "\n",
    "### END CODE HERE ###"
   ]
  },
  {
   "cell_type": "code",
   "execution_count": 37,
   "metadata": {
    "deletable": false,
    "editable": true,
    "slideshow": {
     "slide_type": ""
    },
    "tags": []
   },
   "outputs": [
    {
     "name": "stdout",
     "output_type": "stream",
     "text": [
      "The sum of all sales is: 2124.33\n",
      "The mean amount per purchase is: 51.81\n",
      "The highest purchase amount is: 295.0\n",
      "The correlation between the amount and number of units sold per invoice is 0.6196\n"
     ]
    }
   ],
   "source": [
    "# Print the results\n",
    "print(\"The sum of all sales is:\", round(amount_sum, 2))\n",
    "print(\"The mean amount per purchase is:\", round(amount_mean, 2))\n",
    "print(\"The highest purchase amount is:\", round(amount_max, 2))\n",
    "print(\"The correlation between the amount and number of units sold per invoice is\", \n",
    "      round(corr_units_amount.loc['amount']['units_sold'],4))"
   ]
  },
  {
   "cell_type": "markdown",
   "metadata": {
    "editable": true,
    "slideshow": {
     "slide_type": ""
    },
    "tags": []
   },
   "source": [
    "<details>\n",
    "<summary style=\"background-color: #c6e2ff6c; padding: 10px; border-radius: 3px; box-shadow: 0 2px 4px rgba(0, 0, 0, 0.01); width: 95%; text-align: left; cursor: pointer; font-weight: bold;\">\n",
    "Expected output:</summary> \n",
    "<br>\n",
    "\n",
    "```text\n",
    "The sum of all sales is: 2102.03\n",
    "The mean amount per purchase is: 52.55\n",
    "The highest purchase amount is: 295.0\n",
    "The correlation between the amount and number of units sold per invoice is 0.6193\n",
    "```\n",
    "\n",
    "</details>"
   ]
  },
  {
   "cell_type": "markdown",
   "metadata": {
    "editable": true,
    "slideshow": {
     "slide_type": ""
    },
    "tags": []
   },
   "source": [
    "**Congratulations on finishing this graded lab! If everything is running correctly, save your work and submit your code for grading.**"
   ]
  }
 ],
 "metadata": {
  "grader_version": "2",
  "kernelspec": {
   "display_name": "Python 3 (ipykernel)",
   "language": "python",
   "name": "python3"
  },
  "language_info": {
   "codemirror_mode": {
    "name": "ipython",
    "version": 3
   },
   "file_extension": ".py",
   "mimetype": "text/x-python",
   "name": "python",
   "nbconvert_exporter": "python",
   "pygments_lexer": "ipython3",
   "version": "3.11.6"
  }
 },
 "nbformat": 4,
 "nbformat_minor": 4
}
