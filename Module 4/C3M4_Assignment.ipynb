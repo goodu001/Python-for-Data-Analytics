{
 "cells": [
  {
   "cell_type": "markdown",
   "metadata": {},
   "source": [
    "# Module 4 Assignment: Analyzing Car CO₂ Emissions\n",
    "\n",
    "Welcome to this module's assignment!\n",
    "\n",
    "Carefully read each Markdown (text) cell, which includes instructions and hints. Start by reading the background behind your upcoming tasks.\n",
    "\n",
    "When you are done, submit your solution by saving it, then clicking on the blue submit button at the top of the page.\n",
    "\n",
    "## Background:\n",
    "You work for a government agency that needs to renew its vehicle fleet. To be compliant, the agency needs to hit a specific carbon target. Your task is to analyze the emissions data of various car models to ensure compliance with environmental regulations. Your insights will help guide the selection of the most suitable, greener vehicles.\n",
    "\n",
    "You will be working with data compiled from the Government of Canada official site, which contains vehicle specifications, fuel consumption data, and CO₂ emissions information of cars. You will be working with the following features:\n",
    "\n",
    "- `Vehicle Class`: Class of vehicle depending on their utility, capacity, and weight.\n",
    "- `Engine Size`: Size of the engine used in liters.\n",
    "- `Fuel Type`: Type of fuel used (X = Regular gasoline, Z = Premium gasoline, D = Diesel, E = Ethanol (E85), N = Natural gas).\n",
    "- `City`: Fuel consumption on city roads (L/100 km).\n",
    "- `Highway`: Fuel consumption on highways (L/100 km).\n",
    "- `Combined`: The combined fuel consumption (55% city, 45% highway) shown in L/100 km.\n",
    "- `Combined (mpg)`: The combined fuel consumption in both city and highway shown in miles per gallon (mpg).\n",
    "- `CO₂ Emissions`: The tailpipe emissions of carbon dioxide (in grams per kilometer) for combined city and highway driving.\n",
    "\n",
    "## In order for your submission to be graded correctly, you **MUST**:\n",
    "* **Use the provided variable names**, otherwise the autograder will not be able to locate the variable for grading. \n",
    "\n",
    "* **Replace any instances of `None` with your own code.** \n",
    "\n",
    "* **Only modify the cells that start with the comment `# GRADED CELL`**.  \n",
    "\n",
    "* **Use the provided cells for your solution.** You can add new cells to experiment, but these will be omitted when grading. \n",
    "\n",
    "To submit your solution, save it, then click on the blue submit button at the top of the page.\n",
    "\n",
    "<div style=\"background-color: #FAD888; padding: 10px; border-radius: 3px; box-shadow: 0 2px 4px rgba(0, 0, 0, 0.1); width:95%\n",
    "\">\n",
    "<strong>Important note</strong>: Code blocks with None will not run properly. If you run them before completing the exercise, you will likely get an error. \n",
    "\n",
    "</div>"
   ]
  },
  {
   "cell_type": "markdown",
   "metadata": {},
   "source": [
    "## Table of Contents\n",
    "- [Step 1: Importing libraries](#step-1)\n",
    "- [Step 2: Load the data](#step-2)\n",
    "- [Step 3: CO₂ emissions](#step-3)\n",
    "    - [CO₂ emissions distribution](#CO₂-distribution)\n",
    "    - [Mean CO₂ emissions](#mean-CO₂-emissions)\n",
    "    - [Compact vs. Mid-size cars](#compact-vs-mid-size-cars)\n",
    "        - [Exercise 1: Hypothesis testing](#ex1)\n",
    "- [Step 4: Modelling the CO₂ emissions (1 variable)](#step-4)\n",
    "    - [Dependent and independent features](#dependent-and-independent-features)\n",
    "        - [Exercise 2: Pairplot](#ex2)\n",
    "        - [Exercise 3: Correlation matrix](#ex3)\n",
    "    - [Fitting a Simple Linear Regression](#fitting-a-simple-linear-regression)\n",
    "        - [Exercise 4: Simple Linear Regression](#ex4)\n",
    "- [Step 5: Modelling the CO₂ emissions (multiple variables)](#step-5)\n",
    "    - [Categorical variables](#categorical-variables)\n",
    "        - [Exercise 5: Encoding categorical variables](#ex6)\n",
    "    - [Training the model](#training-the-model)\n",
    "        - [Exercise 6: Create and fit a multiple linear regression](#ex6)\n",
    "- [Step 6: Predicting CO₂ emissions for new car models](#step-6)"
   ]
  },
  {
   "cell_type": "markdown",
   "metadata": {},
   "source": [
    "<a id=\"step-1\"></a>\n",
    "\n",
    "## Step 1: Importing libraries\n",
    "\n",
    "Before you start working on the dataset, it is good practice to import all libraries at the beginning of your code. \n",
    "\n",
    "<div style=\"background-color: #C6E2FF; padding: 10px; border-radius: 3px; box-shadow: 0 2px 4px rgba(0, 0, 0, 0.1); width:95%\n",
    "\">\n",
    "    <strong>▶▶▶ Directions</strong> \n",
    "        <ol>\n",
    "            <li>Run the cell below to import the following libraries: Pandas, Matplotlib's Pyplot and Seaborn.</li>\n",
    "        </ol>\n",
    "</div>"
   ]
  },
  {
   "cell_type": "code",
   "execution_count": null,
   "metadata": {
    "deletable": false,
    "editable": false,
    "slideshow": {
     "slide_type": ""
    },
    "tags": [
     "graded"
    ]
   },
   "outputs": [],
   "source": [
    "# This cell is locked. You will not be able to edit it.\n",
    "\n",
    "import pandas as pd\n",
    "import matplotlib.pyplot as plt\n",
    "import seaborn as sns\n",
    "import scipy.stats as stats\n",
    "import statsmodels.api as sm\n",
    "import numpy as np"
   ]
  },
  {
   "cell_type": "markdown",
   "metadata": {
    "editable": true,
    "slideshow": {
     "slide_type": ""
    },
    "tags": []
   },
   "source": [
    "<a id=\"step-2\"></a>\n",
    "\n",
    "## Step 2: Load the data\n",
    "\n",
    "Now that you have imported the right libraries, you can use Pandas to load the data from the CSV. \n",
    "\n",
    "<div style=\"background-color: #C6E2FF; padding: 10px; border-radius: 3px; box-shadow: 0 2px 4px rgba(0, 0, 0, 0.1); width:95%\n",
    "\">\n",
    "    <strong>▶▶▶ Directions</strong> \n",
    "        <ol>\n",
    "            <li>Run the cell below to:</li>\n",
    "            <ol>\n",
    "                <li>Import the data</li>\n",
    "                <li>Save the DataFrame into a variables named <code>df</code></li>\n",
    "                <li>View the data using the <code>head()</code> method</li>\n",
    "            </ol>\n",
    "        </ol>\n",
    "</div>"
   ]
  },
  {
   "cell_type": "code",
   "execution_count": null,
   "metadata": {
    "deletable": false,
    "editable": false,
    "slideshow": {
     "slide_type": ""
    },
    "tags": [
     "graded"
    ]
   },
   "outputs": [],
   "source": [
    "# This cell is locked. You will not be able to edit it.\n",
    "\n",
    "# Load the data\n",
    "df = pd.read_csv(\"data/co2_emissions.csv\")\n",
    "df.head()"
   ]
  },
  {
   "cell_type": "markdown",
   "metadata": {},
   "source": [
    "<a id=\"step-3\"></a>\n",
    "\n",
    "## Step 3: Mean CO₂ emissions \n",
    "To understand car emissions better, you first want a clear picture of the average CO₂ emissions. Then you will use a hypothesis test to see whether this mean differs between different groups of cars.\n",
    "\n",
    "<a id=\"CO₂-distribution\"></a>\n",
    "\n",
    "### CO₂ distribution\n",
    "Start by visualizing the distribution of the CO₂ emissions using a histogram. What does the distribution look like? Does it resemble any of the known ones? **Run the next cell to find out!** "
   ]
  },
  {
   "cell_type": "code",
   "execution_count": null,
   "metadata": {
    "deletable": false,
    "editable": false
   },
   "outputs": [],
   "source": [
    "# This cell is locked. You will not be able to edit it.\n",
    "\n",
    "plt.figure(figsize=(8,3))\n",
    "sns.histplot(df, x=\"CO2 emissions\", color=\"teal\")\n",
    "plt.xlabel(\"CO₂ emissions\")\n",
    "plt.title(\"Distribution for CO₂ emissions\")"
   ]
  },
  {
   "cell_type": "markdown",
   "metadata": {},
   "source": [
    "<a id=\"compact-vs-mid-size-cars\"></a>\n",
    "\n",
    "### Compact vs. Mid-size cars\n",
    "\n",
    "<a id=\"ex1\"></a>\n",
    "\n",
    "#### Exercise 1: Hypothesis Testing\n",
    "\n",
    "When deciding which vehicle class better fits the necessities of the agency, compact and mid-size cars are among the top contenders due to their balance of size and efficiency. Conduct a hypothesis test at the 5% significance level to see if the mean CO₂ emissions of compact cars differ from those of mid-size cars.\n",
    "\n",
    "<div style=\"background-color: #C6E2FF; padding: 10px; border-radius: 3px; box-shadow: 0 2px 4px rgba(0, 0, 0, 0.1); width:95%\n",
    "\">\n",
    "    <strong>▶▶▶ Directions</strong> \n",
    "        <ol>\n",
    "            <li>Create a new dataframe <code>compact</code> by filtering the original dataframe to contain ony the compact cars.</li>\n",
    "            <li>Create a new dataframe <code>mid_size</code> by filtering the original dataframe to contain ony the mid-size cars.</li>\n",
    "            <li>Get the test statistic and p-value for the test. \n",
    "            <ul>\n",
    "                <li>Since you don't know the population standard deviation, use a t-test.</li>\n",
    "                <li>Is this a one-sided or two-sided test? </li>\n",
    "                <li>Does it correspond to a one sample or two sample test?</li>\n",
    "            </ul>\n",
    "            <li> <strong>Reflect:</strong> What can you conclude from the test with a 5% significance level?</li>\n",
    "        </ol>\n",
    "</div>\n"
   ]
  },
  {
   "cell_type": "markdown",
   "metadata": {},
   "source": [
    "<details>\n",
    "<summary style=\"background-color: #FDBFC7; padding: 10px; border-radius: 3px; box-shadow: 0 2px 4px rgba(0, 0, 0, 0.1); width: 95%; text-align: left; cursor: pointer; font-weight: bold;\">\n",
    "If you are stuck, click here for extra hints!</summary> \n",
    "\n",
    "<ul style=\"background-color: #FFF8F8; padding: 10px; border-radius: 3px; margin-top: 5px; width: 95%; box-shadow: inset 0 2px 4px rgba(0, 0, 0, 0.1);\">\n",
    "   \n",
    "- To split the data, you can filter the original DataFrame using the square brackets method, using the condition on the \"Vehicle class\" column\n",
    "- To determine if it is a one-sided or two sided test, you should double-check what your hypotheses are. Do you want to see if the mean for one category is greater than or less than the other? If so this is a one-sided test. If you only want to know if there is a difference (in any direction), then you should go for a two-sided test\n",
    "- For this test you are comparing the mean of two populations: compact cars, and mid-sized cars. This means you will have a two sample test. \n",
    "- To perform the two sample test, you can use the `ttest_ind()` function from `stats`. You will need to set the following arguments (in addition to the two samples):\n",
    "    - `equal_var=False`, because you cannot assume that the variance for both groups is the same\n",
    "    - `alternative`: set the type of alternative hypothesis from these three options:\n",
    "        - `\"two-sided\"`: select this for a two-sided test,\n",
    "        - `\"less\"`: select if the mean of the distribution from the **first** sample is **less than** the mean of the distribution from the second sample.,\n",
    "        - `\"greater\"`: select if the mean of the distribution from the **first** sample is **greater than** the mean of the distribution from the second sample.\n",
    "\n",
    "</details>"
   ]
  },
  {
   "cell_type": "code",
   "execution_count": null,
   "metadata": {
    "deletable": false,
    "tags": [
     "graded"
    ]
   },
   "outputs": [],
   "source": [
    "# GRADED CELL: exercise 1\n",
    "\n",
    "### START CODE HERE ###\n",
    "\n",
    "# get all compact cars\n",
    "df_compact = None\n",
    "\n",
    "# get all mid-size cars\n",
    "df_mid_size = None\n",
    "\n",
    "# find the t-statistic and p-value\n",
    "test_results = stats.ttest_ind(None, None,\n",
    "                              equal_var = None, alternative=None)\n",
    "\n",
    "### END CODE HERE ###\n",
    "\n",
    "# Extract the t-statistic and p-value from the results\n",
    "tstat = test_results[0]\n",
    "pval = test_results[1]"
   ]
  },
  {
   "cell_type": "code",
   "execution_count": null,
   "metadata": {
    "deletable": false,
    "editable": false
   },
   "outputs": [],
   "source": [
    "# This cell is locked. You will not be able to edit it.\n",
    "\n",
    "# print the results\n",
    "print(\"The p-value is\", pval, \", with a t-statistic of\",round(tstat, 4))   "
   ]
  },
  {
   "cell_type": "markdown",
   "metadata": {},
   "source": [
    "What’s your conclusion? Should mid-sized cars remain under consideration?\n",
    "\n",
    "<a id=\"step-4\"></a>\n",
    "\n",
    "## Step 4: Modelling the CO₂ emissions (1 variable)\n",
    "\n",
    "To select the best car (perhaps one that is not on your list) with the least environmental impact, you decide to use a linear regression to predict CO₂ emissions. You start using a single variable as a predictor. This model can help you understand how changes in the selected feature affect emissions.\n"
   ]
  },
  {
   "cell_type": "markdown",
   "metadata": {},
   "source": [
    "<a id=\"dependent-and-independent-features\"></a>\n",
    "\n",
    "### Dependent and independent variables\n",
    "\n",
    "The first step is to identify your dependent variable and your independent ones.\n",
    "\n",
    "<a id=\"ex2\"></a>\n",
    "\n",
    "#### Exercise 2: Pairplot\n",
    "\n",
    "The big question you need to answer is which variables best explain the dependent variable. That way you can select the best variable to use for your regression model. Since you'll be using a linear regression model, examining the correlation between variables is a great place to start.\n",
    "\n",
    "Create a pairplot to analyze the pairwise relations between variables.\n",
    "\n",
    "<div style=\"background-color: #C6E2FF; padding: 10px; border-radius: 3px; box-shadow: 0 2px 4px rgba(0, 0, 0, 0.1); width:95%\">\n",
    "    <strong>▶▶▶ Directions</strong> \n",
    "        <ol>\n",
    "            <li>Create a list with all numerical independent variables and the dependent variable.</li>\n",
    "            <li>Visualize the scatter plots between pairs of numerical features.</li>\n",
    "        </ol>\n",
    "</div>"
   ]
  },
  {
   "cell_type": "markdown",
   "metadata": {},
   "source": [
    "<details>\n",
    "<summary style=\"background-color: #FDBFC7; padding: 10px; border-radius: 3px; box-shadow: 0 2px 4px rgba(0, 0, 0, 0.1); width: 95%; text-align: left; cursor: pointer; font-weight: bold;\">\n",
    "If you are stuck, click here for extra hints!</summary> \n",
    "\n",
    "<ul style=\"background-color: #FFF8F8; padding: 10px; border-radius: 3px; margin-top: 5px; width: 95%; box-shadow: inset 0 2px 4px rgba(0, 0, 0, 0.1);\">\n",
    "   \n",
    "- You should avoid the features \"Model year\", and \"Cylinders\", as they are actually categorical with few possible values.\n",
    "- Use the `sns.pairplot()` function to create the plots.\n",
    "</details>"
   ]
  },
  {
   "cell_type": "code",
   "execution_count": null,
   "metadata": {
    "deletable": false,
    "tags": [
     "graded"
    ]
   },
   "outputs": [],
   "source": [
    "# GRADED CELL: Exercise 2\n",
    "\n",
    "### START CODE HERE ###\n",
    "\n",
    "# identify the numeric (independent) feature\n",
    "numeric_features = None\n",
    "\n",
    "plt.figure() \n",
    "\n",
    "axes = sns.pairplot(None)\n",
    "    \n",
    "### END CODE HERE ###\n",
    "\n",
    "plt.show()"
   ]
  },
  {
   "cell_type": "markdown",
   "metadata": {},
   "source": [
    "Remember that \"Combined\" and \"Combined (mpg)\" refer to the combined fuel consumption (55% city, 45% highway).\n",
    "\n",
    "<a id=\"ex3\"></a>\n",
    "\n",
    "#### Exercise 3: Correlation matrix\n",
    "You can see some quite strong correlations between variables from the pairplot, but it is hard to see which one is the best. Calculate the correlations to numerically evaluate which of the features might be the best to use.\n",
    "\n",
    "<div style=\"background-color: #C6E2FF; padding: 10px; border-radius: 3px; box-shadow: 0 2px 4px rgba(0, 0, 0, 0.1); width:95%\">\n",
    "    <strong>▶▶▶ Directions</strong> \n",
    "        <ol>\n",
    "            <li>Use the `.corr()` method on the dataframe to calculate correlations between the features.</li>\n",
    "            <ul>\n",
    "                <li>Make sure you select only the numerical columns.</li>\n",
    "            </ul>\n",
    "        </ol>\n",
    "</div>"
   ]
  },
  {
   "cell_type": "code",
   "execution_count": null,
   "metadata": {
    "deletable": false,
    "tags": [
     "graded"
    ]
   },
   "outputs": [],
   "source": [
    "# GRADED CELL: Exercise 3\n",
    "\n",
    "### START CODE HERE ###\n",
    "\n",
    "correlation_matrix = df[None].None\n",
    "    \n",
    "### END CODE HERE ###\n",
    "\n",
    "correlation_matrix"
   ]
  },
  {
   "cell_type": "markdown",
   "metadata": {},
   "source": [
    "**Reflect:** \n",
    "- Which variables are more correlated to CO₂ emissions?\n",
    "- If you had to choose only one variable to use and predict the CO₂ emissions of the car, which one would it be?\n",
    "\n",
    "<a id=\"fitting-a-simple-linear-regression\"></a>\n",
    "### Training a Simple Linear Regression\n",
    "\n",
    "Since most of the time the cars will be used in the city, you decide to use the \"City\" variable for the regression, as it has one of the highest correlations (0.96). Although \"Combined\" shows a stronger linear relationship with a correlation of 0.97, it’s not as relevant since the cars won’t primarily be used on the highway.\n",
    "\n",
    "<a id=\"ex4\"></a>\n",
    "\n",
    "#### Exercise 4: Simple Linear Regression\n",
    "You are ready to train your linear regression! Use the `City` variable as the independent variable, and `CO₂ emissions` as the dependent one.\n",
    "\n",
    "<div style=\"background-color: #C6E2FF; padding: 10px; border-radius: 3px; box-shadow: 0 2px 4px rgba(0, 0, 0, 0.1); width:95%\">\n",
    "    <strong>▶▶▶ Directions</strong> \n",
    "        <ol>\n",
    "            <li>Prepare the dependent and independent variables.</li>\n",
    "            <ul>\n",
    "                <li>Prepare the independent variables: get the \"City\" column, and add the constant term.</li>\n",
    "                <li>Get the \"CO2 emissions\" column, and save it in a variable.</li>\n",
    "            </ul>\n",
    "            <li>Create the model and fit it.</li>\n",
    "            <li>Print the model summary.</li>\n",
    "        </ol>\n",
    "</div>"
   ]
  },
  {
   "cell_type": "markdown",
   "metadata": {},
   "source": [
    "<details>\n",
    "<summary style=\"background-color: #FDBFC7; padding: 10px; border-radius: 3px; box-shadow: 0 2px 4px rgba(0, 0, 0, 0.1); width: 95%; text-align: left; cursor: pointer; font-weight: bold;\">\n",
    "If you are stuck, click here for extra hints!</summary> \n",
    "\n",
    "<ul style=\"background-color: #FFF8F8; padding: 10px; border-radius: 3px; margin-top: 5px; width: 95%; box-shadow: inset 0 2px 4px rgba(0, 0, 0, 0.1);\">\n",
    "   \n",
    "- To prepare the predictors you can use the `sm.add_constant()` function. This function adds a column filled with 1s for the constant term\n",
    "- To build the model, you can use the `sm.OLS()` model. You need to pass the regressors, and the dependent variable as arguments.\n",
    "- To fit the model, call the `fit()` method\n",
    "- The method `summary()` return the summary of your trained model\n",
    "</details>"
   ]
  },
  {
   "cell_type": "code",
   "execution_count": null,
   "metadata": {
    "deletable": false,
    "tags": [
     "graded"
    ]
   },
   "outputs": [],
   "source": [
    "# GRADED CELL: Exercise 4\n",
    "\n",
    "### START CODE HERE ###\n",
    "\n",
    "# Prepare predictors. Remember to add a constant term to the predictor\n",
    "X_simple = None\n",
    "# Select the dependent variable\n",
    "Y_simple = None\n",
    "\n",
    "# Build and fit the model\n",
    "model_simple = None\n",
    "results_simple = None\n",
    "\n",
    "# Print the results summary\n",
    "print(None)\n",
    "\n",
    "### END CODE HERE ###"
   ]
  },
  {
   "cell_type": "markdown",
   "metadata": {},
   "source": [
    "<details>\n",
    "<summary style=\"background-color: #c6e2ff6c; padding: 10px; border-radius: 3px; box-shadow: 0 2px 4px rgba(0, 0, 0, 0.01); width: 95%; text-align: left; cursor: pointer; font-weight: bold;\">\n",
    "Expected output:</summary> \n",
    "<br>\n",
    "<span style=\"font-size: 10px;\">\n",
    "\n",
    "```mkdn\n",
    "                            OLS Regression Results                            \n",
    "==============================================================================\n",
    "Dep. Variable:          CO₂ emissions   R-squared:                       0.927\n",
    "Model:                            OLS   Adj. R-squared:                  0.927\n",
    "Method:                 Least Squares   F-statistic:                 5.731e+04\n",
    "Date:                Sat, 30 Nov 2024   Prob (F-statistic):               0.00\n",
    "Time:                        12:25:27   Log-Likelihood:                -19341.\n",
    "No. Observations:                4529   AIC:                         3.869e+04\n",
    "Df Residuals:                    4527   BIC:                         3.870e+04\n",
    "Df Model:                           1                                         \n",
    "Covariance Type:            nonrobust                                         \n",
    "==============================================================================\n",
    "                 coef    std err          t      P>|t|      [0.025      0.975]\n",
    "------------------------------------------------------------------------------\n",
    "const         36.2213      0.963     37.609      0.000      34.333      38.109\n",
    "City          17.7845      0.074    239.390      0.000      17.639      17.930\n",
    "==============================================================================\n",
    "Omnibus:                     2908.624   Durbin-Watson:                   1.645\n",
    "Prob(Omnibus):                  0.000   Jarque-Bera (JB):            67852.518\n",
    "Skew:                          -2.681   Prob(JB):                         0.00\n",
    "Kurtosis:                      21.188   Cond. No.                         48.8\n",
    "==============================================================================\n",
    "\n",
    "Notes:\n",
    "[1] Standard Errors assume that the covariance matrix of the errors is correctly specified.\n",
    "```\n",
    "</span>\n",
    "</details>"
   ]
  },
  {
   "cell_type": "markdown",
   "metadata": {},
   "source": [
    "**Reflect**:\n",
    "- Look at the R-squared value. Do you think you were able to fit a good model?\n",
    "- Look at the coefficients. Based on the hypothesis test results, is the \"City\" variable statistically significant?"
   ]
  },
  {
   "cell_type": "markdown",
   "metadata": {},
   "source": [
    "<a id=\"step-5\"></a>\n",
    "\n",
    "## Step 5: Modelling the CO₂ emissions (multiple variables)\n",
    "\n",
    "The simple linear regression performed well, but you can improve the model by adding other features. This will provide a more comprehensive understanding of how different variables interact, leading to more reliable results to select the best car from your list of options.\n",
    "\n",
    "<a id=\"categorical-variables\"></a>\n",
    "\n",
    "### Categorical variables\n",
    "\n",
    "<a id=\"ex5\"></a>\n",
    "\n",
    "#### Exercise 5: Encoding categorical variables\n",
    "\n",
    "The \"Fuel type\" categorical variable seems like it could be useful. Use it to create dummy variables in the next exercise.\n",
    "\n",
    "<div style=\"background-color: #C6E2FF; padding: 10px; border-radius: 3px; box-shadow: 0 2px 4px rgba(0, 0, 0, 0.1); width:95%\">\n",
    "    <strong>▶▶▶ Directions</strong> \n",
    "        <ol>\n",
    "            <li>Specify the feature names of the two predictors: \"City\" and \"Fuel type\".</li>\n",
    "            <li>Add the dummy variables for \"Fuel type\". Assign it to <code>fuel_type_dummies</code></li>\n",
    "        </ol>\n",
    "</div>"
   ]
  },
  {
   "cell_type": "markdown",
   "metadata": {},
   "source": [
    "<details>\n",
    "<summary style=\"background-color: #FDBFC7; padding: 10px; border-radius: 3px; box-shadow: 0 2px 4px rgba(0, 0, 0, 0.1); width: 95%; text-align: left; cursor: pointer; font-weight: bold;\">\n",
    "If you are stuck, click here for extra hints!</summary> \n",
    "\n",
    "<ul style=\"background-color: #FFF8F8; padding: 10px; border-radius: 3px; margin-top: 5px; width: 95%; box-shadow: inset 0 2px 4px rgba(0, 0, 0, 0.1);\">\n",
    "   \n",
    "- To get the dummy variables you can use the `pd.get_dummies()` function. Remember to pass the argument `drop_first=True` to avoid the dummy variable trap\n",
    "</details>"
   ]
  },
  {
   "cell_type": "code",
   "execution_count": null,
   "metadata": {
    "deletable": false,
    "tags": [
     "graded"
    ]
   },
   "outputs": [],
   "source": [
    "# GRADED CELL: Exercise 5\n",
    "\n",
    "### START CODE HERE ###\n",
    "\n",
    "# specify the predictors\n",
    "predictors = [None, None]\n",
    "\n",
    "# create the dummy variables. \n",
    "fuel_type_dummies = pd.get_dummies(None, columns=None, drop_first=None, dtype=None)\n",
    "\n",
    "### END CODE HERE ###\n",
    "\n",
    "fuel_type_dummies.head()"
   ]
  },
  {
   "cell_type": "markdown",
   "metadata": {},
   "source": [
    "<details>\n",
    "<summary style=\"background-color: #c6e2ff6c; padding: 10px; border-radius: 3px; box-shadow: 0 2px 4px rgba(0, 0, 0, 0.01); width: 95%; text-align: left; cursor: pointer; font-weight: bold;\">\n",
    "Expected output:</summary> \n",
    "<br>\n",
    "\n",
    "<img src=\"imgs/fuel_type_dummies.png\" width=\"350\">\n",
    "\n",
    "</details>"
   ]
  },
  {
   "cell_type": "markdown",
   "metadata": {},
   "source": [
    "<a id=\"training-the-model\"></a>\n",
    "\n",
    "### Training the model\n",
    "\n",
    "<a id=\"ex6\"></a>\n",
    "\n",
    "#### Exercise 6: Create and fit a multiple linear regression\n",
    "\n",
    "Now that you have all your features ready, it is time to create and fit the multiple linear regression model.\n",
    "\n",
    "<div style=\"background-color: #C6E2FF; padding: 10px; border-radius: 3px; box-shadow: 0 2px 4px rgba(0, 0, 0, 0.1); width:95%\">\n",
    "    <strong>▶▶▶ Directions</strong> \n",
    "        <ol>\n",
    "            <li>Prepare the predictor and the response variables </li>\n",
    "            <ul>\n",
    "                <li>Prepare the predictors: Add a constant term to <code>fuel_type_dummies</code>. Assign the result to <code>X_multi</code></li>\n",
    "                <li>Get the \"CO2 emissions\" column, and save it in the <code>Y_multi</code> variable</li>\n",
    "            </ul>\n",
    "            <li>Create the model in <code>model_multi</code></li>\n",
    "            <li>Train/fit the model in <code>results_multi</code></li>\n",
    "            <li>Print the model summary</li>\n",
    "        </ol>\n",
    "</div>"
   ]
  },
  {
   "cell_type": "markdown",
   "metadata": {},
   "source": [
    "<details>\n",
    "<summary style=\"background-color: #FDBFC7; padding: 10px; border-radius: 3px; box-shadow: 0 2px 4px rgba(0, 0, 0, 0.1); width: 95%; text-align: left; cursor: pointer; font-weight: bold;\">\n",
    "If you are stuck, click here for extra hints!</summary> \n",
    "\n",
    "<ul style=\"background-color: #FFF8F8; padding: 10px; border-radius: 3px; margin-top: 5px; width: 95%; box-shadow: inset 0 2px 4px rgba(0, 0, 0, 0.1);\">\n",
    "   \n",
    "- To prepare the predictors, you can use the `sm.add_constant()` function.\n",
    "- To get the dependent variable, select the \"CO2 emissions\" column from the `df` DataFrame\n",
    "- To build and train the multiple linear regression model, use the `sm.OLS()` and `fit()` methods.\n",
    "- You can access the summary of the trained model with the `summary()` method\n",
    "</details>"
   ]
  },
  {
   "cell_type": "code",
   "execution_count": null,
   "metadata": {
    "deletable": false,
    "tags": [
     "graded"
    ]
   },
   "outputs": [],
   "source": [
    "# GRADED CELL: Exercise 6\n",
    "\n",
    "### START CODE HERE ###\n",
    "\n",
    "# now add the constant term\n",
    "X_multi = None\n",
    "\n",
    "# Select the dependent variable\n",
    "Y_multi = None\n",
    "\n",
    "# Build and fit the model\n",
    "model_multi = None\n",
    "results_multi = None\n",
    "\n",
    "# Print the model summary\n",
    "print(None)\n",
    "\n",
    "### END CODE HERE ###"
   ]
  },
  {
   "cell_type": "markdown",
   "metadata": {},
   "source": [
    "<details>\n",
    "<summary style=\"background-color: #c6e2ff6c; padding: 10px; border-radius: 3px; box-shadow: 0 2px 4px rgba(0, 0, 0, 0.01); width: 95%; text-align: left; cursor: pointer; font-weight: bold;\">\n",
    "Expected output:</summary> \n",
    "<br>\n",
    "<span style=\"font-size: 10px;\">\n",
    "\n",
    "```mkdn\n",
    "                            OLS Regression Results                            \n",
    "==============================================================================\n",
    "Dep. Variable:          CO2 emissions   R-squared:                       0.979\n",
    "Model:                            OLS   Adj. R-squared:                  0.979\n",
    "Method:                 Least Squares   F-statistic:                 5.217e+04\n",
    "Date:                Sat, 05 Apr 2025   Prob (F-statistic):               0.00\n",
    "Time:                        09:28:06   Log-Likelihood:                -16537.\n",
    "No. Observations:                4529   AIC:                         3.308e+04\n",
    "Df Residuals:                    4524   BIC:                         3.312e+04\n",
    "Df Model:                           4                                         \n",
    "Covariance Type:            nonrobust                                         \n",
    "===============================================================================\n",
    "                  coef    std err          t      P>|t|      [0.025      0.975]\n",
    "-------------------------------------------------------------------------------\n",
    "const          55.3992      1.003     55.233      0.000      53.433      57.366\n",
    "City           19.2503      0.045    432.274      0.000      19.163      19.338\n",
    "Fuel type_E  -147.9444      1.451   -101.967      0.000    -150.789    -145.100\n",
    "Fuel type_X   -34.0815      0.894    -38.139      0.000     -35.833     -32.330\n",
    "Fuel type_Z   -38.9503      0.898    -43.399      0.000     -40.710     -37.191\n",
    "==============================================================================\n",
    "Omnibus:                      635.851   Durbin-Watson:                   0.888\n",
    "Prob(Omnibus):                  0.000   Jarque-Bera (JB):             2466.541\n",
    "Skew:                           0.658   Prob(JB):                         0.00\n",
    "Kurtosis:                       6.367   Cond. No.                         175.\n",
    "==============================================================================\n",
    "\n",
    "Notes:\n",
    "[1] Standard Errors assume that the covariance matrix of the errors is correctly specified.\n",
    "```\n",
    "</span>\n",
    "</details>"
   ]
  },
  {
   "cell_type": "markdown",
   "metadata": {},
   "source": [
    "<a id=\"step-56\"></a>\n",
    "\n",
    "## Step 6: Predicting CO₂ emissions for new car models\n",
    "\n",
    "Now that you have a model you are satisfied with, you will use it to predict the values of CO₂ emissions of the cars in the shortlist. \n",
    "\n",
    "The below exercise is already implemented for you. You will load the test data and process it and then you will use your latest model to predict the CO₂ emissions for each of the cars."
   ]
  },
  {
   "cell_type": "code",
   "execution_count": null,
   "metadata": {},
   "outputs": [],
   "source": [
    "# load the test data\n",
    "test_df = pd.read_csv(\"data/test_cars.csv\")\n",
    "\n",
    "# prepare the predictors for the first model\n",
    "predictors = [\"City\", \"Fuel type\"]\n",
    "# create the dummy variables for \"Fuel type\"\n",
    "fuel_type_dummies_test = pd.get_dummies(test_df[predictors], columns=[\"Fuel type\"], drop_first=True, dtype=int)\n",
    "# if not all fuel types are present in the test data, add the missing columns\n",
    "fuel_type_dummies_test = fuel_type_dummies_test.reindex(\n",
    "    columns=fuel_type_dummies.columns, fill_value=0)\n",
    "\n",
    "# get the predictor columns from X_multi.\n",
    "X_test_multi = sm.add_constant(fuel_type_dummies_test)\n",
    "\n",
    "# Predict the CO2 emissions using the second model\n",
    "predictions_test_multi = results_multi.predict(X_test_multi)"
   ]
  },
  {
   "cell_type": "markdown",
   "metadata": {},
   "source": [
    "Now that you have calculated the predictions for the four shortlisted cars, you just need to print out the output in an understandable way."
   ]
  },
  {
   "cell_type": "code",
   "execution_count": null,
   "metadata": {},
   "outputs": [],
   "source": [
    "print(\"\\nPredictions using the selected model:\")\n",
    "for i in range(len(predictions_test_multi)):\n",
    "    print(test_df[\"Model year\"][i], test_df[\"Make\"][i], test_df[\"Model\"][i], \":\", predictions_test_multi[i])"
   ]
  },
  {
   "cell_type": "markdown",
   "metadata": {},
   "source": [
    "<details>\n",
    "<summary style=\"background-color: #c6e2ff6c; padding: 10px; border-radius: 3px; box-shadow: 0 2px 4px rgba(0, 0, 0, 0.01); width: 95%; text-align: left; cursor: pointer; font-weight: bold;\">\n",
    "Expected output:</summary> \n",
    "<br>\n",
    "<span style=\"font-size: 12px;\">\n",
    "\n",
    "```mkdn\n",
    "Predictions using the selected model:\n",
    "2023 Kia Forte : 213.25202144513074\n",
    "2024 Nissan Sentra : 197.8517503175414\n",
    "2023 Honda Accord : 161.85361655680128\n",
    "2024 Genesis G70 : 241.6778978937784\n",
    "```\n",
    "</span>\n",
    "</details>"
   ]
  },
  {
   "cell_type": "markdown",
   "metadata": {},
   "source": [
    "Based on your predictions, which of these models would you suggest to the agency?\n",
    "\n",
    "Congratulations on finishing this graded lab! If everything is running correctly, you can go ahead and submit your code for grading."
   ]
  }
 ],
 "metadata": {
  "grader_version": "2",
  "kernelspec": {
   "display_name": "Python 3 (ipykernel)",
   "language": "python",
   "name": "python3"
  },
  "language_info": {
   "codemirror_mode": {
    "name": "ipython",
    "version": 3
   },
   "file_extension": ".py",
   "mimetype": "text/x-python",
   "name": "python",
   "nbconvert_exporter": "python",
   "pygments_lexer": "ipython3",
   "version": "3.11.6"
  }
 },
 "nbformat": 4,
 "nbformat_minor": 4
}
