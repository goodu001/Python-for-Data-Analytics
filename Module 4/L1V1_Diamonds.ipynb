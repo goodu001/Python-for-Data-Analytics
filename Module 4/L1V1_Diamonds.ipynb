{
 "cells": [
  {
   "cell_type": "markdown",
   "id": "04669464-908b-4ef4-8e5a-8261bcaa1fef",
   "metadata": {},
   "source": [
    "# Confidence intervals"
   ]
  },
  {
   "cell_type": "code",
   "execution_count": null,
   "id": "acf64870-454b-478b-9603-343e803c964b",
   "metadata": {},
   "outputs": [],
   "source": [
    "import pandas as pd\n",
    "import matplotlib.pyplot as plt\n",
    "import seaborn as sns\n",
    "import numpy as np\n",
    "import scipy.stats as stats"
   ]
  },
  {
   "cell_type": "code",
   "execution_count": null,
   "id": "a5ff59bb-1d20-4031-b73a-5be226a52a65",
   "metadata": {},
   "outputs": [],
   "source": [
    "df = pd.read_csv(\"diamonds.csv\")"
   ]
  },
  {
   "cell_type": "code",
   "execution_count": null,
   "id": "edc84d5d-839e-447d-a6dc-1ca70ff3e7c8",
   "metadata": {},
   "outputs": [],
   "source": [
    "df.head()"
   ]
  },
  {
   "cell_type": "code",
   "execution_count": null,
   "id": "c224becd-ba6f-4a82-8c5c-1b9f6ebf5bda",
   "metadata": {},
   "outputs": [],
   "source": [
    "df.describe()"
   ]
  },
  {
   "cell_type": "code",
   "execution_count": null,
   "id": "35730d43-9162-40e2-9283-39d6a6db7363",
   "metadata": {},
   "outputs": [],
   "source": [
    "sns.histplot(df, x=\"price\")\n",
    "plt.show()"
   ]
  },
  {
   "cell_type": "code",
   "execution_count": null,
   "id": "265c98f1-cb31-4507-9062-e680d38e67e4",
   "metadata": {},
   "outputs": [],
   "source": [
    "n = df[\"price\"].count() # number of diamonds\n",
    "xbar = df[\"price\"].mean()\n",
    "s = df[\"price\"].std()\n",
    "conf = 0.95\n",
    "SEM = s / np.sqrt(n)"
   ]
  },
  {
   "cell_type": "code",
   "execution_count": null,
   "id": "2897e23d-3965-4c16-95e8-5401cd2ceee1",
   "metadata": {},
   "outputs": [],
   "source": [
    "interval = stats.norm.interval(confidence=conf, loc=xbar, scale=SEM)\n",
    "interval"
   ]
  },
  {
   "cell_type": "code",
   "execution_count": null,
   "id": "2d3d02a4-aaaa-4418-b6b4-f645b3b9b58a",
   "metadata": {},
   "outputs": [],
   "source": [
    "print(\"With 95% confidence, the true mean diamond price is between\", interval[0], \"and\", interval[1])"
   ]
  },
  {
   "cell_type": "markdown",
   "id": "021a96e3-c558-418a-9ad8-3cfb5d1bd624",
   "metadata": {},
   "source": [
    "## One sample t test"
   ]
  },
  {
   "cell_type": "code",
   "execution_count": null,
   "id": "5cca7a97-e83f-4eec-ba11-cc89676c4865",
   "metadata": {},
   "outputs": [],
   "source": [
    "# Test whether \"Premium\" cut diamonds have an average price above $4500\n",
    "# look at individual values for cut - 5 different options\n",
    "print(pd.unique(df[\"cut\"]))"
   ]
  },
  {
   "cell_type": "code",
   "execution_count": null,
   "id": "734dafb7-5843-4d6e-b2db-33fc1ec158aa",
   "metadata": {},
   "outputs": [],
   "source": [
    "# find the mean of prices for different cuts\n",
    "df.groupby(\"cut\")[\"price\"].mean()"
   ]
  },
  {
   "cell_type": "code",
   "execution_count": null,
   "id": "e18ee64b-c178-4785-b889-4a2994719901",
   "metadata": {},
   "outputs": [],
   "source": [
    "alpha = 0.5\n",
    "test_results = stats.ttest_1samp(df[df[\"cut\"] == \"Premium\"][\"price\"], popmean=3400)\n",
    "print(test_results)"
   ]
  },
  {
   "cell_type": "code",
   "execution_count": null,
   "id": "98640802-5186-4d27-8e7d-c7a414a13e4e",
   "metadata": {},
   "outputs": [],
   "source": [
    "if test_results[1] > 0.05:\n",
    "    print(\"Failed to reject the null with p-value\", test_results[1])\n",
    "else:\n",
    "    print(\"Rejected the null with p-value\", test_results[1])"
   ]
  },
  {
   "cell_type": "markdown",
   "id": "13cb0b43-0a80-4148-b728-b9bda055bb2c",
   "metadata": {},
   "source": [
    "# Two sample t test"
   ]
  },
  {
   "cell_type": "code",
   "execution_count": null,
   "id": "622991b8-cc5e-4cb2-8f5d-36873f5d363b",
   "metadata": {},
   "outputs": [],
   "source": [
    "# plot differences\n",
    "df.groupby(\"cut\")[\"price\"].mean().sort_values().plot(kind=\"bar\")\n",
    "plt.show()"
   ]
  },
  {
   "cell_type": "code",
   "execution_count": null,
   "id": "283bb001-92dc-401b-945b-d0b97bd35b74",
   "metadata": {},
   "outputs": [],
   "source": [
    "df.groupby(\"cut\")[\"price\"].mean()"
   ]
  },
  {
   "cell_type": "code",
   "execution_count": null,
   "id": "92abd0f9-e0d0-460d-a9fd-be3bcec610ce",
   "metadata": {},
   "outputs": [],
   "source": [
    "sns.boxplot(df, x=\"price\", y=\"cut\", palette=\"terrain\")"
   ]
  },
  {
   "cell_type": "code",
   "execution_count": null,
   "id": "92bc09fa-3d2a-44e8-a15c-e3976a3b8d8c",
   "metadata": {},
   "outputs": [],
   "source": [
    "very_good_df = df[df[\"cut\"] == \"Very Good\"]\n",
    "good_df = df[df[\"cut\"] == \"Good\"]\n",
    "test_results = stats.ttest_ind(very_good_df[\"price\"], good_df[\"price\"])"
   ]
  },
  {
   "cell_type": "code",
   "execution_count": null,
   "id": "4afa290a-d412-4ff6-bb57-d9857ed51ec0",
   "metadata": {},
   "outputs": [],
   "source": [
    "print(test_results)"
   ]
  },
  {
   "cell_type": "code",
   "execution_count": null,
   "id": "a198ca93-9285-4688-baa8-40c4e3113e2f",
   "metadata": {},
   "outputs": [],
   "source": [
    "if test_results[1] > 0.05:\n",
    "    print(\"Failed to reject the null with p-value\", test_results[1])\n",
    "else:\n",
    "    print(\"Rejected the null with p-value\", test_results[1])"
   ]
  },
  {
   "cell_type": "markdown",
   "id": "c3e84b87-9c36-48a0-b891-ebf17b544874",
   "metadata": {},
   "source": [
    "# Simulation"
   ]
  },
  {
   "cell_type": "code",
   "execution_count": null,
   "id": "3579f0b1-86d1-4e86-bfe6-8e2542132459",
   "metadata": {},
   "outputs": [],
   "source": [
    "n = 1000\n",
    "sample = np.random.uniform(low=0, high=0.1, size=n)\n",
    "xbar = sample.mean()\n",
    "s = sample.std()\n",
    "print(\"Sample mean:\", xbar)\n",
    "print(\"Sample st. dev.:\", s)\n",
    "sns.histplot(sample)\n",
    "plt.show()"
   ]
  },
  {
   "cell_type": "code",
   "execution_count": null,
   "id": "3c7e3c95-800c-430d-9c3b-acb3d65b96fc",
   "metadata": {},
   "outputs": [],
   "source": [
    "n = 1000\n",
    "sample = np.random.uniform(low=0, high=0.1, size=n)\n",
    "xbar = sample.mean()\n",
    "s = sample.std()\n",
    "conf = 0.95\n",
    "SEM = s / np.sqrt(n)\n",
    "print(\"Sample mean:\", xbar)\n",
    "print(\"Sample st. dev.:\", s)\n",
    "interval = stats.norm.interval(confidence=conf, loc=xbar, scale=SEM)\n",
    "print(\"With 95% confidence, the true mean diamond price is between\", interval[0], \"and\", interval[1])\n",
    "sns.histplot(sample)\n",
    "plt.show()"
   ]
  },
  {
   "cell_type": "code",
   "execution_count": null,
   "id": "7b76494f-662a-45c9-ad27-e928e1f80dbc",
   "metadata": {},
   "outputs": [],
   "source": [
    "# Ask LLM to repeat scenario:\n",
    "n = 1000\n",
    "conf = 0.95\n",
    "contains_0_05 = 0\n",
    "does_not_contain_0_05 = 0\n",
    "\n",
    "for _ in range(100):\n",
    "    sample = np.random.uniform(low=0, high=0.1, size=n)\n",
    "    xbar = sample.mean()\n",
    "    s = sample.std()\n",
    "    SEM = s / np.sqrt(n)\n",
    "    interval = stats.norm.interval(confidence=conf, loc=xbar, scale=SEM)\n",
    "    \n",
    "    if interval[0] <= 0.05 <= interval[1]:\n",
    "        contains_0_05 += 1\n",
    "    else:\n",
    "        does_not_contain_0_05 += 1\n",
    "\n",
    "print(\"Number of intervals containing 0.05:\", contains_0_05)\n",
    "print(\"Number of intervals not containing 0.05:\", does_not_contain_0_05)"
   ]
  },
  {
   "cell_type": "markdown",
   "id": "a65c177c-67a6-4f53-998d-18abcf9522ac",
   "metadata": {},
   "source": [
    "## Sampling from the normal distribution"
   ]
  },
  {
   "cell_type": "code",
   "execution_count": null,
   "id": "f4e4118f-9cd8-4ac6-b5a7-0484e499a6e2",
   "metadata": {},
   "outputs": [],
   "source": [
    "n = 1000\n",
    "conf = 0.95\n",
    "\n",
    "for _ in range(100):\n",
    "    sample = np.random.normal(loc=3932, scale=750, size=n)\n",
    "    xbar = sample.mean()\n",
    "    s = sample.std()\n",
    "    SEM = s / np.sqrt(n)\n",
    "    interval = stats.norm.interval(confidence=conf, loc=xbar, scale=SEM)\n",
    "    print(interval)"
   ]
  },
  {
   "cell_type": "code",
   "execution_count": null,
   "id": "b512873f-dbe8-469a-b931-e1c4a0c1f65c",
   "metadata": {},
   "outputs": [],
   "source": [
    "n = 1000\n",
    "conf = 0.95\n",
    "contains_mu = 0\n",
    "does_not_contain_mu = 0\n",
    "\n",
    "for _ in range(100):\n",
    "    sample = np.random.normal(loc=3932, scale=750, size=n)\n",
    "    xbar = sample.mean()\n",
    "    s = sample.std()\n",
    "    SEM = s / np.sqrt(n)\n",
    "    interval = stats.norm.interval(confidence=conf, loc=xbar, scale=SEM)\n",
    "    \n",
    "    if interval[0] <= 3932 <= interval[1]:\n",
    "        contains_mu += 1\n",
    "    else:\n",
    "        does_not_contain_mu += 1\n",
    "\n",
    "print(\"Number of intervals containing 3932:\", contains_mu)\n",
    "print(\"Number of intervals not containing 3932:\", does_not_contain_mu)"
   ]
  }
 ],
 "metadata": {
  "kernelspec": {
   "display_name": "Python 3 (ipykernel)",
   "language": "python",
   "name": "python3"
  },
  "language_info": {
   "codemirror_mode": {
    "name": "ipython",
    "version": 3
   },
   "file_extension": ".py",
   "mimetype": "text/x-python",
   "name": "python",
   "nbconvert_exporter": "python",
   "pygments_lexer": "ipython3",
   "version": "3.11.6"
  }
 },
 "nbformat": 4,
 "nbformat_minor": 5
}
