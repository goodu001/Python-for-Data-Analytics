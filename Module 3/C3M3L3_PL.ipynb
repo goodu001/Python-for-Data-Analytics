{
 "cells": [
  {
   "cell_type": "markdown",
   "metadata": {},
   "source": [
    "# C3M3 Lesson 3 Practice Lab: Flight delays and cancellations - Histograms and rugplots\n",
    "\n",
    "After analyzing the Australian flight delays and cancellations, it’s time to expand your insights with visualizations of delay distributions to refine your recommendations for the travel agency.\n",
    "\n",
    "You will be working with a filtered version of the Domestic Airlines - On Time Performance dataset from the Australian Government data. This filtered version has only data for the 5 most popular routes. You will use the following columns in this lab:\n",
    "\n",
    "- `Route`: Plane route Departure City - Arrival City\n",
    "- `Sectors_Scheduled`: How many flights were scheduled for the given airline and route for the given month\n",
    "- `Departures_Delayed`: Number of flights that departed the gate 15 minutes after the scheduled arrival time shown in the carriers' \n",
    "\n",
    "## General instructions\n",
    "- **Replace any instances of `None` with your own code**. All `None`s must be replaced.\n",
    "- **Compare your results with the expected output** shown below the code.\n",
    "- **Check the solution** using the expandable cell to verify your answer.\n",
    "\n",
    "Happy coding!\n",
    "\n",
    "<div style=\"background-color: #FAD888; padding: 10px; border-radius: 3px; box-shadow: 0 2px 4px rgba(0, 0, 0, 0.1); width:95%\n",
    "\">\n",
    "<strong>Important note</strong>: Code blocks with None will not run properly. If you run them before completing the exercise, you will likely get an error. \n",
    "\n",
    "</div>"
   ]
  },
  {
   "cell_type": "markdown",
   "metadata": {},
   "source": [
    "## Table of contents\n",
    "- [Step 1: Import libraries](#import-libraries)\n",
    "- [Step 2: Load the data](#load-the-data)\n",
    "- [Step 3: Understanding the distribution of cancellations](#understanding-the-distribution-of-cancellations)\n",
    "    - [Histograms with rugplots](#histograms-with-rugplots)\n",
    "    - [Subplots](#subplots)"
   ]
  },
  {
   "cell_type": "markdown",
   "metadata": {},
   "source": [
    "<a id=\"import-libraries\"></a>\n",
    "\n",
    "## Step 1: Import libraries\n",
    "This time you will need to import matplotlib and seaborn in addition to pandas."
   ]
  },
  {
   "cell_type": "code",
   "execution_count": 1,
   "metadata": {},
   "outputs": [],
   "source": [
    "import pandas as pd\n",
    "import matplotlib.pyplot as plt\n",
    "import seaborn as sns"
   ]
  },
  {
   "cell_type": "markdown",
   "metadata": {},
   "source": [
    "<a id=\"load-the-data\"></a>\n",
    "\n",
    "## Step 2: Load the data\n",
    "Run the cell below to load the data."
   ]
  },
  {
   "cell_type": "code",
   "execution_count": 2,
   "metadata": {},
   "outputs": [
    {
     "data": {
      "text/html": [
       "<div>\n",
       "<style scoped>\n",
       "    .dataframe tbody tr th:only-of-type {\n",
       "        vertical-align: middle;\n",
       "    }\n",
       "\n",
       "    .dataframe tbody tr th {\n",
       "        vertical-align: top;\n",
       "    }\n",
       "\n",
       "    .dataframe thead th {\n",
       "        text-align: right;\n",
       "    }\n",
       "</style>\n",
       "<table border=\"1\" class=\"dataframe\">\n",
       "  <thead>\n",
       "    <tr style=\"text-align: right;\">\n",
       "      <th></th>\n",
       "      <th>Route</th>\n",
       "      <th>Departing_Port</th>\n",
       "      <th>Arriving_Port</th>\n",
       "      <th>Airline</th>\n",
       "      <th>Month</th>\n",
       "      <th>Sectors_Scheduled</th>\n",
       "      <th>Sectors_Flown</th>\n",
       "      <th>Cancellations</th>\n",
       "      <th>Departures_On_Time</th>\n",
       "      <th>Arrivals_On_Time</th>\n",
       "      <th>Departures_Delayed</th>\n",
       "      <th>Arrivals_Delayed</th>\n",
       "      <th>Year</th>\n",
       "      <th>Month_Num</th>\n",
       "    </tr>\n",
       "  </thead>\n",
       "  <tbody>\n",
       "    <tr>\n",
       "      <th>0</th>\n",
       "      <td>Brisbane-Melbourne</td>\n",
       "      <td>Brisbane</td>\n",
       "      <td>Melbourne</td>\n",
       "      <td>Qantas</td>\n",
       "      <td>2004-01-01</td>\n",
       "      <td>496.0</td>\n",
       "      <td>492</td>\n",
       "      <td>4.0</td>\n",
       "      <td>410.0</td>\n",
       "      <td>427.0</td>\n",
       "      <td>82.0</td>\n",
       "      <td>65.0</td>\n",
       "      <td>2004</td>\n",
       "      <td>1</td>\n",
       "    </tr>\n",
       "    <tr>\n",
       "      <th>1</th>\n",
       "      <td>Brisbane-Sydney</td>\n",
       "      <td>Brisbane</td>\n",
       "      <td>Sydney</td>\n",
       "      <td>Qantas</td>\n",
       "      <td>2004-01-01</td>\n",
       "      <td>683.0</td>\n",
       "      <td>677</td>\n",
       "      <td>6.0</td>\n",
       "      <td>576.0</td>\n",
       "      <td>595.0</td>\n",
       "      <td>101.0</td>\n",
       "      <td>82.0</td>\n",
       "      <td>2004</td>\n",
       "      <td>1</td>\n",
       "    </tr>\n",
       "    <tr>\n",
       "      <th>2</th>\n",
       "      <td>Melbourne-Sydney</td>\n",
       "      <td>Melbourne</td>\n",
       "      <td>Sydney</td>\n",
       "      <td>Qantas</td>\n",
       "      <td>2004-01-01</td>\n",
       "      <td>821.0</td>\n",
       "      <td>799</td>\n",
       "      <td>22.0</td>\n",
       "      <td>723.0</td>\n",
       "      <td>706.0</td>\n",
       "      <td>76.0</td>\n",
       "      <td>93.0</td>\n",
       "      <td>2004</td>\n",
       "      <td>1</td>\n",
       "    </tr>\n",
       "    <tr>\n",
       "      <th>3</th>\n",
       "      <td>Sydney-Brisbane</td>\n",
       "      <td>Sydney</td>\n",
       "      <td>Brisbane</td>\n",
       "      <td>Qantas</td>\n",
       "      <td>2004-01-01</td>\n",
       "      <td>686.0</td>\n",
       "      <td>682</td>\n",
       "      <td>4.0</td>\n",
       "      <td>614.0</td>\n",
       "      <td>599.0</td>\n",
       "      <td>68.0</td>\n",
       "      <td>83.0</td>\n",
       "      <td>2004</td>\n",
       "      <td>1</td>\n",
       "    </tr>\n",
       "    <tr>\n",
       "      <th>4</th>\n",
       "      <td>Sydney-Melbourne</td>\n",
       "      <td>Sydney</td>\n",
       "      <td>Melbourne</td>\n",
       "      <td>Qantas</td>\n",
       "      <td>2004-01-01</td>\n",
       "      <td>800.0</td>\n",
       "      <td>785</td>\n",
       "      <td>15.0</td>\n",
       "      <td>683.0</td>\n",
       "      <td>708.0</td>\n",
       "      <td>102.0</td>\n",
       "      <td>77.0</td>\n",
       "      <td>2004</td>\n",
       "      <td>1</td>\n",
       "    </tr>\n",
       "  </tbody>\n",
       "</table>\n",
       "</div>"
      ],
      "text/plain": [
       "                Route Departing_Port Arriving_Port Airline       Month  \\\n",
       "0  Brisbane-Melbourne       Brisbane     Melbourne  Qantas  2004-01-01   \n",
       "1     Brisbane-Sydney       Brisbane        Sydney  Qantas  2004-01-01   \n",
       "2    Melbourne-Sydney      Melbourne        Sydney  Qantas  2004-01-01   \n",
       "3     Sydney-Brisbane         Sydney      Brisbane  Qantas  2004-01-01   \n",
       "4    Sydney-Melbourne         Sydney     Melbourne  Qantas  2004-01-01   \n",
       "\n",
       "   Sectors_Scheduled  Sectors_Flown  Cancellations  Departures_On_Time  \\\n",
       "0              496.0            492            4.0               410.0   \n",
       "1              683.0            677            6.0               576.0   \n",
       "2              821.0            799           22.0               723.0   \n",
       "3              686.0            682            4.0               614.0   \n",
       "4              800.0            785           15.0               683.0   \n",
       "\n",
       "   Arrivals_On_Time  Departures_Delayed  Arrivals_Delayed  Year  Month_Num  \n",
       "0             427.0                82.0              65.0  2004          1  \n",
       "1             595.0               101.0              82.0  2004          1  \n",
       "2             706.0                76.0              93.0  2004          1  \n",
       "3             599.0                68.0              83.0  2004          1  \n",
       "4             708.0               102.0              77.0  2004          1  "
      ]
     },
     "execution_count": 2,
     "metadata": {},
     "output_type": "execute_result"
    }
   ],
   "source": [
    "df = pd.read_csv(\"otp_top5_routes.csv\")\n",
    "df.head()"
   ]
  },
  {
   "cell_type": "markdown",
   "metadata": {},
   "source": [
    "<a id=\"understanding-the-distribution-of-cancellations\"></a>\n",
    "\n",
    "## Step 3: Understanding the distribution of delays\n",
    "So far you were able to identify which routes suffered more cancellations, and which airlines where responsible for those cancellations as well as the distributions of cancellation rates. Now you can have a look at very similarly structured data about delays. You would like to know the distribution of delay rates. One drawback that histograms have is that you lose information about where the individual points lie. You can fix this by adding a rugplot on top of the histogram.\n",
    "\n",
    "<a id=\"histograms-with-rugplots\"></a>\n",
    "\n",
    "### Histograms with rugplots\n",
    "<div style=\"background-color: #C6E2FF; padding: 10px; border-radius: 3px; box-shadow: 0 2px 4px rgba(0, 0, 0, 0.1); width:95%\n",
    "\">\n",
    "    <strong>▶▶▶ Directions</strong> \n",
    "        <ol>\n",
    "            <li>In the next cell, a column called \"Delay_Rates\" is created that contains the ratio of canceled flights to the total number of scheduled flights</li>\n",
    "            <li>Plot the distribution of the delay rates.</li>\n",
    "            <ul>\n",
    "                <li> Plot a histogram (sns.histplot) with x axis set to \"Delay_Rates\"</li>\n",
    "                <li> Plot a rugplot (sns.rugplot) with x axis set to \"Delay_Rates\"</li>\n",
    "                <li> Change the x-axis label to \"Delay Rates\"</li>\n",
    "                <li> Add the title \"Delay rates distribution\"</li>\n",
    "            </ul>\n",
    "        </ol>\n",
    "</div>\n"
   ]
  },
  {
   "cell_type": "code",
   "execution_count": 5,
   "metadata": {},
   "outputs": [
    {
     "data": {
      "text/plain": [
       "Text(0.5, 1.0, 'Delay rates distribution')"
      ]
     },
     "execution_count": 5,
     "metadata": {},
     "output_type": "execute_result"
    },
    {
     "data": {
      "image/png": "[encoded data removed]",
      "text/plain": [
       "<Figure size 640x480 with 1 Axes>"
      ]
     },
     "metadata": {},
     "output_type": "display_data"
    }
   ],
   "source": [
    "# find the proportion of cancelled flights (divide cancellations by the scheduled flights)\n",
    "df[\"Delay_Rates\"] = df[\"Departures_Delayed\"] / df[\"Sectors_Scheduled\"]\n",
    "\n",
    "### START CODE HERE ###\n",
    "\n",
    "# plot the histogram\n",
    "sns.histplot(df, x=\"Delay_Rates\", bins=25)\n",
    "# add the rugplot\n",
    "sns.rugplot(df, x=\"Delay_Rates\")\n",
    "\n",
    "# change xlabel\n",
    "plt.xlabel(\"Delay Rates\")\n",
    "# add the title\n",
    "plt.title(\"Delay rates distribution\")\n",
    "\n",
    "### END CODE HERE ###"
   ]
  },
  {
   "cell_type": "markdown",
   "metadata": {},
   "source": [
    "<details open>\n",
    "<summary style=\"background-color: #c6e2ff6c; padding: 10px; border-radius: 3px; box-shadow: 0 2px 4px rgba(0, 0, 0, 0.01); width: 95%; text-align: left; cursor: pointer; font-weight: bold;\">\n",
    "Expected output:</summary> \n",
    "\n",
    "<img src=\"imgsL3/hist_rug.png\" width=\"350\">\n",
    "\n",
    "</details>"
   ]
  },
  {
   "cell_type": "markdown",
   "metadata": {},
   "source": [
    "<details>\n",
    "<summary style=\"background-color: #FDBFC7; padding: 10px; border-radius: 3px; box-shadow: 0 2px 4px rgba(0, 0, 0, 0.1); width: 95%; text-align: left; cursor: pointer; font-weight: bold;\">\n",
    "Click here to see the solution</summary> \n",
    "\n",
    "<ul style=\"background-color: #FFF8F8; padding: 10px; border-radius: 3px; margin-top: 5px; width: 95%; box-shadow: inset 0 2px 4px rgba(0, 0, 0, 0.1);\">\n",
    "   \n",
    "Your solution should look something like this:\n",
    "\n",
    "```python\n",
    "# plot the histogram\n",
    "sns.histplot(df, x=\"Delay_Rates\", bins=25)\n",
    "# add the rugplot\n",
    "sns.rugplot(df, x=\"Delay_Rates\")\n",
    "\n",
    "# change xlabel\n",
    "plt.xlabel(\"Delay Rates\")\n",
    "# add the title\n",
    "plt.title(\"Delay rates distribution\")\n",
    "```\n",
    "</details>"
   ]
  },
  {
   "cell_type": "markdown",
   "metadata": {},
   "source": [
    "Apart from displaying the distribution of data points, this visualization also highlights their individual locations. In this specific example, however, most of the points cluster between 0.2 and 0.4. Due to the large number of points, it becomes impossible to distinguish individual data points in that region. Nevertheless, the rugplot remains very effective for identifying outliers.\n",
    "\n",
    "<a id=\"subplots\"></a>\n",
    "\n",
    "### Subplots\n",
    "To gain a better understanding of the delays, it makes sense to split the data based on the route and examine whether certain routes experience more delays than others. This process involves creating multiple plots, and a valuable tool for plotting them all simultaneously is subplots. Run the cell below to discover how many different routes are present in the dataset."
   ]
  },
  {
   "cell_type": "code",
   "execution_count": 6,
   "metadata": {},
   "outputs": [
    {
     "name": "stdout",
     "output_type": "stream",
     "text": [
      "Brisbane-Melbourne\n",
      "Brisbane-Sydney\n",
      "Melbourne-Sydney\n",
      "Sydney-Brisbane\n",
      "Sydney-Melbourne\n"
     ]
    }
   ],
   "source": [
    "routes = df[\"Route\"].unique()\n",
    "\n",
    "for route in routes:\n",
    "    print(route)"
   ]
  },
  {
   "cell_type": "markdown",
   "metadata": {},
   "source": [
    "With five routes to plot, it would make sense to create a 3x2 grid of subplots to display the delay rate distributions for all routes.\n",
    "\n",
    "<div style=\"background-color: #C6E2FF; padding: 10px; border-radius: 3px; box-shadow: 0 2px 4px rgba(0, 0, 0, 0.1); width:95%\">\n",
    "    <strong>▶▶▶ Directions</strong> \n",
    "        <ol>\n",
    "            <li>Use the cell below to create the subplots for the delay rate for each of the routes</li>\n",
    "            <ul>\n",
    "                <li> Set the figure size to 15x10 </li>\n",
    "                <li> Loop over the routes (already implemented)</li>\n",
    "                <li> Select one of the routes using  the index (already implemented)</li>\n",
    "                <li> Filter the dataframe by the route (already implemented)</li>\n",
    "                <li> Select the current subplot with the index</li>\n",
    "                <li> Plot the histogram of <code>Delay_Rates</code> (already implemented)</li>\n",
    "                <li> Plot the rugplot of <code>Delay_Rates</code> (already implemented)</li>\n",
    "                <li> Set a title to know which subplot represents which route (already implemented) </li>\n",
    "                <li> Set the x axis limits to show the same range on each subplot for easier comparison of the data (already implemented) </li>\n",
    "            </ul>\n",
    "        </ol>\n",
    "</div>"
   ]
  },
  {
   "cell_type": "code",
   "execution_count": null,
   "metadata": {},
   "outputs": [],
   "source": [
    "### START CODE HERE ###\n",
    "\n",
    "plt.figure(figsize=(15, 10))\n",
    "\n",
    "# Loop over all of the routes\n",
    "for i in range(1, 6):\n",
    "    # Select one of the routes (starting with 0)\n",
    "    route = routes[i-1]\n",
    "    # Filter the dataframe to keep only the data for that route\n",
    "    df_filtered = df[df[\"Route\"] == route]\n",
    "\n",
    "    # Create a subplot (remember they start with 1)\n",
    "    plt.subplot(2, 3, i)\n",
    "\n",
    "    # Plot the histogram\n",
    "    sns.histplot(df_filtered, x=\"Delay_Rates\", binwidth=0.04)\n",
    "    # Add the rugplot\n",
    "    sns.rugplot(df_filtered, x=\"Delay_Rates\")\n",
    "\n",
    "    # Add a title\n",
    "    plt.title(f\"Delay Rates for {route} Route\")\n",
    "    \n",
    "    # Set the x axis limits to show the same range on each subplot\n",
    "    plt.xlim(-0.05, 1.05)\n",
    "\n",
    "### END CODE HERE ###"
   ]
  },
  {
   "cell_type": "markdown",
   "metadata": {},
   "source": [
    "<details open>\n",
    "<summary style=\"background-color: #c6e2ff6c; padding: 10px; border-radius: 3px; box-shadow: 0 2px 4px rgba(0, 0, 0, 0.01); width: 95%; text-align: left; cursor: pointer; font-weight: bold;\">\n",
    "Expected output:</summary> \n",
    "\n",
    "Your plot should look something like this, though your title and y-axis text might be a bit different\n",
    "\n",
    "<img src=\"imgsL3/subplots.png\" width=\"400\">\n",
    "\n",
    "</details>"
   ]
  },
  {
   "cell_type": "markdown",
   "metadata": {},
   "source": [
    "<details>\n",
    "<summary style=\"background-color: #FDBFC7; padding: 10px; border-radius: 3px; box-shadow: 0 2px 4px rgba(0, 0, 0, 0.1); width: 95%; text-align: left; cursor: pointer; font-weight: bold;\">\n",
    "Click here to see the solution</summary> \n",
    "\n",
    "<ul style=\"background-color: #FFF8F8; padding: 10px; border-radius: 3px; margin-top: 5px; width: 95%; box-shadow: inset 0 2px 4px rgba(0, 0, 0, 0.1);\">\n",
    "   \n",
    "Your solution should look something like this:\n",
    "\n",
    "```python\n",
    "plt.figure(figsize=(15, 10))\n",
    "\n",
    "# Loop over all of the routes\n",
    "for i in range(1, 6):\n",
    "    # Select one of the routes (starting with 0)\n",
    "    route = routes[i-1]\n",
    "    # Filter the dataframe to keep only the data for that route\n",
    "    df_filtered = df[df[\"Route\"] == route]\n",
    "\n",
    "    # Create a subplot (remember they start with 1)\n",
    "    plt.subplot(2, 3, i)\n",
    "\n",
    "    # Plot the histogram\n",
    "    sns.histplot(df_filtered, x=\"Delay_Rates\", binwidth=0.04)\n",
    "    # Add the rugplot\n",
    "    sns.rugplot(df_filtered, x=\"Delay_Rates\")\n",
    "\n",
    "    # Add a title\n",
    "    plt.title(f\"Delay Rates for {route} Route\")\n",
    "    \n",
    "    # Set the x axis limits to show the same range on each subplot\n",
    "    plt.xlim(-0.05, 1.05)\n",
    "```\n",
    "</details>"
   ]
  },
  {
   "cell_type": "markdown",
   "metadata": {},
   "source": [
    "Congratulations for making it until the end of this module's labs. You have learned a lot about analyzing and plotting your data. Hope you enjoyed it! "
   ]
  }
 ],
 "metadata": {
  "kernelspec": {
   "display_name": "Python 3 (ipykernel)",
   "language": "python",
   "name": "python3"
  },
  "language_info": {
   "codemirror_mode": {
    "name": "ipython",
    "version": 3
   },
   "file_extension": ".py",
   "mimetype": "text/x-python",
   "name": "python",
   "nbconvert_exporter": "python",
   "pygments_lexer": "ipython3",
   "version": "3.11.6"
  }
 },
 "nbformat": 4,
 "nbformat_minor": 4
}
