{
 "cells": [
  {
   "cell_type": "markdown",
   "id": "254300ee-679c-4cc1-b19f-6973954db4b2",
   "metadata": {},
   "source": [
    "# Loan analysis"
   ]
  },
  {
   "cell_type": "code",
   "execution_count": 1,
   "id": "ed8dfd63-6e28-4cd8-86bb-541cf753113f",
   "metadata": {},
   "outputs": [],
   "source": [
    "import pandas as pd\n",
    "df = pd.read_csv(\"loan_data.csv\")"
   ]
  },
  {
   "cell_type": "code",
   "execution_count": 2,
   "id": "d1f697da-fe66-46eb-bda0-5ef7eab8becf",
   "metadata": {},
   "outputs": [
    {
     "data": {
      "text/html": [
       "<div>\n",
       "<style scoped>\n",
       "    .dataframe tbody tr th:only-of-type {\n",
       "        vertical-align: middle;\n",
       "    }\n",
       "\n",
       "    .dataframe tbody tr th {\n",
       "        vertical-align: top;\n",
       "    }\n",
       "\n",
       "    .dataframe thead th {\n",
       "        text-align: right;\n",
       "    }\n",
       "</style>\n",
       "<table border=\"1\" class=\"dataframe\">\n",
       "  <thead>\n",
       "    <tr style=\"text-align: right;\">\n",
       "      <th></th>\n",
       "      <th>emp_title</th>\n",
       "      <th>emp_length</th>\n",
       "      <th>state</th>\n",
       "      <th>homeownership</th>\n",
       "      <th>debt_to_income</th>\n",
       "      <th>annual_income</th>\n",
       "      <th>open_credit_lines</th>\n",
       "      <th>total_credit_limit</th>\n",
       "      <th>total_credit_utilized</th>\n",
       "      <th>total_debit_limit</th>\n",
       "      <th>loan_amount</th>\n",
       "      <th>interest_rate</th>\n",
       "      <th>installment</th>\n",
       "      <th>grade</th>\n",
       "      <th>balance</th>\n",
       "      <th>paid_interest</th>\n",
       "    </tr>\n",
       "  </thead>\n",
       "  <tbody>\n",
       "    <tr>\n",
       "      <th>0</th>\n",
       "      <td>administrative assistant</td>\n",
       "      <td>0</td>\n",
       "      <td>FL</td>\n",
       "      <td>RENT</td>\n",
       "      <td>22.51</td>\n",
       "      <td>32000.0</td>\n",
       "      <td>4</td>\n",
       "      <td>22984</td>\n",
       "      <td>18420</td>\n",
       "      <td>5000</td>\n",
       "      <td>2500</td>\n",
       "      <td>7.96</td>\n",
       "      <td>78.30</td>\n",
       "      <td>A</td>\n",
       "      <td>2326.16</td>\n",
       "      <td>31.65</td>\n",
       "    </tr>\n",
       "    <tr>\n",
       "      <th>1</th>\n",
       "      <td>sole proprietor</td>\n",
       "      <td>10</td>\n",
       "      <td>MN</td>\n",
       "      <td>OWN</td>\n",
       "      <td>2.99</td>\n",
       "      <td>45000.0</td>\n",
       "      <td>5</td>\n",
       "      <td>203255</td>\n",
       "      <td>1469</td>\n",
       "      <td>9000</td>\n",
       "      <td>12500</td>\n",
       "      <td>7.34</td>\n",
       "      <td>387.91</td>\n",
       "      <td>A</td>\n",
       "      <td>11559.92</td>\n",
       "      <td>218.55</td>\n",
       "    </tr>\n",
       "    <tr>\n",
       "      <th>2</th>\n",
       "      <td>pension ananlyst</td>\n",
       "      <td>10</td>\n",
       "      <td>MD</td>\n",
       "      <td>OWN</td>\n",
       "      <td>21.07</td>\n",
       "      <td>90000.0</td>\n",
       "      <td>19</td>\n",
       "      <td>154848</td>\n",
       "      <td>62112</td>\n",
       "      <td>79300</td>\n",
       "      <td>13000</td>\n",
       "      <td>7.35</td>\n",
       "      <td>403.49</td>\n",
       "      <td>A</td>\n",
       "      <td>11360.72</td>\n",
       "      <td>364.90</td>\n",
       "    </tr>\n",
       "    <tr>\n",
       "      <th>3</th>\n",
       "      <td>director of corporate operations</td>\n",
       "      <td>0</td>\n",
       "      <td>MN</td>\n",
       "      <td>MORTGAGE</td>\n",
       "      <td>12.28</td>\n",
       "      <td>130000.0</td>\n",
       "      <td>23</td>\n",
       "      <td>296496</td>\n",
       "      <td>77944</td>\n",
       "      <td>93600</td>\n",
       "      <td>17500</td>\n",
       "      <td>7.35</td>\n",
       "      <td>349.42</td>\n",
       "      <td>A</td>\n",
       "      <td>16273.90</td>\n",
       "      <td>470.99</td>\n",
       "    </tr>\n",
       "    <tr>\n",
       "      <th>4</th>\n",
       "      <td>dispatcher</td>\n",
       "      <td>3</td>\n",
       "      <td>TX</td>\n",
       "      <td>RENT</td>\n",
       "      <td>28.97</td>\n",
       "      <td>65000.0</td>\n",
       "      <td>28</td>\n",
       "      <td>156207</td>\n",
       "      <td>70381</td>\n",
       "      <td>50800</td>\n",
       "      <td>8000</td>\n",
       "      <td>7.96</td>\n",
       "      <td>250.55</td>\n",
       "      <td>A</td>\n",
       "      <td>7403.61</td>\n",
       "      <td>151.72</td>\n",
       "    </tr>\n",
       "  </tbody>\n",
       "</table>\n",
       "</div>"
      ],
      "text/plain": [
       "                          emp_title  emp_length state homeownership  \\\n",
       "0          administrative assistant           0    FL          RENT   \n",
       "1                   sole proprietor          10    MN           OWN   \n",
       "2                  pension ananlyst          10    MD           OWN   \n",
       "3  director of corporate operations           0    MN      MORTGAGE   \n",
       "4                        dispatcher           3    TX          RENT   \n",
       "\n",
       "   debt_to_income  annual_income  open_credit_lines  total_credit_limit  \\\n",
       "0           22.51        32000.0                  4               22984   \n",
       "1            2.99        45000.0                  5              203255   \n",
       "2           21.07        90000.0                 19              154848   \n",
       "3           12.28       130000.0                 23              296496   \n",
       "4           28.97        65000.0                 28              156207   \n",
       "\n",
       "   total_credit_utilized  total_debit_limit  loan_amount  interest_rate  \\\n",
       "0                  18420               5000         2500           7.96   \n",
       "1                   1469               9000        12500           7.34   \n",
       "2                  62112              79300        13000           7.35   \n",
       "3                  77944              93600        17500           7.35   \n",
       "4                  70381              50800         8000           7.96   \n",
       "\n",
       "   installment grade   balance  paid_interest  \n",
       "0        78.30     A   2326.16          31.65  \n",
       "1       387.91     A  11559.92         218.55  \n",
       "2       403.49     A  11360.72         364.90  \n",
       "3       349.42     A  16273.90         470.99  \n",
       "4       250.55     A   7403.61         151.72  "
      ]
     },
     "execution_count": 2,
     "metadata": {},
     "output_type": "execute_result"
    }
   ],
   "source": [
    "df.head()"
   ]
  },
  {
   "cell_type": "code",
   "execution_count": 3,
   "id": "74962063-d5f1-428b-8dd4-9c1cc58ddd1b",
   "metadata": {},
   "outputs": [
    {
     "name": "stdout",
     "output_type": "stream",
     "text": [
      "['A' 'B' 'C' 'D' 'E' 'F' 'G']\n"
     ]
    }
   ],
   "source": [
    "# visualize loan grades\n",
    "# assigned grades A - G\n",
    "print(pd.unique(df[\"grade\"]))"
   ]
  },
  {
   "cell_type": "code",
   "execution_count": 4,
   "id": "197b36ae-e28f-4abe-bcb5-49d3359fb29d",
   "metadata": {},
   "outputs": [
    {
     "data": {
      "text/plain": [
       "<Axes: xlabel='grade'>"
      ]
     },
     "execution_count": 4,
     "metadata": {},
     "output_type": "execute_result"
    },
    {
     "data": {
      "image/png": "[encoded data removed]",
      "text/plain": [
       "<Figure size 640x480 with 1 Axes>"
      ]
     },
     "metadata": {},
     "output_type": "display_data"
    }
   ],
   "source": [
    "df[\"grade\"].value_counts().plot(kind=\"bar\") # usefulness could be improved!"
   ]
  },
  {
   "cell_type": "code",
   "execution_count": 6,
   "id": "7774be64-2d22-4862-9a19-2e6d212768ec",
   "metadata": {},
   "outputs": [],
   "source": [
    "sorted_grades = df[\"grade\"].value_counts().sort_index()"
   ]
  },
  {
   "cell_type": "code",
   "execution_count": 7,
   "id": "550b0a71-6148-4240-a0ce-9e0998f5680a",
   "metadata": {},
   "outputs": [
    {
     "data": {
      "text/plain": [
       "<Axes: xlabel='grade'>"
      ]
     },
     "execution_count": 7,
     "metadata": {},
     "output_type": "execute_result"
    },
    {
     "data": {
      "image/png": "[encoded data removed]",
      "text/plain": [
       "<Figure size 640x480 with 1 Axes>"
      ]
     },
     "metadata": {},
     "output_type": "display_data"
    }
   ],
   "source": [
    "sorted_grades.plot(kind=\"bar\")"
   ]
  },
  {
   "cell_type": "code",
   "execution_count": 8,
   "id": "3c6537ff-420a-4842-9088-c0d1612baa11",
   "metadata": {},
   "outputs": [],
   "source": [
    "# enhance chart using matplotlib!\n",
    "import matplotlib.pyplot as plt"
   ]
  },
  {
   "cell_type": "code",
   "execution_count": 10,
   "id": "c8ef996e-7ad8-4d06-9d1b-819206cca9be",
   "metadata": {},
   "outputs": [
    {
     "data": {
      "image/png": "[encoded data removed]",
      "text/plain": [
       "<Figure size 640x480 with 1 Axes>"
      ]
     },
     "metadata": {},
     "output_type": "display_data"
    }
   ],
   "source": [
    "sorted_grades.plot(kind=\"bar\")\n",
    "plt.title(\"Frequency of Loan by Grade\")\n",
    "plt.xlabel(\"\") # empty string removes x label\n",
    "plt.ylabel(\"Frequency\")\n",
    "plt.show() # display plot"
   ]
  },
  {
   "cell_type": "code",
   "execution_count": 12,
   "id": "aefa6490-d4e6-4c90-b78e-dc1cd16f5cef",
   "metadata": {},
   "outputs": [
    {
     "data": {
      "image/png": "[encoded data removed]",
      "text/plain": [
       "<Figure size 640x480 with 1 Axes>"
      ]
     },
     "metadata": {},
     "output_type": "display_data"
    }
   ],
   "source": [
    "# improve readability of chart\n",
    "sorted_grades.plot(kind=\"bar\", \n",
    "                   color=\"purple\")\n",
    "plt.title(\"Frequency of Loan by Grade\")\n",
    "plt.xlabel(\"\") # empty string removes x label\n",
    "plt.ylabel(\"Frequency\")\n",
    "plt.show() # display plot"
   ]
  },
  {
   "cell_type": "code",
   "execution_count": 13,
   "id": "c2580b5b-a33f-488c-9ddb-8645b18bf37c",
   "metadata": {},
   "outputs": [],
   "source": [
    "colors = [\"Green\", \"Lime\", \"Yellow\", \"Gold\", \"Orange\", \"Tomato\", \"Red\"]"
   ]
  },
  {
   "cell_type": "code",
   "execution_count": 14,
   "id": "abfa26e5-8bf9-4135-b9cd-ed51eca19443",
   "metadata": {},
   "outputs": [
    {
     "data": {
      "image/png": "[encoded data removed]",
      "text/plain": [
       "<Figure size 640x480 with 1 Axes>"
      ]
     },
     "metadata": {},
     "output_type": "display_data"
    }
   ],
   "source": [
    "# improve readability of chart\n",
    "sorted_grades.plot(kind=\"bar\", \n",
    "                   color=colors)\n",
    "plt.title(\"Frequency of Loan by Grade\")\n",
    "plt.xlabel(\"\") # empty string removes x label\n",
    "plt.ylabel(\"Frequency\")\n",
    "plt.show() # display plot"
   ]
  },
  {
   "cell_type": "code",
   "execution_count": 17,
   "id": "ad313160-c1c1-44c4-b129-e97de1ef4ada",
   "metadata": {},
   "outputs": [
    {
     "data": {
      "image/png": "[encoded data removed]",
      "text/plain": [
       "<Figure size 640x480 with 1 Axes>"
      ]
     },
     "metadata": {},
     "output_type": "display_data"
    }
   ],
   "source": [
    "# improve readability of chart\n",
    "sorted_grades.plot(kind=\"bar\", \n",
    "                   color=colors)\n",
    "plt.title(\"Frequency of Loan by Grade\")\n",
    "plt.xlabel(\"\") # empty string removes x label\n",
    "plt.ylabel(\"Frequency\")\n",
    "plt.grid(axis=\"y\", color=\"black\", alpha=0.7, linestyle=\"--\") # default for axis: \"both\"\n",
    "plt.show() # display plot"
   ]
  },
  {
   "cell_type": "code",
   "execution_count": 18,
   "id": "578d7263-b4cb-4c40-b376-7b6de028758c",
   "metadata": {},
   "outputs": [
    {
     "data": {
      "image/png": "[encoded data removed]",
      "text/plain": [
       "<Figure size 640x480 with 1 Axes>"
      ]
     },
     "metadata": {},
     "output_type": "display_data"
    }
   ],
   "source": [
    "# improve readability of chart\n",
    "sorted_grades.plot(kind=\"bar\", \n",
    "                   color=colors)\n",
    "plt.title(\"Frequency of Loan by Grade\")\n",
    "plt.xlabel(\"\") # empty string removes x label\n",
    "plt.ylabel(\"Frequency\")\n",
    "plt.grid(axis=\"y\", color=\"black\", alpha=0.7, linestyle=\"--\") # default for axis: \"both\"\n",
    "plt.savefig(\"loan_column_chart.png\")"
   ]
  },
  {
   "cell_type": "code",
   "execution_count": 20,
   "id": "567bd5de-8c9d-4470-b0c2-629e793cdc65",
   "metadata": {},
   "outputs": [
    {
     "data": {
      "image/png": "[encoded data removed]",
      "text/plain": [
       "<Figure size 640x480 with 1 Axes>"
      ]
     },
     "metadata": {},
     "output_type": "display_data"
    }
   ],
   "source": [
    "# improve readability of chart\n",
    "sorted_grades.plot(kind=\"bar\", \n",
    "                   color=colors)\n",
    "plt.title(\"Frequency of Loan by Grade\", fontsize=16, fontweight=\"bold\", pad=15)\n",
    "plt.xlabel(\"\") # empty string removes x label\n",
    "plt.ylabel(\"Frequency\", fontsize=14)\n",
    "plt.grid(axis=\"y\", color=\"black\", alpha=0.7, linestyle=\"--\") # default for axis: \"both\"\n",
    "plt.savefig(\"loan_column_chart.png\")"
   ]
  },
  {
   "cell_type": "code",
   "execution_count": 23,
   "id": "9f385eea-0fca-4cca-9d36-bb1f0b51eb38",
   "metadata": {},
   "outputs": [
    {
     "data": {
      "image/png": "[encoded data removed]",
      "text/plain": [
       "<Figure size 640x480 with 1 Axes>"
      ]
     },
     "metadata": {},
     "output_type": "display_data"
    }
   ],
   "source": [
    "# improve readability of chart\n",
    "sorted_grades.plot(kind=\"bar\", \n",
    "                   color=colors)\n",
    "plt.title(\"Frequency of Loan by Grade\", fontsize=16, fontweight=\"bold\", pad=15)\n",
    "plt.xlabel(\"\") # empty string removes x label\n",
    "plt.ylabel(\"Frequency\", fontsize=14)\n",
    "plt.grid(axis=\"y\", color=\"black\", alpha=0.4, linestyle=\"--\") # default for axis: \"both\"\n",
    "plt.annotate(text=\"Loans Grade E and below \\nare very high risk.\",\n",
    "            xy=(4, 50),\n",
    "            xytext=(-10, 30), #offset\n",
    "            textcoords=\"offset points\"\n",
    "            )\n",
    "plt.savefig(\"loan_column_chart.png\")"
   ]
  },
  {
   "cell_type": "code",
   "execution_count": 28,
   "id": "40503c72-f714-4e96-9b1e-09bd52e36911",
   "metadata": {},
   "outputs": [
    {
     "data": {
      "image/png": "[encoded data removed]",
      "text/plain": [
       "<Figure size 640x480 with 1 Axes>"
      ]
     },
     "metadata": {},
     "output_type": "display_data"
    }
   ],
   "source": [
    "sorted_grades.plot(kind=\"bar\", \n",
    "                   color=colors)\n",
    "plt.title(\"Frequency of Loan by Grade\", fontsize=16, fontweight=\"bold\", pad=15)\n",
    "plt.xlabel(\"\") # empty string removes x label\n",
    "plt.ylabel(\"Frequency\", fontsize=14)\n",
    "plt.grid(axis=\"y\", color=\"black\", alpha=0.4, linestyle=\"--\") # default for axis: \"both\"\n",
    "plt.annotate(text=\"Loans Grade E and below \\nare very high risk.\",\n",
    "             xy=(4, 50),\n",
    "             xytext=(-10, 30), # offset\n",
    "             textcoords=\"offset points\",\n",
    "             arrowprops=dict(facecolor='black', arrowstyle='->')\n",
    "            )\n",
    "plt.savefig(\"loan_column_chart_with_annotation.png\")"
   ]
  },
  {
   "cell_type": "code",
   "execution_count": 30,
   "id": "cfc66d69-fcaa-42dd-bd50-251ed0713629",
   "metadata": {},
   "outputs": [
    {
     "data": {
      "image/png": "[encoded data removed]",
      "text/plain": [
       "<Figure size 640x480 with 1 Axes>"
      ]
     },
     "metadata": {},
     "output_type": "display_data"
    }
   ],
   "source": [
    "ax = sorted_grades.plot(kind=\"bar\", \n",
    "                        color=colors)\n",
    "plt.title(\"Frequency of Loan by Grade\", fontsize=16, fontweight=\"bold\", pad=15)\n",
    "plt.xlabel(\"\") # empty string removes x label\n",
    "plt.ylabel(\"Frequency\", fontsize=14)\n",
    "plt.annotate(text=\"Loans Grade E and below \\nare very high risk.\",\n",
    "             xy=(4, 50),\n",
    "             xytext=(-10, 30), # offset\n",
    "             textcoords=\"offset points\",\n",
    "             arrowprops=dict(facecolor='black', arrowstyle='->')\n",
    "            )\n",
    "\n",
    "# Label each bar with its frequency\n",
    "for bar in ax.patches:\n",
    "    bar_height = bar.get_height()\n",
    "    ax.text(bar.get_x() + bar.get_width() / 2, \n",
    "            bar_height, \n",
    "            f'{bar_height:.0f}', \n",
    "            ha='center', \n",
    "            va='bottom')"
   ]
  },
  {
   "cell_type": "code",
   "execution_count": 35,
   "id": "ffff99b6-d36d-4495-8f19-85acbd059c3f",
   "metadata": {},
   "outputs": [
    {
     "data": {
      "image/png": "[encoded data removed]",
      "text/plain": [
       "<Figure size 640x480 with 1 Axes>"
      ]
     },
     "metadata": {},
     "output_type": "display_data"
    }
   ],
   "source": [
    "ax = sorted_grades.plot(kind=\"bar\", color=colors) # save plot to variable\n",
    "plt.title(\"Frequency of Loans by Grade\")\n",
    "plt.xlabel(\"Grade\")\n",
    "plt.ylabel(\"Frequency\")\n",
    "plt.grid(axis=\"y\", linestyle=\"--\", alpha=0.7)\n",
    "plt.xticks(rotation=0)\n",
    "plt.show()"
   ]
  },
  {
   "cell_type": "code",
   "execution_count": 42,
   "id": "a8743c51-9b78-47db-b092-80cc326c29c6",
   "metadata": {},
   "outputs": [
    {
     "data": {
      "image/png": "[encoded data removed]",
      "text/plain": [
       "<Figure size 640x480 with 1 Axes>"
      ]
     },
     "metadata": {},
     "output_type": "display_data"
    }
   ],
   "source": [
    "from matplotlib.ticker import AutoMinorLocator\n",
    "\n",
    "ax = sorted_grades.plot(kind=\"bar\", color=colors) # save plot to variable\n",
    "plt.title(\"Frequency of Loans by Grade\")\n",
    "plt.xlabel(\"Grade\")\n",
    "plt.ylabel(\"Frequency\")\n",
    "plt.grid(axis=\"y\", which=\"both\", linestyle=\"--\", alpha=0.7)\n",
    "plt.xticks(rotation=0)\n",
    "\n",
    "# add additional ticks to your axis\n",
    "ax.yaxis.set_minor_locator(AutoMinorLocator(2)) # here's where I want those minor axis ticks to be!\n",
    "\n",
    "plt.show()"
   ]
  },
  {
   "cell_type": "code",
   "execution_count": 49,
   "id": "9fe5ec1f-f5d7-4012-8622-61a740b89d26",
   "metadata": {},
   "outputs": [
    {
     "data": {
      "image/png": "[encoded data removed]",
      "text/plain": [
       "<Figure size 640x480 with 1 Axes>"
      ]
     },
     "metadata": {},
     "output_type": "display_data"
    }
   ],
   "source": [
    "ax = sorted_grades.plot(kind=\"bar\", \n",
    "                        color=colors)\n",
    "plt.title(\"Frequency of Loan by Grade\", fontsize=16, fontweight=\"bold\", pad=15)\n",
    "plt.xlabel(\"\") # empty string removes x label\n",
    "plt.ylabel(\"\")\n",
    "plt.annotate(text=\"Loans Grade E and below \\nare very high risk.\",\n",
    "             xy=(4, 50),\n",
    "             xytext=(-10, 30), # offset\n",
    "             textcoords=\"offset points\",\n",
    "             arrowprops=dict(facecolor='black', arrowstyle='->')\n",
    "            )\n",
    "\n",
    "ax.spines[\"top\"].set_visible(False)\n",
    "ax.spines[\"right\"].set_visible(False)\n",
    "ax.spines[\"left\"].set_visible(False)\n",
    "\n",
    "ax.yaxis.set_ticks([]) # empty list\n",
    "\n",
    "plt.xticks(rotation=0)\n",
    "\n",
    "# Label each bar with its frequency\n",
    "for bar in ax.patches:\n",
    "    bar_height = bar.get_height()\n",
    "    ax.text(bar.get_x() + bar.get_width() / 2, \n",
    "            bar_height, \n",
    "            f'{bar_height:.0f}', \n",
    "            ha='center', \n",
    "            va='bottom')"
   ]
  },
  {
   "cell_type": "code",
   "execution_count": 50,
   "id": "d69e54cd-6556-4329-ba12-bb95f029ff29",
   "metadata": {},
   "outputs": [],
   "source": [
    "# names of top three states for loan amount\n",
    "states = [\"DC\", \"AK\", \"HI\"]"
   ]
  },
  {
   "cell_type": "code",
   "execution_count": 51,
   "id": "61351171-2f7a-43c6-88d3-09b225564629",
   "metadata": {},
   "outputs": [
    {
     "data": {
      "text/html": [
       "<div>\n",
       "<style scoped>\n",
       "    .dataframe tbody tr th:only-of-type {\n",
       "        vertical-align: middle;\n",
       "    }\n",
       "\n",
       "    .dataframe tbody tr th {\n",
       "        vertical-align: top;\n",
       "    }\n",
       "\n",
       "    .dataframe thead th {\n",
       "        text-align: right;\n",
       "    }\n",
       "</style>\n",
       "<table border=\"1\" class=\"dataframe\">\n",
       "  <thead>\n",
       "    <tr style=\"text-align: right;\">\n",
       "      <th></th>\n",
       "      <th>emp_title</th>\n",
       "      <th>emp_length</th>\n",
       "      <th>state</th>\n",
       "      <th>homeownership</th>\n",
       "      <th>debt_to_income</th>\n",
       "      <th>annual_income</th>\n",
       "      <th>open_credit_lines</th>\n",
       "      <th>total_credit_limit</th>\n",
       "      <th>total_credit_utilized</th>\n",
       "      <th>total_debit_limit</th>\n",
       "      <th>loan_amount</th>\n",
       "      <th>interest_rate</th>\n",
       "      <th>installment</th>\n",
       "      <th>grade</th>\n",
       "      <th>balance</th>\n",
       "      <th>paid_interest</th>\n",
       "    </tr>\n",
       "  </thead>\n",
       "  <tbody>\n",
       "    <tr>\n",
       "      <th>1490</th>\n",
       "      <td>management</td>\n",
       "      <td>5</td>\n",
       "      <td>DC</td>\n",
       "      <td>RENT</td>\n",
       "      <td>34.91</td>\n",
       "      <td>187000.0</td>\n",
       "      <td>22</td>\n",
       "      <td>330513</td>\n",
       "      <td>212441</td>\n",
       "      <td>91500</td>\n",
       "      <td>10000</td>\n",
       "      <td>11.98</td>\n",
       "      <td>332.05</td>\n",
       "      <td>B</td>\n",
       "      <td>9533.25</td>\n",
       "      <td>184.04</td>\n",
       "    </tr>\n",
       "    <tr>\n",
       "      <th>1273</th>\n",
       "      <td>manager</td>\n",
       "      <td>9</td>\n",
       "      <td>HI</td>\n",
       "      <td>MORTGAGE</td>\n",
       "      <td>6.71</td>\n",
       "      <td>80400.0</td>\n",
       "      <td>14</td>\n",
       "      <td>382190</td>\n",
       "      <td>15229</td>\n",
       "      <td>45000</td>\n",
       "      <td>27200</td>\n",
       "      <td>9.43</td>\n",
       "      <td>870.41</td>\n",
       "      <td>B</td>\n",
       "      <td>25214.49</td>\n",
       "      <td>611.47</td>\n",
       "    </tr>\n",
       "    <tr>\n",
       "      <th>2980</th>\n",
       "      <td>nurse</td>\n",
       "      <td>10</td>\n",
       "      <td>HI</td>\n",
       "      <td>RENT</td>\n",
       "      <td>27.81</td>\n",
       "      <td>50840.0</td>\n",
       "      <td>7</td>\n",
       "      <td>57060</td>\n",
       "      <td>39314</td>\n",
       "      <td>15500</td>\n",
       "      <td>28000</td>\n",
       "      <td>28.72</td>\n",
       "      <td>884.01</td>\n",
       "      <td>F</td>\n",
       "      <td>27113.29</td>\n",
       "      <td>2604.65</td>\n",
       "    </tr>\n",
       "    <tr>\n",
       "      <th>244</th>\n",
       "      <td>manager</td>\n",
       "      <td>9</td>\n",
       "      <td>AK</td>\n",
       "      <td>OWN</td>\n",
       "      <td>12.31</td>\n",
       "      <td>35000.0</td>\n",
       "      <td>19</td>\n",
       "      <td>421180</td>\n",
       "      <td>8701</td>\n",
       "      <td>113300</td>\n",
       "      <td>19000</td>\n",
       "      <td>6.71</td>\n",
       "      <td>584.15</td>\n",
       "      <td>A</td>\n",
       "      <td>17558.24</td>\n",
       "      <td>303.61</td>\n",
       "    </tr>\n",
       "    <tr>\n",
       "      <th>2943</th>\n",
       "      <td>sales consultant</td>\n",
       "      <td>10</td>\n",
       "      <td>HI</td>\n",
       "      <td>RENT</td>\n",
       "      <td>28.33</td>\n",
       "      <td>90000.0</td>\n",
       "      <td>13</td>\n",
       "      <td>90551</td>\n",
       "      <td>73989</td>\n",
       "      <td>63250</td>\n",
       "      <td>35000</td>\n",
       "      <td>25.81</td>\n",
       "      <td>1043.99</td>\n",
       "      <td>E</td>\n",
       "      <td>34107.48</td>\n",
       "      <td>2139.08</td>\n",
       "    </tr>\n",
       "  </tbody>\n",
       "</table>\n",
       "</div>"
      ],
      "text/plain": [
       "             emp_title  emp_length state homeownership  debt_to_income  \\\n",
       "1490        management           5    DC          RENT           34.91   \n",
       "1273           manager           9    HI      MORTGAGE            6.71   \n",
       "2980             nurse          10    HI          RENT           27.81   \n",
       "244            manager           9    AK           OWN           12.31   \n",
       "2943  sales consultant          10    HI          RENT           28.33   \n",
       "\n",
       "      annual_income  open_credit_lines  total_credit_limit  \\\n",
       "1490       187000.0                 22              330513   \n",
       "1273        80400.0                 14              382190   \n",
       "2980        50840.0                  7               57060   \n",
       "244         35000.0                 19              421180   \n",
       "2943        90000.0                 13               90551   \n",
       "\n",
       "      total_credit_utilized  total_debit_limit  loan_amount  interest_rate  \\\n",
       "1490                 212441              91500        10000          11.98   \n",
       "1273                  15229              45000        27200           9.43   \n",
       "2980                  39314              15500        28000          28.72   \n",
       "244                    8701             113300        19000           6.71   \n",
       "2943                  73989              63250        35000          25.81   \n",
       "\n",
       "      installment grade   balance  paid_interest  \n",
       "1490       332.05     B   9533.25         184.04  \n",
       "1273       870.41     B  25214.49         611.47  \n",
       "2980       884.01     F  27113.29        2604.65  \n",
       "244        584.15     A  17558.24         303.61  \n",
       "2943      1043.99     E  34107.48        2139.08  "
      ]
     },
     "execution_count": 51,
     "metadata": {},
     "output_type": "execute_result"
    }
   ],
   "source": [
    "filtered_df = df[df[\"state\"].isin(states)]\n",
    "filtered_df.sample(5)"
   ]
  },
  {
   "cell_type": "code",
   "execution_count": 53,
   "id": "114528c3-9605-42d0-ba10-a27e8d84e837",
   "metadata": {},
   "outputs": [
    {
     "data": {
      "text/plain": [
       "<pandas.core.groupby.generic.DataFrameGroupBy object at 0x712e63f49890>"
      ]
     },
     "execution_count": 53,
     "metadata": {},
     "output_type": "execute_result"
    }
   ],
   "source": [
    "grouped_df = filtered_df.groupby([\"state\", \"grade\"])\n",
    "grouped_df"
   ]
  },
  {
   "cell_type": "code",
   "execution_count": 54,
   "id": "ea004df5-d84b-48b6-ac03-b5c8c570e14e",
   "metadata": {},
   "outputs": [
    {
     "data": {
      "text/plain": [
       "state  grade\n",
       "AK     A        25750.000000\n",
       "       B        30833.333333\n",
       "       C        12500.000000\n",
       "       D        11100.000000\n",
       "DC     A        40000.000000\n",
       "       B        12500.000000\n",
       "       C        25900.000000\n",
       "HI     A         1200.000000\n",
       "       B        17733.333333\n",
       "       D        10000.000000\n",
       "       E        31666.666667\n",
       "       F        28000.000000\n",
       "Name: loan_amount, dtype: float64"
      ]
     },
     "execution_count": 54,
     "metadata": {},
     "output_type": "execute_result"
    }
   ],
   "source": [
    "grouped_loan_amount = grouped_df[\"loan_amount\"].mean()\n",
    "grouped_loan_amount"
   ]
  },
  {
   "cell_type": "code",
   "execution_count": 56,
   "id": "e94d5bb2-b16b-424d-ac7f-d3acd8f875e8",
   "metadata": {},
   "outputs": [
    {
     "data": {
      "image/png": "[encoded data removed]",
      "text/plain": [
       "<Figure size 640x480 with 1 Axes>"
      ]
     },
     "metadata": {},
     "output_type": "display_data"
    }
   ],
   "source": [
    "grouped_loan_amount.plot(kind=\"bar\")\n",
    "plt.show()"
   ]
  },
  {
   "cell_type": "code",
   "execution_count": 57,
   "id": "90468463-5fd4-4624-8d19-7209c6cd7dc9",
   "metadata": {},
   "outputs": [
    {
     "data": {
      "text/html": [
       "<div>\n",
       "<style scoped>\n",
       "    .dataframe tbody tr th:only-of-type {\n",
       "        vertical-align: middle;\n",
       "    }\n",
       "\n",
       "    .dataframe tbody tr th {\n",
       "        vertical-align: top;\n",
       "    }\n",
       "\n",
       "    .dataframe thead th {\n",
       "        text-align: right;\n",
       "    }\n",
       "</style>\n",
       "<table border=\"1\" class=\"dataframe\">\n",
       "  <thead>\n",
       "    <tr style=\"text-align: right;\">\n",
       "      <th>grade</th>\n",
       "      <th>A</th>\n",
       "      <th>B</th>\n",
       "      <th>C</th>\n",
       "      <th>D</th>\n",
       "      <th>E</th>\n",
       "      <th>F</th>\n",
       "    </tr>\n",
       "    <tr>\n",
       "      <th>state</th>\n",
       "      <th></th>\n",
       "      <th></th>\n",
       "      <th></th>\n",
       "      <th></th>\n",
       "      <th></th>\n",
       "      <th></th>\n",
       "    </tr>\n",
       "  </thead>\n",
       "  <tbody>\n",
       "    <tr>\n",
       "      <th>AK</th>\n",
       "      <td>25750.0</td>\n",
       "      <td>30833.333333</td>\n",
       "      <td>12500.0</td>\n",
       "      <td>11100.0</td>\n",
       "      <td>NaN</td>\n",
       "      <td>NaN</td>\n",
       "    </tr>\n",
       "    <tr>\n",
       "      <th>DC</th>\n",
       "      <td>40000.0</td>\n",
       "      <td>12500.000000</td>\n",
       "      <td>25900.0</td>\n",
       "      <td>NaN</td>\n",
       "      <td>NaN</td>\n",
       "      <td>NaN</td>\n",
       "    </tr>\n",
       "    <tr>\n",
       "      <th>HI</th>\n",
       "      <td>1200.0</td>\n",
       "      <td>17733.333333</td>\n",
       "      <td>NaN</td>\n",
       "      <td>10000.0</td>\n",
       "      <td>31666.666667</td>\n",
       "      <td>28000.0</td>\n",
       "    </tr>\n",
       "  </tbody>\n",
       "</table>\n",
       "</div>"
      ],
      "text/plain": [
       "grade        A             B        C        D             E        F\n",
       "state                                                                \n",
       "AK     25750.0  30833.333333  12500.0  11100.0           NaN      NaN\n",
       "DC     40000.0  12500.000000  25900.0      NaN           NaN      NaN\n",
       "HI      1200.0  17733.333333      NaN  10000.0  31666.666667  28000.0"
      ]
     },
     "execution_count": 57,
     "metadata": {},
     "output_type": "execute_result"
    }
   ],
   "source": [
    "# unstack grades into columns\n",
    "grouped_loan_amount.unstack()"
   ]
  },
  {
   "cell_type": "code",
   "execution_count": 59,
   "id": "995c3513-4631-40a4-a44a-80c92fd3c20e",
   "metadata": {},
   "outputs": [
    {
     "data": {
      "image/png": "[encoded data removed]",
      "text/plain": [
       "<Figure size 640x480 with 1 Axes>"
      ]
     },
     "metadata": {},
     "output_type": "display_data"
    }
   ],
   "source": [
    "grouped_loan_amount.unstack().plot(kind=\"bar\")\n",
    "plt.show()"
   ]
  },
  {
   "cell_type": "code",
   "execution_count": 65,
   "id": "1e06ca62-5f3c-4849-bea4-898f1f47cae2",
   "metadata": {},
   "outputs": [
    {
     "data": {
      "image/png": "[encoded data removed]",
      "text/plain": [
       "<Figure size 640x480 with 1 Axes>"
      ]
     },
     "metadata": {},
     "output_type": "display_data"
    }
   ],
   "source": [
    "grouped_loan_amount.unstack().plot(kind=\"bar\",\n",
    "                                  color=colors)\n",
    "plt.title(\"Average Loan Amount, Top Three States\", fontsize=16, pad=15)\n",
    "plt.xlabel(\"State\", fontsize=14)\n",
    "plt.ylabel(\"Average Loan Amount ($)\", fontsize=14)\n",
    "plt.xticks(rotation=0)\n",
    "plt.grid(axis=\"y\", linestyle=\"--\", alpha=0.7)\n",
    "plt.legend(title=\"Grade\", bbox_to_anchor=(1, 1))\n",
    "plt.show()"
   ]
  },
  {
   "cell_type": "code",
   "execution_count": 66,
   "id": "cdb104aa-7707-4564-a6b5-7f56aa13126d",
   "metadata": {},
   "outputs": [
    {
     "data": {
      "image/png": "[encoded data removed]",
      "text/plain": [
       "<Figure size 640x480 with 1 Axes>"
      ]
     },
     "metadata": {},
     "output_type": "display_data"
    }
   ],
   "source": [
    "grouped_loan_amount.unstack().plot(kind=\"bar\",\n",
    "                                  color=colors)\n",
    "plt.title(\"Average Loan Amount, Top Three States\", fontsize=16, pad=15)\n",
    "plt.xlabel(\"State\", fontsize=14)\n",
    "plt.ylabel(\"Average Loan Amount ($)\", fontsize=14)\n",
    "plt.xticks(rotation=0)\n",
    "plt.grid(axis=\"y\", linestyle=\"--\", alpha=0.7)\n",
    "plt.legend(title=\"Grade\", bbox_to_anchor=(1, 1))\n",
    "plt.savefig(\"grouped_by_state_and_grade.png\")"
   ]
  },
  {
   "cell_type": "code",
   "execution_count": null,
   "id": "e43d77f7-6801-4a77-8887-e20b3e51b99b",
   "metadata": {},
   "outputs": [],
   "source": []
  },
  {
   "cell_type": "code",
   "execution_count": null,
   "id": "9db60150-869f-436b-a5e3-8652872784a9",
   "metadata": {},
   "outputs": [],
   "source": []
  },
  {
   "cell_type": "code",
   "execution_count": null,
   "id": "6addce1c-9fc1-4dc3-a01f-26abdfe88b39",
   "metadata": {},
   "outputs": [],
   "source": []
  },
  {
   "cell_type": "code",
   "execution_count": null,
   "id": "4da8ace3-f1e3-4ee0-819b-5e6235ca6b7a",
   "metadata": {},
   "outputs": [],
   "source": []
  },
  {
   "cell_type": "code",
   "execution_count": null,
   "id": "89afde65-b63c-4391-978f-634c4d4248c5",
   "metadata": {},
   "outputs": [],
   "source": []
  },
  {
   "cell_type": "code",
   "execution_count": null,
   "id": "273d6509-55cd-4a4d-a744-43cc75cf9341",
   "metadata": {},
   "outputs": [],
   "source": []
  },
  {
   "cell_type": "code",
   "execution_count": null,
   "id": "2fa33bfa-9ed6-47d7-9c26-fa3f3dee6f38",
   "metadata": {},
   "outputs": [],
   "source": []
  },
  {
   "cell_type": "code",
   "execution_count": null,
   "id": "c90c2ba7-a221-45ca-b51f-b7b65e3f8f5d",
   "metadata": {},
   "outputs": [],
   "source": []
  },
  {
   "cell_type": "code",
   "execution_count": null,
   "id": "98f9e180-542c-4309-8da8-18d20fa14a34",
   "metadata": {},
   "outputs": [],
   "source": []
  },
  {
   "cell_type": "code",
   "execution_count": null,
   "id": "6428502c-345c-4751-b6dd-d9db5ffd2c2c",
   "metadata": {},
   "outputs": [],
   "source": []
  },
  {
   "cell_type": "code",
   "execution_count": null,
   "id": "3b2a8a49-e457-42c4-bc12-b4bbd7728396",
   "metadata": {},
   "outputs": [],
   "source": []
  },
  {
   "cell_type": "code",
   "execution_count": null,
   "id": "8be796d7-a9a1-4f85-be31-9023eb3921b2",
   "metadata": {},
   "outputs": [],
   "source": []
  },
  {
   "cell_type": "code",
   "execution_count": null,
   "id": "78e33843-b95a-4b56-a000-694214ece2e5",
   "metadata": {},
   "outputs": [],
   "source": []
  },
  {
   "cell_type": "code",
   "execution_count": null,
   "id": "5157468e-d028-4f6d-89a6-ff56c2572670",
   "metadata": {},
   "outputs": [],
   "source": []
  },
  {
   "cell_type": "code",
   "execution_count": null,
   "id": "299ce3eb-814c-46c8-92da-6527505f85f5",
   "metadata": {},
   "outputs": [],
   "source": []
  },
  {
   "cell_type": "code",
   "execution_count": null,
   "id": "f4def4de-dcb5-46cb-a349-90bfddb2efa1",
   "metadata": {},
   "outputs": [],
   "source": []
  },
  {
   "cell_type": "code",
   "execution_count": null,
   "id": "239a2223-52a4-47d1-8367-4c1577f49994",
   "metadata": {},
   "outputs": [],
   "source": []
  },
  {
   "cell_type": "code",
   "execution_count": null,
   "id": "2a6989bf-6bbf-47e6-81d1-72276536a76d",
   "metadata": {},
   "outputs": [],
   "source": []
  },
  {
   "cell_type": "code",
   "execution_count": null,
   "id": "478f0619-fa07-4588-aa16-80c1a99ce611",
   "metadata": {},
   "outputs": [],
   "source": []
  },
  {
   "cell_type": "code",
   "execution_count": null,
   "id": "8ad8668a-8a48-437e-9a77-d9338cd9c261",
   "metadata": {},
   "outputs": [],
   "source": []
  },
  {
   "cell_type": "code",
   "execution_count": null,
   "id": "0b31e7cc-e39e-4dc1-9e45-ee6f20d5fbc2",
   "metadata": {},
   "outputs": [],
   "source": []
  },
  {
   "cell_type": "code",
   "execution_count": null,
   "id": "edfb1a0c-0090-48db-98a2-7ec8ccc25e9b",
   "metadata": {},
   "outputs": [],
   "source": []
  },
  {
   "cell_type": "code",
   "execution_count": null,
   "id": "7f473fb7-f9f3-45a1-beb7-7fac37b69e10",
   "metadata": {},
   "outputs": [],
   "source": []
  },
  {
   "cell_type": "code",
   "execution_count": null,
   "id": "59e100fb-c932-49f5-89e5-8ca551f05418",
   "metadata": {},
   "outputs": [],
   "source": []
  },
  {
   "cell_type": "code",
   "execution_count": null,
   "id": "dedba61a-9c8c-4e47-9e9c-8473322a4ff3",
   "metadata": {},
   "outputs": [],
   "source": []
  },
  {
   "cell_type": "code",
   "execution_count": null,
   "id": "5bdaf3df-1ac2-4847-b3af-b86943b4e6a5",
   "metadata": {},
   "outputs": [],
   "source": []
  },
  {
   "cell_type": "code",
   "execution_count": null,
   "id": "a0af162d-469e-4309-8e28-4363b2ae061f",
   "metadata": {},
   "outputs": [],
   "source": []
  },
  {
   "cell_type": "code",
   "execution_count": null,
   "id": "27df7282-8037-48f1-90c6-7bf452612dfa",
   "metadata": {},
   "outputs": [],
   "source": []
  },
  {
   "cell_type": "code",
   "execution_count": null,
   "id": "75998ff6-a7bb-45e4-ac48-b7b0a9be8e9b",
   "metadata": {},
   "outputs": [],
   "source": []
  },
  {
   "cell_type": "code",
   "execution_count": null,
   "id": "e8e61adc-c2a7-4a2a-b89d-a779fa79980b",
   "metadata": {},
   "outputs": [],
   "source": []
  },
  {
   "cell_type": "code",
   "execution_count": null,
   "id": "a36204da-dde7-4b85-880c-13517ff47f24",
   "metadata": {},
   "outputs": [],
   "source": []
  },
  {
   "cell_type": "code",
   "execution_count": null,
   "id": "e51db254-5c0e-415f-8a47-02ef46ab1058",
   "metadata": {},
   "outputs": [],
   "source": []
  },
  {
   "cell_type": "code",
   "execution_count": null,
   "id": "36a6a4f2-88a0-4fef-af9c-19b6c31d0d23",
   "metadata": {},
   "outputs": [],
   "source": []
  },
  {
   "cell_type": "code",
   "execution_count": null,
   "id": "b766884c-a94a-4585-9f78-3838a2484c06",
   "metadata": {},
   "outputs": [],
   "source": []
  },
  {
   "cell_type": "code",
   "execution_count": null,
   "id": "bd597b82-4f3a-4b61-817a-05b4d70ac49f",
   "metadata": {},
   "outputs": [],
   "source": []
  },
  {
   "cell_type": "code",
   "execution_count": null,
   "id": "b67b79e2-e750-45be-88b7-c3bc7e623147",
   "metadata": {},
   "outputs": [],
   "source": []
  },
  {
   "cell_type": "code",
   "execution_count": null,
   "id": "918706d6-b0a3-4047-94aa-2dbb11f337a9",
   "metadata": {},
   "outputs": [],
   "source": []
  },
  {
   "cell_type": "code",
   "execution_count": null,
   "id": "a4be87fd-3890-4df8-a582-53cd62625b8b",
   "metadata": {},
   "outputs": [],
   "source": []
  },
  {
   "cell_type": "code",
   "execution_count": null,
   "id": "8de9cffa-f44d-4b2c-b788-96968d84cf8f",
   "metadata": {},
   "outputs": [],
   "source": []
  },
  {
   "cell_type": "code",
   "execution_count": null,
   "id": "f867d286-d98d-43fa-bf27-d1f6f68ae675",
   "metadata": {},
   "outputs": [],
   "source": []
  },
  {
   "cell_type": "code",
   "execution_count": null,
   "id": "f1c178b1-a66f-406f-bb79-e544163533e3",
   "metadata": {},
   "outputs": [],
   "source": []
  },
  {
   "cell_type": "code",
   "execution_count": null,
   "id": "a11e0b8c-089d-4dff-b9fc-c221ac4fe72f",
   "metadata": {},
   "outputs": [],
   "source": []
  },
  {
   "cell_type": "code",
   "execution_count": null,
   "id": "3bb7283e-3ba2-41f8-9b45-d6d86222121c",
   "metadata": {},
   "outputs": [],
   "source": []
  },
  {
   "cell_type": "code",
   "execution_count": null,
   "id": "2bd67c8e-04c3-470f-a3bb-7d87f6d10179",
   "metadata": {},
   "outputs": [],
   "source": []
  },
  {
   "cell_type": "code",
   "execution_count": null,
   "id": "008bd70a-a532-4845-8231-4780f62b4fa3",
   "metadata": {},
   "outputs": [],
   "source": []
  },
  {
   "cell_type": "code",
   "execution_count": null,
   "id": "21677259-4416-445c-a1ae-82b4501213dd",
   "metadata": {},
   "outputs": [],
   "source": []
  },
  {
   "cell_type": "code",
   "execution_count": null,
   "id": "a03e6a29-845d-411d-988a-857c504778e7",
   "metadata": {},
   "outputs": [],
   "source": []
  },
  {
   "cell_type": "code",
   "execution_count": null,
   "id": "ad6158e5-fa8f-4ddb-8840-20a03f61227d",
   "metadata": {},
   "outputs": [],
   "source": []
  },
  {
   "cell_type": "code",
   "execution_count": null,
   "id": "784bb602-d191-4db8-bed6-b31b97a03423",
   "metadata": {},
   "outputs": [],
   "source": []
  },
  {
   "cell_type": "code",
   "execution_count": null,
   "id": "9e2d5b7b-1da3-4ec9-ad67-b97c94465452",
   "metadata": {},
   "outputs": [],
   "source": []
  },
  {
   "cell_type": "code",
   "execution_count": null,
   "id": "05187445-69cb-4f90-bb29-7972935e630d",
   "metadata": {},
   "outputs": [],
   "source": []
  },
  {
   "cell_type": "code",
   "execution_count": null,
   "id": "c6b350d8-92c7-4cc9-a964-fe738a4906ce",
   "metadata": {},
   "outputs": [],
   "source": []
  },
  {
   "cell_type": "code",
   "execution_count": null,
   "id": "23f41bea-a2e9-4203-91d1-6ce92fc49f94",
   "metadata": {},
   "outputs": [],
   "source": []
  },
  {
   "cell_type": "code",
   "execution_count": null,
   "id": "7a5d94b8-ba1d-429a-ad4e-2da3ff17d429",
   "metadata": {},
   "outputs": [],
   "source": []
  },
  {
   "cell_type": "code",
   "execution_count": null,
   "id": "8257dd4a-93af-452c-acee-75293a53a0cb",
   "metadata": {},
   "outputs": [],
   "source": []
  },
  {
   "cell_type": "code",
   "execution_count": null,
   "id": "345a6a9e-64ac-4a29-9084-29c05488ccd4",
   "metadata": {},
   "outputs": [],
   "source": []
  },
  {
   "cell_type": "code",
   "execution_count": null,
   "id": "eb8a167a-8877-4348-9a61-1c1a7fc2ec15",
   "metadata": {},
   "outputs": [],
   "source": []
  },
  {
   "cell_type": "code",
   "execution_count": null,
   "id": "9d88c821-348a-4779-8965-28c8ffb8e12f",
   "metadata": {},
   "outputs": [],
   "source": []
  },
  {
   "cell_type": "code",
   "execution_count": null,
   "id": "38aed58a-0449-4bd2-a421-45d06ad7709d",
   "metadata": {},
   "outputs": [],
   "source": []
  },
  {
   "cell_type": "code",
   "execution_count": null,
   "id": "87938faf-13fe-4593-a691-3c2ce9dbc234",
   "metadata": {},
   "outputs": [],
   "source": []
  },
  {
   "cell_type": "code",
   "execution_count": null,
   "id": "bfaf0641-7313-481c-8d8d-c5048a0e8a77",
   "metadata": {},
   "outputs": [],
   "source": []
  },
  {
   "cell_type": "code",
   "execution_count": null,
   "id": "c0a67310-b9ff-40a7-a69c-71587d705c7f",
   "metadata": {},
   "outputs": [],
   "source": []
  },
  {
   "cell_type": "code",
   "execution_count": null,
   "id": "22fdc4aa-1730-4bde-b462-6f5703bd7191",
   "metadata": {},
   "outputs": [],
   "source": []
  },
  {
   "cell_type": "code",
   "execution_count": null,
   "id": "da5cec54-c31b-4a87-8451-b3fffe860f41",
   "metadata": {},
   "outputs": [],
   "source": []
  },
  {
   "cell_type": "code",
   "execution_count": null,
   "id": "47ceb992-8229-40f5-b3f5-bfec6f9737e9",
   "metadata": {},
   "outputs": [],
   "source": []
  },
  {
   "cell_type": "code",
   "execution_count": null,
   "id": "cf89e479-06fc-4eaa-93c6-db3bb05cf5d4",
   "metadata": {},
   "outputs": [],
   "source": []
  },
  {
   "cell_type": "code",
   "execution_count": null,
   "id": "5eecd4f2-15ed-46c8-b436-502f682eecc1",
   "metadata": {},
   "outputs": [],
   "source": []
  },
  {
   "cell_type": "code",
   "execution_count": null,
   "id": "0ca754be-5f13-4ef9-8a87-d57b6decd4c0",
   "metadata": {},
   "outputs": [],
   "source": []
  },
  {
   "cell_type": "code",
   "execution_count": null,
   "id": "c784d9ed-3af6-44bd-be04-e49bdad832f9",
   "metadata": {},
   "outputs": [],
   "source": []
  },
  {
   "cell_type": "code",
   "execution_count": null,
   "id": "5c1796e7-0ccb-438d-bfcd-d38d91b5127c",
   "metadata": {},
   "outputs": [],
   "source": []
  },
  {
   "cell_type": "code",
   "execution_count": null,
   "id": "7fcb5662-9bcf-471e-92b0-58a1963a70db",
   "metadata": {},
   "outputs": [],
   "source": []
  },
  {
   "cell_type": "code",
   "execution_count": null,
   "id": "68ab35bc-3ccd-458a-b2db-daf765d6ab70",
   "metadata": {},
   "outputs": [],
   "source": []
  },
  {
   "cell_type": "code",
   "execution_count": null,
   "id": "f427becf-55f3-4fec-aff0-2478b9ce98c0",
   "metadata": {},
   "outputs": [],
   "source": []
  },
  {
   "cell_type": "code",
   "execution_count": null,
   "id": "5258ad76-6a68-49af-a9e5-902dceace5be",
   "metadata": {},
   "outputs": [],
   "source": []
  },
  {
   "cell_type": "code",
   "execution_count": null,
   "id": "480728c1-7b57-4e9c-88b8-c0ed8366b6d0",
   "metadata": {},
   "outputs": [],
   "source": []
  },
  {
   "cell_type": "code",
   "execution_count": null,
   "id": "f3b7a9a4-3a13-4a69-ab67-4f1cf4f44fc5",
   "metadata": {},
   "outputs": [],
   "source": []
  },
  {
   "cell_type": "code",
   "execution_count": null,
   "id": "9bd7af37-6684-41b4-81cd-a5be358b0e92",
   "metadata": {},
   "outputs": [],
   "source": []
  },
  {
   "cell_type": "code",
   "execution_count": null,
   "id": "22cb238b-4220-4c44-af4a-f9b5c830468d",
   "metadata": {},
   "outputs": [],
   "source": []
  },
  {
   "cell_type": "code",
   "execution_count": null,
   "id": "e50542fc-fd84-46e8-860b-2673b176e74d",
   "metadata": {},
   "outputs": [],
   "source": []
  },
  {
   "cell_type": "code",
   "execution_count": null,
   "id": "74b1db44-e19d-487c-bbb5-eeb05a432bc8",
   "metadata": {},
   "outputs": [],
   "source": []
  },
  {
   "cell_type": "code",
   "execution_count": null,
   "id": "6f64959b-d0a9-472b-a3b8-b8452758ebde",
   "metadata": {},
   "outputs": [],
   "source": []
  },
  {
   "cell_type": "code",
   "execution_count": null,
   "id": "987f75b9-1420-47f8-9852-2ee0c57bd9fd",
   "metadata": {},
   "outputs": [],
   "source": []
  },
  {
   "cell_type": "code",
   "execution_count": null,
   "id": "448d5822-dc98-4edb-8428-09647c3f923d",
   "metadata": {},
   "outputs": [],
   "source": []
  },
  {
   "cell_type": "code",
   "execution_count": null,
   "id": "d1727be1-e018-4859-868b-3c38f736d67e",
   "metadata": {},
   "outputs": [],
   "source": []
  },
  {
   "cell_type": "code",
   "execution_count": null,
   "id": "a81e7b01-b55e-47f7-9b3a-a347adc8b227",
   "metadata": {},
   "outputs": [],
   "source": []
  },
  {
   "cell_type": "code",
   "execution_count": null,
   "id": "296e4b49-c187-4479-8a29-518ddc674b97",
   "metadata": {},
   "outputs": [],
   "source": []
  },
  {
   "cell_type": "code",
   "execution_count": null,
   "id": "924c7be3-a388-4043-b850-f5acf11a80da",
   "metadata": {},
   "outputs": [],
   "source": []
  },
  {
   "cell_type": "code",
   "execution_count": null,
   "id": "69be4c75-75cb-45c1-9d7b-c7d7c0ae939e",
   "metadata": {},
   "outputs": [],
   "source": []
  },
  {
   "cell_type": "code",
   "execution_count": null,
   "id": "f0eba168-64cb-4adf-add0-d3d89d35be1d",
   "metadata": {},
   "outputs": [],
   "source": []
  },
  {
   "cell_type": "code",
   "execution_count": null,
   "id": "d5eb3fe1-3fac-4ac2-a851-c8c129e18cc4",
   "metadata": {},
   "outputs": [],
   "source": []
  },
  {
   "cell_type": "code",
   "execution_count": null,
   "id": "975d01ff-082d-4e9a-a921-eff76c783a19",
   "metadata": {},
   "outputs": [],
   "source": []
  },
  {
   "cell_type": "code",
   "execution_count": null,
   "id": "2ea3b614-c19f-4b70-a5c7-15695d445b0f",
   "metadata": {},
   "outputs": [],
   "source": []
  },
  {
   "cell_type": "code",
   "execution_count": null,
   "id": "258b0682-1151-41e9-b842-38615043607d",
   "metadata": {},
   "outputs": [],
   "source": []
  },
  {
   "cell_type": "code",
   "execution_count": null,
   "id": "a125f177-9db1-41c8-92e3-a444c656ad5d",
   "metadata": {},
   "outputs": [],
   "source": []
  },
  {
   "cell_type": "code",
   "execution_count": null,
   "id": "2f8e4a5e-775b-46b3-a5ad-fe8797b9dc9f",
   "metadata": {},
   "outputs": [],
   "source": []
  },
  {
   "cell_type": "code",
   "execution_count": null,
   "id": "f3f21434-d9ea-4681-a78d-83382bdab447",
   "metadata": {},
   "outputs": [],
   "source": []
  },
  {
   "cell_type": "code",
   "execution_count": null,
   "id": "02f17756-4835-489e-b7fe-5cb8c7d19d60",
   "metadata": {},
   "outputs": [],
   "source": []
  },
  {
   "cell_type": "code",
   "execution_count": null,
   "id": "2be3fb3b-5d8f-44c4-8973-280f0c4e9dcc",
   "metadata": {},
   "outputs": [],
   "source": []
  },
  {
   "cell_type": "code",
   "execution_count": null,
   "id": "72d94254-a14b-45e6-b147-4908ed454a60",
   "metadata": {},
   "outputs": [],
   "source": []
  },
  {
   "cell_type": "code",
   "execution_count": null,
   "id": "473780b6-33bf-4867-80ba-03d9ab6220a8",
   "metadata": {},
   "outputs": [],
   "source": []
  },
  {
   "cell_type": "code",
   "execution_count": null,
   "id": "f5246c9e-ca1c-4c4f-8301-d2f46cd57141",
   "metadata": {},
   "outputs": [],
   "source": []
  },
  {
   "cell_type": "code",
   "execution_count": null,
   "id": "3f30f7fb-9e25-4d3c-9c90-06671c37c671",
   "metadata": {},
   "outputs": [],
   "source": []
  },
  {
   "cell_type": "code",
   "execution_count": null,
   "id": "8cfc73f9-9872-4cfc-8f83-a8b3b8079373",
   "metadata": {},
   "outputs": [],
   "source": []
  },
  {
   "cell_type": "code",
   "execution_count": null,
   "id": "8a0cf5a3-0a4d-4bf9-acaf-b03adb2cc68b",
   "metadata": {},
   "outputs": [],
   "source": []
  },
  {
   "cell_type": "code",
   "execution_count": null,
   "id": "6b9dd4df-bd90-41a6-a35a-5b3acf176e16",
   "metadata": {},
   "outputs": [],
   "source": []
  },
  {
   "cell_type": "code",
   "execution_count": null,
   "id": "b267405f-d6ad-433f-b466-f2d86d7a3c6e",
   "metadata": {},
   "outputs": [],
   "source": []
  },
  {
   "cell_type": "code",
   "execution_count": null,
   "id": "77798ca7-8d17-4769-affd-87dad560806b",
   "metadata": {},
   "outputs": [],
   "source": []
  },
  {
   "cell_type": "code",
   "execution_count": null,
   "id": "62ad3fc8-5812-45ca-9546-624605f375ce",
   "metadata": {},
   "outputs": [],
   "source": []
  },
  {
   "cell_type": "code",
   "execution_count": null,
   "id": "7e9e3748-d161-45f8-9863-3b4293f14fc5",
   "metadata": {},
   "outputs": [],
   "source": []
  },
  {
   "cell_type": "code",
   "execution_count": null,
   "id": "f8edf8e2-4673-4fee-aba0-265553091fd3",
   "metadata": {},
   "outputs": [],
   "source": []
  },
  {
   "cell_type": "code",
   "execution_count": null,
   "id": "0efddadd-4fc8-49a8-9ced-4dce35cf38d4",
   "metadata": {},
   "outputs": [],
   "source": []
  },
  {
   "cell_type": "code",
   "execution_count": null,
   "id": "f9ec4ebe-61ad-4bb6-bef7-62685481be7b",
   "metadata": {},
   "outputs": [],
   "source": []
  },
  {
   "cell_type": "code",
   "execution_count": null,
   "id": "17c2521c-129f-42fb-8aad-06214d7f78ef",
   "metadata": {},
   "outputs": [],
   "source": []
  },
  {
   "cell_type": "code",
   "execution_count": null,
   "id": "ff5ac467-c3a6-43b1-8fd9-820956cd94d7",
   "metadata": {},
   "outputs": [],
   "source": []
  },
  {
   "cell_type": "code",
   "execution_count": null,
   "id": "e088ffe4-c042-476d-861c-91a93822e0df",
   "metadata": {},
   "outputs": [],
   "source": []
  },
  {
   "cell_type": "code",
   "execution_count": null,
   "id": "1bbe16e9-9f36-442c-b8ad-cd304beceeec",
   "metadata": {},
   "outputs": [],
   "source": []
  },
  {
   "cell_type": "code",
   "execution_count": null,
   "id": "0eb77cb6-9760-4a56-9568-1b8f33eed07d",
   "metadata": {},
   "outputs": [],
   "source": []
  },
  {
   "cell_type": "code",
   "execution_count": null,
   "id": "4f9b89e6-ae6d-4d55-be76-4f76e7626938",
   "metadata": {},
   "outputs": [],
   "source": []
  },
  {
   "cell_type": "code",
   "execution_count": null,
   "id": "fcc94fd3-f3c0-409e-b07d-69973c0bcf35",
   "metadata": {},
   "outputs": [],
   "source": []
  },
  {
   "cell_type": "code",
   "execution_count": null,
   "id": "acdc2ef1-243c-4ef4-b161-2632073a71ad",
   "metadata": {},
   "outputs": [],
   "source": []
  },
  {
   "cell_type": "code",
   "execution_count": null,
   "id": "a58e0211-4259-4ed7-beb9-487b6cef7261",
   "metadata": {},
   "outputs": [],
   "source": []
  },
  {
   "cell_type": "code",
   "execution_count": null,
   "id": "5612c6cd-5fb3-429f-a9b3-da075079cee0",
   "metadata": {},
   "outputs": [],
   "source": []
  },
  {
   "cell_type": "code",
   "execution_count": null,
   "id": "672e94af-9b45-4a45-9db1-220c622eb813",
   "metadata": {},
   "outputs": [],
   "source": []
  },
  {
   "cell_type": "code",
   "execution_count": null,
   "id": "6d723d30-53d1-4a2a-983d-83a7609817a2",
   "metadata": {},
   "outputs": [],
   "source": []
  },
  {
   "cell_type": "code",
   "execution_count": null,
   "id": "497a0371-2176-4a37-89c9-da0b2a76df31",
   "metadata": {},
   "outputs": [],
   "source": []
  },
  {
   "cell_type": "code",
   "execution_count": null,
   "id": "16106f6e-f2e8-4ffd-bd47-dc3a516b936a",
   "metadata": {},
   "outputs": [],
   "source": []
  },
  {
   "cell_type": "code",
   "execution_count": null,
   "id": "4b357bc6-2056-4323-86ce-7d95ca9949da",
   "metadata": {},
   "outputs": [],
   "source": []
  },
  {
   "cell_type": "code",
   "execution_count": null,
   "id": "447f5c95-e7bd-4863-9354-18264dd007d6",
   "metadata": {},
   "outputs": [],
   "source": []
  },
  {
   "cell_type": "code",
   "execution_count": null,
   "id": "1d53243c-3c7d-48be-8e27-a41d3a479301",
   "metadata": {},
   "outputs": [],
   "source": []
  },
  {
   "cell_type": "code",
   "execution_count": null,
   "id": "149e5d9c-d7eb-4d3f-971d-d9cc988e694f",
   "metadata": {},
   "outputs": [],
   "source": []
  },
  {
   "cell_type": "code",
   "execution_count": null,
   "id": "7e6d5e43-d744-44ec-8714-bb6c20597462",
   "metadata": {},
   "outputs": [],
   "source": []
  },
  {
   "cell_type": "code",
   "execution_count": null,
   "id": "f2fa276f-ea2e-482a-921b-13ed2facbb64",
   "metadata": {},
   "outputs": [],
   "source": []
  },
  {
   "cell_type": "code",
   "execution_count": null,
   "id": "a17312e8-a9e5-47d9-bfcf-0fa0ff65e344",
   "metadata": {},
   "outputs": [],
   "source": []
  },
  {
   "cell_type": "code",
   "execution_count": null,
   "id": "8b2ad17a-7a46-410c-8a63-661bf430a992",
   "metadata": {},
   "outputs": [],
   "source": []
  },
  {
   "cell_type": "code",
   "execution_count": null,
   "id": "8881e847-4ad1-4db8-8173-8e79b5cf0909",
   "metadata": {},
   "outputs": [],
   "source": []
  },
  {
   "cell_type": "code",
   "execution_count": null,
   "id": "05553b9d-dd2f-4301-9bd6-08131862dd38",
   "metadata": {},
   "outputs": [],
   "source": []
  },
  {
   "cell_type": "code",
   "execution_count": null,
   "id": "2455a19d-bef3-4b5b-a4fd-86f4366b86db",
   "metadata": {},
   "outputs": [],
   "source": []
  },
  {
   "cell_type": "code",
   "execution_count": null,
   "id": "14db2f98-078d-4cef-babd-3581f3306ea0",
   "metadata": {},
   "outputs": [],
   "source": []
  },
  {
   "cell_type": "code",
   "execution_count": null,
   "id": "5c64e039-f566-42ac-946a-0f13b3bfc209",
   "metadata": {},
   "outputs": [],
   "source": []
  },
  {
   "cell_type": "code",
   "execution_count": null,
   "id": "ed962495-cb68-4346-bb6b-9ebbb4e82596",
   "metadata": {},
   "outputs": [],
   "source": []
  },
  {
   "cell_type": "code",
   "execution_count": null,
   "id": "5decf44e-9db1-4507-9d27-32332e3cc543",
   "metadata": {},
   "outputs": [],
   "source": []
  },
  {
   "cell_type": "code",
   "execution_count": null,
   "id": "e2ef1bb3-ba94-49d4-99e8-50984ef409bc",
   "metadata": {},
   "outputs": [],
   "source": []
  },
  {
   "cell_type": "code",
   "execution_count": null,
   "id": "5bda9fe9-c2d2-469b-8a63-9925212b7492",
   "metadata": {},
   "outputs": [],
   "source": []
  },
  {
   "cell_type": "code",
   "execution_count": null,
   "id": "bc004b24-9c69-4482-b0a1-79903440d0e5",
   "metadata": {},
   "outputs": [],
   "source": []
  },
  {
   "cell_type": "code",
   "execution_count": null,
   "id": "582f5ce9-a20c-4203-8ce4-2478b7372f1f",
   "metadata": {},
   "outputs": [],
   "source": []
  },
  {
   "cell_type": "code",
   "execution_count": null,
   "id": "3ef1d327-affc-44e0-856e-47d07f7c7df2",
   "metadata": {},
   "outputs": [],
   "source": []
  },
  {
   "cell_type": "code",
   "execution_count": null,
   "id": "5c8d361f-c479-4569-9875-71959998d890",
   "metadata": {},
   "outputs": [],
   "source": []
  },
  {
   "cell_type": "code",
   "execution_count": null,
   "id": "d70e8c6c-2349-4283-8657-0223bec1e91e",
   "metadata": {},
   "outputs": [],
   "source": []
  },
  {
   "cell_type": "code",
   "execution_count": null,
   "id": "81d25496-0011-4bf9-b618-7706d60d294a",
   "metadata": {},
   "outputs": [],
   "source": []
  },
  {
   "cell_type": "code",
   "execution_count": null,
   "id": "fcb6446d-7565-4cd8-988d-2be82f158f09",
   "metadata": {},
   "outputs": [],
   "source": []
  },
  {
   "cell_type": "code",
   "execution_count": null,
   "id": "fa47b1f1-2895-40f4-baed-fac346a93c22",
   "metadata": {},
   "outputs": [],
   "source": []
  },
  {
   "cell_type": "code",
   "execution_count": null,
   "id": "9e094a0e-a920-43ba-a2ce-b8a24bac2746",
   "metadata": {},
   "outputs": [],
   "source": []
  },
  {
   "cell_type": "code",
   "execution_count": null,
   "id": "2aa4f1b4-6917-403b-b73a-2aba65ccfb34",
   "metadata": {},
   "outputs": [],
   "source": []
  },
  {
   "cell_type": "code",
   "execution_count": null,
   "id": "5e038742-22d8-41cd-aed5-beaefd4e9975",
   "metadata": {},
   "outputs": [],
   "source": []
  },
  {
   "cell_type": "code",
   "execution_count": null,
   "id": "fa96c9f2-aa8a-48c7-88ae-bdf9cf98ac22",
   "metadata": {},
   "outputs": [],
   "source": []
  },
  {
   "cell_type": "code",
   "execution_count": null,
   "id": "af553432-6758-4683-91ae-be014b79b766",
   "metadata": {},
   "outputs": [],
   "source": []
  },
  {
   "cell_type": "code",
   "execution_count": null,
   "id": "849ace23-e2b7-4a92-ac2b-e8d49a25525f",
   "metadata": {},
   "outputs": [],
   "source": []
  },
  {
   "cell_type": "code",
   "execution_count": null,
   "id": "14001349-d001-433f-9efa-8a641e29e999",
   "metadata": {},
   "outputs": [],
   "source": []
  },
  {
   "cell_type": "code",
   "execution_count": null,
   "id": "6f02d41e-9463-474d-93de-2f718a65d241",
   "metadata": {},
   "outputs": [],
   "source": []
  },
  {
   "cell_type": "code",
   "execution_count": null,
   "id": "a4c37ffd-da52-46ea-9a73-55722e6c56e9",
   "metadata": {},
   "outputs": [],
   "source": []
  },
  {
   "cell_type": "code",
   "execution_count": null,
   "id": "34521faa-1c28-4e81-8f38-511fe7e882ae",
   "metadata": {},
   "outputs": [],
   "source": []
  },
  {
   "cell_type": "code",
   "execution_count": null,
   "id": "c619e530-3545-4387-ae77-65b1f3024720",
   "metadata": {},
   "outputs": [],
   "source": []
  },
  {
   "cell_type": "code",
   "execution_count": null,
   "id": "fe270bad-d96c-4639-bfea-facc74d5e2a0",
   "metadata": {},
   "outputs": [],
   "source": []
  },
  {
   "cell_type": "code",
   "execution_count": null,
   "id": "423479d0-3c93-4eee-8319-d5cecc84d567",
   "metadata": {},
   "outputs": [],
   "source": []
  },
  {
   "cell_type": "code",
   "execution_count": null,
   "id": "554fd48a-127f-4c6d-9c84-2e48e11ca2f3",
   "metadata": {},
   "outputs": [],
   "source": []
  },
  {
   "cell_type": "code",
   "execution_count": null,
   "id": "ac289386-f4b7-4029-8d5b-7201b582e838",
   "metadata": {},
   "outputs": [],
   "source": []
  },
  {
   "cell_type": "code",
   "execution_count": null,
   "id": "77da692d-a67f-4ae6-b5a8-e3069a2f95f8",
   "metadata": {},
   "outputs": [],
   "source": []
  },
  {
   "cell_type": "code",
   "execution_count": null,
   "id": "1d8bc9ee-e3a5-42cc-b902-ef8f305c9f4a",
   "metadata": {},
   "outputs": [],
   "source": []
  },
  {
   "cell_type": "code",
   "execution_count": null,
   "id": "5973329d-19ca-4e9d-a785-6ccee887c7e4",
   "metadata": {},
   "outputs": [],
   "source": []
  },
  {
   "cell_type": "code",
   "execution_count": null,
   "id": "edd821ba-a965-4321-8939-bca99cd7a197",
   "metadata": {},
   "outputs": [],
   "source": []
  },
  {
   "cell_type": "code",
   "execution_count": null,
   "id": "fecb0442-421d-47bf-8eea-65236e7d65ba",
   "metadata": {},
   "outputs": [],
   "source": []
  },
  {
   "cell_type": "code",
   "execution_count": null,
   "id": "3722696b-0c84-4631-a784-2e4fde04aef2",
   "metadata": {},
   "outputs": [],
   "source": []
  },
  {
   "cell_type": "code",
   "execution_count": null,
   "id": "02580120-2ff8-42e6-9f28-f2bd920e2324",
   "metadata": {},
   "outputs": [],
   "source": []
  },
  {
   "cell_type": "code",
   "execution_count": null,
   "id": "0d88ef59-d1be-49a8-99d7-9833e264d11e",
   "metadata": {},
   "outputs": [],
   "source": []
  },
  {
   "cell_type": "code",
   "execution_count": null,
   "id": "e4715ba9-7a42-429f-934c-728798c6284b",
   "metadata": {},
   "outputs": [],
   "source": []
  },
  {
   "cell_type": "code",
   "execution_count": null,
   "id": "d22d7639-6350-4947-b322-cca160145559",
   "metadata": {},
   "outputs": [],
   "source": []
  },
  {
   "cell_type": "code",
   "execution_count": null,
   "id": "d7ff089a-080b-4c1f-bf44-cadc98863c8d",
   "metadata": {},
   "outputs": [],
   "source": []
  },
  {
   "cell_type": "code",
   "execution_count": null,
   "id": "104c65de-d369-4486-9628-cc56eef3ef91",
   "metadata": {},
   "outputs": [],
   "source": []
  },
  {
   "cell_type": "code",
   "execution_count": null,
   "id": "1b5eeac8-ee65-4fc7-9e61-189a71f4211a",
   "metadata": {},
   "outputs": [],
   "source": []
  },
  {
   "cell_type": "code",
   "execution_count": null,
   "id": "07df7684-8a65-4161-8b70-3a44825b2da2",
   "metadata": {},
   "outputs": [],
   "source": []
  },
  {
   "cell_type": "code",
   "execution_count": null,
   "id": "92290386-04e5-4057-88d3-77d586f2920b",
   "metadata": {},
   "outputs": [],
   "source": []
  },
  {
   "cell_type": "code",
   "execution_count": null,
   "id": "96db1ca5-d8a7-4828-adad-08d750921d4c",
   "metadata": {},
   "outputs": [],
   "source": []
  },
  {
   "cell_type": "code",
   "execution_count": null,
   "id": "cc8eb86c-5e39-46e8-962b-65f238886186",
   "metadata": {},
   "outputs": [],
   "source": []
  },
  {
   "cell_type": "code",
   "execution_count": null,
   "id": "32907a7d-572e-4da3-8052-0061b7bfc3ad",
   "metadata": {},
   "outputs": [],
   "source": []
  },
  {
   "cell_type": "code",
   "execution_count": null,
   "id": "0fb18352-2a43-4af5-a984-4107903bfdc8",
   "metadata": {},
   "outputs": [],
   "source": []
  },
  {
   "cell_type": "code",
   "execution_count": null,
   "id": "73b45aba-b60e-422c-8e05-b4a21cce1853",
   "metadata": {},
   "outputs": [],
   "source": []
  },
  {
   "cell_type": "code",
   "execution_count": null,
   "id": "c05207e7-5ccf-4a90-869a-649b9fe93ff2",
   "metadata": {},
   "outputs": [],
   "source": []
  },
  {
   "cell_type": "code",
   "execution_count": null,
   "id": "eef1e903-d22e-47fa-a942-b3cb5c68cc63",
   "metadata": {},
   "outputs": [],
   "source": []
  },
  {
   "cell_type": "code",
   "execution_count": null,
   "id": "7dff2126-fe09-4935-b046-56a95de204b3",
   "metadata": {},
   "outputs": [],
   "source": []
  },
  {
   "cell_type": "code",
   "execution_count": null,
   "id": "9aa9de55-1cd1-4b7e-9531-92cff42fb291",
   "metadata": {},
   "outputs": [],
   "source": []
  },
  {
   "cell_type": "code",
   "execution_count": null,
   "id": "046ee8fc-3954-4556-91bd-df5b99ef5cff",
   "metadata": {},
   "outputs": [],
   "source": []
  },
  {
   "cell_type": "code",
   "execution_count": null,
   "id": "067cafed-a12e-41c1-89d7-269e192c1d7f",
   "metadata": {},
   "outputs": [],
   "source": []
  }
 ],
 "metadata": {
  "kernelspec": {
   "display_name": "Python 3 (ipykernel)",
   "language": "python",
   "name": "python3"
  },
  "language_info": {
   "codemirror_mode": {
    "name": "ipython",
    "version": 3
   },
   "file_extension": ".py",
   "mimetype": "text/x-python",
   "name": "python",
   "nbconvert_exporter": "python",
   "pygments_lexer": "ipython3",
   "version": "3.11.6"
  }
 },
 "nbformat": 4,
 "nbformat_minor": 5
}
